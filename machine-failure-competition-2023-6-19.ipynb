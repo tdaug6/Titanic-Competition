{
 "cells": [
  {
   "cell_type": "markdown",
   "id": "8979537b",
   "metadata": {
    "papermill": {
     "duration": 0.023331,
     "end_time": "2023-06-20T15:50:03.049543",
     "exception": false,
     "start_time": "2023-06-20T15:50:03.026212",
     "status": "completed"
    },
    "tags": []
   },
   "source": [
    "# Machine Failure Competition\n",
    "\n",
    "*Created by: Taylor Daugherty*\n",
    "\n",
    "*Created on: 6/19/2023    Last updated: 6/20/2023 - Clean up notebook*\n",
    "\n",
    "This notebook contains code to make predictions for the Machine Failure competition. The notebook attempts to determine the best model to predict the probability of machine failure\n",
    "\n",
    "**Input File:** train.csv and test.csv from the machine failure competition\n",
    "\n",
    "- train.csv contains a training set of data with features and true values\n",
    "\n",
    "- test.csv contains a testing set of data with only features. This is what will be used to make predictions and submit to the competition\n",
    "\n",
    "\n",
    "**Purpose of notebook:** Gain more practice with feature engineering and make submissions to the machine failure competition"
   ]
  },
  {
   "cell_type": "markdown",
   "id": "c1d55f0b",
   "metadata": {
    "papermill": {
     "duration": 0.023205,
     "end_time": "2023-06-20T15:50:03.095580",
     "exception": false,
     "start_time": "2023-06-20T15:50:03.072375",
     "status": "completed"
    },
    "tags": []
   },
   "source": [
    "<img src=\"https://p0.pxfuel.com/preview/111/763/730/gears-engine-mechanical-engineering.jpg\" alt=\"Titanic\" width=\"600\"/>"
   ]
  },
  {
   "cell_type": "markdown",
   "id": "7716692b",
   "metadata": {
    "papermill": {
     "duration": 0.022446,
     "end_time": "2023-06-20T15:50:03.140339",
     "exception": false,
     "start_time": "2023-06-20T15:50:03.117893",
     "status": "completed"
    },
    "tags": []
   },
   "source": [
    "## Table of Contents\n",
    "\n",
    "1. **Universal Application**\n",
    "\n",
    "    a. Imports\n",
    "    \n",
    "    b. Lists\n",
    "    \n",
    "    b. Functions\n",
    "\n",
    "2. **Models**\n",
    "\n",
    "    a. Without Age\n",
    "    \n",
    "    b. With Age"
   ]
  },
  {
   "cell_type": "markdown",
   "id": "e05cf4df",
   "metadata": {
    "papermill": {
     "duration": 0.022178,
     "end_time": "2023-06-20T15:50:03.185085",
     "exception": false,
     "start_time": "2023-06-20T15:50:03.162907",
     "status": "completed"
    },
    "tags": []
   },
   "source": [
    "## Results\n",
    "\n",
    "The highest scoring model of the notebook scored **0.95105** in the competition. This was achieved by using a Linear Regression Model and scaling the results to between 0 and 1\n",
    "\n",
    "This can be found using the following sections:\n",
    "\n",
    "    ML Models > Models With Age > Fill Age with Mean"
   ]
  },
  {
   "cell_type": "markdown",
   "id": "4ae410a4",
   "metadata": {
    "papermill": {
     "duration": 0.023443,
     "end_time": "2023-06-20T15:50:03.231187",
     "exception": false,
     "start_time": "2023-06-20T15:50:03.207744",
     "status": "completed"
    },
    "tags": []
   },
   "source": [
    "# Universal Application\n",
    "\n",
    "In this section is all of the code that is universally applicable throughout the notebook. This includes imports, lists, and functions that make the code much more readable\n",
    "\n",
    "## Contents:\n",
    "\n",
    "1. Import Packages\n",
    "\n",
    "2. Imputing values\n",
    "\n",
    "3. Lists\n",
    "\n",
    "3. Functions"
   ]
  },
  {
   "cell_type": "markdown",
   "id": "60a3f9fa",
   "metadata": {
    "papermill": {
     "duration": 0.022961,
     "end_time": "2023-06-20T15:50:03.276594",
     "exception": false,
     "start_time": "2023-06-20T15:50:03.253633",
     "status": "completed"
    },
    "tags": []
   },
   "source": [
    "## Import packages\n",
    "\n",
    "These packages are necessary for this notebook to run\n",
    "\n",
    "- `numpy` for linear algebra\n",
    "\n",
    "- `pandas` for dataframes\n",
    "\n",
    "- `seaborn` for plotting\n",
    "\n",
    "- `matplotlib.pyplot` for plotting\n",
    "\n",
    "- `LogisticRegression` for modeling\n",
    "\n",
    "- `KNeighbors Classifier` for modeling\n",
    "\n",
    "- `SVC` for modeling\n",
    "\n",
    "- `StratifiedKFold` and `cross_val_score` for cross-validation"
   ]
  },
  {
   "cell_type": "code",
   "execution_count": 1,
   "id": "b41e3090",
   "metadata": {
    "_cell_guid": "b1076dfc-b9ad-4769-8c92-a6c4dae69d19",
    "_uuid": "8f2839f25d086af736a60e9eeb907d3b93b6e0e5",
    "execution": {
     "iopub.execute_input": "2023-06-20T15:50:03.325249Z",
     "iopub.status.busy": "2023-06-20T15:50:03.324745Z",
     "iopub.status.idle": "2023-06-20T15:50:05.779741Z",
     "shell.execute_reply": "2023-06-20T15:50:05.778476Z"
    },
    "papermill": {
     "duration": 2.482876,
     "end_time": "2023-06-20T15:50:05.783241",
     "exception": false,
     "start_time": "2023-06-20T15:50:03.300365",
     "status": "completed"
    },
    "tags": []
   },
   "outputs": [],
   "source": [
    "import numpy as np\n",
    "import pandas as pd\n",
    "import seaborn as sns\n",
    "import matplotlib.pyplot as plt\n",
    "\n",
    "from sklearn.linear_model import LogisticRegression, LinearRegression\n",
    "from sklearn.neighbors import KNeighborsClassifier\n",
    "from sklearn.svm import SVC\n",
    "\n",
    "from sklearn.model_selection import StratifiedKFold, cross_val_score, train_test_split\n",
    "from sklearn.metrics import accuracy_score, mean_absolute_error\n",
    "from sklearn.preprocessing import MinMaxScaler"
   ]
  },
  {
   "cell_type": "markdown",
   "id": "60dcf1b7",
   "metadata": {
    "papermill": {
     "duration": 0.022683,
     "end_time": "2023-06-20T15:50:05.829070",
     "exception": false,
     "start_time": "2023-06-20T15:50:05.806387",
     "status": "completed"
    },
    "tags": []
   },
   "source": [
    "## Dataframes\n",
    "\n",
    "This stores a basic dataframe for the training and testing sets"
   ]
  },
  {
   "cell_type": "code",
   "execution_count": 2,
   "id": "4d4c8ba0",
   "metadata": {
    "execution": {
     "iopub.execute_input": "2023-06-20T15:50:05.878456Z",
     "iopub.status.busy": "2023-06-20T15:50:05.877932Z",
     "iopub.status.idle": "2023-06-20T15:50:06.508493Z",
     "shell.execute_reply": "2023-06-20T15:50:06.507093Z"
    },
    "papermill": {
     "duration": 0.659065,
     "end_time": "2023-06-20T15:50:06.511434",
     "exception": false,
     "start_time": "2023-06-20T15:50:05.852369",
     "status": "completed"
    },
    "tags": []
   },
   "outputs": [],
   "source": [
    "train_filepath = '/kaggle/input/playground-series-s3e17/train.csv'\n",
    "test_filepath = '/kaggle/input/playground-series-s3e17/test.csv'\n",
    "\n",
    "df_train = pd.read_csv(train_filepath, index_col='id')\n",
    "df_test = pd.read_csv(test_filepath, index_col='id')"
   ]
  },
  {
   "cell_type": "markdown",
   "id": "cf9c7e82",
   "metadata": {
    "papermill": {
     "duration": 0.02329,
     "end_time": "2023-06-20T15:50:06.557324",
     "exception": false,
     "start_time": "2023-06-20T15:50:06.534034",
     "status": "completed"
    },
    "tags": []
   },
   "source": [
    "## Models\n",
    "\n",
    "These are the models that will be used during cross validation"
   ]
  },
  {
   "cell_type": "code",
   "execution_count": 3,
   "id": "dba7959c",
   "metadata": {
    "execution": {
     "iopub.execute_input": "2023-06-20T15:50:06.606305Z",
     "iopub.status.busy": "2023-06-20T15:50:06.605065Z",
     "iopub.status.idle": "2023-06-20T15:50:06.612535Z",
     "shell.execute_reply": "2023-06-20T15:50:06.611290Z"
    },
    "papermill": {
     "duration": 0.034853,
     "end_time": "2023-06-20T15:50:06.615193",
     "exception": false,
     "start_time": "2023-06-20T15:50:06.580340",
     "status": "completed"
    },
    "tags": []
   },
   "outputs": [],
   "source": [
    "models = []\n",
    "\n",
    "models.append(('SVM', SVC()))\n",
    "models.append(('KNN', KNeighborsClassifier()))\n",
    "models.append(('LR', LogisticRegression()))"
   ]
  },
  {
   "cell_type": "code",
   "execution_count": 4,
   "id": "6def9558",
   "metadata": {
    "execution": {
     "iopub.execute_input": "2023-06-20T15:50:06.662361Z",
     "iopub.status.busy": "2023-06-20T15:50:06.661120Z",
     "iopub.status.idle": "2023-06-20T15:50:06.666277Z",
     "shell.execute_reply": "2023-06-20T15:50:06.665434Z"
    },
    "papermill": {
     "duration": 0.030923,
     "end_time": "2023-06-20T15:50:06.668561",
     "exception": false,
     "start_time": "2023-06-20T15:50:06.637638",
     "status": "completed"
    },
    "tags": []
   },
   "outputs": [],
   "source": [
    "scaler = MinMaxScaler((0, 1))"
   ]
  },
  {
   "cell_type": "markdown",
   "id": "67be9cd0",
   "metadata": {
    "papermill": {
     "duration": 0.023934,
     "end_time": "2023-06-20T15:50:06.714709",
     "exception": false,
     "start_time": "2023-06-20T15:50:06.690775",
     "status": "completed"
    },
    "tags": []
   },
   "source": [
    "## Functions\n",
    "\n",
    "Functions make the notebook more readable and reduce the length of the notebook."
   ]
  },
  {
   "cell_type": "markdown",
   "id": "b388cedb",
   "metadata": {
    "papermill": {
     "duration": 0.021956,
     "end_time": "2023-06-20T15:50:06.759322",
     "exception": false,
     "start_time": "2023-06-20T15:50:06.737366",
     "status": "completed"
    },
    "tags": []
   },
   "source": [
    "### map_cat()\n",
    "\n",
    "Turns features containing categorical data to numeric data through the use of a mapping dictionary.\n",
    "\n",
    "**Inputs:**\n",
    "\n",
    "- Dataframe for the mapping to take place in\n",
    "\n",
    "- List of features that contain categorical data\n",
    "\n",
    "- List of dictionaries to govern how to map the feature\n",
    "\n",
    "**Output:** A dataframe with the given features mapped according to the dictionaries"
   ]
  },
  {
   "cell_type": "code",
   "execution_count": 5,
   "id": "5fa94921",
   "metadata": {
    "execution": {
     "iopub.execute_input": "2023-06-20T15:50:06.806718Z",
     "iopub.status.busy": "2023-06-20T15:50:06.805563Z",
     "iopub.status.idle": "2023-06-20T15:50:06.813248Z",
     "shell.execute_reply": "2023-06-20T15:50:06.812064Z"
    },
    "papermill": {
     "duration": 0.034416,
     "end_time": "2023-06-20T15:50:06.815875",
     "exception": false,
     "start_time": "2023-06-20T15:50:06.781459",
     "status": "completed"
    },
    "tags": []
   },
   "outputs": [],
   "source": [
    "def map_cat(df, features, dictionaries):\n",
    "    '''\n",
    "    Map categorical data to be numeric\n",
    "    \n",
    "    Input:\n",
    "        - Dataframe for the mapping to take place in\n",
    "        - List of features that contain categorical data\n",
    "        - List of dictionaries to govern how to map the feature\n",
    "    \n",
    "    Output: A dataframe with the given features mapped according to the dictionaries\n",
    "        \n",
    "    '''\n",
    "    df_mapped = df\n",
    "    \n",
    "    for i in range(len(features)):\n",
    "        feature = features[i]\n",
    "        dictionary = dictionaries[i]\n",
    "        \n",
    "        df_mapped[feature] = df[feature].map(dictionary)\n",
    "        \n",
    "    return df_mapped"
   ]
  },
  {
   "cell_type": "markdown",
   "id": "7180d0b5",
   "metadata": {
    "papermill": {
     "duration": 0.022779,
     "end_time": "2023-06-20T15:50:06.861215",
     "exception": false,
     "start_time": "2023-06-20T15:50:06.838436",
     "status": "completed"
    },
    "tags": []
   },
   "source": [
    "### drop_features()\n",
    "\n",
    "Drop a list of features from a dataframe\n",
    "\n",
    "**Input:**\n",
    "\n",
    "- A dataframe to remove the features from\n",
    "\n",
    "- A list of features to remove from the dataframe\n",
    "        \n",
    "**Output:** A dataframe without the listed features"
   ]
  },
  {
   "cell_type": "code",
   "execution_count": 6,
   "id": "700818ea",
   "metadata": {
    "execution": {
     "iopub.execute_input": "2023-06-20T15:50:06.923215Z",
     "iopub.status.busy": "2023-06-20T15:50:06.922303Z",
     "iopub.status.idle": "2023-06-20T15:50:06.930371Z",
     "shell.execute_reply": "2023-06-20T15:50:06.929118Z"
    },
    "papermill": {
     "duration": 0.043199,
     "end_time": "2023-06-20T15:50:06.932976",
     "exception": false,
     "start_time": "2023-06-20T15:50:06.889777",
     "status": "completed"
    },
    "tags": []
   },
   "outputs": [],
   "source": [
    "def drop_features(df, d_features):\n",
    "    '''\n",
    "    Drops a list of features from a dataframe\n",
    "    \n",
    "    Input:\n",
    "        - A dataframe to remove the features from\n",
    "        - A list of features to remove from the dataframe\n",
    "        \n",
    "    Output: A dataframe without the listed features\n",
    "    '''\n",
    "    df_dropped = df\n",
    "    \n",
    "    for feature in d_features:\n",
    "        df_dropped = df_dropped.drop(str(feature), axis=1)\n",
    "        \n",
    "    return df_dropped"
   ]
  },
  {
   "cell_type": "markdown",
   "id": "eafadabd",
   "metadata": {
    "papermill": {
     "duration": 0.022579,
     "end_time": "2023-06-20T15:50:06.979035",
     "exception": false,
     "start_time": "2023-06-20T15:50:06.956456",
     "status": "completed"
    },
    "tags": []
   },
   "source": [
    "### normalize()\n",
    "\n",
    "Normalizes datapoints in a Series\n",
    "\n",
    "**Input:** A feature of type Series\n",
    "    \n",
    "**Output:** The normalized feature of type Series"
   ]
  },
  {
   "cell_type": "code",
   "execution_count": 7,
   "id": "b1869079",
   "metadata": {
    "execution": {
     "iopub.execute_input": "2023-06-20T15:50:07.031166Z",
     "iopub.status.busy": "2023-06-20T15:50:07.030289Z",
     "iopub.status.idle": "2023-06-20T15:50:07.036841Z",
     "shell.execute_reply": "2023-06-20T15:50:07.035616Z"
    },
    "papermill": {
     "duration": 0.033583,
     "end_time": "2023-06-20T15:50:07.039225",
     "exception": false,
     "start_time": "2023-06-20T15:50:07.005642",
     "status": "completed"
    },
    "tags": []
   },
   "outputs": [],
   "source": [
    "def normalize(feature):\n",
    "    '''\n",
    "    This function normalizes a Series\n",
    "    \n",
    "    Input: A feature of type Series\n",
    "    \n",
    "    Output: The normalized feature of type Series\n",
    "    '''\n",
    "    return (feature - feature.mean())/feature.std()"
   ]
  },
  {
   "cell_type": "markdown",
   "id": "ba463b6f",
   "metadata": {
    "papermill": {
     "duration": 0.023012,
     "end_time": "2023-06-20T15:50:07.085205",
     "exception": false,
     "start_time": "2023-06-20T15:50:07.062193",
     "status": "completed"
    },
    "tags": []
   },
   "source": [
    "### normalize_features()\n",
    "\n",
    "Normalizes all features in a dataframe\n",
    "\n",
    "**Input:** A pandas dataframe\n",
    "\n",
    "**Output:** A normalized dataframe"
   ]
  },
  {
   "cell_type": "code",
   "execution_count": 8,
   "id": "162e8bed",
   "metadata": {
    "execution": {
     "iopub.execute_input": "2023-06-20T15:50:07.139146Z",
     "iopub.status.busy": "2023-06-20T15:50:07.138615Z",
     "iopub.status.idle": "2023-06-20T15:50:07.145378Z",
     "shell.execute_reply": "2023-06-20T15:50:07.144145Z"
    },
    "papermill": {
     "duration": 0.038793,
     "end_time": "2023-06-20T15:50:07.147724",
     "exception": false,
     "start_time": "2023-06-20T15:50:07.108931",
     "status": "completed"
    },
    "tags": []
   },
   "outputs": [],
   "source": [
    "def normalize_features(df):\n",
    "    '''\n",
    "    This function normalizes all features in a dataframe\n",
    "    \n",
    "    Input: A pandas dataframe\n",
    "    \n",
    "    Output: The normalized dataframe\n",
    "    '''\n",
    "    for column in df.columns:\n",
    "        df[column] = normalize(df[column])\n",
    "    return df"
   ]
  },
  {
   "cell_type": "markdown",
   "id": "b900a280",
   "metadata": {
    "papermill": {
     "duration": 0.022689,
     "end_time": "2023-06-20T15:50:07.193069",
     "exception": false,
     "start_time": "2023-06-20T15:50:07.170380",
     "status": "completed"
    },
    "tags": []
   },
   "source": [
    "### perform_cross_validation()\n",
    "\n",
    "This function goes through the steps to perform Stratified K-fold cross validation using the list of models described above.\n",
    "    \n",
    "**Input:**\n",
    "- A dataframe containing the features use to build the model\n",
    "- A Series of the true values associated with the feature list\n",
    "    \n",
    "**Output:** Printed result for the mean and standard deviation of each model"
   ]
  },
  {
   "cell_type": "code",
   "execution_count": 9,
   "id": "49b343d0",
   "metadata": {
    "execution": {
     "iopub.execute_input": "2023-06-20T15:50:07.242846Z",
     "iopub.status.busy": "2023-06-20T15:50:07.241837Z",
     "iopub.status.idle": "2023-06-20T15:50:07.249300Z",
     "shell.execute_reply": "2023-06-20T15:50:07.248502Z"
    },
    "papermill": {
     "duration": 0.034536,
     "end_time": "2023-06-20T15:50:07.251892",
     "exception": false,
     "start_time": "2023-06-20T15:50:07.217356",
     "status": "completed"
    },
    "tags": []
   },
   "outputs": [],
   "source": [
    "def perform_cross_validation(X_train, y_train):\n",
    "    '''\n",
    "    This function goes through the steps to perform Stratified K-fold cross validation using the list of models described above.\n",
    "    \n",
    "    Input: \n",
    "        - A dataframe containing the features use to build the model\n",
    "        - A Series of the true values associated with the feature list\n",
    "    \n",
    "    Output: Printed result for the mean and standard deviation of each model\n",
    "    '''\n",
    "    results = dict()\n",
    "\n",
    "    for name, model in models:\n",
    "        kfold = StratifiedKFold(n_splits=10)\n",
    "        cv_results = cross_val_score(model, X_train, y_train, cv=kfold, scoring='accuracy')\n",
    "        results[name] = (cv_results.mean(), cv_results.std())\n",
    "\n",
    "    print('Model\\t\\tCV Mean\\t\\tCV std')\n",
    "    print(results)"
   ]
  },
  {
   "cell_type": "code",
   "execution_count": 10,
   "id": "906629f5",
   "metadata": {
    "execution": {
     "iopub.execute_input": "2023-06-20T15:50:07.308722Z",
     "iopub.status.busy": "2023-06-20T15:50:07.307857Z",
     "iopub.status.idle": "2023-06-20T15:50:07.314291Z",
     "shell.execute_reply": "2023-06-20T15:50:07.313220Z"
    },
    "papermill": {
     "duration": 0.039875,
     "end_time": "2023-06-20T15:50:07.317003",
     "exception": false,
     "start_time": "2023-06-20T15:50:07.277128",
     "status": "completed"
    },
    "tags": []
   },
   "outputs": [],
   "source": [
    "def test_model(model, evaluation, X_trn, X_tst, y_trn, y_tst):\n",
    "    clf = model.fit(X_trn, y_trn)\n",
    "    pred = clf.predict(X_tst)\n",
    "    accuracy = evaluation(y_tst, pred)\n",
    "    return accuracy"
   ]
  },
  {
   "cell_type": "code",
   "execution_count": 11,
   "id": "ded2f65b",
   "metadata": {
    "execution": {
     "iopub.execute_input": "2023-06-20T15:50:07.365945Z",
     "iopub.status.busy": "2023-06-20T15:50:07.365145Z",
     "iopub.status.idle": "2023-06-20T15:50:07.374214Z",
     "shell.execute_reply": "2023-06-20T15:50:07.373136Z"
    },
    "papermill": {
     "duration": 0.036334,
     "end_time": "2023-06-20T15:50:07.376921",
     "exception": false,
     "start_time": "2023-06-20T15:50:07.340587",
     "status": "completed"
    },
    "tags": []
   },
   "outputs": [],
   "source": [
    "def test_models(X_trn, X_tst, y_trn, y_tst):\n",
    "    acc_LNR = test_model(LinearRegression(), mean_absolute_error, X_trn, X_tst, y_trn, y_tst)\n",
    "    acc_LGR = test_model(LogisticRegression(), accuracy_score, X_trn, X_tst, y_trn, y_tst)\n",
    "    acc_SVM = test_model(SVC(), accuracy_score, X_trn, X_tst, y_trn, y_tst)\n",
    "    acc_KNN = test_model(KNeighborsClassifier(), accuracy_score, X_trn, X_tst, y_trn, y_tst)\n",
    "    \n",
    "    print('Accuracies:')\n",
    "    print('Linear Regression:\\t', (acc_LNR))\n",
    "    print('Logistic Regression:\\t', (acc_LGR))\n",
    "    print('SVM:\\t\\t\\t', (acc_SVM))\n",
    "    print('KNN:\\t\\t\\t', (acc_KNN))"
   ]
  },
  {
   "cell_type": "markdown",
   "id": "138f363d",
   "metadata": {
    "papermill": {
     "duration": 0.02224,
     "end_time": "2023-06-20T15:50:07.422157",
     "exception": false,
     "start_time": "2023-06-20T15:50:07.399917",
     "status": "completed"
    },
    "tags": []
   },
   "source": [
    "# Data Analysis\n",
    "\n",
    "Look at the dataframe to find potential errors and determine what features will be useful."
   ]
  },
  {
   "cell_type": "markdown",
   "id": "82b5fa8f",
   "metadata": {
    "papermill": {
     "duration": 0.021948,
     "end_time": "2023-06-20T15:50:07.466881",
     "exception": false,
     "start_time": "2023-06-20T15:50:07.444933",
     "status": "completed"
    },
    "tags": []
   },
   "source": [
    "## View Contents\n",
    "\n",
    "Get a better understanding of the dataset by viewing characteristics of the training and testing dataframes"
   ]
  },
  {
   "cell_type": "markdown",
   "id": "2207bd78",
   "metadata": {
    "papermill": {
     "duration": 0.02551,
     "end_time": "2023-06-20T15:50:07.515250",
     "exception": false,
     "start_time": "2023-06-20T15:50:07.489740",
     "status": "completed"
    },
    "tags": []
   },
   "source": [
    "### View the first few rows of the dataframes"
   ]
  },
  {
   "cell_type": "code",
   "execution_count": 12,
   "id": "671437fc",
   "metadata": {
    "execution": {
     "iopub.execute_input": "2023-06-20T15:50:07.562998Z",
     "iopub.status.busy": "2023-06-20T15:50:07.562191Z",
     "iopub.status.idle": "2023-06-20T15:50:07.599324Z",
     "shell.execute_reply": "2023-06-20T15:50:07.598281Z"
    },
    "papermill": {
     "duration": 0.0639,
     "end_time": "2023-06-20T15:50:07.601986",
     "exception": false,
     "start_time": "2023-06-20T15:50:07.538086",
     "status": "completed"
    },
    "tags": []
   },
   "outputs": [
    {
     "data": {
      "text/html": [
       "<div>\n",
       "<style scoped>\n",
       "    .dataframe tbody tr th:only-of-type {\n",
       "        vertical-align: middle;\n",
       "    }\n",
       "\n",
       "    .dataframe tbody tr th {\n",
       "        vertical-align: top;\n",
       "    }\n",
       "\n",
       "    .dataframe thead th {\n",
       "        text-align: right;\n",
       "    }\n",
       "</style>\n",
       "<table border=\"1\" class=\"dataframe\">\n",
       "  <thead>\n",
       "    <tr style=\"text-align: right;\">\n",
       "      <th></th>\n",
       "      <th>Product ID</th>\n",
       "      <th>Type</th>\n",
       "      <th>Air temperature [K]</th>\n",
       "      <th>Process temperature [K]</th>\n",
       "      <th>Rotational speed [rpm]</th>\n",
       "      <th>Torque [Nm]</th>\n",
       "      <th>Tool wear [min]</th>\n",
       "      <th>Machine failure</th>\n",
       "      <th>TWF</th>\n",
       "      <th>HDF</th>\n",
       "      <th>PWF</th>\n",
       "      <th>OSF</th>\n",
       "      <th>RNF</th>\n",
       "    </tr>\n",
       "    <tr>\n",
       "      <th>id</th>\n",
       "      <th></th>\n",
       "      <th></th>\n",
       "      <th></th>\n",
       "      <th></th>\n",
       "      <th></th>\n",
       "      <th></th>\n",
       "      <th></th>\n",
       "      <th></th>\n",
       "      <th></th>\n",
       "      <th></th>\n",
       "      <th></th>\n",
       "      <th></th>\n",
       "      <th></th>\n",
       "    </tr>\n",
       "  </thead>\n",
       "  <tbody>\n",
       "    <tr>\n",
       "      <th>0</th>\n",
       "      <td>L50096</td>\n",
       "      <td>L</td>\n",
       "      <td>300.6</td>\n",
       "      <td>309.6</td>\n",
       "      <td>1596</td>\n",
       "      <td>36.1</td>\n",
       "      <td>140</td>\n",
       "      <td>0</td>\n",
       "      <td>0</td>\n",
       "      <td>0</td>\n",
       "      <td>0</td>\n",
       "      <td>0</td>\n",
       "      <td>0</td>\n",
       "    </tr>\n",
       "    <tr>\n",
       "      <th>1</th>\n",
       "      <td>M20343</td>\n",
       "      <td>M</td>\n",
       "      <td>302.6</td>\n",
       "      <td>312.1</td>\n",
       "      <td>1759</td>\n",
       "      <td>29.1</td>\n",
       "      <td>200</td>\n",
       "      <td>0</td>\n",
       "      <td>0</td>\n",
       "      <td>0</td>\n",
       "      <td>0</td>\n",
       "      <td>0</td>\n",
       "      <td>0</td>\n",
       "    </tr>\n",
       "    <tr>\n",
       "      <th>2</th>\n",
       "      <td>L49454</td>\n",
       "      <td>L</td>\n",
       "      <td>299.3</td>\n",
       "      <td>308.5</td>\n",
       "      <td>1805</td>\n",
       "      <td>26.5</td>\n",
       "      <td>25</td>\n",
       "      <td>0</td>\n",
       "      <td>0</td>\n",
       "      <td>0</td>\n",
       "      <td>0</td>\n",
       "      <td>0</td>\n",
       "      <td>0</td>\n",
       "    </tr>\n",
       "    <tr>\n",
       "      <th>3</th>\n",
       "      <td>L53355</td>\n",
       "      <td>L</td>\n",
       "      <td>301.0</td>\n",
       "      <td>310.9</td>\n",
       "      <td>1524</td>\n",
       "      <td>44.3</td>\n",
       "      <td>197</td>\n",
       "      <td>0</td>\n",
       "      <td>0</td>\n",
       "      <td>0</td>\n",
       "      <td>0</td>\n",
       "      <td>0</td>\n",
       "      <td>0</td>\n",
       "    </tr>\n",
       "    <tr>\n",
       "      <th>4</th>\n",
       "      <td>M24050</td>\n",
       "      <td>M</td>\n",
       "      <td>298.0</td>\n",
       "      <td>309.0</td>\n",
       "      <td>1641</td>\n",
       "      <td>35.4</td>\n",
       "      <td>34</td>\n",
       "      <td>0</td>\n",
       "      <td>0</td>\n",
       "      <td>0</td>\n",
       "      <td>0</td>\n",
       "      <td>0</td>\n",
       "      <td>0</td>\n",
       "    </tr>\n",
       "  </tbody>\n",
       "</table>\n",
       "</div>"
      ],
      "text/plain": [
       "   Product ID Type  Air temperature [K]  Process temperature [K]  \\\n",
       "id                                                                 \n",
       "0      L50096    L                300.6                    309.6   \n",
       "1      M20343    M                302.6                    312.1   \n",
       "2      L49454    L                299.3                    308.5   \n",
       "3      L53355    L                301.0                    310.9   \n",
       "4      M24050    M                298.0                    309.0   \n",
       "\n",
       "    Rotational speed [rpm]  Torque [Nm]  Tool wear [min]  Machine failure  \\\n",
       "id                                                                          \n",
       "0                     1596         36.1              140                0   \n",
       "1                     1759         29.1              200                0   \n",
       "2                     1805         26.5               25                0   \n",
       "3                     1524         44.3              197                0   \n",
       "4                     1641         35.4               34                0   \n",
       "\n",
       "    TWF  HDF  PWF  OSF  RNF  \n",
       "id                           \n",
       "0     0    0    0    0    0  \n",
       "1     0    0    0    0    0  \n",
       "2     0    0    0    0    0  \n",
       "3     0    0    0    0    0  \n",
       "4     0    0    0    0    0  "
      ]
     },
     "execution_count": 12,
     "metadata": {},
     "output_type": "execute_result"
    }
   ],
   "source": [
    "df_train.head()"
   ]
  },
  {
   "cell_type": "code",
   "execution_count": 13,
   "id": "22a1cc17",
   "metadata": {
    "execution": {
     "iopub.execute_input": "2023-06-20T15:50:07.651879Z",
     "iopub.status.busy": "2023-06-20T15:50:07.651085Z",
     "iopub.status.idle": "2023-06-20T15:50:07.672762Z",
     "shell.execute_reply": "2023-06-20T15:50:07.671649Z"
    },
    "papermill": {
     "duration": 0.050006,
     "end_time": "2023-06-20T15:50:07.675368",
     "exception": false,
     "start_time": "2023-06-20T15:50:07.625362",
     "status": "completed"
    },
    "tags": []
   },
   "outputs": [
    {
     "data": {
      "text/html": [
       "<div>\n",
       "<style scoped>\n",
       "    .dataframe tbody tr th:only-of-type {\n",
       "        vertical-align: middle;\n",
       "    }\n",
       "\n",
       "    .dataframe tbody tr th {\n",
       "        vertical-align: top;\n",
       "    }\n",
       "\n",
       "    .dataframe thead th {\n",
       "        text-align: right;\n",
       "    }\n",
       "</style>\n",
       "<table border=\"1\" class=\"dataframe\">\n",
       "  <thead>\n",
       "    <tr style=\"text-align: right;\">\n",
       "      <th></th>\n",
       "      <th>Product ID</th>\n",
       "      <th>Type</th>\n",
       "      <th>Air temperature [K]</th>\n",
       "      <th>Process temperature [K]</th>\n",
       "      <th>Rotational speed [rpm]</th>\n",
       "      <th>Torque [Nm]</th>\n",
       "      <th>Tool wear [min]</th>\n",
       "      <th>TWF</th>\n",
       "      <th>HDF</th>\n",
       "      <th>PWF</th>\n",
       "      <th>OSF</th>\n",
       "      <th>RNF</th>\n",
       "    </tr>\n",
       "    <tr>\n",
       "      <th>id</th>\n",
       "      <th></th>\n",
       "      <th></th>\n",
       "      <th></th>\n",
       "      <th></th>\n",
       "      <th></th>\n",
       "      <th></th>\n",
       "      <th></th>\n",
       "      <th></th>\n",
       "      <th></th>\n",
       "      <th></th>\n",
       "      <th></th>\n",
       "      <th></th>\n",
       "    </tr>\n",
       "  </thead>\n",
       "  <tbody>\n",
       "    <tr>\n",
       "      <th>136429</th>\n",
       "      <td>L50896</td>\n",
       "      <td>L</td>\n",
       "      <td>302.3</td>\n",
       "      <td>311.5</td>\n",
       "      <td>1499</td>\n",
       "      <td>38.0</td>\n",
       "      <td>60</td>\n",
       "      <td>0</td>\n",
       "      <td>0</td>\n",
       "      <td>0</td>\n",
       "      <td>0</td>\n",
       "      <td>0</td>\n",
       "    </tr>\n",
       "    <tr>\n",
       "      <th>136430</th>\n",
       "      <td>L53866</td>\n",
       "      <td>L</td>\n",
       "      <td>301.7</td>\n",
       "      <td>311.0</td>\n",
       "      <td>1713</td>\n",
       "      <td>28.8</td>\n",
       "      <td>17</td>\n",
       "      <td>0</td>\n",
       "      <td>0</td>\n",
       "      <td>0</td>\n",
       "      <td>0</td>\n",
       "      <td>0</td>\n",
       "    </tr>\n",
       "    <tr>\n",
       "      <th>136431</th>\n",
       "      <td>L50498</td>\n",
       "      <td>L</td>\n",
       "      <td>301.3</td>\n",
       "      <td>310.4</td>\n",
       "      <td>1525</td>\n",
       "      <td>37.7</td>\n",
       "      <td>96</td>\n",
       "      <td>0</td>\n",
       "      <td>0</td>\n",
       "      <td>0</td>\n",
       "      <td>0</td>\n",
       "      <td>0</td>\n",
       "    </tr>\n",
       "    <tr>\n",
       "      <th>136432</th>\n",
       "      <td>M21232</td>\n",
       "      <td>M</td>\n",
       "      <td>300.1</td>\n",
       "      <td>309.6</td>\n",
       "      <td>1479</td>\n",
       "      <td>47.6</td>\n",
       "      <td>5</td>\n",
       "      <td>0</td>\n",
       "      <td>0</td>\n",
       "      <td>0</td>\n",
       "      <td>0</td>\n",
       "      <td>0</td>\n",
       "    </tr>\n",
       "    <tr>\n",
       "      <th>136433</th>\n",
       "      <td>M19751</td>\n",
       "      <td>M</td>\n",
       "      <td>303.4</td>\n",
       "      <td>312.3</td>\n",
       "      <td>1515</td>\n",
       "      <td>41.3</td>\n",
       "      <td>114</td>\n",
       "      <td>0</td>\n",
       "      <td>0</td>\n",
       "      <td>0</td>\n",
       "      <td>0</td>\n",
       "      <td>0</td>\n",
       "    </tr>\n",
       "  </tbody>\n",
       "</table>\n",
       "</div>"
      ],
      "text/plain": [
       "       Product ID Type  Air temperature [K]  Process temperature [K]  \\\n",
       "id                                                                     \n",
       "136429     L50896    L                302.3                    311.5   \n",
       "136430     L53866    L                301.7                    311.0   \n",
       "136431     L50498    L                301.3                    310.4   \n",
       "136432     M21232    M                300.1                    309.6   \n",
       "136433     M19751    M                303.4                    312.3   \n",
       "\n",
       "        Rotational speed [rpm]  Torque [Nm]  Tool wear [min]  TWF  HDF  PWF  \\\n",
       "id                                                                            \n",
       "136429                    1499         38.0               60    0    0    0   \n",
       "136430                    1713         28.8               17    0    0    0   \n",
       "136431                    1525         37.7               96    0    0    0   \n",
       "136432                    1479         47.6                5    0    0    0   \n",
       "136433                    1515         41.3              114    0    0    0   \n",
       "\n",
       "        OSF  RNF  \n",
       "id                \n",
       "136429    0    0  \n",
       "136430    0    0  \n",
       "136431    0    0  \n",
       "136432    0    0  \n",
       "136433    0    0  "
      ]
     },
     "execution_count": 13,
     "metadata": {},
     "output_type": "execute_result"
    }
   ],
   "source": [
    "df_test.head()"
   ]
  },
  {
   "cell_type": "markdown",
   "id": "44b34d87",
   "metadata": {
    "papermill": {
     "duration": 0.023394,
     "end_time": "2023-06-20T15:50:07.722243",
     "exception": false,
     "start_time": "2023-06-20T15:50:07.698849",
     "status": "completed"
    },
    "tags": []
   },
   "source": [
    "### View null values\n",
    "\n",
    "Look at the training and testing set for null values"
   ]
  },
  {
   "cell_type": "code",
   "execution_count": 14,
   "id": "93790602",
   "metadata": {
    "execution": {
     "iopub.execute_input": "2023-06-20T15:50:07.771497Z",
     "iopub.status.busy": "2023-06-20T15:50:07.770559Z",
     "iopub.status.idle": "2023-06-20T15:50:07.876811Z",
     "shell.execute_reply": "2023-06-20T15:50:07.875149Z"
    },
    "papermill": {
     "duration": 0.13426,
     "end_time": "2023-06-20T15:50:07.879905",
     "exception": false,
     "start_time": "2023-06-20T15:50:07.745645",
     "status": "completed"
    },
    "tags": []
   },
   "outputs": [
    {
     "data": {
      "text/plain": [
       "Product ID                 0\n",
       "Type                       0\n",
       "Air temperature [K]        0\n",
       "Process temperature [K]    0\n",
       "Rotational speed [rpm]     0\n",
       "Torque [Nm]                0\n",
       "Tool wear [min]            0\n",
       "Machine failure            0\n",
       "TWF                        0\n",
       "HDF                        0\n",
       "PWF                        0\n",
       "OSF                        0\n",
       "RNF                        0\n",
       "dtype: int64"
      ]
     },
     "execution_count": 14,
     "metadata": {},
     "output_type": "execute_result"
    }
   ],
   "source": [
    "df_train.isnull().sum()"
   ]
  },
  {
   "cell_type": "code",
   "execution_count": 15,
   "id": "ced8afc4",
   "metadata": {
    "execution": {
     "iopub.execute_input": "2023-06-20T15:50:07.932395Z",
     "iopub.status.busy": "2023-06-20T15:50:07.931187Z",
     "iopub.status.idle": "2023-06-20T15:50:07.998139Z",
     "shell.execute_reply": "2023-06-20T15:50:07.996954Z"
    },
    "papermill": {
     "duration": 0.096243,
     "end_time": "2023-06-20T15:50:08.001737",
     "exception": false,
     "start_time": "2023-06-20T15:50:07.905494",
     "status": "completed"
    },
    "tags": []
   },
   "outputs": [
    {
     "data": {
      "text/plain": [
       "Product ID                 0\n",
       "Type                       0\n",
       "Air temperature [K]        0\n",
       "Process temperature [K]    0\n",
       "Rotational speed [rpm]     0\n",
       "Torque [Nm]                0\n",
       "Tool wear [min]            0\n",
       "TWF                        0\n",
       "HDF                        0\n",
       "PWF                        0\n",
       "OSF                        0\n",
       "RNF                        0\n",
       "dtype: int64"
      ]
     },
     "execution_count": 15,
     "metadata": {},
     "output_type": "execute_result"
    }
   ],
   "source": [
    "df_test.isnull().sum()"
   ]
  },
  {
   "cell_type": "markdown",
   "id": "74d71cab",
   "metadata": {
    "papermill": {
     "duration": 0.023452,
     "end_time": "2023-06-20T15:50:08.051574",
     "exception": false,
     "start_time": "2023-06-20T15:50:08.028122",
     "status": "completed"
    },
    "tags": []
   },
   "source": [
    "### Value counts\n",
    "\n",
    "Look at features to determine how many of each point is in the feature"
   ]
  },
  {
   "cell_type": "code",
   "execution_count": 16,
   "id": "5218e7e4",
   "metadata": {
    "execution": {
     "iopub.execute_input": "2023-06-20T15:50:08.103264Z",
     "iopub.status.busy": "2023-06-20T15:50:08.102383Z",
     "iopub.status.idle": "2023-06-20T15:50:08.131191Z",
     "shell.execute_reply": "2023-06-20T15:50:08.129830Z"
    },
    "papermill": {
     "duration": 0.057228,
     "end_time": "2023-06-20T15:50:08.133951",
     "exception": false,
     "start_time": "2023-06-20T15:50:08.076723",
     "status": "completed"
    },
    "tags": []
   },
   "outputs": [
    {
     "data": {
      "text/plain": [
       "L    95354\n",
       "M    32152\n",
       "H     8923\n",
       "Name: Type, dtype: int64"
      ]
     },
     "execution_count": 16,
     "metadata": {},
     "output_type": "execute_result"
    }
   ],
   "source": [
    "df_train['Type'].value_counts()"
   ]
  },
  {
   "cell_type": "code",
   "execution_count": 17,
   "id": "05419ecc",
   "metadata": {
    "execution": {
     "iopub.execute_input": "2023-06-20T15:50:08.185822Z",
     "iopub.status.busy": "2023-06-20T15:50:08.185079Z",
     "iopub.status.idle": "2023-06-20T15:50:08.195664Z",
     "shell.execute_reply": "2023-06-20T15:50:08.194396Z"
    },
    "papermill": {
     "duration": 0.040345,
     "end_time": "2023-06-20T15:50:08.198289",
     "exception": false,
     "start_time": "2023-06-20T15:50:08.157944",
     "status": "completed"
    },
    "tags": []
   },
   "outputs": [
    {
     "data": {
      "text/plain": [
       "0    134281\n",
       "1      2148\n",
       "Name: Machine failure, dtype: int64"
      ]
     },
     "execution_count": 17,
     "metadata": {},
     "output_type": "execute_result"
    }
   ],
   "source": [
    "df_train['Machine failure'].value_counts()"
   ]
  },
  {
   "cell_type": "markdown",
   "id": "77a337a7",
   "metadata": {
    "papermill": {
     "duration": 0.023884,
     "end_time": "2023-06-20T15:50:08.246040",
     "exception": false,
     "start_time": "2023-06-20T15:50:08.222156",
     "status": "completed"
    },
    "tags": []
   },
   "source": [
    "### Transform categorical data\n",
    "\n",
    "Convert categorical data to numeric by mapping"
   ]
  },
  {
   "cell_type": "code",
   "execution_count": 18,
   "id": "0e5c9d9e",
   "metadata": {
    "execution": {
     "iopub.execute_input": "2023-06-20T15:50:08.295713Z",
     "iopub.status.busy": "2023-06-20T15:50:08.295266Z",
     "iopub.status.idle": "2023-06-20T15:50:08.320876Z",
     "shell.execute_reply": "2023-06-20T15:50:08.319648Z"
    },
    "papermill": {
     "duration": 0.053914,
     "end_time": "2023-06-20T15:50:08.323847",
     "exception": false,
     "start_time": "2023-06-20T15:50:08.269933",
     "status": "completed"
    },
    "tags": []
   },
   "outputs": [],
   "source": [
    "df_train = map_cat(df_train, ['Type'], [{'H':0, 'M':1, 'L':2}])\n",
    "df_test = map_cat(df_test, ['Type'], [{'H':0, 'M':1, 'L':2}])"
   ]
  },
  {
   "cell_type": "markdown",
   "id": "c1f7bca4",
   "metadata": {
    "papermill": {
     "duration": 0.024928,
     "end_time": "2023-06-20T15:50:08.372714",
     "exception": false,
     "start_time": "2023-06-20T15:50:08.347786",
     "status": "completed"
    },
    "tags": []
   },
   "source": [
    "### View statistics\n",
    "\n",
    "Look at the statistics of each dataframe to get a better understanding if the training and testing set behave similarly"
   ]
  },
  {
   "cell_type": "code",
   "execution_count": 19,
   "id": "fa6f99ed",
   "metadata": {
    "execution": {
     "iopub.execute_input": "2023-06-20T15:50:08.428627Z",
     "iopub.status.busy": "2023-06-20T15:50:08.428182Z",
     "iopub.status.idle": "2023-06-20T15:50:08.543632Z",
     "shell.execute_reply": "2023-06-20T15:50:08.542467Z"
    },
    "papermill": {
     "duration": 0.146666,
     "end_time": "2023-06-20T15:50:08.546178",
     "exception": false,
     "start_time": "2023-06-20T15:50:08.399512",
     "status": "completed"
    },
    "tags": []
   },
   "outputs": [
    {
     "data": {
      "text/html": [
       "<div>\n",
       "<style scoped>\n",
       "    .dataframe tbody tr th:only-of-type {\n",
       "        vertical-align: middle;\n",
       "    }\n",
       "\n",
       "    .dataframe tbody tr th {\n",
       "        vertical-align: top;\n",
       "    }\n",
       "\n",
       "    .dataframe thead th {\n",
       "        text-align: right;\n",
       "    }\n",
       "</style>\n",
       "<table border=\"1\" class=\"dataframe\">\n",
       "  <thead>\n",
       "    <tr style=\"text-align: right;\">\n",
       "      <th></th>\n",
       "      <th>Type</th>\n",
       "      <th>Air temperature [K]</th>\n",
       "      <th>Process temperature [K]</th>\n",
       "      <th>Rotational speed [rpm]</th>\n",
       "      <th>Torque [Nm]</th>\n",
       "      <th>Tool wear [min]</th>\n",
       "      <th>Machine failure</th>\n",
       "      <th>TWF</th>\n",
       "      <th>HDF</th>\n",
       "      <th>PWF</th>\n",
       "      <th>OSF</th>\n",
       "      <th>RNF</th>\n",
       "    </tr>\n",
       "  </thead>\n",
       "  <tbody>\n",
       "    <tr>\n",
       "      <th>count</th>\n",
       "      <td>136429.000000</td>\n",
       "      <td>136429.000000</td>\n",
       "      <td>136429.000000</td>\n",
       "      <td>136429.000000</td>\n",
       "      <td>136429.000000</td>\n",
       "      <td>136429.000000</td>\n",
       "      <td>136429.000000</td>\n",
       "      <td>136429.000000</td>\n",
       "      <td>136429.000000</td>\n",
       "      <td>136429.000000</td>\n",
       "      <td>136429.000000</td>\n",
       "      <td>136429.000000</td>\n",
       "    </tr>\n",
       "    <tr>\n",
       "      <th>mean</th>\n",
       "      <td>1.633524</td>\n",
       "      <td>299.862776</td>\n",
       "      <td>309.941070</td>\n",
       "      <td>1520.331110</td>\n",
       "      <td>40.348643</td>\n",
       "      <td>104.408901</td>\n",
       "      <td>0.015744</td>\n",
       "      <td>0.001554</td>\n",
       "      <td>0.005160</td>\n",
       "      <td>0.002397</td>\n",
       "      <td>0.003958</td>\n",
       "      <td>0.002258</td>\n",
       "    </tr>\n",
       "    <tr>\n",
       "      <th>std</th>\n",
       "      <td>0.602480</td>\n",
       "      <td>1.862247</td>\n",
       "      <td>1.385173</td>\n",
       "      <td>138.736632</td>\n",
       "      <td>8.502229</td>\n",
       "      <td>63.965040</td>\n",
       "      <td>0.124486</td>\n",
       "      <td>0.039389</td>\n",
       "      <td>0.071649</td>\n",
       "      <td>0.048899</td>\n",
       "      <td>0.062789</td>\n",
       "      <td>0.047461</td>\n",
       "    </tr>\n",
       "    <tr>\n",
       "      <th>min</th>\n",
       "      <td>0.000000</td>\n",
       "      <td>295.300000</td>\n",
       "      <td>305.800000</td>\n",
       "      <td>1181.000000</td>\n",
       "      <td>3.800000</td>\n",
       "      <td>0.000000</td>\n",
       "      <td>0.000000</td>\n",
       "      <td>0.000000</td>\n",
       "      <td>0.000000</td>\n",
       "      <td>0.000000</td>\n",
       "      <td>0.000000</td>\n",
       "      <td>0.000000</td>\n",
       "    </tr>\n",
       "    <tr>\n",
       "      <th>25%</th>\n",
       "      <td>1.000000</td>\n",
       "      <td>298.300000</td>\n",
       "      <td>308.700000</td>\n",
       "      <td>1432.000000</td>\n",
       "      <td>34.600000</td>\n",
       "      <td>48.000000</td>\n",
       "      <td>0.000000</td>\n",
       "      <td>0.000000</td>\n",
       "      <td>0.000000</td>\n",
       "      <td>0.000000</td>\n",
       "      <td>0.000000</td>\n",
       "      <td>0.000000</td>\n",
       "    </tr>\n",
       "    <tr>\n",
       "      <th>50%</th>\n",
       "      <td>2.000000</td>\n",
       "      <td>300.000000</td>\n",
       "      <td>310.000000</td>\n",
       "      <td>1493.000000</td>\n",
       "      <td>40.400000</td>\n",
       "      <td>106.000000</td>\n",
       "      <td>0.000000</td>\n",
       "      <td>0.000000</td>\n",
       "      <td>0.000000</td>\n",
       "      <td>0.000000</td>\n",
       "      <td>0.000000</td>\n",
       "      <td>0.000000</td>\n",
       "    </tr>\n",
       "    <tr>\n",
       "      <th>75%</th>\n",
       "      <td>2.000000</td>\n",
       "      <td>301.200000</td>\n",
       "      <td>310.900000</td>\n",
       "      <td>1580.000000</td>\n",
       "      <td>46.100000</td>\n",
       "      <td>159.000000</td>\n",
       "      <td>0.000000</td>\n",
       "      <td>0.000000</td>\n",
       "      <td>0.000000</td>\n",
       "      <td>0.000000</td>\n",
       "      <td>0.000000</td>\n",
       "      <td>0.000000</td>\n",
       "    </tr>\n",
       "    <tr>\n",
       "      <th>max</th>\n",
       "      <td>2.000000</td>\n",
       "      <td>304.400000</td>\n",
       "      <td>313.800000</td>\n",
       "      <td>2886.000000</td>\n",
       "      <td>76.600000</td>\n",
       "      <td>253.000000</td>\n",
       "      <td>1.000000</td>\n",
       "      <td>1.000000</td>\n",
       "      <td>1.000000</td>\n",
       "      <td>1.000000</td>\n",
       "      <td>1.000000</td>\n",
       "      <td>1.000000</td>\n",
       "    </tr>\n",
       "  </tbody>\n",
       "</table>\n",
       "</div>"
      ],
      "text/plain": [
       "                Type  Air temperature [K]  Process temperature [K]  \\\n",
       "count  136429.000000        136429.000000            136429.000000   \n",
       "mean        1.633524           299.862776               309.941070   \n",
       "std         0.602480             1.862247                 1.385173   \n",
       "min         0.000000           295.300000               305.800000   \n",
       "25%         1.000000           298.300000               308.700000   \n",
       "50%         2.000000           300.000000               310.000000   \n",
       "75%         2.000000           301.200000               310.900000   \n",
       "max         2.000000           304.400000               313.800000   \n",
       "\n",
       "       Rotational speed [rpm]    Torque [Nm]  Tool wear [min]  \\\n",
       "count           136429.000000  136429.000000    136429.000000   \n",
       "mean              1520.331110      40.348643       104.408901   \n",
       "std                138.736632       8.502229        63.965040   \n",
       "min               1181.000000       3.800000         0.000000   \n",
       "25%               1432.000000      34.600000        48.000000   \n",
       "50%               1493.000000      40.400000       106.000000   \n",
       "75%               1580.000000      46.100000       159.000000   \n",
       "max               2886.000000      76.600000       253.000000   \n",
       "\n",
       "       Machine failure            TWF            HDF            PWF  \\\n",
       "count    136429.000000  136429.000000  136429.000000  136429.000000   \n",
       "mean          0.015744       0.001554       0.005160       0.002397   \n",
       "std           0.124486       0.039389       0.071649       0.048899   \n",
       "min           0.000000       0.000000       0.000000       0.000000   \n",
       "25%           0.000000       0.000000       0.000000       0.000000   \n",
       "50%           0.000000       0.000000       0.000000       0.000000   \n",
       "75%           0.000000       0.000000       0.000000       0.000000   \n",
       "max           1.000000       1.000000       1.000000       1.000000   \n",
       "\n",
       "                 OSF            RNF  \n",
       "count  136429.000000  136429.000000  \n",
       "mean        0.003958       0.002258  \n",
       "std         0.062789       0.047461  \n",
       "min         0.000000       0.000000  \n",
       "25%         0.000000       0.000000  \n",
       "50%         0.000000       0.000000  \n",
       "75%         0.000000       0.000000  \n",
       "max         1.000000       1.000000  "
      ]
     },
     "execution_count": 19,
     "metadata": {},
     "output_type": "execute_result"
    }
   ],
   "source": [
    "df_train.describe()"
   ]
  },
  {
   "cell_type": "code",
   "execution_count": 20,
   "id": "3ec038e6",
   "metadata": {
    "execution": {
     "iopub.execute_input": "2023-06-20T15:50:08.607744Z",
     "iopub.status.busy": "2023-06-20T15:50:08.606596Z",
     "iopub.status.idle": "2023-06-20T15:50:08.697219Z",
     "shell.execute_reply": "2023-06-20T15:50:08.695929Z"
    },
    "papermill": {
     "duration": 0.126852,
     "end_time": "2023-06-20T15:50:08.699665",
     "exception": false,
     "start_time": "2023-06-20T15:50:08.572813",
     "status": "completed"
    },
    "tags": []
   },
   "outputs": [
    {
     "data": {
      "text/html": [
       "<div>\n",
       "<style scoped>\n",
       "    .dataframe tbody tr th:only-of-type {\n",
       "        vertical-align: middle;\n",
       "    }\n",
       "\n",
       "    .dataframe tbody tr th {\n",
       "        vertical-align: top;\n",
       "    }\n",
       "\n",
       "    .dataframe thead th {\n",
       "        text-align: right;\n",
       "    }\n",
       "</style>\n",
       "<table border=\"1\" class=\"dataframe\">\n",
       "  <thead>\n",
       "    <tr style=\"text-align: right;\">\n",
       "      <th></th>\n",
       "      <th>Type</th>\n",
       "      <th>Air temperature [K]</th>\n",
       "      <th>Process temperature [K]</th>\n",
       "      <th>Rotational speed [rpm]</th>\n",
       "      <th>Torque [Nm]</th>\n",
       "      <th>Tool wear [min]</th>\n",
       "      <th>TWF</th>\n",
       "      <th>HDF</th>\n",
       "      <th>PWF</th>\n",
       "      <th>OSF</th>\n",
       "      <th>RNF</th>\n",
       "    </tr>\n",
       "  </thead>\n",
       "  <tbody>\n",
       "    <tr>\n",
       "      <th>count</th>\n",
       "      <td>90954.000000</td>\n",
       "      <td>90954.000000</td>\n",
       "      <td>90954.000000</td>\n",
       "      <td>90954.000000</td>\n",
       "      <td>90954.000000</td>\n",
       "      <td>90954.000000</td>\n",
       "      <td>90954.000000</td>\n",
       "      <td>90954.000000</td>\n",
       "      <td>90954.000000</td>\n",
       "      <td>90954.00000</td>\n",
       "      <td>90954.000000</td>\n",
       "    </tr>\n",
       "    <tr>\n",
       "      <th>mean</th>\n",
       "      <td>1.631715</td>\n",
       "      <td>299.859493</td>\n",
       "      <td>309.939375</td>\n",
       "      <td>1520.528179</td>\n",
       "      <td>40.335191</td>\n",
       "      <td>104.293962</td>\n",
       "      <td>0.001473</td>\n",
       "      <td>0.005343</td>\n",
       "      <td>0.002353</td>\n",
       "      <td>0.00387</td>\n",
       "      <td>0.002309</td>\n",
       "    </tr>\n",
       "    <tr>\n",
       "      <th>std</th>\n",
       "      <td>0.603467</td>\n",
       "      <td>1.857562</td>\n",
       "      <td>1.385296</td>\n",
       "      <td>139.970419</td>\n",
       "      <td>8.504683</td>\n",
       "      <td>63.871092</td>\n",
       "      <td>0.038355</td>\n",
       "      <td>0.072903</td>\n",
       "      <td>0.048449</td>\n",
       "      <td>0.06209</td>\n",
       "      <td>0.047995</td>\n",
       "    </tr>\n",
       "    <tr>\n",
       "      <th>min</th>\n",
       "      <td>0.000000</td>\n",
       "      <td>295.300000</td>\n",
       "      <td>305.700000</td>\n",
       "      <td>1168.000000</td>\n",
       "      <td>3.800000</td>\n",
       "      <td>0.000000</td>\n",
       "      <td>0.000000</td>\n",
       "      <td>0.000000</td>\n",
       "      <td>0.000000</td>\n",
       "      <td>0.00000</td>\n",
       "      <td>0.000000</td>\n",
       "    </tr>\n",
       "    <tr>\n",
       "      <th>25%</th>\n",
       "      <td>1.000000</td>\n",
       "      <td>298.300000</td>\n",
       "      <td>308.700000</td>\n",
       "      <td>1432.000000</td>\n",
       "      <td>34.600000</td>\n",
       "      <td>48.000000</td>\n",
       "      <td>0.000000</td>\n",
       "      <td>0.000000</td>\n",
       "      <td>0.000000</td>\n",
       "      <td>0.00000</td>\n",
       "      <td>0.000000</td>\n",
       "    </tr>\n",
       "    <tr>\n",
       "      <th>50%</th>\n",
       "      <td>2.000000</td>\n",
       "      <td>300.000000</td>\n",
       "      <td>310.000000</td>\n",
       "      <td>1493.000000</td>\n",
       "      <td>40.500000</td>\n",
       "      <td>106.000000</td>\n",
       "      <td>0.000000</td>\n",
       "      <td>0.000000</td>\n",
       "      <td>0.000000</td>\n",
       "      <td>0.00000</td>\n",
       "      <td>0.000000</td>\n",
       "    </tr>\n",
       "    <tr>\n",
       "      <th>75%</th>\n",
       "      <td>2.000000</td>\n",
       "      <td>301.200000</td>\n",
       "      <td>310.900000</td>\n",
       "      <td>1579.000000</td>\n",
       "      <td>46.200000</td>\n",
       "      <td>158.000000</td>\n",
       "      <td>0.000000</td>\n",
       "      <td>0.000000</td>\n",
       "      <td>0.000000</td>\n",
       "      <td>0.00000</td>\n",
       "      <td>0.000000</td>\n",
       "    </tr>\n",
       "    <tr>\n",
       "      <th>max</th>\n",
       "      <td>2.000000</td>\n",
       "      <td>304.400000</td>\n",
       "      <td>313.800000</td>\n",
       "      <td>2886.000000</td>\n",
       "      <td>76.600000</td>\n",
       "      <td>253.000000</td>\n",
       "      <td>1.000000</td>\n",
       "      <td>1.000000</td>\n",
       "      <td>1.000000</td>\n",
       "      <td>1.00000</td>\n",
       "      <td>1.000000</td>\n",
       "    </tr>\n",
       "  </tbody>\n",
       "</table>\n",
       "</div>"
      ],
      "text/plain": [
       "               Type  Air temperature [K]  Process temperature [K]  \\\n",
       "count  90954.000000         90954.000000             90954.000000   \n",
       "mean       1.631715           299.859493               309.939375   \n",
       "std        0.603467             1.857562                 1.385296   \n",
       "min        0.000000           295.300000               305.700000   \n",
       "25%        1.000000           298.300000               308.700000   \n",
       "50%        2.000000           300.000000               310.000000   \n",
       "75%        2.000000           301.200000               310.900000   \n",
       "max        2.000000           304.400000               313.800000   \n",
       "\n",
       "       Rotational speed [rpm]   Torque [Nm]  Tool wear [min]           TWF  \\\n",
       "count            90954.000000  90954.000000     90954.000000  90954.000000   \n",
       "mean              1520.528179     40.335191       104.293962      0.001473   \n",
       "std                139.970419      8.504683        63.871092      0.038355   \n",
       "min               1168.000000      3.800000         0.000000      0.000000   \n",
       "25%               1432.000000     34.600000        48.000000      0.000000   \n",
       "50%               1493.000000     40.500000       106.000000      0.000000   \n",
       "75%               1579.000000     46.200000       158.000000      0.000000   \n",
       "max               2886.000000     76.600000       253.000000      1.000000   \n",
       "\n",
       "                HDF           PWF          OSF           RNF  \n",
       "count  90954.000000  90954.000000  90954.00000  90954.000000  \n",
       "mean       0.005343      0.002353      0.00387      0.002309  \n",
       "std        0.072903      0.048449      0.06209      0.047995  \n",
       "min        0.000000      0.000000      0.00000      0.000000  \n",
       "25%        0.000000      0.000000      0.00000      0.000000  \n",
       "50%        0.000000      0.000000      0.00000      0.000000  \n",
       "75%        0.000000      0.000000      0.00000      0.000000  \n",
       "max        1.000000      1.000000      1.00000      1.000000  "
      ]
     },
     "execution_count": 20,
     "metadata": {},
     "output_type": "execute_result"
    }
   ],
   "source": [
    "df_test.describe()"
   ]
  },
  {
   "cell_type": "markdown",
   "id": "5dc1ec9d",
   "metadata": {
    "papermill": {
     "duration": 0.025844,
     "end_time": "2023-06-20T15:50:08.751353",
     "exception": false,
     "start_time": "2023-06-20T15:50:08.725509",
     "status": "completed"
    },
    "tags": []
   },
   "source": [
    "## Correlation Heatmap\n",
    "\n",
    "View a heatmap of the correlations between all numeric features. This will give insight to what features to use when creating a model"
   ]
  },
  {
   "cell_type": "code",
   "execution_count": 21,
   "id": "7cc142b1",
   "metadata": {
    "execution": {
     "iopub.execute_input": "2023-06-20T15:50:08.804674Z",
     "iopub.status.busy": "2023-06-20T15:50:08.804078Z",
     "iopub.status.idle": "2023-06-20T15:50:09.711262Z",
     "shell.execute_reply": "2023-06-20T15:50:09.710208Z"
    },
    "papermill": {
     "duration": 0.937795,
     "end_time": "2023-06-20T15:50:09.714185",
     "exception": false,
     "start_time": "2023-06-20T15:50:08.776390",
     "status": "completed"
    },
    "tags": []
   },
   "outputs": [
    {
     "name": "stderr",
     "output_type": "stream",
     "text": [
      "/tmp/ipykernel_20/3589342651.py:2: FutureWarning: The default value of numeric_only in DataFrame.corr is deprecated. In a future version, it will default to False. Select only valid columns or specify the value of numeric_only to silence this warning.\n",
      "  dataplot = sns.heatmap(df_train.corr(), annot=True)\n"
     ]
    },
    {
     "data": {
      "image/png": "[encoded data removed]",
      "text/plain": [
       "<Figure size 1200x700 with 2 Axes>"
      ]
     },
     "metadata": {},
     "output_type": "display_data"
    }
   ],
   "source": [
    "plt.figure(figsize=(12, 7))\n",
    "dataplot = sns.heatmap(df_train.corr(), annot=True)\n",
    "plt.show()"
   ]
  },
  {
   "cell_type": "markdown",
   "id": "28c715d6",
   "metadata": {
    "papermill": {
     "duration": 0.026706,
     "end_time": "2023-06-20T15:50:09.768845",
     "exception": false,
     "start_time": "2023-06-20T15:50:09.742139",
     "status": "completed"
    },
    "tags": []
   },
   "source": [
    "### Conclusion\n",
    "\n",
    "The results of this heatmap can be used to determine what features will be the most useful in creating a machine learning model"
   ]
  },
  {
   "cell_type": "markdown",
   "id": "84a066b4",
   "metadata": {
    "papermill": {
     "duration": 0.026935,
     "end_time": "2023-06-20T15:50:09.823224",
     "exception": false,
     "start_time": "2023-06-20T15:50:09.796289",
     "status": "completed"
    },
    "tags": []
   },
   "source": [
    "#### Machine Failure Associations:\n",
    "\n",
    "These are the features that machine failure is most closely related to\n",
    "\n",
    "- TWF\n",
    "\n",
    "- HDF\n",
    "\n",
    "- PWF\n",
    "\n",
    "- OSF\n",
    "\n",
    "- Torque\n",
    "\n",
    "- Air temperature\n",
    "- Rotational speed"
   ]
  },
  {
   "cell_type": "markdown",
   "id": "c8626822",
   "metadata": {
    "papermill": {
     "duration": 0.027351,
     "end_time": "2023-06-20T15:50:09.878328",
     "exception": false,
     "start_time": "2023-06-20T15:50:09.850977",
     "status": "completed"
    },
    "tags": []
   },
   "source": [
    "#### Additional Associations:\n",
    "\n",
    "Machine failure can also be predicted by what associated features have connections to.\n",
    "\n",
    "OSF has correlation with Tool Wear"
   ]
  },
  {
   "cell_type": "markdown",
   "id": "62ad4707",
   "metadata": {
    "papermill": {
     "duration": 0.026869,
     "end_time": "2023-06-20T15:50:09.932701",
     "exception": false,
     "start_time": "2023-06-20T15:50:09.905832",
     "status": "completed"
    },
    "tags": []
   },
   "source": [
    "#### Features to Keep\n",
    "\n",
    "Based on this analysis, a list of all features to keep can be made.\n",
    "\n",
    "- TWF\n",
    "\n",
    "- HDF\n",
    "\n",
    "- OSF\n",
    "\n",
    "- Torque\n",
    "\n",
    "- Air temperature\n",
    "\n",
    "- Rotational speed\n",
    "\n",
    "- Tool wear"
   ]
  },
  {
   "cell_type": "markdown",
   "id": "70c8e9e2",
   "metadata": {
    "papermill": {
     "duration": 0.026749,
     "end_time": "2023-06-20T15:50:09.986717",
     "exception": false,
     "start_time": "2023-06-20T15:50:09.959968",
     "status": "completed"
    },
    "tags": []
   },
   "source": [
    "# Machine Learning Models\n",
    "\n"
   ]
  },
  {
   "cell_type": "markdown",
   "id": "91fcb97b",
   "metadata": {
    "papermill": {
     "duration": 0.026657,
     "end_time": "2023-06-20T15:50:10.042597",
     "exception": false,
     "start_time": "2023-06-20T15:50:10.015940",
     "status": "completed"
    },
    "tags": []
   },
   "source": [
    "## Basic Model\n",
    "\n",
    "This model will be created using all features in the dataframe.\n",
    "\n",
    "This is to see how a model performs without attempting to optimize its performance."
   ]
  },
  {
   "cell_type": "markdown",
   "id": "25e7df21",
   "metadata": {
    "papermill": {
     "duration": 0.02652,
     "end_time": "2023-06-20T15:50:10.096088",
     "exception": false,
     "start_time": "2023-06-20T15:50:10.069568",
     "status": "completed"
    },
    "tags": []
   },
   "source": [
    "### Prepare dataframes\n",
    "\n",
    "Make adjustments to the training and testing dataframes so that it is ready to be split into features and target and build a model.\n",
    "\n",
    "1. Import dataframe: Read in the dataframes from their filepaths\n",
    "\n",
    "2. Map features: Map the 'Type' feature so that it contains numerical data\n",
    "\n",
    "3. Drop features: Remove the 'Product ID' feature since it does not contain useful information for making predictions"
   ]
  },
  {
   "cell_type": "code",
   "execution_count": 22,
   "id": "6f190aa4",
   "metadata": {
    "execution": {
     "iopub.execute_input": "2023-06-20T15:50:10.152668Z",
     "iopub.status.busy": "2023-06-20T15:50:10.151866Z",
     "iopub.status.idle": "2023-06-20T15:50:10.554385Z",
     "shell.execute_reply": "2023-06-20T15:50:10.553150Z"
    },
    "papermill": {
     "duration": 0.434305,
     "end_time": "2023-06-20T15:50:10.557298",
     "exception": false,
     "start_time": "2023-06-20T15:50:10.122993",
     "status": "completed"
    },
    "tags": []
   },
   "outputs": [],
   "source": [
    "df_train_all = pd.read_csv(train_filepath, index_col='id')\n",
    "df_test_all = pd.read_csv(test_filepath, index_col='id')\n",
    "\n",
    "df_train_all = map_cat(df_train_all, ['Type'], [{'H':0, 'M':1, 'L':2}])\n",
    "df_test_all = map_cat(df_test_all, ['Type'], [{'H':0, 'M':1, 'L':2}])\n",
    "\n",
    "df_train_all = drop_features(df_train_all, ['Product ID'])\n",
    "df_test_all = drop_features(df_test_all, ['Product ID'])"
   ]
  },
  {
   "cell_type": "markdown",
   "id": "0ab7fa83",
   "metadata": {
    "papermill": {
     "duration": 0.026669,
     "end_time": "2023-06-20T15:50:10.610706",
     "exception": false,
     "start_time": "2023-06-20T15:50:10.584037",
     "status": "completed"
    },
    "tags": []
   },
   "source": [
    "### Normalize features\n",
    "\n",
    "Normalizing features helps reduce the bias that different feature ranges have on creating a model. Performing this step should improve the accuracy of the model.\n",
    "\n",
    "1. Divide training data: Separate the training dataframe to features and target (Machine failure)\n",
    "\n",
    "2. Normalize: Normalize the features and the testing dataframe"
   ]
  },
  {
   "cell_type": "code",
   "execution_count": 23,
   "id": "4dd5e8cb",
   "metadata": {
    "execution": {
     "iopub.execute_input": "2023-06-20T15:50:10.666368Z",
     "iopub.status.busy": "2023-06-20T15:50:10.665932Z",
     "iopub.status.idle": "2023-06-20T15:50:10.733164Z",
     "shell.execute_reply": "2023-06-20T15:50:10.731915Z"
    },
    "papermill": {
     "duration": 0.098153,
     "end_time": "2023-06-20T15:50:10.735825",
     "exception": false,
     "start_time": "2023-06-20T15:50:10.637672",
     "status": "completed"
    },
    "tags": []
   },
   "outputs": [],
   "source": [
    "X_all = df_train_all.drop('Machine failure', axis=1)\n",
    "y_all = df_train_all['Machine failure']\n",
    "\n",
    "X_all_norm = normalize_features(X_all)\n",
    "df_test_all_norm = normalize_features(df_test_all)"
   ]
  },
  {
   "cell_type": "markdown",
   "id": "34f02a5e",
   "metadata": {
    "papermill": {
     "duration": 0.026716,
     "end_time": "2023-06-20T15:50:10.790550",
     "exception": false,
     "start_time": "2023-06-20T15:50:10.763834",
     "status": "completed"
    },
    "tags": []
   },
   "source": [
    "### Further divide training data\n",
    "\n",
    "Use `train_test_split()` to divide the training data into training and validation datasets"
   ]
  },
  {
   "cell_type": "code",
   "execution_count": 24,
   "id": "ee8a1f73",
   "metadata": {
    "execution": {
     "iopub.execute_input": "2023-06-20T15:50:10.846302Z",
     "iopub.status.busy": "2023-06-20T15:50:10.845882Z",
     "iopub.status.idle": "2023-06-20T15:50:10.878339Z",
     "shell.execute_reply": "2023-06-20T15:50:10.877008Z"
    },
    "papermill": {
     "duration": 0.063315,
     "end_time": "2023-06-20T15:50:10.881072",
     "exception": false,
     "start_time": "2023-06-20T15:50:10.817757",
     "status": "completed"
    },
    "tags": []
   },
   "outputs": [],
   "source": [
    "X_all_train, X_all_val, y_all_train, y_all_val = train_test_split(X_all_norm, y_all)"
   ]
  },
  {
   "cell_type": "markdown",
   "id": "cf95aa2b",
   "metadata": {
    "papermill": {
     "duration": 0.027029,
     "end_time": "2023-06-20T15:50:10.935345",
     "exception": false,
     "start_time": "2023-06-20T15:50:10.908316",
     "status": "completed"
    },
    "tags": []
   },
   "source": [
    "### Evaluate models\n",
    "\n",
    "Test the data using all models that could be used\n",
    "\n",
    "Uncomment to see results"
   ]
  },
  {
   "cell_type": "code",
   "execution_count": 25,
   "id": "5176935c",
   "metadata": {
    "execution": {
     "iopub.execute_input": "2023-06-20T15:50:10.991966Z",
     "iopub.status.busy": "2023-06-20T15:50:10.991122Z",
     "iopub.status.idle": "2023-06-20T15:50:10.995347Z",
     "shell.execute_reply": "2023-06-20T15:50:10.994479Z"
    },
    "papermill": {
     "duration": 0.035202,
     "end_time": "2023-06-20T15:50:10.997573",
     "exception": false,
     "start_time": "2023-06-20T15:50:10.962371",
     "status": "completed"
    },
    "tags": []
   },
   "outputs": [],
   "source": [
    "# test_models(X_all_train, X_all_val, y_all_train, y_all_val)"
   ]
  },
  {
   "cell_type": "markdown",
   "id": "71cf1e03",
   "metadata": {
    "papermill": {
     "duration": 0.026537,
     "end_time": "2023-06-20T15:50:11.052829",
     "exception": false,
     "start_time": "2023-06-20T15:50:11.026292",
     "status": "completed"
    },
    "tags": []
   },
   "source": [
    "## Models with Feature Engineering\n",
    "\n",
    "These models will use the insights gained from data exploration to optimize the model."
   ]
  },
  {
   "cell_type": "markdown",
   "id": "9ceea9d1",
   "metadata": {
    "papermill": {
     "duration": 0.026923,
     "end_time": "2023-06-20T15:50:11.107135",
     "exception": false,
     "start_time": "2023-06-20T15:50:11.080212",
     "status": "completed"
    },
    "tags": []
   },
   "source": [
    "### Basic Feature Engineering\n",
    "\n",
    "The only change made in this submission is removing the features that were found to not relate to machine failure during data exploration"
   ]
  },
  {
   "cell_type": "markdown",
   "id": "66868a2e",
   "metadata": {
    "papermill": {
     "duration": 0.026474,
     "end_time": "2023-06-20T15:50:11.160437",
     "exception": false,
     "start_time": "2023-06-20T15:50:11.133963",
     "status": "completed"
    },
    "tags": []
   },
   "source": [
    "#### Import dataframe\n",
    "\n",
    "Read in the dataframes from their filepaths"
   ]
  },
  {
   "cell_type": "code",
   "execution_count": 26,
   "id": "4b3b3061",
   "metadata": {
    "execution": {
     "iopub.execute_input": "2023-06-20T15:50:11.216762Z",
     "iopub.status.busy": "2023-06-20T15:50:11.215839Z",
     "iopub.status.idle": "2023-06-20T15:50:11.581254Z",
     "shell.execute_reply": "2023-06-20T15:50:11.580116Z"
    },
    "papermill": {
     "duration": 0.396779,
     "end_time": "2023-06-20T15:50:11.584073",
     "exception": false,
     "start_time": "2023-06-20T15:50:11.187294",
     "status": "completed"
    },
    "tags": []
   },
   "outputs": [],
   "source": [
    "df_train_fe = pd.read_csv(train_filepath)\n",
    "df_test_fe = pd.read_csv(test_filepath)"
   ]
  },
  {
   "cell_type": "markdown",
   "id": "f130181a",
   "metadata": {
    "papermill": {
     "duration": 0.026232,
     "end_time": "2023-06-20T15:50:11.637274",
     "exception": false,
     "start_time": "2023-06-20T15:50:11.611042",
     "status": "completed"
    },
    "tags": []
   },
   "source": [
    "#### Drop features\n",
    "\n",
    "Remove the 'Product ID', 'Type', and 'RNF features since it does not contain useful information for making predictions"
   ]
  },
  {
   "cell_type": "code",
   "execution_count": 27,
   "id": "29d122d3",
   "metadata": {
    "execution": {
     "iopub.execute_input": "2023-06-20T15:50:11.692279Z",
     "iopub.status.busy": "2023-06-20T15:50:11.691897Z",
     "iopub.status.idle": "2023-06-20T15:50:11.737784Z",
     "shell.execute_reply": "2023-06-20T15:50:11.736497Z"
    },
    "papermill": {
     "duration": 0.076741,
     "end_time": "2023-06-20T15:50:11.740585",
     "exception": false,
     "start_time": "2023-06-20T15:50:11.663844",
     "status": "completed"
    },
    "tags": []
   },
   "outputs": [
    {
     "data": {
      "text/html": [
       "<div>\n",
       "<style scoped>\n",
       "    .dataframe tbody tr th:only-of-type {\n",
       "        vertical-align: middle;\n",
       "    }\n",
       "\n",
       "    .dataframe tbody tr th {\n",
       "        vertical-align: top;\n",
       "    }\n",
       "\n",
       "    .dataframe thead th {\n",
       "        text-align: right;\n",
       "    }\n",
       "</style>\n",
       "<table border=\"1\" class=\"dataframe\">\n",
       "  <thead>\n",
       "    <tr style=\"text-align: right;\">\n",
       "      <th></th>\n",
       "      <th>id</th>\n",
       "      <th>Air temperature [K]</th>\n",
       "      <th>Process temperature [K]</th>\n",
       "      <th>Rotational speed [rpm]</th>\n",
       "      <th>Torque [Nm]</th>\n",
       "      <th>Tool wear [min]</th>\n",
       "      <th>Machine failure</th>\n",
       "      <th>TWF</th>\n",
       "      <th>HDF</th>\n",
       "      <th>PWF</th>\n",
       "      <th>OSF</th>\n",
       "    </tr>\n",
       "  </thead>\n",
       "  <tbody>\n",
       "    <tr>\n",
       "      <th>0</th>\n",
       "      <td>0</td>\n",
       "      <td>300.6</td>\n",
       "      <td>309.6</td>\n",
       "      <td>1596</td>\n",
       "      <td>36.1</td>\n",
       "      <td>140</td>\n",
       "      <td>0</td>\n",
       "      <td>0</td>\n",
       "      <td>0</td>\n",
       "      <td>0</td>\n",
       "      <td>0</td>\n",
       "    </tr>\n",
       "    <tr>\n",
       "      <th>1</th>\n",
       "      <td>1</td>\n",
       "      <td>302.6</td>\n",
       "      <td>312.1</td>\n",
       "      <td>1759</td>\n",
       "      <td>29.1</td>\n",
       "      <td>200</td>\n",
       "      <td>0</td>\n",
       "      <td>0</td>\n",
       "      <td>0</td>\n",
       "      <td>0</td>\n",
       "      <td>0</td>\n",
       "    </tr>\n",
       "    <tr>\n",
       "      <th>2</th>\n",
       "      <td>2</td>\n",
       "      <td>299.3</td>\n",
       "      <td>308.5</td>\n",
       "      <td>1805</td>\n",
       "      <td>26.5</td>\n",
       "      <td>25</td>\n",
       "      <td>0</td>\n",
       "      <td>0</td>\n",
       "      <td>0</td>\n",
       "      <td>0</td>\n",
       "      <td>0</td>\n",
       "    </tr>\n",
       "    <tr>\n",
       "      <th>3</th>\n",
       "      <td>3</td>\n",
       "      <td>301.0</td>\n",
       "      <td>310.9</td>\n",
       "      <td>1524</td>\n",
       "      <td>44.3</td>\n",
       "      <td>197</td>\n",
       "      <td>0</td>\n",
       "      <td>0</td>\n",
       "      <td>0</td>\n",
       "      <td>0</td>\n",
       "      <td>0</td>\n",
       "    </tr>\n",
       "    <tr>\n",
       "      <th>4</th>\n",
       "      <td>4</td>\n",
       "      <td>298.0</td>\n",
       "      <td>309.0</td>\n",
       "      <td>1641</td>\n",
       "      <td>35.4</td>\n",
       "      <td>34</td>\n",
       "      <td>0</td>\n",
       "      <td>0</td>\n",
       "      <td>0</td>\n",
       "      <td>0</td>\n",
       "      <td>0</td>\n",
       "    </tr>\n",
       "  </tbody>\n",
       "</table>\n",
       "</div>"
      ],
      "text/plain": [
       "   id  Air temperature [K]  Process temperature [K]  Rotational speed [rpm]  \\\n",
       "0   0                300.6                    309.6                    1596   \n",
       "1   1                302.6                    312.1                    1759   \n",
       "2   2                299.3                    308.5                    1805   \n",
       "3   3                301.0                    310.9                    1524   \n",
       "4   4                298.0                    309.0                    1641   \n",
       "\n",
       "   Torque [Nm]  Tool wear [min]  Machine failure  TWF  HDF  PWF  OSF  \n",
       "0         36.1              140                0    0    0    0    0  \n",
       "1         29.1              200                0    0    0    0    0  \n",
       "2         26.5               25                0    0    0    0    0  \n",
       "3         44.3              197                0    0    0    0    0  \n",
       "4         35.4               34                0    0    0    0    0  "
      ]
     },
     "execution_count": 27,
     "metadata": {},
     "output_type": "execute_result"
    }
   ],
   "source": [
    "drop_f = ['Product ID', 'Type', 'RNF']\n",
    "\n",
    "df_train_fe = drop_features(df_train_fe, drop_f)\n",
    "df_test_fe = drop_features(df_test_fe, drop_f)\n",
    "df_train_fe.head()"
   ]
  },
  {
   "cell_type": "markdown",
   "id": "e454a38b",
   "metadata": {
    "papermill": {
     "duration": 0.026726,
     "end_time": "2023-06-20T15:50:11.795835",
     "exception": false,
     "start_time": "2023-06-20T15:50:11.769109",
     "status": "completed"
    },
    "tags": []
   },
   "source": [
    "#### Normalize features\n",
    "\n",
    "Normalizing features helps reduce the bias that different feature ranges have on creating a model. Performing this step should improve the accuracy of the model.\n",
    "\n",
    "1. Divide training data: Separate the training dataframe to features and target (Machine failure)\n",
    "\n",
    "2. Normalize: Normalize the features and the testing dataframe"
   ]
  },
  {
   "cell_type": "code",
   "execution_count": 28,
   "id": "ec441718",
   "metadata": {
    "execution": {
     "iopub.execute_input": "2023-06-20T15:50:11.851710Z",
     "iopub.status.busy": "2023-06-20T15:50:11.851262Z",
     "iopub.status.idle": "2023-06-20T15:50:11.928958Z",
     "shell.execute_reply": "2023-06-20T15:50:11.927838Z"
    },
    "papermill": {
     "duration": 0.108594,
     "end_time": "2023-06-20T15:50:11.931571",
     "exception": false,
     "start_time": "2023-06-20T15:50:11.822977",
     "status": "completed"
    },
    "tags": []
   },
   "outputs": [
    {
     "data": {
      "text/html": [
       "<div>\n",
       "<style scoped>\n",
       "    .dataframe tbody tr th:only-of-type {\n",
       "        vertical-align: middle;\n",
       "    }\n",
       "\n",
       "    .dataframe tbody tr th {\n",
       "        vertical-align: top;\n",
       "    }\n",
       "\n",
       "    .dataframe thead th {\n",
       "        text-align: right;\n",
       "    }\n",
       "</style>\n",
       "<table border=\"1\" class=\"dataframe\">\n",
       "  <thead>\n",
       "    <tr style=\"text-align: right;\">\n",
       "      <th></th>\n",
       "      <th>id</th>\n",
       "      <th>Air temperature [K]</th>\n",
       "      <th>Process temperature [K]</th>\n",
       "      <th>Rotational speed [rpm]</th>\n",
       "      <th>Torque [Nm]</th>\n",
       "      <th>Tool wear [min]</th>\n",
       "      <th>TWF</th>\n",
       "      <th>HDF</th>\n",
       "      <th>PWF</th>\n",
       "      <th>OSF</th>\n",
       "    </tr>\n",
       "  </thead>\n",
       "  <tbody>\n",
       "    <tr>\n",
       "      <th>0</th>\n",
       "      <td>-1.732032</td>\n",
       "      <td>0.395879</td>\n",
       "      <td>-0.246229</td>\n",
       "      <td>0.545414</td>\n",
       "      <td>-0.499709</td>\n",
       "      <td>0.556415</td>\n",
       "      <td>-0.03945</td>\n",
       "      <td>-0.07202</td>\n",
       "      <td>-0.049016</td>\n",
       "      <td>-0.063038</td>\n",
       "    </tr>\n",
       "    <tr>\n",
       "      <th>1</th>\n",
       "      <td>-1.732006</td>\n",
       "      <td>1.469850</td>\n",
       "      <td>1.558599</td>\n",
       "      <td>1.720302</td>\n",
       "      <td>-1.323023</td>\n",
       "      <td>1.494427</td>\n",
       "      <td>-0.03945</td>\n",
       "      <td>-0.07202</td>\n",
       "      <td>-0.049016</td>\n",
       "      <td>-0.063038</td>\n",
       "    </tr>\n",
       "    <tr>\n",
       "      <th>2</th>\n",
       "      <td>-1.731981</td>\n",
       "      <td>-0.302203</td>\n",
       "      <td>-1.040354</td>\n",
       "      <td>2.051865</td>\n",
       "      <td>-1.628825</td>\n",
       "      <td>-1.241442</td>\n",
       "      <td>-0.03945</td>\n",
       "      <td>-0.07202</td>\n",
       "      <td>-0.049016</td>\n",
       "      <td>-0.063038</td>\n",
       "    </tr>\n",
       "    <tr>\n",
       "      <th>3</th>\n",
       "      <td>-1.731956</td>\n",
       "      <td>0.610673</td>\n",
       "      <td>0.692281</td>\n",
       "      <td>0.026445</td>\n",
       "      <td>0.464744</td>\n",
       "      <td>1.447527</td>\n",
       "      <td>-0.03945</td>\n",
       "      <td>-0.07202</td>\n",
       "      <td>-0.049016</td>\n",
       "      <td>-0.063038</td>\n",
       "    </tr>\n",
       "    <tr>\n",
       "      <th>4</th>\n",
       "      <td>-1.731930</td>\n",
       "      <td>-1.000284</td>\n",
       "      <td>-0.679388</td>\n",
       "      <td>0.869769</td>\n",
       "      <td>-0.582041</td>\n",
       "      <td>-1.100740</td>\n",
       "      <td>-0.03945</td>\n",
       "      <td>-0.07202</td>\n",
       "      <td>-0.049016</td>\n",
       "      <td>-0.063038</td>\n",
       "    </tr>\n",
       "  </tbody>\n",
       "</table>\n",
       "</div>"
      ],
      "text/plain": [
       "         id  Air temperature [K]  Process temperature [K]  \\\n",
       "0 -1.732032             0.395879                -0.246229   \n",
       "1 -1.732006             1.469850                 1.558599   \n",
       "2 -1.731981            -0.302203                -1.040354   \n",
       "3 -1.731956             0.610673                 0.692281   \n",
       "4 -1.731930            -1.000284                -0.679388   \n",
       "\n",
       "   Rotational speed [rpm]  Torque [Nm]  Tool wear [min]      TWF      HDF  \\\n",
       "0                0.545414    -0.499709         0.556415 -0.03945 -0.07202   \n",
       "1                1.720302    -1.323023         1.494427 -0.03945 -0.07202   \n",
       "2                2.051865    -1.628825        -1.241442 -0.03945 -0.07202   \n",
       "3                0.026445     0.464744         1.447527 -0.03945 -0.07202   \n",
       "4                0.869769    -0.582041        -1.100740 -0.03945 -0.07202   \n",
       "\n",
       "        PWF       OSF  \n",
       "0 -0.049016 -0.063038  \n",
       "1 -0.049016 -0.063038  \n",
       "2 -0.049016 -0.063038  \n",
       "3 -0.049016 -0.063038  \n",
       "4 -0.049016 -0.063038  "
      ]
     },
     "execution_count": 28,
     "metadata": {},
     "output_type": "execute_result"
    }
   ],
   "source": [
    "X_fe = df_train_fe.drop('Machine failure', axis=1)\n",
    "y_fe = df_train_fe['Machine failure']\n",
    "\n",
    "X_fe_norm = normalize_features(X_fe)\n",
    "df_test_fe_norm = normalize_features(df_test_fe)\n",
    "\n",
    "X_fe_norm.head()"
   ]
  },
  {
   "cell_type": "markdown",
   "id": "d2e8f179",
   "metadata": {
    "papermill": {
     "duration": 0.027434,
     "end_time": "2023-06-20T15:50:11.986625",
     "exception": false,
     "start_time": "2023-06-20T15:50:11.959191",
     "status": "completed"
    },
    "tags": []
   },
   "source": [
    "#### Further divide training data\n",
    "\n",
    "Use `train_test_split()` to divide the training data into training and validation datasets"
   ]
  },
  {
   "cell_type": "code",
   "execution_count": 29,
   "id": "4c57095b",
   "metadata": {
    "execution": {
     "iopub.execute_input": "2023-06-20T15:50:12.044842Z",
     "iopub.status.busy": "2023-06-20T15:50:12.044419Z",
     "iopub.status.idle": "2023-06-20T15:50:12.074347Z",
     "shell.execute_reply": "2023-06-20T15:50:12.073285Z"
    },
    "papermill": {
     "duration": 0.061838,
     "end_time": "2023-06-20T15:50:12.077379",
     "exception": false,
     "start_time": "2023-06-20T15:50:12.015541",
     "status": "completed"
    },
    "tags": []
   },
   "outputs": [],
   "source": [
    "X_fe_train, X_fe_val, y_fe_train, y_fe_val = train_test_split(X_fe_norm, y_fe)"
   ]
  },
  {
   "cell_type": "markdown",
   "id": "1ef18908",
   "metadata": {
    "papermill": {
     "duration": 0.026903,
     "end_time": "2023-06-20T15:50:12.132505",
     "exception": false,
     "start_time": "2023-06-20T15:50:12.105602",
     "status": "completed"
    },
    "tags": []
   },
   "source": [
    "#### Evaluate models\n",
    "\n",
    "Test the data using all models that could be used\n",
    "\n",
    "Uncomment to see results"
   ]
  },
  {
   "cell_type": "code",
   "execution_count": 30,
   "id": "d182900d",
   "metadata": {
    "execution": {
     "iopub.execute_input": "2023-06-20T15:50:12.188589Z",
     "iopub.status.busy": "2023-06-20T15:50:12.188179Z",
     "iopub.status.idle": "2023-06-20T15:50:12.193303Z",
     "shell.execute_reply": "2023-06-20T15:50:12.192032Z"
    },
    "papermill": {
     "duration": 0.035699,
     "end_time": "2023-06-20T15:50:12.195549",
     "exception": false,
     "start_time": "2023-06-20T15:50:12.159850",
     "status": "completed"
    },
    "tags": []
   },
   "outputs": [],
   "source": [
    "# test_models(X_fe_train, X_fe_val, y_fe_train, y_fe_val)"
   ]
  },
  {
   "cell_type": "markdown",
   "id": "06732272",
   "metadata": {
    "papermill": {
     "duration": 0.027922,
     "end_time": "2023-06-20T15:50:12.250763",
     "exception": false,
     "start_time": "2023-06-20T15:50:12.222841",
     "status": "completed"
    },
    "tags": []
   },
   "source": [
    "#### Make Predictions\n",
    "\n",
    "There will be two submissions using this method, since it is unclear at this moment whether a classification or regression model will yield the most accurate results when used in the competition."
   ]
  },
  {
   "cell_type": "markdown",
   "id": "f9e8f2ec",
   "metadata": {
    "papermill": {
     "duration": 0.026951,
     "end_time": "2023-06-20T15:50:12.305130",
     "exception": false,
     "start_time": "2023-06-20T15:50:12.278179",
     "status": "completed"
    },
    "tags": []
   },
   "source": [
    "##### Logistic Regression\n",
    "\n",
    "This tied for the highest accuracy with SVM when testing models. Logistic Regression ran much faster than SVM, so it was chosen to make predictions"
   ]
  },
  {
   "cell_type": "code",
   "execution_count": 31,
   "id": "4c2a79d1",
   "metadata": {
    "execution": {
     "iopub.execute_input": "2023-06-20T15:50:12.362890Z",
     "iopub.status.busy": "2023-06-20T15:50:12.362204Z",
     "iopub.status.idle": "2023-06-20T15:50:12.968135Z",
     "shell.execute_reply": "2023-06-20T15:50:12.966826Z"
    },
    "papermill": {
     "duration": 0.637813,
     "end_time": "2023-06-20T15:50:12.971035",
     "exception": false,
     "start_time": "2023-06-20T15:50:12.333222",
     "status": "completed"
    },
    "tags": []
   },
   "outputs": [],
   "source": [
    "clf_LGR = LogisticRegression().fit(X_fe_train, y_fe_train)\n",
    "pred_test_LGR = clf_LGR.predict(df_test_fe_norm)\n",
    "\n",
    "df_submission_LGR = pd.DataFrame(data={'Machine failure':pred_test_LGR}, index=df_test_fe_norm.index)\n",
    "df_submission_LGR.to_csv('Machine_Failure_Submission-LGR-2023_6_19.csv')"
   ]
  },
  {
   "cell_type": "markdown",
   "id": "c5c525ed",
   "metadata": {
    "papermill": {
     "duration": 0.031486,
     "end_time": "2023-06-20T15:50:13.030245",
     "exception": false,
     "start_time": "2023-06-20T15:50:12.998759",
     "status": "completed"
    },
    "tags": []
   },
   "source": [
    "The submission had a public score of **0.91258**"
   ]
  },
  {
   "cell_type": "markdown",
   "id": "d6c7a2d3",
   "metadata": {
    "papermill": {
     "duration": 0.027349,
     "end_time": "2023-06-20T15:50:13.085610",
     "exception": false,
     "start_time": "2023-06-20T15:50:13.058261",
     "status": "completed"
    },
    "tags": []
   },
   "source": [
    "##### Linear Regression\n",
    "\n",
    "This was the only regression model tested, so it will be used to make predictions"
   ]
  },
  {
   "cell_type": "code",
   "execution_count": 32,
   "id": "bbbf5b79",
   "metadata": {
    "execution": {
     "iopub.execute_input": "2023-06-20T15:50:13.142693Z",
     "iopub.status.busy": "2023-06-20T15:50:13.141498Z",
     "iopub.status.idle": "2023-06-20T15:50:13.708208Z",
     "shell.execute_reply": "2023-06-20T15:50:13.706812Z"
    },
    "papermill": {
     "duration": 0.598459,
     "end_time": "2023-06-20T15:50:13.711259",
     "exception": false,
     "start_time": "2023-06-20T15:50:13.112800",
     "status": "completed"
    },
    "tags": []
   },
   "outputs": [],
   "source": [
    "clf_LNR = LinearRegression().fit(X_fe_train, y_fe_train)\n",
    "pred_test_LNR = clf_LNR.predict(df_test_fe_norm)\n",
    "\n",
    "df_submission_LNR = pd.DataFrame(data={'Machine failure':pred_test_LNR}, index=df_test_fe_norm.index)\n",
    "df_submission_LNR.to_csv('Machine_Failure_Submission-LNR-2023_6_19.csv')"
   ]
  },
  {
   "cell_type": "markdown",
   "id": "9cb58cc8",
   "metadata": {
    "papermill": {
     "duration": 0.028073,
     "end_time": "2023-06-20T15:50:13.766801",
     "exception": false,
     "start_time": "2023-06-20T15:50:13.738728",
     "status": "completed"
    },
    "tags": []
   },
   "source": [
    "The submission had a public score of **0.95033**"
   ]
  },
  {
   "cell_type": "markdown",
   "id": "f812282b",
   "metadata": {
    "papermill": {
     "duration": 0.027471,
     "end_time": "2023-06-20T15:50:13.822949",
     "exception": false,
     "start_time": "2023-06-20T15:50:13.795478",
     "status": "completed"
    },
    "tags": []
   },
   "source": [
    "#### Conclusion\n",
    "\n",
    "There is a clear winner between classification and regression models: **regression wins!**\n",
    "\n",
    "In the public scoring system, the regression model scored roughly 4% higher.\n",
    "\n",
    "In future submissions, a regression model will be used to make predictions"
   ]
  },
  {
   "cell_type": "markdown",
   "id": "6b7200db",
   "metadata": {
    "papermill": {
     "duration": 0.027307,
     "end_time": "2023-06-20T15:50:13.877586",
     "exception": false,
     "start_time": "2023-06-20T15:50:13.850279",
     "status": "completed"
    },
    "tags": []
   },
   "source": [
    "## Improve Linear Regression Model\n",
    "\n",
    "The linear regression model could be improved. "
   ]
  },
  {
   "cell_type": "markdown",
   "id": "3745fc0f",
   "metadata": {
    "papermill": {
     "duration": 0.027143,
     "end_time": "2023-06-20T15:50:13.932072",
     "exception": false,
     "start_time": "2023-06-20T15:50:13.904929",
     "status": "completed"
    },
    "tags": []
   },
   "source": [
    "View range of previous submission"
   ]
  },
  {
   "cell_type": "code",
   "execution_count": 33,
   "id": "5ad205cb",
   "metadata": {
    "execution": {
     "iopub.execute_input": "2023-06-20T15:50:13.988766Z",
     "iopub.status.busy": "2023-06-20T15:50:13.988350Z",
     "iopub.status.idle": "2023-06-20T15:50:14.013784Z",
     "shell.execute_reply": "2023-06-20T15:50:14.012203Z"
    },
    "papermill": {
     "duration": 0.057341,
     "end_time": "2023-06-20T15:50:14.016671",
     "exception": false,
     "start_time": "2023-06-20T15:50:13.959330",
     "status": "completed"
    },
    "tags": []
   },
   "outputs": [
    {
     "data": {
      "text/html": [
       "<div>\n",
       "<style scoped>\n",
       "    .dataframe tbody tr th:only-of-type {\n",
       "        vertical-align: middle;\n",
       "    }\n",
       "\n",
       "    .dataframe tbody tr th {\n",
       "        vertical-align: top;\n",
       "    }\n",
       "\n",
       "    .dataframe thead th {\n",
       "        text-align: right;\n",
       "    }\n",
       "</style>\n",
       "<table border=\"1\" class=\"dataframe\">\n",
       "  <thead>\n",
       "    <tr style=\"text-align: right;\">\n",
       "      <th></th>\n",
       "      <th>Machine failure</th>\n",
       "    </tr>\n",
       "  </thead>\n",
       "  <tbody>\n",
       "    <tr>\n",
       "      <th>count</th>\n",
       "      <td>90954.000000</td>\n",
       "    </tr>\n",
       "    <tr>\n",
       "      <th>mean</th>\n",
       "      <td>0.015727</td>\n",
       "    </tr>\n",
       "    <tr>\n",
       "      <th>std</th>\n",
       "      <td>0.104495</td>\n",
       "    </tr>\n",
       "    <tr>\n",
       "      <th>min</th>\n",
       "      <td>-0.029191</td>\n",
       "    </tr>\n",
       "    <tr>\n",
       "      <th>25%</th>\n",
       "      <td>0.001573</td>\n",
       "    </tr>\n",
       "    <tr>\n",
       "      <th>50%</th>\n",
       "      <td>0.004117</td>\n",
       "    </tr>\n",
       "    <tr>\n",
       "      <th>75%</th>\n",
       "      <td>0.007245</td>\n",
       "    </tr>\n",
       "    <tr>\n",
       "      <th>max</th>\n",
       "      <td>2.645912</td>\n",
       "    </tr>\n",
       "  </tbody>\n",
       "</table>\n",
       "</div>"
      ],
      "text/plain": [
       "       Machine failure\n",
       "count     90954.000000\n",
       "mean          0.015727\n",
       "std           0.104495\n",
       "min          -0.029191\n",
       "25%           0.001573\n",
       "50%           0.004117\n",
       "75%           0.007245\n",
       "max           2.645912"
      ]
     },
     "execution_count": 33,
     "metadata": {},
     "output_type": "execute_result"
    }
   ],
   "source": [
    "df_submission_LNR.describe()"
   ]
  },
  {
   "cell_type": "markdown",
   "id": "55689802",
   "metadata": {
    "papermill": {
     "duration": 0.027189,
     "end_time": "2023-06-20T15:50:14.071828",
     "exception": false,
     "start_time": "2023-06-20T15:50:14.044639",
     "status": "completed"
    },
    "tags": []
   },
   "source": [
    "This description shows that the probabilities fall in a range that includes values that are impossible to achieve. The accuracy score on the test set can be improved by fitting the data into a range between 0 and 1."
   ]
  },
  {
   "cell_type": "markdown",
   "id": "ae22d624",
   "metadata": {
    "papermill": {
     "duration": 0.027385,
     "end_time": "2023-06-20T15:50:14.126659",
     "exception": false,
     "start_time": "2023-06-20T15:50:14.099274",
     "status": "completed"
    },
    "tags": []
   },
   "source": [
    "### Linear Regression 2\n",
    "\n",
    "Use the results from Linear Regression model 1 and scale the results to fit within 0 and 1.\n",
    "\n",
    "The method that will be used for this submission is a threshold at 0 and 1 where all values greater than 1 are rounded down to 1 and all values less than 0 are rounded up to 0.\n",
    "\n",
    "This should improve the results since the results will have a similar distribution, but fit into the range of valid values"
   ]
  },
  {
   "cell_type": "markdown",
   "id": "e5519fd7",
   "metadata": {
    "papermill": {
     "duration": 0.027726,
     "end_time": "2023-06-20T15:50:14.181963",
     "exception": false,
     "start_time": "2023-06-20T15:50:14.154237",
     "status": "completed"
    },
    "tags": []
   },
   "source": [
    "Apply the transformation"
   ]
  },
  {
   "cell_type": "code",
   "execution_count": 34,
   "id": "83a4eed4",
   "metadata": {
    "execution": {
     "iopub.execute_input": "2023-06-20T15:50:14.240217Z",
     "iopub.status.busy": "2023-06-20T15:50:14.239567Z",
     "iopub.status.idle": "2023-06-20T15:50:14.260628Z",
     "shell.execute_reply": "2023-06-20T15:50:14.259693Z"
    },
    "papermill": {
     "duration": 0.053072,
     "end_time": "2023-06-20T15:50:14.262945",
     "exception": false,
     "start_time": "2023-06-20T15:50:14.209873",
     "status": "completed"
    },
    "tags": []
   },
   "outputs": [
    {
     "data": {
      "text/html": [
       "<div>\n",
       "<style scoped>\n",
       "    .dataframe tbody tr th:only-of-type {\n",
       "        vertical-align: middle;\n",
       "    }\n",
       "\n",
       "    .dataframe tbody tr th {\n",
       "        vertical-align: top;\n",
       "    }\n",
       "\n",
       "    .dataframe thead th {\n",
       "        text-align: right;\n",
       "    }\n",
       "</style>\n",
       "<table border=\"1\" class=\"dataframe\">\n",
       "  <thead>\n",
       "    <tr style=\"text-align: right;\">\n",
       "      <th></th>\n",
       "      <th>Machine failure</th>\n",
       "    </tr>\n",
       "  </thead>\n",
       "  <tbody>\n",
       "    <tr>\n",
       "      <th>count</th>\n",
       "      <td>90954.000000</td>\n",
       "    </tr>\n",
       "    <tr>\n",
       "      <th>mean</th>\n",
       "      <td>0.015369</td>\n",
       "    </tr>\n",
       "    <tr>\n",
       "      <th>std</th>\n",
       "      <td>0.095817</td>\n",
       "    </tr>\n",
       "    <tr>\n",
       "      <th>min</th>\n",
       "      <td>0.000000</td>\n",
       "    </tr>\n",
       "    <tr>\n",
       "      <th>25%</th>\n",
       "      <td>0.001573</td>\n",
       "    </tr>\n",
       "    <tr>\n",
       "      <th>50%</th>\n",
       "      <td>0.004117</td>\n",
       "    </tr>\n",
       "    <tr>\n",
       "      <th>75%</th>\n",
       "      <td>0.007245</td>\n",
       "    </tr>\n",
       "    <tr>\n",
       "      <th>max</th>\n",
       "      <td>1.000000</td>\n",
       "    </tr>\n",
       "  </tbody>\n",
       "</table>\n",
       "</div>"
      ],
      "text/plain": [
       "       Machine failure\n",
       "count     90954.000000\n",
       "mean          0.015369\n",
       "std           0.095817\n",
       "min           0.000000\n",
       "25%           0.001573\n",
       "50%           0.004117\n",
       "75%           0.007245\n",
       "max           1.000000"
      ]
     },
     "execution_count": 34,
     "metadata": {},
     "output_type": "execute_result"
    }
   ],
   "source": [
    "df_submission_LNR_2 = df_submission_LNR.copy()\n",
    "df_submission_LNR_2.loc[df_submission_LNR[\"Machine failure\"] > 1, \"Machine failure\"] = 1\n",
    "df_submission_LNR_2.loc[df_submission_LNR[\"Machine failure\"] < 0, \"Machine failure\"] = 0\n",
    "df_submission_LNR_2.describe()"
   ]
  },
  {
   "cell_type": "markdown",
   "id": "19e2ce9b",
   "metadata": {
    "papermill": {
     "duration": 0.02805,
     "end_time": "2023-06-20T15:50:14.319249",
     "exception": false,
     "start_time": "2023-06-20T15:50:14.291199",
     "status": "completed"
    },
    "tags": []
   },
   "source": [
    "Format the dataframe into a `.csv` file to submit to the competition"
   ]
  },
  {
   "cell_type": "code",
   "execution_count": 35,
   "id": "9642dfee",
   "metadata": {
    "execution": {
     "iopub.execute_input": "2023-06-20T15:50:14.378433Z",
     "iopub.status.busy": "2023-06-20T15:50:14.377646Z",
     "iopub.status.idle": "2023-06-20T15:50:14.770429Z",
     "shell.execute_reply": "2023-06-20T15:50:14.769257Z"
    },
    "papermill": {
     "duration": 0.426065,
     "end_time": "2023-06-20T15:50:14.773218",
     "exception": false,
     "start_time": "2023-06-20T15:50:14.347153",
     "status": "completed"
    },
    "tags": []
   },
   "outputs": [],
   "source": [
    "df_submission_LNR_2.to_csv('Machine_Failure_Submission-LNR_2-2023_6_19.csv')"
   ]
  },
  {
   "cell_type": "markdown",
   "id": "d910c62d",
   "metadata": {
    "papermill": {
     "duration": 0.027827,
     "end_time": "2023-06-20T15:50:14.829538",
     "exception": false,
     "start_time": "2023-06-20T15:50:14.801711",
     "status": "completed"
    },
    "tags": []
   },
   "source": [
    "### Conclusion\n",
    "\n",
    "The submission had a public score of **0.95083**"
   ]
  },
  {
   "cell_type": "markdown",
   "id": "8b78bb4e",
   "metadata": {
    "papermill": {
     "duration": 0.028291,
     "end_time": "2023-06-20T15:50:14.886492",
     "exception": false,
     "start_time": "2023-06-20T15:50:14.858201",
     "status": "completed"
    },
    "tags": []
   },
   "source": [
    "## Linear Regression 3\n",
    "\n",
    "Use the results from Linear Regression model 1 and scale the results to fit within 0 and 1.\n",
    "\n",
    "The method that will be used for this submission is a `MinMaxScaler()` to maintain a similar distribution as the original predictions\n",
    "\n",
    "This should improve the results since the results will have a similar distribution, but fit into the range of valid values"
   ]
  },
  {
   "cell_type": "markdown",
   "id": "0a06cfc9",
   "metadata": {
    "papermill": {
     "duration": 0.028008,
     "end_time": "2023-06-20T15:50:14.942842",
     "exception": false,
     "start_time": "2023-06-20T15:50:14.914834",
     "status": "completed"
    },
    "tags": []
   },
   "source": [
    "Apply the transformation"
   ]
  },
  {
   "cell_type": "code",
   "execution_count": 36,
   "id": "23b817b4",
   "metadata": {
    "execution": {
     "iopub.execute_input": "2023-06-20T15:50:15.001584Z",
     "iopub.status.busy": "2023-06-20T15:50:15.001110Z",
     "iopub.status.idle": "2023-06-20T15:50:15.024658Z",
     "shell.execute_reply": "2023-06-20T15:50:15.023417Z"
    },
    "papermill": {
     "duration": 0.056313,
     "end_time": "2023-06-20T15:50:15.027392",
     "exception": false,
     "start_time": "2023-06-20T15:50:14.971079",
     "status": "completed"
    },
    "tags": []
   },
   "outputs": [
    {
     "data": {
      "text/html": [
       "<div>\n",
       "<style scoped>\n",
       "    .dataframe tbody tr th:only-of-type {\n",
       "        vertical-align: middle;\n",
       "    }\n",
       "\n",
       "    .dataframe tbody tr th {\n",
       "        vertical-align: top;\n",
       "    }\n",
       "\n",
       "    .dataframe thead th {\n",
       "        text-align: right;\n",
       "    }\n",
       "</style>\n",
       "<table border=\"1\" class=\"dataframe\">\n",
       "  <thead>\n",
       "    <tr style=\"text-align: right;\">\n",
       "      <th></th>\n",
       "      <th>Machine failure</th>\n",
       "    </tr>\n",
       "  </thead>\n",
       "  <tbody>\n",
       "    <tr>\n",
       "      <th>count</th>\n",
       "      <td>90954.000000</td>\n",
       "    </tr>\n",
       "    <tr>\n",
       "      <th>mean</th>\n",
       "      <td>0.016791</td>\n",
       "    </tr>\n",
       "    <tr>\n",
       "      <th>std</th>\n",
       "      <td>0.039062</td>\n",
       "    </tr>\n",
       "    <tr>\n",
       "      <th>min</th>\n",
       "      <td>0.000000</td>\n",
       "    </tr>\n",
       "    <tr>\n",
       "      <th>25%</th>\n",
       "      <td>0.011500</td>\n",
       "    </tr>\n",
       "    <tr>\n",
       "      <th>50%</th>\n",
       "      <td>0.012451</td>\n",
       "    </tr>\n",
       "    <tr>\n",
       "      <th>75%</th>\n",
       "      <td>0.013620</td>\n",
       "    </tr>\n",
       "    <tr>\n",
       "      <th>max</th>\n",
       "      <td>1.000000</td>\n",
       "    </tr>\n",
       "  </tbody>\n",
       "</table>\n",
       "</div>"
      ],
      "text/plain": [
       "       Machine failure\n",
       "count     90954.000000\n",
       "mean          0.016791\n",
       "std           0.039062\n",
       "min           0.000000\n",
       "25%           0.011500\n",
       "50%           0.012451\n",
       "75%           0.013620\n",
       "max           1.000000"
      ]
     },
     "execution_count": 36,
     "metadata": {},
     "output_type": "execute_result"
    }
   ],
   "source": [
    "df_submission_LNR_3 = df_submission_LNR.copy()\n",
    "df_submission_LNR_3['Machine failure'] = scaler.fit_transform(df_submission_LNR_3)\n",
    "df_submission_LNR_3.describe()"
   ]
  },
  {
   "cell_type": "markdown",
   "id": "fb2b3129",
   "metadata": {
    "papermill": {
     "duration": 0.028625,
     "end_time": "2023-06-20T15:50:15.084549",
     "exception": false,
     "start_time": "2023-06-20T15:50:15.055924",
     "status": "completed"
    },
    "tags": []
   },
   "source": [
    "Format the dataframe into a `.csv` file to submit to the competition"
   ]
  },
  {
   "cell_type": "code",
   "execution_count": 37,
   "id": "2bbafc7e",
   "metadata": {
    "execution": {
     "iopub.execute_input": "2023-06-20T15:50:15.143266Z",
     "iopub.status.busy": "2023-06-20T15:50:15.142800Z",
     "iopub.status.idle": "2023-06-20T15:50:15.545723Z",
     "shell.execute_reply": "2023-06-20T15:50:15.544341Z"
    },
    "papermill": {
     "duration": 0.435803,
     "end_time": "2023-06-20T15:50:15.548712",
     "exception": false,
     "start_time": "2023-06-20T15:50:15.112909",
     "status": "completed"
    },
    "tags": []
   },
   "outputs": [],
   "source": [
    "df_submission_LNR_3.to_csv('Machine_Failure_Submission-LNR_3-2023_6_19.csv')"
   ]
  },
  {
   "cell_type": "markdown",
   "id": "c8f28f2e",
   "metadata": {
    "papermill": {
     "duration": 0.027519,
     "end_time": "2023-06-20T15:50:15.604190",
     "exception": false,
     "start_time": "2023-06-20T15:50:15.576671",
     "status": "completed"
    },
    "tags": []
   },
   "source": [
    "### Conclusion\n",
    "\n",
    "The submission had a public score of **0.95105**"
   ]
  }
 ],
 "metadata": {
  "kernelspec": {
   "display_name": "Python 3",
   "language": "python",
   "name": "python3"
  },
  "language_info": {
   "codemirror_mode": {
    "name": "ipython",
    "version": 3
   },
   "file_extension": ".py",
   "mimetype": "text/x-python",
   "name": "python",
   "nbconvert_exporter": "python",
   "pygments_lexer": "ipython3",
   "version": "3.10.10"
  },
  "papermill": {
   "default_parameters": {},
   "duration": 26.943128,
   "end_time": "2023-06-20T15:50:16.756211",
   "environment_variables": {},
   "exception": null,
   "input_path": "__notebook__.ipynb",
   "output_path": "__notebook__.ipynb",
   "parameters": {},
   "start_time": "2023-06-20T15:49:49.813083",
   "version": "2.4.0"
  }
 },
 "nbformat": 4,
 "nbformat_minor": 5
}
