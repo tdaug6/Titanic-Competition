{
 "cells": [
  {
   "cell_type": "code",
   "execution_count": 1,
   "id": "3966bae7",
   "metadata": {
    "_cell_guid": "b1076dfc-b9ad-4769-8c92-a6c4dae69d19",
    "_uuid": "8f2839f25d086af736a60e9eeb907d3b93b6e0e5",
    "execution": {
     "iopub.execute_input": "2023-06-14T15:42:20.684157Z",
     "iopub.status.busy": "2023-06-14T15:42:20.683566Z",
     "iopub.status.idle": "2023-06-14T15:42:22.422508Z",
     "shell.execute_reply": "2023-06-14T15:42:22.421154Z"
    },
    "papermill": {
     "duration": 1.761852,
     "end_time": "2023-06-14T15:42:22.425577",
     "exception": false,
     "start_time": "2023-06-14T15:42:20.663725",
     "status": "completed"
    },
    "tags": []
   },
   "outputs": [],
   "source": [
    "import numpy as np\n",
    "import pandas as pd\n",
    "\n",
    "from sklearn.linear_model import LogisticRegression\n",
    "from sklearn.neighbors import KNeighborsClassifier\n",
    "from sklearn.svm import SVC\n",
    "\n",
    "from sklearn.model_selection import StratifiedKFold, cross_val_score"
   ]
  },
  {
   "cell_type": "code",
   "execution_count": 2,
   "id": "c07e2f9c",
   "metadata": {
    "execution": {
     "iopub.execute_input": "2023-06-14T15:42:22.463261Z",
     "iopub.status.busy": "2023-06-14T15:42:22.462471Z",
     "iopub.status.idle": "2023-06-14T15:42:22.467815Z",
     "shell.execute_reply": "2023-06-14T15:42:22.466608Z"
    },
    "papermill": {
     "duration": 0.02741,
     "end_time": "2023-06-14T15:42:22.470459",
     "exception": false,
     "start_time": "2023-06-14T15:42:22.443049",
     "status": "completed"
    },
    "tags": []
   },
   "outputs": [],
   "source": [
    "train_filepath = '/kaggle/input/titanic/train.csv'\n",
    "test_filepath = '/kaggle/input/titanic/test.csv'"
   ]
  },
  {
   "cell_type": "code",
   "execution_count": 3,
   "id": "0fa0f26f",
   "metadata": {
    "execution": {
     "iopub.execute_input": "2023-06-14T15:42:22.508426Z",
     "iopub.status.busy": "2023-06-14T15:42:22.507923Z",
     "iopub.status.idle": "2023-06-14T15:42:22.548574Z",
     "shell.execute_reply": "2023-06-14T15:42:22.547343Z"
    },
    "papermill": {
     "duration": 0.063328,
     "end_time": "2023-06-14T15:42:22.551570",
     "exception": false,
     "start_time": "2023-06-14T15:42:22.488242",
     "status": "completed"
    },
    "tags": []
   },
   "outputs": [],
   "source": [
    "df_train = pd.read_csv(train_filepath)\n",
    "df_test = pd.read_csv(test_filepath)"
   ]
  },
  {
   "cell_type": "code",
   "execution_count": 4,
   "id": "0b961fb6",
   "metadata": {
    "execution": {
     "iopub.execute_input": "2023-06-14T15:42:22.588976Z",
     "iopub.status.busy": "2023-06-14T15:42:22.587822Z",
     "iopub.status.idle": "2023-06-14T15:42:22.606454Z",
     "shell.execute_reply": "2023-06-14T15:42:22.605121Z"
    },
    "papermill": {
     "duration": 0.040528,
     "end_time": "2023-06-14T15:42:22.609457",
     "exception": false,
     "start_time": "2023-06-14T15:42:22.568929",
     "status": "completed"
    },
    "tags": []
   },
   "outputs": [],
   "source": [
    "fill_fare_mean = df_test['Fare'].mean()\n",
    "fill_fare_med = df_test['Fare'].median()"
   ]
  },
  {
   "cell_type": "code",
   "execution_count": 5,
   "id": "7aedba79",
   "metadata": {
    "execution": {
     "iopub.execute_input": "2023-06-14T15:42:22.648796Z",
     "iopub.status.busy": "2023-06-14T15:42:22.647995Z",
     "iopub.status.idle": "2023-06-14T15:42:22.659951Z",
     "shell.execute_reply": "2023-06-14T15:42:22.658523Z"
    },
    "papermill": {
     "duration": 0.035745,
     "end_time": "2023-06-14T15:42:22.663043",
     "exception": false,
     "start_time": "2023-06-14T15:42:22.627298",
     "status": "completed"
    },
    "tags": []
   },
   "outputs": [],
   "source": [
    "age_mean_train = df_train['Age'].mean()\n",
    "age_med_train = df_train['Age'].median()\n",
    "age_mode_train = df_train['Age'].mode()\n",
    "\n",
    "age_mean_test = df_test['Age'].mean()\n",
    "age_med_test = df_test['Age'].median()\n",
    "age_mode_test = df_test['Age'].mode()"
   ]
  },
  {
   "cell_type": "code",
   "execution_count": 6,
   "id": "081a86bb",
   "metadata": {
    "execution": {
     "iopub.execute_input": "2023-06-14T15:42:22.700029Z",
     "iopub.status.busy": "2023-06-14T15:42:22.699526Z",
     "iopub.status.idle": "2023-06-14T15:42:22.705011Z",
     "shell.execute_reply": "2023-06-14T15:42:22.703999Z"
    },
    "papermill": {
     "duration": 0.02707,
     "end_time": "2023-06-14T15:42:22.707633",
     "exception": false,
     "start_time": "2023-06-14T15:42:22.680563",
     "status": "completed"
    },
    "tags": []
   },
   "outputs": [],
   "source": [
    "drop_feature_names = ['Name', 'Cabin', 'Ticket']"
   ]
  },
  {
   "cell_type": "code",
   "execution_count": 7,
   "id": "2e84baee",
   "metadata": {
    "execution": {
     "iopub.execute_input": "2023-06-14T15:42:22.746329Z",
     "iopub.status.busy": "2023-06-14T15:42:22.744468Z",
     "iopub.status.idle": "2023-06-14T15:42:22.751193Z",
     "shell.execute_reply": "2023-06-14T15:42:22.750217Z"
    },
    "papermill": {
     "duration": 0.028403,
     "end_time": "2023-06-14T15:42:22.753648",
     "exception": false,
     "start_time": "2023-06-14T15:42:22.725245",
     "status": "completed"
    },
    "tags": []
   },
   "outputs": [],
   "source": [
    "map_features = ['Sex', 'Embarked']\n",
    "map_dicts = [{'male':0, 'female':1}, {'Q':0, 'C':1, 'S':2}]"
   ]
  },
  {
   "cell_type": "code",
   "execution_count": 8,
   "id": "6cf18c9b",
   "metadata": {
    "execution": {
     "iopub.execute_input": "2023-06-14T15:42:22.791472Z",
     "iopub.status.busy": "2023-06-14T15:42:22.790069Z",
     "iopub.status.idle": "2023-06-14T15:42:22.797776Z",
     "shell.execute_reply": "2023-06-14T15:42:22.795950Z"
    },
    "papermill": {
     "duration": 0.029957,
     "end_time": "2023-06-14T15:42:22.800997",
     "exception": false,
     "start_time": "2023-06-14T15:42:22.771040",
     "status": "completed"
    },
    "tags": []
   },
   "outputs": [],
   "source": [
    "models = []\n",
    "\n",
    "models.append(('SVM', SVC()))\n",
    "models.append(('KNN', KNeighborsClassifier()))\n",
    "models.append(('LR', LogisticRegression()))"
   ]
  },
  {
   "cell_type": "code",
   "execution_count": 9,
   "id": "92fca794",
   "metadata": {
    "execution": {
     "iopub.execute_input": "2023-06-14T15:42:22.838961Z",
     "iopub.status.busy": "2023-06-14T15:42:22.837847Z",
     "iopub.status.idle": "2023-06-14T15:42:22.843587Z",
     "shell.execute_reply": "2023-06-14T15:42:22.842660Z"
    },
    "papermill": {
     "duration": 0.027293,
     "end_time": "2023-06-14T15:42:22.846284",
     "exception": false,
     "start_time": "2023-06-14T15:42:22.818991",
     "status": "completed"
    },
    "tags": []
   },
   "outputs": [],
   "source": [
    "def drop_features(df, d_features):\n",
    "    df_dropped = df\n",
    "    \n",
    "    for feature in d_features:\n",
    "        df_dropped = df_dropped.drop(str(feature), axis=1)\n",
    "        \n",
    "    return df_dropped"
   ]
  },
  {
   "cell_type": "code",
   "execution_count": 10,
   "id": "17cf4145",
   "metadata": {
    "execution": {
     "iopub.execute_input": "2023-06-14T15:42:22.883026Z",
     "iopub.status.busy": "2023-06-14T15:42:22.882196Z",
     "iopub.status.idle": "2023-06-14T15:42:22.888952Z",
     "shell.execute_reply": "2023-06-14T15:42:22.888123Z"
    },
    "papermill": {
     "duration": 0.028069,
     "end_time": "2023-06-14T15:42:22.891564",
     "exception": false,
     "start_time": "2023-06-14T15:42:22.863495",
     "status": "completed"
    },
    "tags": []
   },
   "outputs": [],
   "source": [
    "def map_cat(df, features, dictionaries):\n",
    "    '''\n",
    "    Map categorical data to be numeric\n",
    "    \n",
    "    Input:\n",
    "        - Dataframe for the mapping to take place in\n",
    "        - List of features that contain categorical data\n",
    "        - List of dictionaries to govern how to map the feature\n",
    "    \n",
    "    Output: A dataframe with the given features mapped according to the dictionaries\n",
    "        \n",
    "    '''\n",
    "    df_mapped = df\n",
    "    \n",
    "    for i in range(len(features)):\n",
    "        feature = features[i]\n",
    "        dictionary = dictionaries[i]\n",
    "        \n",
    "        df_mapped[feature] = df[feature].map(dictionary)\n",
    "        \n",
    "    return df_mapped"
   ]
  },
  {
   "cell_type": "code",
   "execution_count": 11,
   "id": "ec603283",
   "metadata": {
    "execution": {
     "iopub.execute_input": "2023-06-14T15:42:22.929322Z",
     "iopub.status.busy": "2023-06-14T15:42:22.928832Z",
     "iopub.status.idle": "2023-06-14T15:42:22.934767Z",
     "shell.execute_reply": "2023-06-14T15:42:22.933546Z"
    },
    "papermill": {
     "duration": 0.027564,
     "end_time": "2023-06-14T15:42:22.937363",
     "exception": false,
     "start_time": "2023-06-14T15:42:22.909799",
     "status": "completed"
    },
    "tags": []
   },
   "outputs": [],
   "source": [
    "def normalize(feature):\n",
    "    '''\n",
    "    This function normalizes a Series\n",
    "    \n",
    "    Input: A feature of type Series\n",
    "    \n",
    "    Output: The normalized feature of type Series\n",
    "    '''\n",
    "    return (feature - feature.mean())/feature.std()"
   ]
  },
  {
   "cell_type": "code",
   "execution_count": 12,
   "id": "4c10d53b",
   "metadata": {
    "execution": {
     "iopub.execute_input": "2023-06-14T15:42:22.974515Z",
     "iopub.status.busy": "2023-06-14T15:42:22.973668Z",
     "iopub.status.idle": "2023-06-14T15:42:22.980238Z",
     "shell.execute_reply": "2023-06-14T15:42:22.979365Z"
    },
    "papermill": {
     "duration": 0.027669,
     "end_time": "2023-06-14T15:42:22.982626",
     "exception": false,
     "start_time": "2023-06-14T15:42:22.954957",
     "status": "completed"
    },
    "tags": []
   },
   "outputs": [],
   "source": [
    "def normalize_features(df):\n",
    "    '''\n",
    "    This function normalizes all features in a dataframe\n",
    "    \n",
    "    Input: A pandas dataframe\n",
    "    \n",
    "    Output: The normalized dataframe\n",
    "    '''\n",
    "    for column in df.columns:\n",
    "        df[column] = normalize(df[column])\n",
    "    return df"
   ]
  },
  {
   "cell_type": "code",
   "execution_count": 13,
   "id": "39aa4f0d",
   "metadata": {
    "execution": {
     "iopub.execute_input": "2023-06-14T15:42:23.020194Z",
     "iopub.status.busy": "2023-06-14T15:42:23.019502Z",
     "iopub.status.idle": "2023-06-14T15:42:23.028555Z",
     "shell.execute_reply": "2023-06-14T15:42:23.027430Z"
    },
    "papermill": {
     "duration": 0.03109,
     "end_time": "2023-06-14T15:42:23.031281",
     "exception": false,
     "start_time": "2023-06-14T15:42:23.000191",
     "status": "completed"
    },
    "tags": []
   },
   "outputs": [],
   "source": [
    "def perform_cross_validation(X_train, y_train):\n",
    "    '''\n",
    "    This function goes through the steps to perform Stratified K-fold cross validation using the list of models described above.\n",
    "    \n",
    "    Input: \n",
    "        - A dataframe containing the features use to build the model\n",
    "        - A Series of the true values associated with the feature list\n",
    "    \n",
    "    Output: Printed result for the mean and standard deviation of each model\n",
    "    '''\n",
    "    results = dict()\n",
    "\n",
    "    for name, model in models:\n",
    "        kfold = StratifiedKFold(n_splits=10)\n",
    "        cv_results = cross_val_score(model, X_train, y_train, cv=kfold, scoring='accuracy')\n",
    "        results[name] = (cv_results.mean(), cv_results.std())\n",
    "\n",
    "    print('Model\\t\\tCV Mean\\t\\tCV std')\n",
    "    print(results)"
   ]
  },
  {
   "cell_type": "code",
   "execution_count": 14,
   "id": "ca5f903d",
   "metadata": {
    "execution": {
     "iopub.execute_input": "2023-06-14T15:42:23.069282Z",
     "iopub.status.busy": "2023-06-14T15:42:23.068575Z",
     "iopub.status.idle": "2023-06-14T15:42:23.074719Z",
     "shell.execute_reply": "2023-06-14T15:42:23.073853Z"
    },
    "papermill": {
     "duration": 0.027819,
     "end_time": "2023-06-14T15:42:23.077364",
     "exception": false,
     "start_time": "2023-06-14T15:42:23.049545",
     "status": "completed"
    },
    "tags": []
   },
   "outputs": [],
   "source": [
    "def fill_na(df, features, vals):\n",
    "    '''\n",
    "    Fill the NaN values of the features with the fill values\n",
    "    \n",
    "    Input:\n",
    "        - Dataframe to fill the missing values in\n",
    "        - A list of features to look for missing values\n",
    "        - A list of values to fill the missing values of the feature with\n",
    "    \n",
    "    Output: A dataframe with the found missing values filled\n",
    "    '''\n",
    "    df_filled = df\n",
    "    \n",
    "    for i in range(len(features)):\n",
    "        feature = features[i]\n",
    "        fill_val = vals[i]\n",
    "        \n",
    "        df_filled[feature] = df_filled[feature].fillna(fill_val)\n",
    "        \n",
    "    return df_filled"
   ]
  },
  {
   "cell_type": "code",
   "execution_count": 15,
   "id": "4ac764a3",
   "metadata": {
    "execution": {
     "iopub.execute_input": "2023-06-14T15:42:23.114956Z",
     "iopub.status.busy": "2023-06-14T15:42:23.114271Z",
     "iopub.status.idle": "2023-06-14T15:42:23.119869Z",
     "shell.execute_reply": "2023-06-14T15:42:23.119067Z"
    },
    "papermill": {
     "duration": 0.026788,
     "end_time": "2023-06-14T15:42:23.122152",
     "exception": false,
     "start_time": "2023-06-14T15:42:23.095364",
     "status": "completed"
    },
    "tags": []
   },
   "outputs": [],
   "source": [
    "def prepare_dataframe(df, d_features, fill_fare, fill_age=-1):\n",
    "    fill_features = ['Fare', 'Embarked', 'Age']\n",
    "    fill_vals = [fill_fare, 'S', fill_age]\n",
    "    df_filled = fill_na(df, fill_features, fill_vals)\n",
    "    \n",
    "    df_dropped = drop_features(df_filled, d_features)\n",
    "    df_mapped = map_cat(df_dropped, map_features, map_dicts)\n",
    "    return df_mapped"
   ]
  },
  {
   "cell_type": "markdown",
   "id": "964a1a1f",
   "metadata": {
    "papermill": {
     "duration": 0.016646,
     "end_time": "2023-06-14T15:42:23.155813",
     "exception": false,
     "start_time": "2023-06-14T15:42:23.139167",
     "status": "completed"
    },
    "tags": []
   },
   "source": []
  },
  {
   "cell_type": "code",
   "execution_count": 16,
   "id": "e044a83d",
   "metadata": {
    "execution": {
     "iopub.execute_input": "2023-06-14T15:42:23.194392Z",
     "iopub.status.busy": "2023-06-14T15:42:23.193715Z",
     "iopub.status.idle": "2023-06-14T15:42:23.218502Z",
     "shell.execute_reply": "2023-06-14T15:42:23.217318Z"
    },
    "papermill": {
     "duration": 0.047844,
     "end_time": "2023-06-14T15:42:23.221365",
     "exception": false,
     "start_time": "2023-06-14T15:42:23.173521",
     "status": "completed"
    },
    "tags": []
   },
   "outputs": [],
   "source": [
    "df_train_noAge = pd.read_csv(train_filepath, index_col='PassengerId')\n",
    "df_test_noAge = pd.read_csv(test_filepath, index_col='PassengerId')"
   ]
  },
  {
   "cell_type": "code",
   "execution_count": 17,
   "id": "95670b61",
   "metadata": {
    "execution": {
     "iopub.execute_input": "2023-06-14T15:42:23.258387Z",
     "iopub.status.busy": "2023-06-14T15:42:23.257897Z",
     "iopub.status.idle": "2023-06-14T15:42:23.262998Z",
     "shell.execute_reply": "2023-06-14T15:42:23.261847Z"
    },
    "papermill": {
     "duration": 0.02688,
     "end_time": "2023-06-14T15:42:23.265787",
     "exception": false,
     "start_time": "2023-06-14T15:42:23.238907",
     "status": "completed"
    },
    "tags": []
   },
   "outputs": [],
   "source": [
    "drop_feature_names_w_age = drop_feature_names + ['Age']"
   ]
  },
  {
   "cell_type": "code",
   "execution_count": 18,
   "id": "04309f60",
   "metadata": {
    "execution": {
     "iopub.execute_input": "2023-06-14T15:42:23.302224Z",
     "iopub.status.busy": "2023-06-14T15:42:23.301726Z",
     "iopub.status.idle": "2023-06-14T15:42:23.325125Z",
     "shell.execute_reply": "2023-06-14T15:42:23.324005Z"
    },
    "papermill": {
     "duration": 0.044976,
     "end_time": "2023-06-14T15:42:23.328070",
     "exception": false,
     "start_time": "2023-06-14T15:42:23.283094",
     "status": "completed"
    },
    "tags": []
   },
   "outputs": [],
   "source": [
    "df_train_noAge = prepare_dataframe(df_train_noAge, drop_feature_names_w_age, fill_fare_mean)\n",
    "df_test_noAge = prepare_dataframe(df_test_noAge, drop_feature_names_w_age, fill_fare_mean)"
   ]
  },
  {
   "cell_type": "code",
   "execution_count": 19,
   "id": "03bc273f",
   "metadata": {
    "execution": {
     "iopub.execute_input": "2023-06-14T15:42:23.364990Z",
     "iopub.status.busy": "2023-06-14T15:42:23.364569Z",
     "iopub.status.idle": "2023-06-14T15:42:23.371461Z",
     "shell.execute_reply": "2023-06-14T15:42:23.370087Z"
    },
    "papermill": {
     "duration": 0.028404,
     "end_time": "2023-06-14T15:42:23.374037",
     "exception": false,
     "start_time": "2023-06-14T15:42:23.345633",
     "status": "completed"
    },
    "tags": []
   },
   "outputs": [],
   "source": [
    "X_noAge = df_train_noAge.drop('Survived', axis=1)\n",
    "y_noAge = df_train_noAge['Survived']"
   ]
  },
  {
   "cell_type": "code",
   "execution_count": 20,
   "id": "253903f2",
   "metadata": {
    "execution": {
     "iopub.execute_input": "2023-06-14T15:42:23.410699Z",
     "iopub.status.busy": "2023-06-14T15:42:23.410278Z",
     "iopub.status.idle": "2023-06-14T15:42:23.428090Z",
     "shell.execute_reply": "2023-06-14T15:42:23.426925Z"
    },
    "papermill": {
     "duration": 0.039779,
     "end_time": "2023-06-14T15:42:23.431216",
     "exception": false,
     "start_time": "2023-06-14T15:42:23.391437",
     "status": "completed"
    },
    "tags": []
   },
   "outputs": [],
   "source": [
    "X_noAge = normalize_features(X_noAge)\n",
    "df_test_noAge = normalize_features(df_test_noAge)"
   ]
  },
  {
   "cell_type": "code",
   "execution_count": 21,
   "id": "31f3cd89",
   "metadata": {
    "execution": {
     "iopub.execute_input": "2023-06-14T15:42:23.469246Z",
     "iopub.status.busy": "2023-06-14T15:42:23.468775Z",
     "iopub.status.idle": "2023-06-14T15:42:23.952287Z",
     "shell.execute_reply": "2023-06-14T15:42:23.950378Z"
    },
    "papermill": {
     "duration": 0.505216,
     "end_time": "2023-06-14T15:42:23.955192",
     "exception": false,
     "start_time": "2023-06-14T15:42:23.449976",
     "status": "completed"
    },
    "tags": []
   },
   "outputs": [
    {
     "name": "stdout",
     "output_type": "stream",
     "text": [
      "Model\t\tCV Mean\t\tCV std\n",
      "{'SVM': (0.8058052434456927, 0.02817776516195646), 'KNN': (0.8092384519350813, 0.04749914265913915), 'LR': (0.7934706616729088, 0.024861946815253916)}\n"
     ]
    }
   ],
   "source": [
    "perform_cross_validation(X_noAge, y_noAge)"
   ]
  },
  {
   "cell_type": "code",
   "execution_count": 22,
   "id": "fd96108c",
   "metadata": {
    "execution": {
     "iopub.execute_input": "2023-06-14T15:42:23.993908Z",
     "iopub.status.busy": "2023-06-14T15:42:23.993471Z",
     "iopub.status.idle": "2023-06-14T15:42:24.047978Z",
     "shell.execute_reply": "2023-06-14T15:42:24.046440Z"
    },
    "papermill": {
     "duration": 0.07836,
     "end_time": "2023-06-14T15:42:24.051076",
     "exception": false,
     "start_time": "2023-06-14T15:42:23.972716",
     "status": "completed"
    },
    "tags": []
   },
   "outputs": [
    {
     "data": {
      "text/html": [
       "<div>\n",
       "<style scoped>\n",
       "    .dataframe tbody tr th:only-of-type {\n",
       "        vertical-align: middle;\n",
       "    }\n",
       "\n",
       "    .dataframe tbody tr th {\n",
       "        vertical-align: top;\n",
       "    }\n",
       "\n",
       "    .dataframe thead th {\n",
       "        text-align: right;\n",
       "    }\n",
       "</style>\n",
       "<table border=\"1\" class=\"dataframe\">\n",
       "  <thead>\n",
       "    <tr style=\"text-align: right;\">\n",
       "      <th></th>\n",
       "      <th>Survived</th>\n",
       "    </tr>\n",
       "    <tr>\n",
       "      <th>PassengerId</th>\n",
       "      <th></th>\n",
       "    </tr>\n",
       "  </thead>\n",
       "  <tbody>\n",
       "    <tr>\n",
       "      <th>892</th>\n",
       "      <td>0</td>\n",
       "    </tr>\n",
       "    <tr>\n",
       "      <th>893</th>\n",
       "      <td>0</td>\n",
       "    </tr>\n",
       "    <tr>\n",
       "      <th>894</th>\n",
       "      <td>0</td>\n",
       "    </tr>\n",
       "    <tr>\n",
       "      <th>895</th>\n",
       "      <td>0</td>\n",
       "    </tr>\n",
       "    <tr>\n",
       "      <th>896</th>\n",
       "      <td>1</td>\n",
       "    </tr>\n",
       "  </tbody>\n",
       "</table>\n",
       "</div>"
      ],
      "text/plain": [
       "             Survived\n",
       "PassengerId          \n",
       "892                 0\n",
       "893                 0\n",
       "894                 0\n",
       "895                 0\n",
       "896                 1"
      ]
     },
     "execution_count": 22,
     "metadata": {},
     "output_type": "execute_result"
    }
   ],
   "source": [
    "clf_noAge = KNeighborsClassifier().fit(X_noAge,y_noAge)\n",
    "\n",
    "predictions_noAge = clf_noAge.predict(df_test_noAge)\n",
    "\n",
    "submission1_noAge = pd.DataFrame(data={'Survived':predictions_noAge}, index=df_test_noAge.index)\n",
    "\n",
    "submission1_noAge.head()"
   ]
  },
  {
   "cell_type": "code",
   "execution_count": 23,
   "id": "1398c74d",
   "metadata": {
    "execution": {
     "iopub.execute_input": "2023-06-14T15:42:24.088582Z",
     "iopub.status.busy": "2023-06-14T15:42:24.088154Z",
     "iopub.status.idle": "2023-06-14T15:42:24.100814Z",
     "shell.execute_reply": "2023-06-14T15:42:24.099931Z"
    },
    "papermill": {
     "duration": 0.034691,
     "end_time": "2023-06-14T15:42:24.103686",
     "exception": false,
     "start_time": "2023-06-14T15:42:24.068995",
     "status": "completed"
    },
    "tags": []
   },
   "outputs": [],
   "source": [
    "submission1_noAge.to_csv('Titanic_Submission-No_Age-Mean_Fare-2023_6_14.csv')"
   ]
  },
  {
   "cell_type": "markdown",
   "id": "b7902323",
   "metadata": {
    "papermill": {
     "duration": 0.01736,
     "end_time": "2023-06-14T15:42:24.138981",
     "exception": false,
     "start_time": "2023-06-14T15:42:24.121621",
     "status": "completed"
    },
    "tags": []
   },
   "source": []
  },
  {
   "cell_type": "code",
   "execution_count": 24,
   "id": "311579ad",
   "metadata": {
    "execution": {
     "iopub.execute_input": "2023-06-14T15:42:24.177151Z",
     "iopub.status.busy": "2023-06-14T15:42:24.176125Z",
     "iopub.status.idle": "2023-06-14T15:42:24.195950Z",
     "shell.execute_reply": "2023-06-14T15:42:24.194827Z"
    },
    "papermill": {
     "duration": 0.042064,
     "end_time": "2023-06-14T15:42:24.199189",
     "exception": false,
     "start_time": "2023-06-14T15:42:24.157125",
     "status": "completed"
    },
    "tags": []
   },
   "outputs": [],
   "source": [
    "df_train_noAge = pd.read_csv(train_filepath, index_col='PassengerId')\n",
    "df_test_noAge = pd.read_csv(test_filepath, index_col='PassengerId')"
   ]
  },
  {
   "cell_type": "code",
   "execution_count": 25,
   "id": "1546e0a7",
   "metadata": {
    "execution": {
     "iopub.execute_input": "2023-06-14T15:42:24.238570Z",
     "iopub.status.busy": "2023-06-14T15:42:24.238122Z",
     "iopub.status.idle": "2023-06-14T15:42:24.243230Z",
     "shell.execute_reply": "2023-06-14T15:42:24.241957Z"
    },
    "papermill": {
     "duration": 0.02805,
     "end_time": "2023-06-14T15:42:24.245912",
     "exception": false,
     "start_time": "2023-06-14T15:42:24.217862",
     "status": "completed"
    },
    "tags": []
   },
   "outputs": [],
   "source": [
    "drop_feature_names_w_age = drop_feature_names + ['Age']"
   ]
  },
  {
   "cell_type": "code",
   "execution_count": 26,
   "id": "03f59dc9",
   "metadata": {
    "execution": {
     "iopub.execute_input": "2023-06-14T15:42:24.284000Z",
     "iopub.status.busy": "2023-06-14T15:42:24.283490Z",
     "iopub.status.idle": "2023-06-14T15:42:24.304632Z",
     "shell.execute_reply": "2023-06-14T15:42:24.303318Z"
    },
    "papermill": {
     "duration": 0.043925,
     "end_time": "2023-06-14T15:42:24.307733",
     "exception": false,
     "start_time": "2023-06-14T15:42:24.263808",
     "status": "completed"
    },
    "tags": []
   },
   "outputs": [],
   "source": [
    "df_train_noAge = prepare_dataframe(df_train_noAge, drop_feature_names_w_age, fill_fare_med)\n",
    "df_test_noAge = prepare_dataframe(df_test_noAge, drop_feature_names_w_age, fill_fare_med)"
   ]
  },
  {
   "cell_type": "code",
   "execution_count": 27,
   "id": "5511178f",
   "metadata": {
    "execution": {
     "iopub.execute_input": "2023-06-14T15:42:24.345084Z",
     "iopub.status.busy": "2023-06-14T15:42:24.344645Z",
     "iopub.status.idle": "2023-06-14T15:42:24.351544Z",
     "shell.execute_reply": "2023-06-14T15:42:24.350274Z"
    },
    "papermill": {
     "duration": 0.028525,
     "end_time": "2023-06-14T15:42:24.354158",
     "exception": false,
     "start_time": "2023-06-14T15:42:24.325633",
     "status": "completed"
    },
    "tags": []
   },
   "outputs": [],
   "source": [
    "X_noAge = df_train_noAge.drop('Survived', axis=1)\n",
    "y_noAge = df_train_noAge['Survived']"
   ]
  },
  {
   "cell_type": "code",
   "execution_count": 28,
   "id": "eacf157c",
   "metadata": {
    "execution": {
     "iopub.execute_input": "2023-06-14T15:42:24.391261Z",
     "iopub.status.busy": "2023-06-14T15:42:24.390800Z",
     "iopub.status.idle": "2023-06-14T15:42:24.409357Z",
     "shell.execute_reply": "2023-06-14T15:42:24.408021Z"
    },
    "papermill": {
     "duration": 0.041094,
     "end_time": "2023-06-14T15:42:24.412684",
     "exception": false,
     "start_time": "2023-06-14T15:42:24.371590",
     "status": "completed"
    },
    "tags": []
   },
   "outputs": [],
   "source": [
    "X_noAge = normalize_features(X_noAge)\n",
    "df_test_noAge = normalize_features(df_test_noAge)"
   ]
  },
  {
   "cell_type": "code",
   "execution_count": 29,
   "id": "fb0f0734",
   "metadata": {
    "execution": {
     "iopub.execute_input": "2023-06-14T15:42:24.450954Z",
     "iopub.status.busy": "2023-06-14T15:42:24.450516Z",
     "iopub.status.idle": "2023-06-14T15:42:24.909623Z",
     "shell.execute_reply": "2023-06-14T15:42:24.908245Z"
    },
    "papermill": {
     "duration": 0.481818,
     "end_time": "2023-06-14T15:42:24.912857",
     "exception": false,
     "start_time": "2023-06-14T15:42:24.431039",
     "status": "completed"
    },
    "tags": []
   },
   "outputs": [
    {
     "name": "stdout",
     "output_type": "stream",
     "text": [
      "Model\t\tCV Mean\t\tCV std\n",
      "{'SVM': (0.8058052434456927, 0.02817776516195646), 'KNN': (0.8092384519350813, 0.04749914265913915), 'LR': (0.7934706616729088, 0.024861946815253916)}\n"
     ]
    }
   ],
   "source": [
    "perform_cross_validation(X_noAge, y_noAge)"
   ]
  },
  {
   "cell_type": "code",
   "execution_count": 30,
   "id": "04a4ceef",
   "metadata": {
    "execution": {
     "iopub.execute_input": "2023-06-14T15:42:24.953128Z",
     "iopub.status.busy": "2023-06-14T15:42:24.952364Z",
     "iopub.status.idle": "2023-06-14T15:42:24.990435Z",
     "shell.execute_reply": "2023-06-14T15:42:24.989163Z"
    },
    "papermill": {
     "duration": 0.060649,
     "end_time": "2023-06-14T15:42:24.993279",
     "exception": false,
     "start_time": "2023-06-14T15:42:24.932630",
     "status": "completed"
    },
    "tags": []
   },
   "outputs": [
    {
     "data": {
      "text/html": [
       "<div>\n",
       "<style scoped>\n",
       "    .dataframe tbody tr th:only-of-type {\n",
       "        vertical-align: middle;\n",
       "    }\n",
       "\n",
       "    .dataframe tbody tr th {\n",
       "        vertical-align: top;\n",
       "    }\n",
       "\n",
       "    .dataframe thead th {\n",
       "        text-align: right;\n",
       "    }\n",
       "</style>\n",
       "<table border=\"1\" class=\"dataframe\">\n",
       "  <thead>\n",
       "    <tr style=\"text-align: right;\">\n",
       "      <th></th>\n",
       "      <th>Survived</th>\n",
       "    </tr>\n",
       "    <tr>\n",
       "      <th>PassengerId</th>\n",
       "      <th></th>\n",
       "    </tr>\n",
       "  </thead>\n",
       "  <tbody>\n",
       "    <tr>\n",
       "      <th>892</th>\n",
       "      <td>0</td>\n",
       "    </tr>\n",
       "    <tr>\n",
       "      <th>893</th>\n",
       "      <td>0</td>\n",
       "    </tr>\n",
       "    <tr>\n",
       "      <th>894</th>\n",
       "      <td>0</td>\n",
       "    </tr>\n",
       "    <tr>\n",
       "      <th>895</th>\n",
       "      <td>0</td>\n",
       "    </tr>\n",
       "    <tr>\n",
       "      <th>896</th>\n",
       "      <td>1</td>\n",
       "    </tr>\n",
       "  </tbody>\n",
       "</table>\n",
       "</div>"
      ],
      "text/plain": [
       "             Survived\n",
       "PassengerId          \n",
       "892                 0\n",
       "893                 0\n",
       "894                 0\n",
       "895                 0\n",
       "896                 1"
      ]
     },
     "execution_count": 30,
     "metadata": {},
     "output_type": "execute_result"
    }
   ],
   "source": [
    "clf_noAge = KNeighborsClassifier().fit(X_noAge,y_noAge)\n",
    "\n",
    "predictions_noAge = clf_noAge.predict(df_test_noAge)\n",
    "\n",
    "submission2_noAge = pd.DataFrame(data={'Survived':predictions_noAge}, index=df_test_noAge.index)\n",
    "\n",
    "submission2_noAge.head()"
   ]
  },
  {
   "cell_type": "code",
   "execution_count": 31,
   "id": "de4a32ba",
   "metadata": {
    "execution": {
     "iopub.execute_input": "2023-06-14T15:42:25.032315Z",
     "iopub.status.busy": "2023-06-14T15:42:25.031473Z",
     "iopub.status.idle": "2023-06-14T15:42:25.040025Z",
     "shell.execute_reply": "2023-06-14T15:42:25.038609Z"
    },
    "papermill": {
     "duration": 0.032807,
     "end_time": "2023-06-14T15:42:25.044209",
     "exception": false,
     "start_time": "2023-06-14T15:42:25.011402",
     "status": "completed"
    },
    "tags": []
   },
   "outputs": [],
   "source": [
    "submission2_noAge.to_csv('Titanic_Submission-No_Age-Med_Fare-2023_6_14.csv')"
   ]
  },
  {
   "cell_type": "markdown",
   "id": "080bcedc",
   "metadata": {
    "papermill": {
     "duration": 0.018818,
     "end_time": "2023-06-14T15:42:25.082342",
     "exception": false,
     "start_time": "2023-06-14T15:42:25.063524",
     "status": "completed"
    },
    "tags": []
   },
   "source": []
  },
  {
   "cell_type": "code",
   "execution_count": 32,
   "id": "ce906ea1",
   "metadata": {
    "execution": {
     "iopub.execute_input": "2023-06-14T15:42:25.121517Z",
     "iopub.status.busy": "2023-06-14T15:42:25.121046Z",
     "iopub.status.idle": "2023-06-14T15:42:25.140232Z",
     "shell.execute_reply": "2023-06-14T15:42:25.139070Z"
    },
    "papermill": {
     "duration": 0.042756,
     "end_time": "2023-06-14T15:42:25.143470",
     "exception": false,
     "start_time": "2023-06-14T15:42:25.100714",
     "status": "completed"
    },
    "tags": []
   },
   "outputs": [],
   "source": [
    "df_train_meanAge = pd.read_csv(train_filepath, index_col='PassengerId')\n",
    "df_test_meanAge = pd.read_csv(test_filepath, index_col='PassengerId')"
   ]
  },
  {
   "cell_type": "code",
   "execution_count": 33,
   "id": "3fb24752",
   "metadata": {
    "execution": {
     "iopub.execute_input": "2023-06-14T15:42:25.182727Z",
     "iopub.status.busy": "2023-06-14T15:42:25.182275Z",
     "iopub.status.idle": "2023-06-14T15:42:25.201972Z",
     "shell.execute_reply": "2023-06-14T15:42:25.200602Z"
    },
    "papermill": {
     "duration": 0.042726,
     "end_time": "2023-06-14T15:42:25.205106",
     "exception": false,
     "start_time": "2023-06-14T15:42:25.162380",
     "status": "completed"
    },
    "tags": []
   },
   "outputs": [],
   "source": [
    "df_train_meanAge = prepare_dataframe(df_train_meanAge, drop_feature_names, fill_fare_mean, age_mean_train)\n",
    "df_test_meanAge = prepare_dataframe(df_test_meanAge, drop_feature_names, fill_fare_mean, age_mean_test)"
   ]
  },
  {
   "cell_type": "code",
   "execution_count": 34,
   "id": "ad5e491b",
   "metadata": {
    "execution": {
     "iopub.execute_input": "2023-06-14T15:42:25.243026Z",
     "iopub.status.busy": "2023-06-14T15:42:25.242606Z",
     "iopub.status.idle": "2023-06-14T15:42:25.258626Z",
     "shell.execute_reply": "2023-06-14T15:42:25.257428Z"
    },
    "papermill": {
     "duration": 0.038202,
     "end_time": "2023-06-14T15:42:25.261322",
     "exception": false,
     "start_time": "2023-06-14T15:42:25.223120",
     "status": "completed"
    },
    "tags": []
   },
   "outputs": [
    {
     "data": {
      "text/html": [
       "<div>\n",
       "<style scoped>\n",
       "    .dataframe tbody tr th:only-of-type {\n",
       "        vertical-align: middle;\n",
       "    }\n",
       "\n",
       "    .dataframe tbody tr th {\n",
       "        vertical-align: top;\n",
       "    }\n",
       "\n",
       "    .dataframe thead th {\n",
       "        text-align: right;\n",
       "    }\n",
       "</style>\n",
       "<table border=\"1\" class=\"dataframe\">\n",
       "  <thead>\n",
       "    <tr style=\"text-align: right;\">\n",
       "      <th></th>\n",
       "      <th>Survived</th>\n",
       "      <th>Pclass</th>\n",
       "      <th>Sex</th>\n",
       "      <th>Age</th>\n",
       "      <th>SibSp</th>\n",
       "      <th>Parch</th>\n",
       "      <th>Fare</th>\n",
       "      <th>Embarked</th>\n",
       "    </tr>\n",
       "    <tr>\n",
       "      <th>PassengerId</th>\n",
       "      <th></th>\n",
       "      <th></th>\n",
       "      <th></th>\n",
       "      <th></th>\n",
       "      <th></th>\n",
       "      <th></th>\n",
       "      <th></th>\n",
       "      <th></th>\n",
       "    </tr>\n",
       "  </thead>\n",
       "  <tbody>\n",
       "    <tr>\n",
       "      <th>1</th>\n",
       "      <td>0</td>\n",
       "      <td>3</td>\n",
       "      <td>0</td>\n",
       "      <td>22.0</td>\n",
       "      <td>1</td>\n",
       "      <td>0</td>\n",
       "      <td>7.2500</td>\n",
       "      <td>2</td>\n",
       "    </tr>\n",
       "    <tr>\n",
       "      <th>2</th>\n",
       "      <td>1</td>\n",
       "      <td>1</td>\n",
       "      <td>1</td>\n",
       "      <td>38.0</td>\n",
       "      <td>1</td>\n",
       "      <td>0</td>\n",
       "      <td>71.2833</td>\n",
       "      <td>1</td>\n",
       "    </tr>\n",
       "    <tr>\n",
       "      <th>3</th>\n",
       "      <td>1</td>\n",
       "      <td>3</td>\n",
       "      <td>1</td>\n",
       "      <td>26.0</td>\n",
       "      <td>0</td>\n",
       "      <td>0</td>\n",
       "      <td>7.9250</td>\n",
       "      <td>2</td>\n",
       "    </tr>\n",
       "    <tr>\n",
       "      <th>4</th>\n",
       "      <td>1</td>\n",
       "      <td>1</td>\n",
       "      <td>1</td>\n",
       "      <td>35.0</td>\n",
       "      <td>1</td>\n",
       "      <td>0</td>\n",
       "      <td>53.1000</td>\n",
       "      <td>2</td>\n",
       "    </tr>\n",
       "    <tr>\n",
       "      <th>5</th>\n",
       "      <td>0</td>\n",
       "      <td>3</td>\n",
       "      <td>0</td>\n",
       "      <td>35.0</td>\n",
       "      <td>0</td>\n",
       "      <td>0</td>\n",
       "      <td>8.0500</td>\n",
       "      <td>2</td>\n",
       "    </tr>\n",
       "  </tbody>\n",
       "</table>\n",
       "</div>"
      ],
      "text/plain": [
       "             Survived  Pclass  Sex   Age  SibSp  Parch     Fare  Embarked\n",
       "PassengerId                                                              \n",
       "1                   0       3    0  22.0      1      0   7.2500         2\n",
       "2                   1       1    1  38.0      1      0  71.2833         1\n",
       "3                   1       3    1  26.0      0      0   7.9250         2\n",
       "4                   1       1    1  35.0      1      0  53.1000         2\n",
       "5                   0       3    0  35.0      0      0   8.0500         2"
      ]
     },
     "execution_count": 34,
     "metadata": {},
     "output_type": "execute_result"
    }
   ],
   "source": [
    "df_train_meanAge.head()"
   ]
  },
  {
   "cell_type": "code",
   "execution_count": 35,
   "id": "87029f1f",
   "metadata": {
    "execution": {
     "iopub.execute_input": "2023-06-14T15:42:25.300180Z",
     "iopub.status.busy": "2023-06-14T15:42:25.299169Z",
     "iopub.status.idle": "2023-06-14T15:42:25.306877Z",
     "shell.execute_reply": "2023-06-14T15:42:25.305646Z"
    },
    "papermill": {
     "duration": 0.030133,
     "end_time": "2023-06-14T15:42:25.309596",
     "exception": false,
     "start_time": "2023-06-14T15:42:25.279463",
     "status": "completed"
    },
    "tags": []
   },
   "outputs": [],
   "source": [
    "X_meanAge = df_train_meanAge.drop('Survived', axis=1)\n",
    "y_meanAge = df_train_meanAge['Survived']"
   ]
  },
  {
   "cell_type": "code",
   "execution_count": 36,
   "id": "5303082c",
   "metadata": {
    "execution": {
     "iopub.execute_input": "2023-06-14T15:42:25.348690Z",
     "iopub.status.busy": "2023-06-14T15:42:25.347915Z",
     "iopub.status.idle": "2023-06-14T15:42:25.367412Z",
     "shell.execute_reply": "2023-06-14T15:42:25.366220Z"
    },
    "papermill": {
     "duration": 0.042629,
     "end_time": "2023-06-14T15:42:25.370614",
     "exception": false,
     "start_time": "2023-06-14T15:42:25.327985",
     "status": "completed"
    },
    "tags": []
   },
   "outputs": [],
   "source": [
    "X_meanAge = normalize_features(X_meanAge)\n",
    "df_test_meanAge = normalize_features(df_test_meanAge)"
   ]
  },
  {
   "cell_type": "code",
   "execution_count": 37,
   "id": "31b903fe",
   "metadata": {
    "execution": {
     "iopub.execute_input": "2023-06-14T15:42:25.408790Z",
     "iopub.status.busy": "2023-06-14T15:42:25.408309Z",
     "iopub.status.idle": "2023-06-14T15:42:25.919678Z",
     "shell.execute_reply": "2023-06-14T15:42:25.917988Z"
    },
    "papermill": {
     "duration": 0.534543,
     "end_time": "2023-06-14T15:42:25.923309",
     "exception": false,
     "start_time": "2023-06-14T15:42:25.388766",
     "status": "completed"
    },
    "tags": []
   },
   "outputs": [
    {
     "name": "stdout",
     "output_type": "stream",
     "text": [
      "Model\t\tCV Mean\t\tCV std\n",
      "{'SVM': (0.8249313358302122, 0.03690856840480252), 'KNN': (0.809250936329588, 0.044119166613680365), 'LR': (0.7946192259675404, 0.02242820343899094)}\n"
     ]
    }
   ],
   "source": [
    "perform_cross_validation(X_meanAge, y_meanAge)"
   ]
  },
  {
   "cell_type": "code",
   "execution_count": 38,
   "id": "6b6cb032",
   "metadata": {
    "execution": {
     "iopub.execute_input": "2023-06-14T15:42:25.963898Z",
     "iopub.status.busy": "2023-06-14T15:42:25.963443Z",
     "iopub.status.idle": "2023-06-14T15:42:26.010865Z",
     "shell.execute_reply": "2023-06-14T15:42:26.009941Z"
    },
    "papermill": {
     "duration": 0.070228,
     "end_time": "2023-06-14T15:42:26.013314",
     "exception": false,
     "start_time": "2023-06-14T15:42:25.943086",
     "status": "completed"
    },
    "tags": []
   },
   "outputs": [
    {
     "data": {
      "text/html": [
       "<div>\n",
       "<style scoped>\n",
       "    .dataframe tbody tr th:only-of-type {\n",
       "        vertical-align: middle;\n",
       "    }\n",
       "\n",
       "    .dataframe tbody tr th {\n",
       "        vertical-align: top;\n",
       "    }\n",
       "\n",
       "    .dataframe thead th {\n",
       "        text-align: right;\n",
       "    }\n",
       "</style>\n",
       "<table border=\"1\" class=\"dataframe\">\n",
       "  <thead>\n",
       "    <tr style=\"text-align: right;\">\n",
       "      <th></th>\n",
       "      <th>Survived</th>\n",
       "    </tr>\n",
       "    <tr>\n",
       "      <th>PassengerId</th>\n",
       "      <th></th>\n",
       "    </tr>\n",
       "  </thead>\n",
       "  <tbody>\n",
       "    <tr>\n",
       "      <th>892</th>\n",
       "      <td>0</td>\n",
       "    </tr>\n",
       "    <tr>\n",
       "      <th>893</th>\n",
       "      <td>0</td>\n",
       "    </tr>\n",
       "    <tr>\n",
       "      <th>894</th>\n",
       "      <td>0</td>\n",
       "    </tr>\n",
       "    <tr>\n",
       "      <th>895</th>\n",
       "      <td>0</td>\n",
       "    </tr>\n",
       "    <tr>\n",
       "      <th>896</th>\n",
       "      <td>0</td>\n",
       "    </tr>\n",
       "  </tbody>\n",
       "</table>\n",
       "</div>"
      ],
      "text/plain": [
       "             Survived\n",
       "PassengerId          \n",
       "892                 0\n",
       "893                 0\n",
       "894                 0\n",
       "895                 0\n",
       "896                 0"
      ]
     },
     "execution_count": 38,
     "metadata": {},
     "output_type": "execute_result"
    }
   ],
   "source": [
    "clf_meanAge = SVC().fit(X_meanAge, y_meanAge)\n",
    "\n",
    "predictions_meanAge = clf_meanAge.predict(df_test_meanAge)\n",
    "\n",
    "submission1_meanAge = pd.DataFrame(data={'Survived':predictions_meanAge}, index=df_test_meanAge.index)\n",
    "\n",
    "submission1_meanAge.head()"
   ]
  },
  {
   "cell_type": "code",
   "execution_count": 39,
   "id": "76bd4c58",
   "metadata": {
    "execution": {
     "iopub.execute_input": "2023-06-14T15:42:26.054617Z",
     "iopub.status.busy": "2023-06-14T15:42:26.053333Z",
     "iopub.status.idle": "2023-06-14T15:42:26.061469Z",
     "shell.execute_reply": "2023-06-14T15:42:26.060292Z"
    },
    "papermill": {
     "duration": 0.032144,
     "end_time": "2023-06-14T15:42:26.064356",
     "exception": false,
     "start_time": "2023-06-14T15:42:26.032212",
     "status": "completed"
    },
    "tags": []
   },
   "outputs": [],
   "source": [
    "submission1_meanAge.to_csv('Titanic_Submission-Mean_Age-2023_6_14.csv')"
   ]
  },
  {
   "cell_type": "markdown",
   "id": "782dfdf2",
   "metadata": {
    "papermill": {
     "duration": 0.017868,
     "end_time": "2023-06-14T15:42:26.100762",
     "exception": false,
     "start_time": "2023-06-14T15:42:26.082894",
     "status": "completed"
    },
    "tags": []
   },
   "source": []
  },
  {
   "cell_type": "code",
   "execution_count": 40,
   "id": "4aa0f7a0",
   "metadata": {
    "execution": {
     "iopub.execute_input": "2023-06-14T15:42:26.139495Z",
     "iopub.status.busy": "2023-06-14T15:42:26.138986Z",
     "iopub.status.idle": "2023-06-14T15:42:26.157831Z",
     "shell.execute_reply": "2023-06-14T15:42:26.156598Z"
    },
    "papermill": {
     "duration": 0.041773,
     "end_time": "2023-06-14T15:42:26.160922",
     "exception": false,
     "start_time": "2023-06-14T15:42:26.119149",
     "status": "completed"
    },
    "tags": []
   },
   "outputs": [],
   "source": [
    "df_train_medAge = pd.read_csv(train_filepath, index_col='PassengerId')\n",
    "df_test_medAge = pd.read_csv(test_filepath, index_col='PassengerId')"
   ]
  },
  {
   "cell_type": "code",
   "execution_count": 41,
   "id": "1f7cacc6",
   "metadata": {
    "execution": {
     "iopub.execute_input": "2023-06-14T15:42:26.201091Z",
     "iopub.status.busy": "2023-06-14T15:42:26.200627Z",
     "iopub.status.idle": "2023-06-14T15:42:26.218387Z",
     "shell.execute_reply": "2023-06-14T15:42:26.217074Z"
    },
    "papermill": {
     "duration": 0.041287,
     "end_time": "2023-06-14T15:42:26.221402",
     "exception": false,
     "start_time": "2023-06-14T15:42:26.180115",
     "status": "completed"
    },
    "tags": []
   },
   "outputs": [],
   "source": [
    "df_train_medAge = prepare_dataframe(df_train_medAge, drop_feature_names, fill_fare_mean, age_med_train)\n",
    "df_test_medAge = prepare_dataframe(df_test_medAge, drop_feature_names, fill_fare_mean, age_med_test)"
   ]
  },
  {
   "cell_type": "code",
   "execution_count": 42,
   "id": "ce334c8f",
   "metadata": {
    "execution": {
     "iopub.execute_input": "2023-06-14T15:42:26.260218Z",
     "iopub.status.busy": "2023-06-14T15:42:26.259689Z",
     "iopub.status.idle": "2023-06-14T15:42:26.266919Z",
     "shell.execute_reply": "2023-06-14T15:42:26.265638Z"
    },
    "papermill": {
     "duration": 0.029688,
     "end_time": "2023-06-14T15:42:26.269455",
     "exception": false,
     "start_time": "2023-06-14T15:42:26.239767",
     "status": "completed"
    },
    "tags": []
   },
   "outputs": [],
   "source": [
    "X_medAge = df_train_medAge.drop('Survived', axis=1)\n",
    "y_medAge = df_train_medAge['Survived']"
   ]
  },
  {
   "cell_type": "code",
   "execution_count": 43,
   "id": "7032be5e",
   "metadata": {
    "execution": {
     "iopub.execute_input": "2023-06-14T15:42:26.308285Z",
     "iopub.status.busy": "2023-06-14T15:42:26.307780Z",
     "iopub.status.idle": "2023-06-14T15:42:26.327980Z",
     "shell.execute_reply": "2023-06-14T15:42:26.326947Z"
    },
    "papermill": {
     "duration": 0.042821,
     "end_time": "2023-06-14T15:42:26.330775",
     "exception": false,
     "start_time": "2023-06-14T15:42:26.287954",
     "status": "completed"
    },
    "tags": []
   },
   "outputs": [],
   "source": [
    "X_medAge = normalize_features(X_medAge)\n",
    "df_test_meanAge = normalize_features(df_test_medAge)"
   ]
  },
  {
   "cell_type": "code",
   "execution_count": 44,
   "id": "52ddfe29",
   "metadata": {
    "execution": {
     "iopub.execute_input": "2023-06-14T15:42:26.369508Z",
     "iopub.status.busy": "2023-06-14T15:42:26.369104Z",
     "iopub.status.idle": "2023-06-14T15:42:26.831037Z",
     "shell.execute_reply": "2023-06-14T15:42:26.829643Z"
    },
    "papermill": {
     "duration": 0.484821,
     "end_time": "2023-06-14T15:42:26.834001",
     "exception": false,
     "start_time": "2023-06-14T15:42:26.349180",
     "status": "completed"
    },
    "tags": []
   },
   "outputs": [
    {
     "name": "stdout",
     "output_type": "stream",
     "text": [
      "Model\t\tCV Mean\t\tCV std\n",
      "{'SVM': (0.8249313358302122, 0.03690856840480252), 'KNN': (0.8114731585518102, 0.04093208033293136), 'LR': (0.7946192259675405, 0.02702347765082892)}\n"
     ]
    }
   ],
   "source": [
    "perform_cross_validation(X_medAge, y_medAge)"
   ]
  },
  {
   "cell_type": "code",
   "execution_count": 45,
   "id": "61ef1bb2",
   "metadata": {
    "execution": {
     "iopub.execute_input": "2023-06-14T15:42:26.874184Z",
     "iopub.status.busy": "2023-06-14T15:42:26.872887Z",
     "iopub.status.idle": "2023-06-14T15:42:26.919682Z",
     "shell.execute_reply": "2023-06-14T15:42:26.918361Z"
    },
    "papermill": {
     "duration": 0.070056,
     "end_time": "2023-06-14T15:42:26.922567",
     "exception": false,
     "start_time": "2023-06-14T15:42:26.852511",
     "status": "completed"
    },
    "tags": []
   },
   "outputs": [
    {
     "data": {
      "text/html": [
       "<div>\n",
       "<style scoped>\n",
       "    .dataframe tbody tr th:only-of-type {\n",
       "        vertical-align: middle;\n",
       "    }\n",
       "\n",
       "    .dataframe tbody tr th {\n",
       "        vertical-align: top;\n",
       "    }\n",
       "\n",
       "    .dataframe thead th {\n",
       "        text-align: right;\n",
       "    }\n",
       "</style>\n",
       "<table border=\"1\" class=\"dataframe\">\n",
       "  <thead>\n",
       "    <tr style=\"text-align: right;\">\n",
       "      <th></th>\n",
       "      <th>Survived</th>\n",
       "    </tr>\n",
       "    <tr>\n",
       "      <th>PassengerId</th>\n",
       "      <th></th>\n",
       "    </tr>\n",
       "  </thead>\n",
       "  <tbody>\n",
       "    <tr>\n",
       "      <th>892</th>\n",
       "      <td>0</td>\n",
       "    </tr>\n",
       "    <tr>\n",
       "      <th>893</th>\n",
       "      <td>0</td>\n",
       "    </tr>\n",
       "    <tr>\n",
       "      <th>894</th>\n",
       "      <td>0</td>\n",
       "    </tr>\n",
       "    <tr>\n",
       "      <th>895</th>\n",
       "      <td>0</td>\n",
       "    </tr>\n",
       "    <tr>\n",
       "      <th>896</th>\n",
       "      <td>0</td>\n",
       "    </tr>\n",
       "  </tbody>\n",
       "</table>\n",
       "</div>"
      ],
      "text/plain": [
       "             Survived\n",
       "PassengerId          \n",
       "892                 0\n",
       "893                 0\n",
       "894                 0\n",
       "895                 0\n",
       "896                 0"
      ]
     },
     "execution_count": 45,
     "metadata": {},
     "output_type": "execute_result"
    }
   ],
   "source": [
    "clf_medAge = SVC().fit(X_medAge, y_medAge)\n",
    "\n",
    "predictions_medAge = clf_medAge.predict(df_test_medAge)\n",
    "\n",
    "submission1_medAge = pd.DataFrame(data={'Survived':predictions_medAge}, index=df_test_medAge.index)\n",
    "\n",
    "submission1_medAge.head()"
   ]
  },
  {
   "cell_type": "code",
   "execution_count": 46,
   "id": "351aea40",
   "metadata": {
    "execution": {
     "iopub.execute_input": "2023-06-14T15:42:26.962209Z",
     "iopub.status.busy": "2023-06-14T15:42:26.961736Z",
     "iopub.status.idle": "2023-06-14T15:42:26.969207Z",
     "shell.execute_reply": "2023-06-14T15:42:26.968284Z"
    },
    "papermill": {
     "duration": 0.030439,
     "end_time": "2023-06-14T15:42:26.971610",
     "exception": false,
     "start_time": "2023-06-14T15:42:26.941171",
     "status": "completed"
    },
    "tags": []
   },
   "outputs": [],
   "source": [
    "submission1_medAge.to_csv('Titanic_Submission-Median_Age-2023_6_14.csv')"
   ]
  },
  {
   "cell_type": "markdown",
   "id": "817a61aa",
   "metadata": {
    "papermill": {
     "duration": 0.020293,
     "end_time": "2023-06-14T15:42:27.010529",
     "exception": false,
     "start_time": "2023-06-14T15:42:26.990236",
     "status": "completed"
    },
    "tags": []
   },
   "source": []
  },
  {
   "cell_type": "code",
   "execution_count": 47,
   "id": "2fd184b4",
   "metadata": {
    "execution": {
     "iopub.execute_input": "2023-06-14T15:42:27.050762Z",
     "iopub.status.busy": "2023-06-14T15:42:27.050086Z",
     "iopub.status.idle": "2023-06-14T15:42:27.069598Z",
     "shell.execute_reply": "2023-06-14T15:42:27.068185Z"
    },
    "papermill": {
     "duration": 0.043461,
     "end_time": "2023-06-14T15:42:27.072922",
     "exception": false,
     "start_time": "2023-06-14T15:42:27.029461",
     "status": "completed"
    },
    "tags": []
   },
   "outputs": [],
   "source": [
    "df_train_modeAge = pd.read_csv(train_filepath, index_col='PassengerId')\n",
    "df_test_modeAge = pd.read_csv(test_filepath, index_col='PassengerId')"
   ]
  },
  {
   "cell_type": "code",
   "execution_count": 48,
   "id": "da576e9d",
   "metadata": {
    "execution": {
     "iopub.execute_input": "2023-06-14T15:42:27.113603Z",
     "iopub.status.busy": "2023-06-14T15:42:27.113105Z",
     "iopub.status.idle": "2023-06-14T15:42:27.131947Z",
     "shell.execute_reply": "2023-06-14T15:42:27.130450Z"
    },
    "papermill": {
     "duration": 0.042468,
     "end_time": "2023-06-14T15:42:27.135025",
     "exception": false,
     "start_time": "2023-06-14T15:42:27.092557",
     "status": "completed"
    },
    "tags": []
   },
   "outputs": [],
   "source": [
    "df_train_modeAge = prepare_dataframe(df_train_modeAge, drop_feature_names, fill_fare_mean, 24)\n",
    "df_test_modeAge = prepare_dataframe(df_test_modeAge, drop_feature_names, fill_fare_mean, 24)"
   ]
  },
  {
   "cell_type": "code",
   "execution_count": 49,
   "id": "f9273682",
   "metadata": {
    "execution": {
     "iopub.execute_input": "2023-06-14T15:42:27.176159Z",
     "iopub.status.busy": "2023-06-14T15:42:27.175613Z",
     "iopub.status.idle": "2023-06-14T15:42:27.183443Z",
     "shell.execute_reply": "2023-06-14T15:42:27.182140Z"
    },
    "papermill": {
     "duration": 0.031776,
     "end_time": "2023-06-14T15:42:27.186445",
     "exception": false,
     "start_time": "2023-06-14T15:42:27.154669",
     "status": "completed"
    },
    "tags": []
   },
   "outputs": [],
   "source": [
    "X_modeAge = df_train_modeAge.drop('Survived', axis=1)\n",
    "y_modeAge = df_train_modeAge['Survived']"
   ]
  },
  {
   "cell_type": "code",
   "execution_count": 50,
   "id": "89ba4a2d",
   "metadata": {
    "execution": {
     "iopub.execute_input": "2023-06-14T15:42:27.227557Z",
     "iopub.status.busy": "2023-06-14T15:42:27.226699Z",
     "iopub.status.idle": "2023-06-14T15:42:27.246600Z",
     "shell.execute_reply": "2023-06-14T15:42:27.245297Z"
    },
    "papermill": {
     "duration": 0.043245,
     "end_time": "2023-06-14T15:42:27.249694",
     "exception": false,
     "start_time": "2023-06-14T15:42:27.206449",
     "status": "completed"
    },
    "tags": []
   },
   "outputs": [],
   "source": [
    "X_modeAge = normalize_features(X_modeAge)\n",
    "df_test_modeAge = normalize_features(df_test_modeAge)"
   ]
  },
  {
   "cell_type": "code",
   "execution_count": 51,
   "id": "7c63330e",
   "metadata": {
    "execution": {
     "iopub.execute_input": "2023-06-14T15:42:27.289036Z",
     "iopub.status.busy": "2023-06-14T15:42:27.288569Z",
     "iopub.status.idle": "2023-06-14T15:42:27.766716Z",
     "shell.execute_reply": "2023-06-14T15:42:27.765078Z"
    },
    "papermill": {
     "duration": 0.501173,
     "end_time": "2023-06-14T15:42:27.769565",
     "exception": false,
     "start_time": "2023-06-14T15:42:27.268392",
     "status": "completed"
    },
    "tags": []
   },
   "outputs": [
    {
     "name": "stdout",
     "output_type": "stream",
     "text": [
      "Model\t\tCV Mean\t\tCV std\n",
      "{'SVM': (0.8260549313358302, 0.03793120045875092), 'KNN': (0.8070037453183521, 0.03824776974876488), 'LR': (0.7923720349563046, 0.028051434354094185)}\n"
     ]
    }
   ],
   "source": [
    "perform_cross_validation(X_modeAge, y_modeAge)"
   ]
  },
  {
   "cell_type": "code",
   "execution_count": 52,
   "id": "ca02a61f",
   "metadata": {
    "execution": {
     "iopub.execute_input": "2023-06-14T15:42:27.809943Z",
     "iopub.status.busy": "2023-06-14T15:42:27.809495Z",
     "iopub.status.idle": "2023-06-14T15:42:27.857330Z",
     "shell.execute_reply": "2023-06-14T15:42:27.856042Z"
    },
    "papermill": {
     "duration": 0.07174,
     "end_time": "2023-06-14T15:42:27.860411",
     "exception": false,
     "start_time": "2023-06-14T15:42:27.788671",
     "status": "completed"
    },
    "tags": []
   },
   "outputs": [
    {
     "data": {
      "text/html": [
       "<div>\n",
       "<style scoped>\n",
       "    .dataframe tbody tr th:only-of-type {\n",
       "        vertical-align: middle;\n",
       "    }\n",
       "\n",
       "    .dataframe tbody tr th {\n",
       "        vertical-align: top;\n",
       "    }\n",
       "\n",
       "    .dataframe thead th {\n",
       "        text-align: right;\n",
       "    }\n",
       "</style>\n",
       "<table border=\"1\" class=\"dataframe\">\n",
       "  <thead>\n",
       "    <tr style=\"text-align: right;\">\n",
       "      <th></th>\n",
       "      <th>Survived</th>\n",
       "    </tr>\n",
       "    <tr>\n",
       "      <th>PassengerId</th>\n",
       "      <th></th>\n",
       "    </tr>\n",
       "  </thead>\n",
       "  <tbody>\n",
       "    <tr>\n",
       "      <th>892</th>\n",
       "      <td>0</td>\n",
       "    </tr>\n",
       "    <tr>\n",
       "      <th>893</th>\n",
       "      <td>0</td>\n",
       "    </tr>\n",
       "    <tr>\n",
       "      <th>894</th>\n",
       "      <td>0</td>\n",
       "    </tr>\n",
       "    <tr>\n",
       "      <th>895</th>\n",
       "      <td>0</td>\n",
       "    </tr>\n",
       "    <tr>\n",
       "      <th>896</th>\n",
       "      <td>0</td>\n",
       "    </tr>\n",
       "  </tbody>\n",
       "</table>\n",
       "</div>"
      ],
      "text/plain": [
       "             Survived\n",
       "PassengerId          \n",
       "892                 0\n",
       "893                 0\n",
       "894                 0\n",
       "895                 0\n",
       "896                 0"
      ]
     },
     "execution_count": 52,
     "metadata": {},
     "output_type": "execute_result"
    }
   ],
   "source": [
    "clf_modeAge = SVC().fit(X_modeAge, y_modeAge)\n",
    "\n",
    "predictions_modeAge = clf_modeAge.predict(df_test_modeAge)\n",
    "\n",
    "submission1_modeAge = pd.DataFrame(data={'Survived':predictions_medAge}, index=df_test_modeAge.index)\n",
    "\n",
    "submission1_modeAge.head()"
   ]
  },
  {
   "cell_type": "code",
   "execution_count": 53,
   "id": "ebe3cc67",
   "metadata": {
    "execution": {
     "iopub.execute_input": "2023-06-14T15:42:27.902500Z",
     "iopub.status.busy": "2023-06-14T15:42:27.901985Z",
     "iopub.status.idle": "2023-06-14T15:42:27.910528Z",
     "shell.execute_reply": "2023-06-14T15:42:27.909095Z"
    },
    "papermill": {
     "duration": 0.03298,
     "end_time": "2023-06-14T15:42:27.913777",
     "exception": false,
     "start_time": "2023-06-14T15:42:27.880797",
     "status": "completed"
    },
    "tags": []
   },
   "outputs": [],
   "source": [
    "submission1_modeAge.to_csv('Titanic_Submission-Mode_Age-2023_6_14.csv')"
   ]
  }
 ],
 "metadata": {
  "kernelspec": {
   "display_name": "Python 3",
   "language": "python",
   "name": "python3"
  },
  "language_info": {
   "codemirror_mode": {
    "name": "ipython",
    "version": 3
   },
   "file_extension": ".py",
   "mimetype": "text/x-python",
   "name": "python",
   "nbconvert_exporter": "python",
   "pygments_lexer": "ipython3",
   "version": "3.10.10"
  },
  "papermill": {
   "default_parameters": {},
   "duration": 22.100849,
   "end_time": "2023-06-14T15:42:29.159506",
   "environment_variables": {},
   "exception": null,
   "input_path": "__notebook__.ipynb",
   "output_path": "__notebook__.ipynb",
   "parameters": {},
   "start_time": "2023-06-14T15:42:07.058657",
   "version": "2.4.0"
  }
 },
 "nbformat": 4,
 "nbformat_minor": 5
}
