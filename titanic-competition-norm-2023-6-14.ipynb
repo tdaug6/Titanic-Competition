{
 "cells": [
  {
   "cell_type": "markdown",
   "id": "7f4f0390",
   "metadata": {
    "papermill": {
     "duration": 0.03372,
     "end_time": "2023-06-14T19:25:54.915745",
     "exception": false,
     "start_time": "2023-06-14T19:25:54.882025",
     "status": "completed"
    },
    "tags": []
   },
   "source": [
    "# Titanic Competition\n",
    "\n",
    "*Created by: Taylor Daugherty*\n",
    "\n",
    "*Created on: 5/23/2023    Last updated: 6/14/2023 - Clean up notebook*\n",
    "\n",
    "This notebook contains code to make predictions for the Titanic competition. The notebook attempts to determine the best imputation method for most accurate competition results.\n",
    "\n",
    "**Input File:** train.csv and test.csv from the titanic competition\n",
    "\n",
    "- train.csv contains a training set of data with features and true values\n",
    "\n",
    "- test.csv contains a testing set of data with only features. This is what will be used to make predictions and submit to the competition\n",
    "\n",
    "\n",
    "**Purpose of notebook:** Gain more practice with cross validation and make submissions to the spaceship titanic competition"
   ]
  },
  {
   "cell_type": "markdown",
   "id": "6fd48b72",
   "metadata": {
    "papermill": {
     "duration": 0.034607,
     "end_time": "2023-06-14T19:25:54.984674",
     "exception": false,
     "start_time": "2023-06-14T19:25:54.950067",
     "status": "completed"
    },
    "tags": []
   },
   "source": [
    "<img src=\"https://wallpapercave.com/wp/0swzmR9.jpg\" alt=\"Titanic\" width=\"600\"/>"
   ]
  },
  {
   "cell_type": "markdown",
   "id": "7f4d7880",
   "metadata": {
    "papermill": {
     "duration": 0.034654,
     "end_time": "2023-06-14T19:25:55.053696",
     "exception": false,
     "start_time": "2023-06-14T19:25:55.019042",
     "status": "completed"
    },
    "tags": []
   },
   "source": [
    "## Table of Contents\n",
    "\n",
    "1. **Universal Application**\n",
    "\n",
    "    a. Imports\n",
    "    \n",
    "    b. Lists\n",
    "    \n",
    "    b. Functions\n",
    "\n",
    "2. **Models**\n",
    "\n",
    "    a. Without Age\n",
    "    \n",
    "    b. With Age"
   ]
  },
  {
   "cell_type": "markdown",
   "id": "2dbb4fb8",
   "metadata": {
    "papermill": {
     "duration": 0.033154,
     "end_time": "2023-06-14T19:25:55.120739",
     "exception": false,
     "start_time": "2023-06-14T19:25:55.087585",
     "status": "completed"
    },
    "tags": []
   },
   "source": [
    "## Results\n",
    "\n",
    "The highest scoring model of the notebook scored **0.7791** in the competition. This was acheived by filling the missing 'Age' values with the mean of the feature. \n",
    "\n",
    "This can be found using the following sections:\n",
    "\n",
    "    ML Models > Models With Age > Fill Age with Mean"
   ]
  },
  {
   "cell_type": "markdown",
   "id": "93791837",
   "metadata": {
    "papermill": {
     "duration": 0.033077,
     "end_time": "2023-06-14T19:25:55.187213",
     "exception": false,
     "start_time": "2023-06-14T19:25:55.154136",
     "status": "completed"
    },
    "tags": []
   },
   "source": [
    "**----------------------------------------------------------------------------------------------------------------------------------------------------------------**"
   ]
  },
  {
   "cell_type": "markdown",
   "id": "236a55fe",
   "metadata": {
    "papermill": {
     "duration": 0.034446,
     "end_time": "2023-06-14T19:25:55.254694",
     "exception": false,
     "start_time": "2023-06-14T19:25:55.220248",
     "status": "completed"
    },
    "tags": []
   },
   "source": [
    "# Univeral Application\n",
    "\n",
    "In this section is all of the code that is universally applicable throughout the notebook. This includes imports, lists, and functions that make the code much more readable\n",
    "\n",
    "## Contents:\n",
    "\n",
    "1. Imports\n",
    "\n",
    "2. Imputing values\n",
    "\n",
    "3. Lists\n",
    "\n",
    "3. Functions"
   ]
  },
  {
   "cell_type": "markdown",
   "id": "6e4da395",
   "metadata": {
    "papermill": {
     "duration": 0.032812,
     "end_time": "2023-06-14T19:25:55.320553",
     "exception": false,
     "start_time": "2023-06-14T19:25:55.287741",
     "status": "completed"
    },
    "tags": []
   },
   "source": [
    "**--------------------------------------------------------------------------------**"
   ]
  },
  {
   "cell_type": "markdown",
   "id": "7ea43fed",
   "metadata": {
    "papermill": {
     "duration": 0.03298,
     "end_time": "2023-06-14T19:25:55.386749",
     "exception": false,
     "start_time": "2023-06-14T19:25:55.353769",
     "status": "completed"
    },
    "tags": []
   },
   "source": [
    "### Packages\n",
    "\n",
    "Import the packages necessary to run the notebook\n",
    "\n",
    "1. numpy: used for linear algebra\n",
    "\n",
    "2. pandas: used for dataframe creation and manipulation\n",
    "\n",
    "5. `LogisticRegression`: a classification model using logistic regression\n",
    "\n",
    "6. `KNeighborsClassifier`: a classification model using KNN\n",
    "\n",
    "7. `SVC`: a classification model using SVM\n",
    "\n",
    "8. `KFold` and `cross_val_score`: used for cross validation"
   ]
  },
  {
   "cell_type": "code",
   "execution_count": 1,
   "id": "44abd05b",
   "metadata": {
    "_cell_guid": "b1076dfc-b9ad-4769-8c92-a6c4dae69d19",
    "_uuid": "8f2839f25d086af736a60e9eeb907d3b93b6e0e5",
    "execution": {
     "iopub.execute_input": "2023-06-14T19:25:55.455441Z",
     "iopub.status.busy": "2023-06-14T19:25:55.455036Z",
     "iopub.status.idle": "2023-06-14T19:25:56.950402Z",
     "shell.execute_reply": "2023-06-14T19:25:56.949531Z"
    },
    "papermill": {
     "duration": 1.53286,
     "end_time": "2023-06-14T19:25:56.953206",
     "exception": false,
     "start_time": "2023-06-14T19:25:55.420346",
     "status": "completed"
    },
    "tags": []
   },
   "outputs": [],
   "source": [
    "import numpy as np\n",
    "import pandas as pd\n",
    "\n",
    "from sklearn.linear_model import LogisticRegression\n",
    "from sklearn.neighbors import KNeighborsClassifier\n",
    "from sklearn.svm import SVC\n",
    "\n",
    "from sklearn.model_selection import StratifiedKFold, cross_val_score"
   ]
  },
  {
   "cell_type": "markdown",
   "id": "6c85d9b7",
   "metadata": {
    "papermill": {
     "duration": 0.033801,
     "end_time": "2023-06-14T19:25:57.020718",
     "exception": false,
     "start_time": "2023-06-14T19:25:56.986917",
     "status": "completed"
    },
    "tags": []
   },
   "source": [
    "### File paths\n",
    "\n",
    "These are the filepaths to the original data"
   ]
  },
  {
   "cell_type": "code",
   "execution_count": 2,
   "id": "26174ba0",
   "metadata": {
    "execution": {
     "iopub.execute_input": "2023-06-14T19:25:57.089982Z",
     "iopub.status.busy": "2023-06-14T19:25:57.089615Z",
     "iopub.status.idle": "2023-06-14T19:25:57.094178Z",
     "shell.execute_reply": "2023-06-14T19:25:57.093178Z"
    },
    "papermill": {
     "duration": 0.041422,
     "end_time": "2023-06-14T19:25:57.096345",
     "exception": false,
     "start_time": "2023-06-14T19:25:57.054923",
     "status": "completed"
    },
    "tags": []
   },
   "outputs": [],
   "source": [
    "train_filepath = '/kaggle/input/titanic/train.csv'\n",
    "test_filepath = '/kaggle/input/titanic/test.csv'"
   ]
  },
  {
   "cell_type": "markdown",
   "id": "918dd1e8",
   "metadata": {
    "papermill": {
     "duration": 0.033217,
     "end_time": "2023-06-14T19:25:57.163526",
     "exception": false,
     "start_time": "2023-06-14T19:25:57.130309",
     "status": "completed"
    },
    "tags": []
   },
   "source": [
    "### Dataframes\n",
    "\n",
    "This is an initial import of the data. There has been no special adaptations to this dataframe that may exist in later imports"
   ]
  },
  {
   "cell_type": "code",
   "execution_count": 3,
   "id": "80aad41b",
   "metadata": {
    "execution": {
     "iopub.execute_input": "2023-06-14T19:25:57.232325Z",
     "iopub.status.busy": "2023-06-14T19:25:57.231912Z",
     "iopub.status.idle": "2023-06-14T19:25:57.268082Z",
     "shell.execute_reply": "2023-06-14T19:25:57.267277Z"
    },
    "papermill": {
     "duration": 0.073174,
     "end_time": "2023-06-14T19:25:57.270473",
     "exception": false,
     "start_time": "2023-06-14T19:25:57.197299",
     "status": "completed"
    },
    "tags": []
   },
   "outputs": [],
   "source": [
    "df_train = pd.read_csv(train_filepath)\n",
    "df_test = pd.read_csv(test_filepath)"
   ]
  },
  {
   "cell_type": "markdown",
   "id": "6a8e13ca",
   "metadata": {
    "papermill": {
     "duration": 0.033183,
     "end_time": "2023-06-14T19:25:57.337145",
     "exception": false,
     "start_time": "2023-06-14T19:25:57.303962",
     "status": "completed"
    },
    "tags": []
   },
   "source": [
    "**--------------------------------------------------------------------------------**"
   ]
  },
  {
   "cell_type": "markdown",
   "id": "3c740500",
   "metadata": {
    "papermill": {
     "duration": 0.033225,
     "end_time": "2023-06-14T19:25:57.403744",
     "exception": false,
     "start_time": "2023-06-14T19:25:57.370519",
     "status": "completed"
    },
    "tags": []
   },
   "source": [
    "## Imputing Values\n",
    "\n",
    "This dataset contains a number of missing values. This notebook focuses on finding the best imputations for the 'Fare' and 'Age' features."
   ]
  },
  {
   "cell_type": "markdown",
   "id": "632d3f72",
   "metadata": {
    "papermill": {
     "duration": 0.033306,
     "end_time": "2023-06-14T19:25:57.470626",
     "exception": false,
     "start_time": "2023-06-14T19:25:57.437320",
     "status": "completed"
    },
    "tags": []
   },
   "source": [
    "### Fare\n",
    "\n",
    "There is a single value missing in the 'Fare' column of the testing dataset. This can be imputed by using the mean or median of the feature. Both options are shown in the cell below"
   ]
  },
  {
   "cell_type": "code",
   "execution_count": 4,
   "id": "897ec5a7",
   "metadata": {
    "execution": {
     "iopub.execute_input": "2023-06-14T19:25:57.539808Z",
     "iopub.status.busy": "2023-06-14T19:25:57.539072Z",
     "iopub.status.idle": "2023-06-14T19:25:57.550272Z",
     "shell.execute_reply": "2023-06-14T19:25:57.549309Z"
    },
    "papermill": {
     "duration": 0.0487,
     "end_time": "2023-06-14T19:25:57.552908",
     "exception": false,
     "start_time": "2023-06-14T19:25:57.504208",
     "status": "completed"
    },
    "tags": []
   },
   "outputs": [],
   "source": [
    "fill_fare_mean = df_test['Fare'].mean()\n",
    "fill_fare_med = df_test['Fare'].median()"
   ]
  },
  {
   "cell_type": "markdown",
   "id": "05bfd225",
   "metadata": {
    "papermill": {
     "duration": 0.033499,
     "end_time": "2023-06-14T19:25:57.620209",
     "exception": false,
     "start_time": "2023-06-14T19:25:57.586710",
     "status": "completed"
    },
    "tags": []
   },
   "source": [
    "### Age\n",
    "\n",
    "The 'Age' column is missing many data points. There are three ways to impute these missing values: mean, median, mode. These are all shown below.\n",
    "\n",
    "The mode had an issue during implementation, so the integer literal of the mode for each dataset was used instead."
   ]
  },
  {
   "cell_type": "code",
   "execution_count": 5,
   "id": "3c8027ce",
   "metadata": {
    "execution": {
     "iopub.execute_input": "2023-06-14T19:25:57.689283Z",
     "iopub.status.busy": "2023-06-14T19:25:57.688649Z",
     "iopub.status.idle": "2023-06-14T19:25:57.696344Z",
     "shell.execute_reply": "2023-06-14T19:25:57.695319Z"
    },
    "papermill": {
     "duration": 0.044915,
     "end_time": "2023-06-14T19:25:57.698675",
     "exception": false,
     "start_time": "2023-06-14T19:25:57.653760",
     "status": "completed"
    },
    "tags": []
   },
   "outputs": [],
   "source": [
    "# Training\n",
    "age_mean_train = df_train['Age'].mean()\n",
    "age_med_train = df_train['Age'].median()\n",
    "age_mode_train = 24\n",
    "\n",
    "# Testing\n",
    "age_mean_test = df_test['Age'].mean()\n",
    "age_med_test = df_test['Age'].median()\n",
    "age_mode_test = 24"
   ]
  },
  {
   "cell_type": "markdown",
   "id": "c5ff4df5",
   "metadata": {
    "papermill": {
     "duration": 0.034032,
     "end_time": "2023-06-14T19:25:57.766545",
     "exception": false,
     "start_time": "2023-06-14T19:25:57.732513",
     "status": "completed"
    },
    "tags": []
   },
   "source": [
    "**--------------------------------------------------------------------------------**"
   ]
  },
  {
   "cell_type": "markdown",
   "id": "2a417916",
   "metadata": {
    "papermill": {
     "duration": 0.03318,
     "end_time": "2023-06-14T19:25:57.834304",
     "exception": false,
     "start_time": "2023-06-14T19:25:57.801124",
     "status": "completed"
    },
    "tags": []
   },
   "source": [
    "## Lists\n",
    "\n",
    "There are many cases in this notebook that call for a list. This is so prevalent that a section is needed for it.\n",
    "\n",
    "### Contents:\n",
    "\n",
    "1. Dropping\n",
    "\n",
    "2. Mapping\n",
    "\n",
    "3. Models"
   ]
  },
  {
   "cell_type": "markdown",
   "id": "43c08042",
   "metadata": {
    "papermill": {
     "duration": 0.033385,
     "end_time": "2023-06-14T19:25:57.901228",
     "exception": false,
     "start_time": "2023-06-14T19:25:57.867843",
     "status": "completed"
    },
    "tags": []
   },
   "source": [
    "### Dropping\n",
    "\n",
    "Some features in this dataset will not be useful for making predictions. The names of the three features that will be excluded from the models are listed below."
   ]
  },
  {
   "cell_type": "code",
   "execution_count": 6,
   "id": "ea5970e7",
   "metadata": {
    "execution": {
     "iopub.execute_input": "2023-06-14T19:25:57.970564Z",
     "iopub.status.busy": "2023-06-14T19:25:57.970163Z",
     "iopub.status.idle": "2023-06-14T19:25:57.975024Z",
     "shell.execute_reply": "2023-06-14T19:25:57.973945Z"
    },
    "papermill": {
     "duration": 0.042639,
     "end_time": "2023-06-14T19:25:57.977184",
     "exception": false,
     "start_time": "2023-06-14T19:25:57.934545",
     "status": "completed"
    },
    "tags": []
   },
   "outputs": [],
   "source": [
    "drop_feature_names = ['Name', 'Cabin', 'Ticket']"
   ]
  },
  {
   "cell_type": "markdown",
   "id": "06fb4729",
   "metadata": {
    "papermill": {
     "duration": 0.03428,
     "end_time": "2023-06-14T19:25:58.045295",
     "exception": false,
     "start_time": "2023-06-14T19:25:58.011015",
     "status": "completed"
    },
    "tags": []
   },
   "source": [
    "### Mapping\n",
    "\n",
    "There are many columns in the dataset that contain purely categorical data. Categorical data cannot be used in machine learning models, so the data must be converted to numbers\n",
    "\n",
    "These two lists are designed to identify features and common values to map the categorical data.\n",
    "\n",
    "- The first variable is a list of feature names that have categorical values and will need to be mapped\n",
    "\n",
    "- The second variable is a list of dictionaries to use in mapping. The mapping values are based on frequency in the dataset with higher numbers corresponding to higher frequency"
   ]
  },
  {
   "cell_type": "code",
   "execution_count": 7,
   "id": "5cc2e64d",
   "metadata": {
    "execution": {
     "iopub.execute_input": "2023-06-14T19:25:58.115142Z",
     "iopub.status.busy": "2023-06-14T19:25:58.114416Z",
     "iopub.status.idle": "2023-06-14T19:25:58.119972Z",
     "shell.execute_reply": "2023-06-14T19:25:58.118937Z"
    },
    "papermill": {
     "duration": 0.042723,
     "end_time": "2023-06-14T19:25:58.122213",
     "exception": false,
     "start_time": "2023-06-14T19:25:58.079490",
     "status": "completed"
    },
    "tags": []
   },
   "outputs": [],
   "source": [
    "map_features = ['Sex', 'Embarked']\n",
    "map_dicts = [{'male':0, 'female':1}, {'Q':0, 'C':1, 'S':2}]"
   ]
  },
  {
   "cell_type": "markdown",
   "id": "a7d6abfd",
   "metadata": {
    "papermill": {
     "duration": 0.033631,
     "end_time": "2023-06-14T19:25:58.189297",
     "exception": false,
     "start_time": "2023-06-14T19:25:58.155666",
     "status": "completed"
    },
    "tags": []
   },
   "source": [
    "### Models\n",
    "\n",
    "These are the models that will be used during cross-validation. \n",
    "\n",
    "**Models:**\n",
    "\n",
    "- Logistic Regression\n",
    "\n",
    "- KNN\n",
    "\n",
    "- SVM"
   ]
  },
  {
   "cell_type": "code",
   "execution_count": 8,
   "id": "ebecdfee",
   "metadata": {
    "execution": {
     "iopub.execute_input": "2023-06-14T19:25:58.259172Z",
     "iopub.status.busy": "2023-06-14T19:25:58.258757Z",
     "iopub.status.idle": "2023-06-14T19:25:58.264733Z",
     "shell.execute_reply": "2023-06-14T19:25:58.263640Z"
    },
    "papermill": {
     "duration": 0.043334,
     "end_time": "2023-06-14T19:25:58.266812",
     "exception": false,
     "start_time": "2023-06-14T19:25:58.223478",
     "status": "completed"
    },
    "tags": []
   },
   "outputs": [],
   "source": [
    "models = []\n",
    "\n",
    "models.append(('SVM', SVC()))\n",
    "models.append(('KNN', KNeighborsClassifier()))\n",
    "models.append(('LR', LogisticRegression()))"
   ]
  },
  {
   "cell_type": "markdown",
   "id": "ed96cefb",
   "metadata": {
    "papermill": {
     "duration": 0.033331,
     "end_time": "2023-06-14T19:25:58.333837",
     "exception": false,
     "start_time": "2023-06-14T19:25:58.300506",
     "status": "completed"
    },
    "tags": []
   },
   "source": [
    "**--------------------------------------------------------------------------------**"
   ]
  },
  {
   "cell_type": "markdown",
   "id": "d92a8d11",
   "metadata": {
    "papermill": {
     "duration": 0.033255,
     "end_time": "2023-06-14T19:25:58.400898",
     "exception": false,
     "start_time": "2023-06-14T19:25:58.367643",
     "status": "completed"
    },
    "tags": []
   },
   "source": [
    "## Functions\n",
    "\n",
    "This notebook is heavily dependent on the functions that were created special for it. \n",
    "\n",
    "These functions improve both the readability of the notebook as well as the recreatability of its results. \n",
    "\n",
    "### Contents:\n",
    "\n",
    "1. Dataframe Adjustments\n",
    "\n",
    "2. Cross Validation\n",
    "\n",
    "3. Transform Dataframe"
   ]
  },
  {
   "cell_type": "markdown",
   "id": "07204110",
   "metadata": {
    "papermill": {
     "duration": 0.033126,
     "end_time": "2023-06-14T19:25:58.467667",
     "exception": false,
     "start_time": "2023-06-14T19:25:58.434541",
     "status": "completed"
    },
    "tags": []
   },
   "source": [
    "### Dataframe Adjustments\n",
    "\n",
    "These functions all relate to making changes to the dataframe"
   ]
  },
  {
   "cell_type": "markdown",
   "id": "d60aec52",
   "metadata": {
    "papermill": {
     "duration": 0.033013,
     "end_time": "2023-06-14T19:25:58.534313",
     "exception": false,
     "start_time": "2023-06-14T19:25:58.501300",
     "status": "completed"
    },
    "tags": []
   },
   "source": [
    "#### fill_na()\n",
    "\n",
    "Fill the NaN values of the features with the fill values\n",
    "\n",
    "**Input:** A dataframe, a list of features, a list of fill values\n",
    "\n",
    "- Dataframe to fill the missing values in\n",
    "\n",
    "- A list of features to look for missing values\n",
    "\n",
    "- A list of values to fill the missing values of the feature with\n",
    "\n",
    "**Output:** A dataframe with the found missing values filled"
   ]
  },
  {
   "cell_type": "code",
   "execution_count": 9,
   "id": "4e46cd7a",
   "metadata": {
    "execution": {
     "iopub.execute_input": "2023-06-14T19:25:58.603624Z",
     "iopub.status.busy": "2023-06-14T19:25:58.602989Z",
     "iopub.status.idle": "2023-06-14T19:25:58.609498Z",
     "shell.execute_reply": "2023-06-14T19:25:58.608738Z"
    },
    "papermill": {
     "duration": 0.043895,
     "end_time": "2023-06-14T19:25:58.611695",
     "exception": false,
     "start_time": "2023-06-14T19:25:58.567800",
     "status": "completed"
    },
    "tags": []
   },
   "outputs": [],
   "source": [
    "def fill_na(df, features, vals):\n",
    "    '''\n",
    "    Fill the NaN values of the features with the fill values\n",
    "    \n",
    "    Input:\n",
    "        - Dataframe to fill the missing values in\n",
    "        - A list of features to look for missing values\n",
    "        - A list of values to fill the missing values of the feature with\n",
    "    \n",
    "    Output: A dataframe with the found missing values filled\n",
    "    '''\n",
    "    df_filled = df\n",
    "    \n",
    "    for i in range(len(features)):\n",
    "        feature = features[i]\n",
    "        fill_val = vals[i]\n",
    "        \n",
    "        df_filled[feature] = df_filled[feature].fillna(fill_val)\n",
    "        \n",
    "    return df_filled"
   ]
  },
  {
   "cell_type": "markdown",
   "id": "f504bf59",
   "metadata": {
    "papermill": {
     "duration": 0.033794,
     "end_time": "2023-06-14T19:25:58.679154",
     "exception": false,
     "start_time": "2023-06-14T19:25:58.645360",
     "status": "completed"
    },
    "tags": []
   },
   "source": [
    "### drop_features()\n",
    "\n",
    "This drops a list of features from a dataframe. The purpose of this function is to reduce the number of lines in the program by removing all unwanted features at once.\n",
    "\n",
    "**Input:** A dataframe, a list of features\n",
    "\n",
    "- A dataframe to remove the features from\n",
    "\n",
    "- A list of features to remove from the dataframe\n",
    "\n",
    "**Output:** A dataframe without the listed features"
   ]
  },
  {
   "cell_type": "code",
   "execution_count": 10,
   "id": "f024955c",
   "metadata": {
    "execution": {
     "iopub.execute_input": "2023-06-14T19:25:58.749222Z",
     "iopub.status.busy": "2023-06-14T19:25:58.748618Z",
     "iopub.status.idle": "2023-06-14T19:25:58.754208Z",
     "shell.execute_reply": "2023-06-14T19:25:58.753500Z"
    },
    "papermill": {
     "duration": 0.043304,
     "end_time": "2023-06-14T19:25:58.756237",
     "exception": false,
     "start_time": "2023-06-14T19:25:58.712933",
     "status": "completed"
    },
    "tags": []
   },
   "outputs": [],
   "source": [
    "def drop_features(df, d_features):\n",
    "    '''\n",
    "    Drops a list of features from a dataframe\n",
    "    \n",
    "    Input:\n",
    "        - A dataframe to remove the features from\n",
    "        - A list of features to remove from the dataframe\n",
    "        \n",
    "    Output: A dataframe without the listed features\n",
    "    '''\n",
    "    df_dropped = df\n",
    "    \n",
    "    for feature in d_features:\n",
    "        df_dropped = df_dropped.drop(str(feature), axis=1)\n",
    "        \n",
    "    return df_dropped"
   ]
  },
  {
   "cell_type": "markdown",
   "id": "d966979e",
   "metadata": {
    "papermill": {
     "duration": 0.032838,
     "end_time": "2023-06-14T19:25:58.822546",
     "exception": false,
     "start_time": "2023-06-14T19:25:58.789708",
     "status": "completed"
    },
    "tags": []
   },
   "source": [
    "#### map_cat()\n",
    "\n",
    "Map categorical data to be numeric\n",
    "\n",
    "**Input:** A dataframe, a list of features, a list of dictionaries\n",
    "\n",
    "- Dataframe for the mapping to take place in\n",
    "\n",
    "- List of features that contain categorical data\n",
    "\n",
    "- List of dictionaries to govern how to map the feature\n",
    "\n",
    "**Output:** A dataframe with the given features mapped according to the dictionaries"
   ]
  },
  {
   "cell_type": "code",
   "execution_count": 11,
   "id": "964e2ba3",
   "metadata": {
    "execution": {
     "iopub.execute_input": "2023-06-14T19:25:58.892996Z",
     "iopub.status.busy": "2023-06-14T19:25:58.892339Z",
     "iopub.status.idle": "2023-06-14T19:25:58.897896Z",
     "shell.execute_reply": "2023-06-14T19:25:58.897174Z"
    },
    "papermill": {
     "duration": 0.043063,
     "end_time": "2023-06-14T19:25:58.899978",
     "exception": false,
     "start_time": "2023-06-14T19:25:58.856915",
     "status": "completed"
    },
    "tags": []
   },
   "outputs": [],
   "source": [
    "def map_cat(df, features, dictionaries):\n",
    "    '''\n",
    "    Map categorical data to be numeric\n",
    "    \n",
    "    Input:\n",
    "        - Dataframe for the mapping to take place in\n",
    "        - List of features that contain categorical data\n",
    "        - List of dictionaries to govern how to map the feature\n",
    "    \n",
    "    Output: A dataframe with the given features mapped according to the dictionaries\n",
    "        \n",
    "    '''\n",
    "    df_mapped = df\n",
    "    \n",
    "    for i in range(len(features)):\n",
    "        feature = features[i]\n",
    "        dictionary = dictionaries[i]\n",
    "        \n",
    "        df_mapped[feature] = df[feature].map(dictionary)\n",
    "        \n",
    "    return df_mapped"
   ]
  },
  {
   "cell_type": "markdown",
   "id": "d045db76",
   "metadata": {
    "papermill": {
     "duration": 0.032956,
     "end_time": "2023-06-14T19:25:58.966154",
     "exception": false,
     "start_time": "2023-06-14T19:25:58.933198",
     "status": "completed"
    },
    "tags": []
   },
   "source": [
    "#### normalize()\n",
    "\n",
    "Normalizes a Series\n",
    "\n",
    "**Input:** A feature of type Series\n",
    "\n",
    "**Output:** The normalized feature of type Series"
   ]
  },
  {
   "cell_type": "code",
   "execution_count": 12,
   "id": "97be3238",
   "metadata": {
    "execution": {
     "iopub.execute_input": "2023-06-14T19:25:59.034562Z",
     "iopub.status.busy": "2023-06-14T19:25:59.034179Z",
     "iopub.status.idle": "2023-06-14T19:25:59.039260Z",
     "shell.execute_reply": "2023-06-14T19:25:59.038305Z"
    },
    "papermill": {
     "duration": 0.041737,
     "end_time": "2023-06-14T19:25:59.041311",
     "exception": false,
     "start_time": "2023-06-14T19:25:58.999574",
     "status": "completed"
    },
    "tags": []
   },
   "outputs": [],
   "source": [
    "def normalize(feature):\n",
    "    '''\n",
    "    This function normalizes a Series\n",
    "    \n",
    "    Input: A feature of type Series\n",
    "    \n",
    "    Output: The normalized feature of type Series\n",
    "    '''\n",
    "    return (feature - feature.mean())/feature.std()"
   ]
  },
  {
   "cell_type": "markdown",
   "id": "6e7f62d2",
   "metadata": {
    "papermill": {
     "duration": 0.032612,
     "end_time": "2023-06-14T19:25:59.107461",
     "exception": false,
     "start_time": "2023-06-14T19:25:59.074849",
     "status": "completed"
    },
    "tags": []
   },
   "source": [
    "#### normalize_features()\n",
    "\n",
    "Normalizes all features in a given dataframe. This will normalize ALL features, so ensure that the inputted dataframe consists only of numeric values.\n",
    "\n",
    "**Input:** A dataframe to normalize\n",
    "\n",
    "**Output:** A normalized dataframe"
   ]
  },
  {
   "cell_type": "code",
   "execution_count": 13,
   "id": "e4ad8071",
   "metadata": {
    "execution": {
     "iopub.execute_input": "2023-06-14T19:25:59.175445Z",
     "iopub.status.busy": "2023-06-14T19:25:59.175042Z",
     "iopub.status.idle": "2023-06-14T19:25:59.180348Z",
     "shell.execute_reply": "2023-06-14T19:25:59.179319Z"
    },
    "papermill": {
     "duration": 0.042125,
     "end_time": "2023-06-14T19:25:59.182433",
     "exception": false,
     "start_time": "2023-06-14T19:25:59.140308",
     "status": "completed"
    },
    "tags": []
   },
   "outputs": [],
   "source": [
    "def normalize_features(df):\n",
    "    '''\n",
    "    This function normalizes all features in a dataframe\n",
    "    \n",
    "    Input: A pandas dataframe\n",
    "    \n",
    "    Output: The normalized dataframe\n",
    "    '''\n",
    "    for column in df.columns:\n",
    "        df[column] = normalize(df[column])\n",
    "    return df"
   ]
  },
  {
   "cell_type": "markdown",
   "id": "415c691a",
   "metadata": {
    "papermill": {
     "duration": 0.032292,
     "end_time": "2023-06-14T19:25:59.247564",
     "exception": false,
     "start_time": "2023-06-14T19:25:59.215272",
     "status": "completed"
    },
    "tags": []
   },
   "source": [
    "### Cross Validation\n",
    "\n",
    "This function relates to performing cross validation on the dataset using the models listed earlier in the notebook"
   ]
  },
  {
   "cell_type": "markdown",
   "id": "f765d036",
   "metadata": {
    "papermill": {
     "duration": 0.032587,
     "end_time": "2023-06-14T19:25:59.313243",
     "exception": false,
     "start_time": "2023-06-14T19:25:59.280656",
     "status": "completed"
    },
    "tags": []
   },
   "source": [
    "#### perform_cross_validation()\n",
    "\n",
    "This function goes through the steps to perform Stratified K-fold cross validation using the list of models described above.\n",
    "\n",
    "**Input:** A dataframe containing the features use to build the model, a Series of the true values associated with the feature list\n",
    "\n",
    "**Output:** Printed result for the mean and standard deviation of each model"
   ]
  },
  {
   "cell_type": "code",
   "execution_count": 14,
   "id": "b80c6c59",
   "metadata": {
    "execution": {
     "iopub.execute_input": "2023-06-14T19:25:59.380638Z",
     "iopub.status.busy": "2023-06-14T19:25:59.380028Z",
     "iopub.status.idle": "2023-06-14T19:25:59.386620Z",
     "shell.execute_reply": "2023-06-14T19:25:59.385889Z"
    },
    "papermill": {
     "duration": 0.042984,
     "end_time": "2023-06-14T19:25:59.388634",
     "exception": false,
     "start_time": "2023-06-14T19:25:59.345650",
     "status": "completed"
    },
    "tags": []
   },
   "outputs": [],
   "source": [
    "def perform_cross_validation(X_train, y_train):\n",
    "    '''\n",
    "    This function goes through the steps to perform Stratified K-fold cross validation using the list of models described above.\n",
    "    \n",
    "    Input: \n",
    "        - A dataframe containing the features use to build the model\n",
    "        - A Series of the true values associated with the feature list\n",
    "    \n",
    "    Output: Printed result for the mean and standard deviation of each model\n",
    "    '''\n",
    "    results = dict()\n",
    "\n",
    "    for name, model in models:\n",
    "        kfold = StratifiedKFold(n_splits=10)\n",
    "        cv_results = cross_val_score(model, X_train, y_train, cv=kfold, scoring='accuracy')\n",
    "        results[name] = (cv_results.mean(), cv_results.std())\n",
    "\n",
    "    print('Model\\t\\tCV Mean\\t\\tCV std')\n",
    "    print(results)"
   ]
  },
  {
   "cell_type": "markdown",
   "id": "931219bc",
   "metadata": {
    "papermill": {
     "duration": 0.032715,
     "end_time": "2023-06-14T19:25:59.454238",
     "exception": false,
     "start_time": "2023-06-14T19:25:59.421523",
     "status": "completed"
    },
    "tags": []
   },
   "source": [
    "### Transform Dataframe\n",
    "\n",
    "Apply dataframe adjustment functions in a single place to transform the dataframe in one step."
   ]
  },
  {
   "cell_type": "markdown",
   "id": "200d7260",
   "metadata": {
    "papermill": {
     "duration": 0.032679,
     "end_time": "2023-06-14T19:25:59.520231",
     "exception": false,
     "start_time": "2023-06-14T19:25:59.487552",
     "status": "completed"
    },
    "tags": []
   },
   "source": [
    "#### prepare_dataframe()\n",
    "\n",
    "Prepare the dataframe for splitting into feature and target. This combines most steps from previous file versions into a single function. This is intended to improve readability and reduce the length of the code.\n",
    "\n",
    "**Input:** A dataframe, list of features to drop, fill value for fare, fill value for age\n",
    "\n",
    "- A dataframe to perform functions on. Works with training and testing dataframes\n",
    "\n",
    "- A list of features to drop from the dataframe\n",
    "\n",
    "- A value to fill the missing fare point with\n",
    "\n",
    "- A value to fill the missing age points with\n",
    "    \n",
    "**Output:** A dataframe ready to be normalized"
   ]
  },
  {
   "cell_type": "code",
   "execution_count": 15,
   "id": "cc401acd",
   "metadata": {
    "execution": {
     "iopub.execute_input": "2023-06-14T19:25:59.589577Z",
     "iopub.status.busy": "2023-06-14T19:25:59.588940Z",
     "iopub.status.idle": "2023-06-14T19:25:59.595520Z",
     "shell.execute_reply": "2023-06-14T19:25:59.594791Z"
    },
    "papermill": {
     "duration": 0.043703,
     "end_time": "2023-06-14T19:25:59.597614",
     "exception": false,
     "start_time": "2023-06-14T19:25:59.553911",
     "status": "completed"
    },
    "tags": []
   },
   "outputs": [],
   "source": [
    "def prepare_dataframe(df, d_features, fill_fare, fill_age=-1):\n",
    "    '''\n",
    "    Prepare the dataframe for splitting into feature and target.\n",
    "    \n",
    "    Input:\n",
    "        - dataframe to perform operations on\n",
    "        - List of features to drop from dataframe\n",
    "        - Value to fill missing fare point\n",
    "        - Value to fill missing age points\n",
    "        \n",
    "    Output: A dataframe ready to be normalized\n",
    "    '''\n",
    "    # Fill NaN\n",
    "    fill_features = ['Fare', 'Embarked', 'Age']\n",
    "    fill_vals = [fill_fare, 'S', fill_age]\n",
    "    df_filled = fill_na(df, fill_features, fill_vals)\n",
    "    \n",
    "    # Drop features\n",
    "    df_dropped = drop_features(df_filled, d_features)\n",
    "    \n",
    "    # Map categorical features\n",
    "    df_mapped = map_cat(df_dropped, map_features, map_dicts)\n",
    "    \n",
    "    # Return the finished dataframe\n",
    "    return df_mapped"
   ]
  },
  {
   "cell_type": "markdown",
   "id": "341218d7",
   "metadata": {
    "papermill": {
     "duration": 0.032936,
     "end_time": "2023-06-14T19:25:59.665676",
     "exception": false,
     "start_time": "2023-06-14T19:25:59.632740",
     "status": "completed"
    },
    "tags": []
   },
   "source": [
    "**----------------------------------------------------------------------------------------------------------------------------------------------------------------**"
   ]
  },
  {
   "cell_type": "markdown",
   "id": "aabfdca4",
   "metadata": {
    "papermill": {
     "duration": 0.032374,
     "end_time": "2023-06-14T19:25:59.731184",
     "exception": false,
     "start_time": "2023-06-14T19:25:59.698810",
     "status": "completed"
    },
    "tags": []
   },
   "source": [
    "# ML Models\n",
    "\n",
    "This notebook investigates the accuracy of 5 models on the Titanic Competition dataset.\n",
    "\n",
    "Given the larget number of missing values in the dataset, the models will differ in the method they use to impute those missing points\n",
    "\n",
    "## Contents:\n",
    "\n",
    "1. Models Without Age\n",
    "\n",
    "2. Models With Age\n",
    "\n",
    "## Results:\n",
    "\n",
    "The highest scoring model of the notebook scored **0.7791** in the competition. This was acheived by filling the missing 'Age' values with the mean of the feature. \n",
    "\n",
    "This can be found using the following sections:\n",
    "\n",
    "    Models With Age > Fill Age with Mean"
   ]
  },
  {
   "cell_type": "markdown",
   "id": "1423b33e",
   "metadata": {
    "papermill": {
     "duration": 0.033348,
     "end_time": "2023-06-14T19:25:59.797963",
     "exception": false,
     "start_time": "2023-06-14T19:25:59.764615",
     "status": "completed"
    },
    "tags": []
   },
   "source": [
    "**----------------------------------------------------------------------------------------------------------------------------------------------------------------**"
   ]
  },
  {
   "cell_type": "markdown",
   "id": "73c7aaa9",
   "metadata": {
    "papermill": {
     "duration": 0.032818,
     "end_time": "2023-06-14T19:25:59.865052",
     "exception": false,
     "start_time": "2023-06-14T19:25:59.832234",
     "status": "completed"
    },
    "tags": []
   },
   "source": [
    "# Models without Age\n",
    "\n",
    "This notebook investigates the accuracy of two models on the Titanic Competition dataset.\n",
    "\n",
    "Given the large number of missing values in the dataset, the models will differ in the method they use to impute the missing point in the Fare feature\n",
    "\n",
    "## Contents:\n",
    "\n",
    "1. With mean\n",
    "\n",
    "2. With median\n",
    "\n",
    "## Results:\n",
    "\n",
    "### Score: 0.76794\n",
    "\n",
    "There was no difference between the different imputation methods, implying that the method to imput the missing value in 'Fare' is insignificant. For this reason, the mean fare will be used in the reaminder of the notebook"
   ]
  },
  {
   "cell_type": "markdown",
   "id": "6142b530",
   "metadata": {
    "papermill": {
     "duration": 0.032804,
     "end_time": "2023-06-14T19:25:59.931381",
     "exception": false,
     "start_time": "2023-06-14T19:25:59.898577",
     "status": "completed"
    },
    "tags": []
   },
   "source": [
    "**--------------------------------------------------------------------------------**"
   ]
  },
  {
   "cell_type": "markdown",
   "id": "ffeb9a9b",
   "metadata": {
    "papermill": {
     "duration": 0.033634,
     "end_time": "2023-06-14T19:25:59.998679",
     "exception": false,
     "start_time": "2023-06-14T19:25:59.965045",
     "status": "completed"
    },
    "tags": []
   },
   "source": [
    "## Fill Fare with Mean\n",
    "\n",
    "This model fills the missing value in Fare with the mean for the feature. This model does not include age in its predictions\n",
    "\n",
    "**Unique attributes:**\n",
    "\n",
    "- Fill NaN with feature mean\n",
    "\n",
    "- Drop 'Age' from the dataframe\n",
    "\n",
    "**Result of CV:** The model used to make predictions was KNN because it had the highest accuracy score\n",
    "\n",
    "**Accuracy:** The accuracy after submitting the predictions\n",
    "\n",
    "    0.76794"
   ]
  },
  {
   "cell_type": "markdown",
   "id": "7eb966ee",
   "metadata": {
    "papermill": {
     "duration": 0.033103,
     "end_time": "2023-06-14T19:26:00.064950",
     "exception": false,
     "start_time": "2023-06-14T19:26:00.031847",
     "status": "completed"
    },
    "tags": []
   },
   "source": [
    "### Load dataframes\n",
    "\n",
    "Use the filepath and `read_csv()` to load the files for training and testing into their respective dataframes"
   ]
  },
  {
   "cell_type": "code",
   "execution_count": 16,
   "id": "c1aab415",
   "metadata": {
    "execution": {
     "iopub.execute_input": "2023-06-14T19:26:00.134258Z",
     "iopub.status.busy": "2023-06-14T19:26:00.133624Z",
     "iopub.status.idle": "2023-06-14T19:26:00.159631Z",
     "shell.execute_reply": "2023-06-14T19:26:00.158542Z"
    },
    "papermill": {
     "duration": 0.063555,
     "end_time": "2023-06-14T19:26:00.162234",
     "exception": false,
     "start_time": "2023-06-14T19:26:00.098679",
     "status": "completed"
    },
    "tags": []
   },
   "outputs": [],
   "source": [
    "df_train_noAge = pd.read_csv(train_filepath, index_col='PassengerId')\n",
    "df_test_noAge = pd.read_csv(test_filepath, index_col='PassengerId')"
   ]
  },
  {
   "cell_type": "markdown",
   "id": "6697f229",
   "metadata": {
    "papermill": {
     "duration": 0.032974,
     "end_time": "2023-06-14T19:26:00.228735",
     "exception": false,
     "start_time": "2023-06-14T19:26:00.195761",
     "status": "completed"
    },
    "tags": []
   },
   "source": [
    "### Drop age\n",
    "\n",
    "Since this model doesn't include the 'Age' feature, it is added to the list of features to drop from the dataframe"
   ]
  },
  {
   "cell_type": "code",
   "execution_count": 17,
   "id": "4c81fb25",
   "metadata": {
    "execution": {
     "iopub.execute_input": "2023-06-14T19:26:00.297183Z",
     "iopub.status.busy": "2023-06-14T19:26:00.296784Z",
     "iopub.status.idle": "2023-06-14T19:26:00.301564Z",
     "shell.execute_reply": "2023-06-14T19:26:00.300479Z"
    },
    "papermill": {
     "duration": 0.041284,
     "end_time": "2023-06-14T19:26:00.303637",
     "exception": false,
     "start_time": "2023-06-14T19:26:00.262353",
     "status": "completed"
    },
    "tags": []
   },
   "outputs": [],
   "source": [
    "drop_feature_names_w_age = drop_feature_names + ['Age']"
   ]
  },
  {
   "cell_type": "markdown",
   "id": "8be5c001",
   "metadata": {
    "papermill": {
     "duration": 0.033068,
     "end_time": "2023-06-14T19:26:00.370083",
     "exception": false,
     "start_time": "2023-06-14T19:26:00.337015",
     "status": "completed"
    },
    "tags": []
   },
   "source": [
    "### Prepare Training\n",
    "\n",
    "Prepare the dataframes to be split into target and features and later normalized"
   ]
  },
  {
   "cell_type": "code",
   "execution_count": 18,
   "id": "dba48c77",
   "metadata": {
    "execution": {
     "iopub.execute_input": "2023-06-14T19:26:00.439127Z",
     "iopub.status.busy": "2023-06-14T19:26:00.438484Z",
     "iopub.status.idle": "2023-06-14T19:26:00.457973Z",
     "shell.execute_reply": "2023-06-14T19:26:00.456851Z"
    },
    "papermill": {
     "duration": 0.057057,
     "end_time": "2023-06-14T19:26:00.460584",
     "exception": false,
     "start_time": "2023-06-14T19:26:00.403527",
     "status": "completed"
    },
    "tags": []
   },
   "outputs": [],
   "source": [
    "df_train_noAge = prepare_dataframe(df_train_noAge, drop_feature_names_w_age, fill_fare_mean)\n",
    "df_test_noAge = prepare_dataframe(df_test_noAge, drop_feature_names_w_age, fill_fare_mean)"
   ]
  },
  {
   "cell_type": "markdown",
   "id": "3f881763",
   "metadata": {
    "papermill": {
     "duration": 0.033075,
     "end_time": "2023-06-14T19:26:00.527152",
     "exception": false,
     "start_time": "2023-06-14T19:26:00.494077",
     "status": "completed"
    },
    "tags": []
   },
   "source": [
    "### Split Training Data\n",
    "\n",
    "Separate the training data into the features and target for cross-validation and model building"
   ]
  },
  {
   "cell_type": "code",
   "execution_count": 19,
   "id": "29c8301e",
   "metadata": {
    "execution": {
     "iopub.execute_input": "2023-06-14T19:26:00.595714Z",
     "iopub.status.busy": "2023-06-14T19:26:00.595341Z",
     "iopub.status.idle": "2023-06-14T19:26:00.601249Z",
     "shell.execute_reply": "2023-06-14T19:26:00.600139Z"
    },
    "papermill": {
     "duration": 0.042746,
     "end_time": "2023-06-14T19:26:00.603339",
     "exception": false,
     "start_time": "2023-06-14T19:26:00.560593",
     "status": "completed"
    },
    "tags": []
   },
   "outputs": [],
   "source": [
    "X_noAge = df_train_noAge.drop('Survived', axis=1)\n",
    "y_noAge = df_train_noAge['Survived']"
   ]
  },
  {
   "cell_type": "markdown",
   "id": "b7733f29",
   "metadata": {
    "papermill": {
     "duration": 0.033193,
     "end_time": "2023-06-14T19:26:00.670034",
     "exception": false,
     "start_time": "2023-06-14T19:26:00.636841",
     "status": "completed"
    },
    "tags": []
   },
   "source": [
    "### Normalize data\n",
    "\n",
    "Normalize the features of the training data and the testing data"
   ]
  },
  {
   "cell_type": "code",
   "execution_count": 20,
   "id": "a5c4fa3a",
   "metadata": {
    "execution": {
     "iopub.execute_input": "2023-06-14T19:26:00.739180Z",
     "iopub.status.busy": "2023-06-14T19:26:00.738092Z",
     "iopub.status.idle": "2023-06-14T19:26:00.753692Z",
     "shell.execute_reply": "2023-06-14T19:26:00.752536Z"
    },
    "papermill": {
     "duration": 0.052865,
     "end_time": "2023-06-14T19:26:00.756281",
     "exception": false,
     "start_time": "2023-06-14T19:26:00.703416",
     "status": "completed"
    },
    "tags": []
   },
   "outputs": [],
   "source": [
    "X_noAge = normalize_features(X_noAge)\n",
    "df_test_noAge = normalize_features(df_test_noAge)"
   ]
  },
  {
   "cell_type": "markdown",
   "id": "f56a85a2",
   "metadata": {
    "papermill": {
     "duration": 0.032978,
     "end_time": "2023-06-14T19:26:00.822700",
     "exception": false,
     "start_time": "2023-06-14T19:26:00.789722",
     "status": "completed"
    },
    "tags": []
   },
   "source": [
    "### Perform cross-validation\n",
    "\n",
    "Perform cross validation to determine the best model to use for the data"
   ]
  },
  {
   "cell_type": "code",
   "execution_count": 21,
   "id": "c3b95d3e",
   "metadata": {
    "execution": {
     "iopub.execute_input": "2023-06-14T19:26:00.891835Z",
     "iopub.status.busy": "2023-06-14T19:26:00.890675Z",
     "iopub.status.idle": "2023-06-14T19:26:01.304165Z",
     "shell.execute_reply": "2023-06-14T19:26:01.303050Z"
    },
    "papermill": {
     "duration": 0.450201,
     "end_time": "2023-06-14T19:26:01.306283",
     "exception": false,
     "start_time": "2023-06-14T19:26:00.856082",
     "status": "completed"
    },
    "tags": []
   },
   "outputs": [
    {
     "name": "stdout",
     "output_type": "stream",
     "text": [
      "Model\t\tCV Mean\t\tCV std\n",
      "{'SVM': (0.8058052434456927, 0.02817776516195646), 'KNN': (0.8092384519350813, 0.04749914265913915), 'LR': (0.7934706616729088, 0.024861946815253916)}\n"
     ]
    }
   ],
   "source": [
    "perform_cross_validation(X_noAge, y_noAge)"
   ]
  },
  {
   "cell_type": "markdown",
   "id": "ada97a8e",
   "metadata": {
    "papermill": {
     "duration": 0.032858,
     "end_time": "2023-06-14T19:26:01.372785",
     "exception": false,
     "start_time": "2023-06-14T19:26:01.339927",
     "status": "completed"
    },
    "tags": []
   },
   "source": [
    "Since KNN had the highest accuracy, this is what will be used to build the model."
   ]
  },
  {
   "cell_type": "markdown",
   "id": "941c638b",
   "metadata": {
    "papermill": {
     "duration": 0.033637,
     "end_time": "2023-06-14T19:26:01.440066",
     "exception": false,
     "start_time": "2023-06-14T19:26:01.406429",
     "status": "completed"
    },
    "tags": []
   },
   "source": [
    "### Make predictions\n",
    "\n",
    "The model is built and fit using the KNN classifier.\n",
    "\n",
    "The model is used to make predictions of the test set.\n",
    "\n",
    "The predictions are formatted into a dataframe to prepare for exporting"
   ]
  },
  {
   "cell_type": "code",
   "execution_count": 22,
   "id": "e451cdd9",
   "metadata": {
    "execution": {
     "iopub.execute_input": "2023-06-14T19:26:01.510079Z",
     "iopub.status.busy": "2023-06-14T19:26:01.509343Z",
     "iopub.status.idle": "2023-06-14T19:26:01.557115Z",
     "shell.execute_reply": "2023-06-14T19:26:01.555814Z"
    },
    "papermill": {
     "duration": 0.08589,
     "end_time": "2023-06-14T19:26:01.559754",
     "exception": false,
     "start_time": "2023-06-14T19:26:01.473864",
     "status": "completed"
    },
    "tags": []
   },
   "outputs": [
    {
     "data": {
      "text/html": [
       "<div>\n",
       "<style scoped>\n",
       "    .dataframe tbody tr th:only-of-type {\n",
       "        vertical-align: middle;\n",
       "    }\n",
       "\n",
       "    .dataframe tbody tr th {\n",
       "        vertical-align: top;\n",
       "    }\n",
       "\n",
       "    .dataframe thead th {\n",
       "        text-align: right;\n",
       "    }\n",
       "</style>\n",
       "<table border=\"1\" class=\"dataframe\">\n",
       "  <thead>\n",
       "    <tr style=\"text-align: right;\">\n",
       "      <th></th>\n",
       "      <th>Survived</th>\n",
       "    </tr>\n",
       "    <tr>\n",
       "      <th>PassengerId</th>\n",
       "      <th></th>\n",
       "    </tr>\n",
       "  </thead>\n",
       "  <tbody>\n",
       "    <tr>\n",
       "      <th>892</th>\n",
       "      <td>0</td>\n",
       "    </tr>\n",
       "    <tr>\n",
       "      <th>893</th>\n",
       "      <td>0</td>\n",
       "    </tr>\n",
       "    <tr>\n",
       "      <th>894</th>\n",
       "      <td>0</td>\n",
       "    </tr>\n",
       "    <tr>\n",
       "      <th>895</th>\n",
       "      <td>0</td>\n",
       "    </tr>\n",
       "    <tr>\n",
       "      <th>896</th>\n",
       "      <td>1</td>\n",
       "    </tr>\n",
       "  </tbody>\n",
       "</table>\n",
       "</div>"
      ],
      "text/plain": [
       "             Survived\n",
       "PassengerId          \n",
       "892                 0\n",
       "893                 0\n",
       "894                 0\n",
       "895                 0\n",
       "896                 1"
      ]
     },
     "execution_count": 22,
     "metadata": {},
     "output_type": "execute_result"
    }
   ],
   "source": [
    "clf_noAge = KNeighborsClassifier().fit(X_noAge,y_noAge)\n",
    "\n",
    "predictions_noAge = clf_noAge.predict(df_test_noAge)\n",
    "\n",
    "submission1_noAge = pd.DataFrame(data={'Survived':predictions_noAge}, index=df_test_noAge.index)\n",
    "\n",
    "submission1_noAge.head()"
   ]
  },
  {
   "cell_type": "markdown",
   "id": "74b0e25c",
   "metadata": {
    "papermill": {
     "duration": 0.033573,
     "end_time": "2023-06-14T19:26:01.627659",
     "exception": false,
     "start_time": "2023-06-14T19:26:01.594086",
     "status": "completed"
    },
    "tags": []
   },
   "source": [
    "### Export\n",
    "\n",
    "Export the dataframe from above as a `.csv` file"
   ]
  },
  {
   "cell_type": "code",
   "execution_count": 23,
   "id": "d9313a2a",
   "metadata": {
    "execution": {
     "iopub.execute_input": "2023-06-14T19:26:01.697284Z",
     "iopub.status.busy": "2023-06-14T19:26:01.696654Z",
     "iopub.status.idle": "2023-06-14T19:26:01.707411Z",
     "shell.execute_reply": "2023-06-14T19:26:01.706492Z"
    },
    "papermill": {
     "duration": 0.048386,
     "end_time": "2023-06-14T19:26:01.709817",
     "exception": false,
     "start_time": "2023-06-14T19:26:01.661431",
     "status": "completed"
    },
    "tags": []
   },
   "outputs": [],
   "source": [
    "submission1_noAge.to_csv('Titanic_Submission-No_Age-Mean_Fare-2023_6_14.csv')"
   ]
  },
  {
   "cell_type": "markdown",
   "id": "2d34177c",
   "metadata": {
    "papermill": {
     "duration": 0.033455,
     "end_time": "2023-06-14T19:26:01.777858",
     "exception": false,
     "start_time": "2023-06-14T19:26:01.744403",
     "status": "completed"
    },
    "tags": []
   },
   "source": [
    "### Result: \n",
    "\n",
    "The submissions scored an accuracy of **0.76794** on the competition website"
   ]
  },
  {
   "cell_type": "markdown",
   "id": "d181616f",
   "metadata": {
    "papermill": {
     "duration": 0.032844,
     "end_time": "2023-06-14T19:26:01.844779",
     "exception": false,
     "start_time": "2023-06-14T19:26:01.811935",
     "status": "completed"
    },
    "tags": []
   },
   "source": [
    "**--------------------------------------------------------------------------------**"
   ]
  },
  {
   "cell_type": "markdown",
   "id": "85eff436",
   "metadata": {
    "papermill": {
     "duration": 0.036174,
     "end_time": "2023-06-14T19:26:01.914553",
     "exception": false,
     "start_time": "2023-06-14T19:26:01.878379",
     "status": "completed"
    },
    "tags": []
   },
   "source": [
    "## Fill Fare with Median\n",
    "\n",
    "This model fills the missing value in Fare with the median for the feature. This model does not include age in its predictions\n",
    "\n",
    "**Unique attributes:**\n",
    "\n",
    "- Fill NaN with feature median\n",
    "\n",
    "- Drop 'Age' from the dataframe\n",
    "\n",
    "**Result of CV:** The model used to make predictions was KNN because it had the highest accuracy score\n",
    "\n",
    "**Accuracy:** The accuracy after submitting the predictions\n",
    "\n",
    "    0.76794"
   ]
  },
  {
   "cell_type": "markdown",
   "id": "0c3ed07c",
   "metadata": {
    "papermill": {
     "duration": 0.033407,
     "end_time": "2023-06-14T19:26:01.981272",
     "exception": false,
     "start_time": "2023-06-14T19:26:01.947865",
     "status": "completed"
    },
    "tags": []
   },
   "source": [
    "### Load dataframes\n",
    "\n",
    "Use the filepath and `read_csv()` to load the files for training and testing into their respective dataframes"
   ]
  },
  {
   "cell_type": "code",
   "execution_count": 24,
   "id": "ebfba538",
   "metadata": {
    "execution": {
     "iopub.execute_input": "2023-06-14T19:26:02.051006Z",
     "iopub.status.busy": "2023-06-14T19:26:02.050659Z",
     "iopub.status.idle": "2023-06-14T19:26:02.065022Z",
     "shell.execute_reply": "2023-06-14T19:26:02.064217Z"
    },
    "papermill": {
     "duration": 0.051787,
     "end_time": "2023-06-14T19:26:02.067251",
     "exception": false,
     "start_time": "2023-06-14T19:26:02.015464",
     "status": "completed"
    },
    "tags": []
   },
   "outputs": [],
   "source": [
    "df_train_noAge = pd.read_csv(train_filepath, index_col='PassengerId')\n",
    "df_test_noAge = pd.read_csv(test_filepath, index_col='PassengerId')"
   ]
  },
  {
   "cell_type": "markdown",
   "id": "56289233",
   "metadata": {
    "papermill": {
     "duration": 0.033696,
     "end_time": "2023-06-14T19:26:02.135600",
     "exception": false,
     "start_time": "2023-06-14T19:26:02.101904",
     "status": "completed"
    },
    "tags": []
   },
   "source": [
    "### Drop age\n",
    "\n",
    "Since this model doesn't include the 'Age' feature, it is added to the list of features to drop from the dataframe"
   ]
  },
  {
   "cell_type": "code",
   "execution_count": 25,
   "id": "6eddeccf",
   "metadata": {
    "execution": {
     "iopub.execute_input": "2023-06-14T19:26:02.204712Z",
     "iopub.status.busy": "2023-06-14T19:26:02.204324Z",
     "iopub.status.idle": "2023-06-14T19:26:02.209042Z",
     "shell.execute_reply": "2023-06-14T19:26:02.208009Z"
    },
    "papermill": {
     "duration": 0.041894,
     "end_time": "2023-06-14T19:26:02.211297",
     "exception": false,
     "start_time": "2023-06-14T19:26:02.169403",
     "status": "completed"
    },
    "tags": []
   },
   "outputs": [],
   "source": [
    "drop_feature_names_w_age = drop_feature_names + ['Age']"
   ]
  },
  {
   "cell_type": "markdown",
   "id": "aa2331ed",
   "metadata": {
    "papermill": {
     "duration": 0.035019,
     "end_time": "2023-06-14T19:26:02.279660",
     "exception": false,
     "start_time": "2023-06-14T19:26:02.244641",
     "status": "completed"
    },
    "tags": []
   },
   "source": [
    "### Prepare Training\n",
    "\n",
    "Prepare the dataframes to be split into target and features and later normalized"
   ]
  },
  {
   "cell_type": "code",
   "execution_count": 26,
   "id": "5bed0db3",
   "metadata": {
    "execution": {
     "iopub.execute_input": "2023-06-14T19:26:02.348540Z",
     "iopub.status.busy": "2023-06-14T19:26:02.348156Z",
     "iopub.status.idle": "2023-06-14T19:26:02.365112Z",
     "shell.execute_reply": "2023-06-14T19:26:02.364341Z"
    },
    "papermill": {
     "duration": 0.054145,
     "end_time": "2023-06-14T19:26:02.367332",
     "exception": false,
     "start_time": "2023-06-14T19:26:02.313187",
     "status": "completed"
    },
    "tags": []
   },
   "outputs": [],
   "source": [
    "df_train_noAge = prepare_dataframe(df_train_noAge, drop_feature_names_w_age, fill_fare_med)\n",
    "df_test_noAge = prepare_dataframe(df_test_noAge, drop_feature_names_w_age, fill_fare_med)"
   ]
  },
  {
   "cell_type": "markdown",
   "id": "839370ca",
   "metadata": {
    "papermill": {
     "duration": 0.033656,
     "end_time": "2023-06-14T19:26:02.434945",
     "exception": false,
     "start_time": "2023-06-14T19:26:02.401289",
     "status": "completed"
    },
    "tags": []
   },
   "source": [
    "### Split Training Data\n",
    "\n",
    "Separate the training data into the features and target for cross-validation and model building"
   ]
  },
  {
   "cell_type": "code",
   "execution_count": 27,
   "id": "5d315db7",
   "metadata": {
    "execution": {
     "iopub.execute_input": "2023-06-14T19:26:02.503943Z",
     "iopub.status.busy": "2023-06-14T19:26:02.503342Z",
     "iopub.status.idle": "2023-06-14T19:26:02.508880Z",
     "shell.execute_reply": "2023-06-14T19:26:02.507734Z"
    },
    "papermill": {
     "duration": 0.043274,
     "end_time": "2023-06-14T19:26:02.511336",
     "exception": false,
     "start_time": "2023-06-14T19:26:02.468062",
     "status": "completed"
    },
    "tags": []
   },
   "outputs": [],
   "source": [
    "X_noAge = df_train_noAge.drop('Survived', axis=1)\n",
    "y_noAge = df_train_noAge['Survived']"
   ]
  },
  {
   "cell_type": "markdown",
   "id": "109b010f",
   "metadata": {
    "papermill": {
     "duration": 0.034728,
     "end_time": "2023-06-14T19:26:02.579976",
     "exception": false,
     "start_time": "2023-06-14T19:26:02.545248",
     "status": "completed"
    },
    "tags": []
   },
   "source": [
    "### Normalize data\n",
    "\n",
    "Normalize the features of the training data and the testing data"
   ]
  },
  {
   "cell_type": "code",
   "execution_count": 28,
   "id": "838526b5",
   "metadata": {
    "execution": {
     "iopub.execute_input": "2023-06-14T19:26:02.650610Z",
     "iopub.status.busy": "2023-06-14T19:26:02.650184Z",
     "iopub.status.idle": "2023-06-14T19:26:02.665699Z",
     "shell.execute_reply": "2023-06-14T19:26:02.664604Z"
    },
    "papermill": {
     "duration": 0.053938,
     "end_time": "2023-06-14T19:26:02.668236",
     "exception": false,
     "start_time": "2023-06-14T19:26:02.614298",
     "status": "completed"
    },
    "tags": []
   },
   "outputs": [],
   "source": [
    "X_noAge = normalize_features(X_noAge)\n",
    "df_test_noAge = normalize_features(df_test_noAge)"
   ]
  },
  {
   "cell_type": "markdown",
   "id": "e1c40f2b",
   "metadata": {
    "papermill": {
     "duration": 0.034093,
     "end_time": "2023-06-14T19:26:02.736401",
     "exception": false,
     "start_time": "2023-06-14T19:26:02.702308",
     "status": "completed"
    },
    "tags": []
   },
   "source": [
    "### Perform cross-validation\n",
    "\n",
    "Perform cross validation to determine the best model to use for the data"
   ]
  },
  {
   "cell_type": "code",
   "execution_count": 29,
   "id": "0191f1e0",
   "metadata": {
    "execution": {
     "iopub.execute_input": "2023-06-14T19:26:02.808044Z",
     "iopub.status.busy": "2023-06-14T19:26:02.806921Z",
     "iopub.status.idle": "2023-06-14T19:26:03.208889Z",
     "shell.execute_reply": "2023-06-14T19:26:03.207756Z"
    },
    "papermill": {
     "duration": 0.439792,
     "end_time": "2023-06-14T19:26:03.211348",
     "exception": false,
     "start_time": "2023-06-14T19:26:02.771556",
     "status": "completed"
    },
    "tags": []
   },
   "outputs": [
    {
     "name": "stdout",
     "output_type": "stream",
     "text": [
      "Model\t\tCV Mean\t\tCV std\n",
      "{'SVM': (0.8058052434456927, 0.02817776516195646), 'KNN': (0.8092384519350813, 0.04749914265913915), 'LR': (0.7934706616729088, 0.024861946815253916)}\n"
     ]
    }
   ],
   "source": [
    "perform_cross_validation(X_noAge, y_noAge)"
   ]
  },
  {
   "cell_type": "markdown",
   "id": "c84bc323",
   "metadata": {
    "papermill": {
     "duration": 0.037358,
     "end_time": "2023-06-14T19:26:03.282299",
     "exception": false,
     "start_time": "2023-06-14T19:26:03.244941",
     "status": "completed"
    },
    "tags": []
   },
   "source": [
    "Since KNN had the highest accuracy, this is what will be used to build the model."
   ]
  },
  {
   "cell_type": "markdown",
   "id": "09f72595",
   "metadata": {
    "papermill": {
     "duration": 0.038615,
     "end_time": "2023-06-14T19:26:03.363844",
     "exception": false,
     "start_time": "2023-06-14T19:26:03.325229",
     "status": "completed"
    },
    "tags": []
   },
   "source": [
    "### Make predictions\n",
    "\n",
    "The model is built and fit using the KNN classifier.\n",
    "\n",
    "The model is used to make predictions of the test set.\n",
    "\n",
    "The predictions are formatted into a dataframe to prepare for exporting"
   ]
  },
  {
   "cell_type": "code",
   "execution_count": 30,
   "id": "af735768",
   "metadata": {
    "execution": {
     "iopub.execute_input": "2023-06-14T19:26:03.433851Z",
     "iopub.status.busy": "2023-06-14T19:26:03.433445Z",
     "iopub.status.idle": "2023-06-14T19:26:03.467309Z",
     "shell.execute_reply": "2023-06-14T19:26:03.466282Z"
    },
    "papermill": {
     "duration": 0.071177,
     "end_time": "2023-06-14T19:26:03.469457",
     "exception": false,
     "start_time": "2023-06-14T19:26:03.398280",
     "status": "completed"
    },
    "tags": []
   },
   "outputs": [
    {
     "data": {
      "text/html": [
       "<div>\n",
       "<style scoped>\n",
       "    .dataframe tbody tr th:only-of-type {\n",
       "        vertical-align: middle;\n",
       "    }\n",
       "\n",
       "    .dataframe tbody tr th {\n",
       "        vertical-align: top;\n",
       "    }\n",
       "\n",
       "    .dataframe thead th {\n",
       "        text-align: right;\n",
       "    }\n",
       "</style>\n",
       "<table border=\"1\" class=\"dataframe\">\n",
       "  <thead>\n",
       "    <tr style=\"text-align: right;\">\n",
       "      <th></th>\n",
       "      <th>Survived</th>\n",
       "    </tr>\n",
       "    <tr>\n",
       "      <th>PassengerId</th>\n",
       "      <th></th>\n",
       "    </tr>\n",
       "  </thead>\n",
       "  <tbody>\n",
       "    <tr>\n",
       "      <th>892</th>\n",
       "      <td>0</td>\n",
       "    </tr>\n",
       "    <tr>\n",
       "      <th>893</th>\n",
       "      <td>0</td>\n",
       "    </tr>\n",
       "    <tr>\n",
       "      <th>894</th>\n",
       "      <td>0</td>\n",
       "    </tr>\n",
       "    <tr>\n",
       "      <th>895</th>\n",
       "      <td>0</td>\n",
       "    </tr>\n",
       "    <tr>\n",
       "      <th>896</th>\n",
       "      <td>1</td>\n",
       "    </tr>\n",
       "  </tbody>\n",
       "</table>\n",
       "</div>"
      ],
      "text/plain": [
       "             Survived\n",
       "PassengerId          \n",
       "892                 0\n",
       "893                 0\n",
       "894                 0\n",
       "895                 0\n",
       "896                 1"
      ]
     },
     "execution_count": 30,
     "metadata": {},
     "output_type": "execute_result"
    }
   ],
   "source": [
    "clf_noAge = KNeighborsClassifier().fit(X_noAge,y_noAge)\n",
    "\n",
    "predictions_noAge = clf_noAge.predict(df_test_noAge)\n",
    "\n",
    "submission2_noAge = pd.DataFrame(data={'Survived':predictions_noAge}, index=df_test_noAge.index)\n",
    "\n",
    "submission2_noAge.head()"
   ]
  },
  {
   "cell_type": "markdown",
   "id": "e9c077a3",
   "metadata": {
    "papermill": {
     "duration": 0.033357,
     "end_time": "2023-06-14T19:26:03.536978",
     "exception": false,
     "start_time": "2023-06-14T19:26:03.503621",
     "status": "completed"
    },
    "tags": []
   },
   "source": [
    "### Export\n",
    "\n",
    "Export the dataframe from above as a `.csv` file"
   ]
  },
  {
   "cell_type": "code",
   "execution_count": 31,
   "id": "9cae0b87",
   "metadata": {
    "execution": {
     "iopub.execute_input": "2023-06-14T19:26:03.607642Z",
     "iopub.status.busy": "2023-06-14T19:26:03.607248Z",
     "iopub.status.idle": "2023-06-14T19:26:03.614368Z",
     "shell.execute_reply": "2023-06-14T19:26:03.613262Z"
    },
    "papermill": {
     "duration": 0.045009,
     "end_time": "2023-06-14T19:26:03.616471",
     "exception": false,
     "start_time": "2023-06-14T19:26:03.571462",
     "status": "completed"
    },
    "tags": []
   },
   "outputs": [],
   "source": [
    "submission2_noAge.to_csv('Titanic_Submission-No_Age-Med_Fare-2023_6_14.csv')"
   ]
  },
  {
   "cell_type": "markdown",
   "id": "7e675db6",
   "metadata": {
    "papermill": {
     "duration": 0.033921,
     "end_time": "2023-06-14T19:26:03.684835",
     "exception": false,
     "start_time": "2023-06-14T19:26:03.650914",
     "status": "completed"
    },
    "tags": []
   },
   "source": [
    "### Result: \n",
    "\n",
    "The submissions scored an accuracy of **0.76794** on the competition website"
   ]
  },
  {
   "cell_type": "markdown",
   "id": "0b6c56ee",
   "metadata": {
    "papermill": {
     "duration": 0.033309,
     "end_time": "2023-06-14T19:26:03.752495",
     "exception": false,
     "start_time": "2023-06-14T19:26:03.719186",
     "status": "completed"
    },
    "tags": []
   },
   "source": [
    "**----------------------------------------------------------------------------------------------------------------------------------------------------------------**"
   ]
  },
  {
   "cell_type": "markdown",
   "id": "1d328afc",
   "metadata": {
    "papermill": {
     "duration": 0.033728,
     "end_time": "2023-06-14T19:26:03.821070",
     "exception": false,
     "start_time": "2023-06-14T19:26:03.787342",
     "status": "completed"
    },
    "tags": []
   },
   "source": [
    "# Models with Age\n",
    "\n",
    "This section investigates the accuracy of three models on the Titanic Competition dataset.\n",
    "\n",
    "Given the large number of missing values in the dataset, the models will differ in the method they use to impute the missing points in the Age feature\n",
    "\n",
    "## Contents:\n",
    "\n",
    "1. With mean\n",
    "\n",
    "2. With median\n",
    "\n",
    "3. With mode\n",
    "\n",
    "## Results:\n",
    "\n",
    "### Score: 0.7791\n",
    "\n",
    "The highest score from these models was acheived by filling the missing Age values with the mean. This scored **0.7791**\n",
    "\n",
    "There was no difference between the other two imputation methods. Both models scored **0.77751**"
   ]
  },
  {
   "cell_type": "markdown",
   "id": "2c67d6c3",
   "metadata": {
    "papermill": {
     "duration": 0.033928,
     "end_time": "2023-06-14T19:26:03.888476",
     "exception": false,
     "start_time": "2023-06-14T19:26:03.854548",
     "status": "completed"
    },
    "tags": []
   },
   "source": [
    "**--------------------------------------------------------------------------------**"
   ]
  },
  {
   "cell_type": "markdown",
   "id": "e6705452",
   "metadata": {
    "papermill": {
     "duration": 0.033622,
     "end_time": "2023-06-14T19:26:03.955868",
     "exception": false,
     "start_time": "2023-06-14T19:26:03.922246",
     "status": "completed"
    },
    "tags": []
   },
   "source": [
    "## Fill Age with Mean\n",
    "\n",
    "This model fills the missing value in Fare with the mean for the feature. This model fills the missing values in Age with the feature's mean.\n",
    "\n",
    "**Unique attributes:**\n",
    "\n",
    "- Fill NaN in Fare with feature mean\n",
    "\n",
    "- Fill NaN in Age with feature mean\n",
    "\n",
    "**Result of CV:** The model used to make predictions was SVM because it had the highest accuracy score\n",
    "\n",
    "**Accuracy:** The accuracy after submitting the predictions\n",
    "\n",
    "    0.7791"
   ]
  },
  {
   "cell_type": "markdown",
   "id": "244eb23b",
   "metadata": {
    "papermill": {
     "duration": 0.033512,
     "end_time": "2023-06-14T19:26:04.023278",
     "exception": false,
     "start_time": "2023-06-14T19:26:03.989766",
     "status": "completed"
    },
    "tags": []
   },
   "source": [
    "### Load dataframes\n",
    "\n",
    "Use the filepath and `read_csv()` to load the files for training and testing into their respective dataframes"
   ]
  },
  {
   "cell_type": "code",
   "execution_count": 32,
   "id": "e4479d3f",
   "metadata": {
    "execution": {
     "iopub.execute_input": "2023-06-14T19:26:04.093244Z",
     "iopub.status.busy": "2023-06-14T19:26:04.092855Z",
     "iopub.status.idle": "2023-06-14T19:26:04.107672Z",
     "shell.execute_reply": "2023-06-14T19:26:04.106797Z"
    },
    "papermill": {
     "duration": 0.052116,
     "end_time": "2023-06-14T19:26:04.109896",
     "exception": false,
     "start_time": "2023-06-14T19:26:04.057780",
     "status": "completed"
    },
    "tags": []
   },
   "outputs": [],
   "source": [
    "df_train_meanAge = pd.read_csv(train_filepath, index_col='PassengerId')\n",
    "df_test_meanAge = pd.read_csv(test_filepath, index_col='PassengerId')"
   ]
  },
  {
   "cell_type": "markdown",
   "id": "52c2a34f",
   "metadata": {
    "papermill": {
     "duration": 0.033446,
     "end_time": "2023-06-14T19:26:04.177840",
     "exception": false,
     "start_time": "2023-06-14T19:26:04.144394",
     "status": "completed"
    },
    "tags": []
   },
   "source": [
    "### Prepare Training\n",
    "\n",
    "Prepare the dataframes to be split into target and features and later normalized"
   ]
  },
  {
   "cell_type": "code",
   "execution_count": 33,
   "id": "5f113835",
   "metadata": {
    "execution": {
     "iopub.execute_input": "2023-06-14T19:26:04.247650Z",
     "iopub.status.busy": "2023-06-14T19:26:04.246664Z",
     "iopub.status.idle": "2023-06-14T19:26:04.262456Z",
     "shell.execute_reply": "2023-06-14T19:26:04.261529Z"
    },
    "papermill": {
     "duration": 0.052674,
     "end_time": "2023-06-14T19:26:04.264601",
     "exception": false,
     "start_time": "2023-06-14T19:26:04.211927",
     "status": "completed"
    },
    "tags": []
   },
   "outputs": [],
   "source": [
    "df_train_meanAge = prepare_dataframe(df_train_meanAge, drop_feature_names, fill_fare_mean, age_mean_train)\n",
    "df_test_meanAge = prepare_dataframe(df_test_meanAge, drop_feature_names, fill_fare_mean, age_mean_test)"
   ]
  },
  {
   "cell_type": "markdown",
   "id": "e66a6965",
   "metadata": {
    "papermill": {
     "duration": 0.033563,
     "end_time": "2023-06-14T19:26:04.332352",
     "exception": false,
     "start_time": "2023-06-14T19:26:04.298789",
     "status": "completed"
    },
    "tags": []
   },
   "source": [
    "### Split Training Data\n",
    "\n",
    "Separate the training data into the features and target for cross-validation and model building"
   ]
  },
  {
   "cell_type": "code",
   "execution_count": 34,
   "id": "78e354b6",
   "metadata": {
    "execution": {
     "iopub.execute_input": "2023-06-14T19:26:04.402746Z",
     "iopub.status.busy": "2023-06-14T19:26:04.401661Z",
     "iopub.status.idle": "2023-06-14T19:26:04.408392Z",
     "shell.execute_reply": "2023-06-14T19:26:04.407506Z"
    },
    "papermill": {
     "duration": 0.044319,
     "end_time": "2023-06-14T19:26:04.410551",
     "exception": false,
     "start_time": "2023-06-14T19:26:04.366232",
     "status": "completed"
    },
    "tags": []
   },
   "outputs": [],
   "source": [
    "X_meanAge = df_train_meanAge.drop('Survived', axis=1)\n",
    "y_meanAge = df_train_meanAge['Survived']"
   ]
  },
  {
   "cell_type": "markdown",
   "id": "2b2aaca2",
   "metadata": {
    "papermill": {
     "duration": 0.034758,
     "end_time": "2023-06-14T19:26:04.480802",
     "exception": false,
     "start_time": "2023-06-14T19:26:04.446044",
     "status": "completed"
    },
    "tags": []
   },
   "source": [
    "### Normalize data\n",
    "\n",
    "Normalize the features of the training data and the testing data"
   ]
  },
  {
   "cell_type": "code",
   "execution_count": 35,
   "id": "79a0107b",
   "metadata": {
    "execution": {
     "iopub.execute_input": "2023-06-14T19:26:04.551333Z",
     "iopub.status.busy": "2023-06-14T19:26:04.550950Z",
     "iopub.status.idle": "2023-06-14T19:26:04.566233Z",
     "shell.execute_reply": "2023-06-14T19:26:04.565127Z"
    },
    "papermill": {
     "duration": 0.053282,
     "end_time": "2023-06-14T19:26:04.568702",
     "exception": false,
     "start_time": "2023-06-14T19:26:04.515420",
     "status": "completed"
    },
    "tags": []
   },
   "outputs": [],
   "source": [
    "X_meanAge = normalize_features(X_meanAge)\n",
    "df_test_meanAge = normalize_features(df_test_meanAge)"
   ]
  },
  {
   "cell_type": "markdown",
   "id": "38edff6e",
   "metadata": {
    "papermill": {
     "duration": 0.033542,
     "end_time": "2023-06-14T19:26:04.636625",
     "exception": false,
     "start_time": "2023-06-14T19:26:04.603083",
     "status": "completed"
    },
    "tags": []
   },
   "source": [
    "### Perform cross-validation\n",
    "\n",
    "Perform cross validation to determine the best model to use for the data"
   ]
  },
  {
   "cell_type": "code",
   "execution_count": 36,
   "id": "8b05fea0",
   "metadata": {
    "execution": {
     "iopub.execute_input": "2023-06-14T19:26:04.706309Z",
     "iopub.status.busy": "2023-06-14T19:26:04.705905Z",
     "iopub.status.idle": "2023-06-14T19:26:05.121457Z",
     "shell.execute_reply": "2023-06-14T19:26:05.120335Z"
    },
    "papermill": {
     "duration": 0.453294,
     "end_time": "2023-06-14T19:26:05.123954",
     "exception": false,
     "start_time": "2023-06-14T19:26:04.670660",
     "status": "completed"
    },
    "tags": []
   },
   "outputs": [
    {
     "name": "stdout",
     "output_type": "stream",
     "text": [
      "Model\t\tCV Mean\t\tCV std\n",
      "{'SVM': (0.8249313358302122, 0.03690856840480252), 'KNN': (0.809250936329588, 0.044119166613680365), 'LR': (0.7946192259675404, 0.02242820343899094)}\n"
     ]
    }
   ],
   "source": [
    "perform_cross_validation(X_meanAge, y_meanAge)"
   ]
  },
  {
   "cell_type": "markdown",
   "id": "9bc307e3",
   "metadata": {
    "papermill": {
     "duration": 0.034097,
     "end_time": "2023-06-14T19:26:05.192420",
     "exception": false,
     "start_time": "2023-06-14T19:26:05.158323",
     "status": "completed"
    },
    "tags": []
   },
   "source": [
    "Since SVM had the highest accuracy, this is what will be used to build the model."
   ]
  },
  {
   "cell_type": "markdown",
   "id": "63147b9c",
   "metadata": {
    "papermill": {
     "duration": 0.033357,
     "end_time": "2023-06-14T19:26:05.259733",
     "exception": false,
     "start_time": "2023-06-14T19:26:05.226376",
     "status": "completed"
    },
    "tags": []
   },
   "source": [
    "### Make predictions\n",
    "\n",
    "The model is built and fit using the SVM classifier.\n",
    "\n",
    "The model is used to make predictions of the test set.\n",
    "\n",
    "The predictions are formatted into a dataframe to prepare for exporting"
   ]
  },
  {
   "cell_type": "code",
   "execution_count": 37,
   "id": "34adba87",
   "metadata": {
    "execution": {
     "iopub.execute_input": "2023-06-14T19:26:05.329903Z",
     "iopub.status.busy": "2023-06-14T19:26:05.329535Z",
     "iopub.status.idle": "2023-06-14T19:26:05.374597Z",
     "shell.execute_reply": "2023-06-14T19:26:05.373616Z"
    },
    "papermill": {
     "duration": 0.082513,
     "end_time": "2023-06-14T19:26:05.376945",
     "exception": false,
     "start_time": "2023-06-14T19:26:05.294432",
     "status": "completed"
    },
    "tags": []
   },
   "outputs": [
    {
     "data": {
      "text/html": [
       "<div>\n",
       "<style scoped>\n",
       "    .dataframe tbody tr th:only-of-type {\n",
       "        vertical-align: middle;\n",
       "    }\n",
       "\n",
       "    .dataframe tbody tr th {\n",
       "        vertical-align: top;\n",
       "    }\n",
       "\n",
       "    .dataframe thead th {\n",
       "        text-align: right;\n",
       "    }\n",
       "</style>\n",
       "<table border=\"1\" class=\"dataframe\">\n",
       "  <thead>\n",
       "    <tr style=\"text-align: right;\">\n",
       "      <th></th>\n",
       "      <th>Survived</th>\n",
       "    </tr>\n",
       "    <tr>\n",
       "      <th>PassengerId</th>\n",
       "      <th></th>\n",
       "    </tr>\n",
       "  </thead>\n",
       "  <tbody>\n",
       "    <tr>\n",
       "      <th>892</th>\n",
       "      <td>0</td>\n",
       "    </tr>\n",
       "    <tr>\n",
       "      <th>893</th>\n",
       "      <td>0</td>\n",
       "    </tr>\n",
       "    <tr>\n",
       "      <th>894</th>\n",
       "      <td>0</td>\n",
       "    </tr>\n",
       "    <tr>\n",
       "      <th>895</th>\n",
       "      <td>0</td>\n",
       "    </tr>\n",
       "    <tr>\n",
       "      <th>896</th>\n",
       "      <td>0</td>\n",
       "    </tr>\n",
       "  </tbody>\n",
       "</table>\n",
       "</div>"
      ],
      "text/plain": [
       "             Survived\n",
       "PassengerId          \n",
       "892                 0\n",
       "893                 0\n",
       "894                 0\n",
       "895                 0\n",
       "896                 0"
      ]
     },
     "execution_count": 37,
     "metadata": {},
     "output_type": "execute_result"
    }
   ],
   "source": [
    "clf_meanAge = SVC().fit(X_meanAge, y_meanAge)\n",
    "\n",
    "predictions_meanAge = clf_meanAge.predict(df_test_meanAge)\n",
    "\n",
    "submission1_meanAge = pd.DataFrame(data={'Survived':predictions_meanAge}, index=df_test_meanAge.index)\n",
    "\n",
    "submission1_meanAge.head()"
   ]
  },
  {
   "cell_type": "markdown",
   "id": "5dc07718",
   "metadata": {
    "papermill": {
     "duration": 0.033851,
     "end_time": "2023-06-14T19:26:05.445123",
     "exception": false,
     "start_time": "2023-06-14T19:26:05.411272",
     "status": "completed"
    },
    "tags": []
   },
   "source": [
    "### Export\n",
    "\n",
    "Export the dataframe from above as a `.csv` file"
   ]
  },
  {
   "cell_type": "code",
   "execution_count": 38,
   "id": "10f34f9e",
   "metadata": {
    "execution": {
     "iopub.execute_input": "2023-06-14T19:26:05.515388Z",
     "iopub.status.busy": "2023-06-14T19:26:05.514991Z",
     "iopub.status.idle": "2023-06-14T19:26:05.522170Z",
     "shell.execute_reply": "2023-06-14T19:26:05.521189Z"
    },
    "papermill": {
     "duration": 0.045195,
     "end_time": "2023-06-14T19:26:05.524524",
     "exception": false,
     "start_time": "2023-06-14T19:26:05.479329",
     "status": "completed"
    },
    "tags": []
   },
   "outputs": [],
   "source": [
    "submission1_meanAge.to_csv('Titanic_Submission-Mean_Age-2023_6_14.csv')"
   ]
  },
  {
   "cell_type": "markdown",
   "id": "0f169c68",
   "metadata": {
    "papermill": {
     "duration": 0.034252,
     "end_time": "2023-06-14T19:26:05.593304",
     "exception": false,
     "start_time": "2023-06-14T19:26:05.559052",
     "status": "completed"
    },
    "tags": []
   },
   "source": [
    "### Result: \n",
    "\n",
    "The submissions scored an accuracy of **0.7791** on the competition website"
   ]
  },
  {
   "cell_type": "markdown",
   "id": "bc4b66b2",
   "metadata": {
    "papermill": {
     "duration": 0.034239,
     "end_time": "2023-06-14T19:26:05.662006",
     "exception": false,
     "start_time": "2023-06-14T19:26:05.627767",
     "status": "completed"
    },
    "tags": []
   },
   "source": [
    "**--------------------------------------------------------------------------------**"
   ]
  },
  {
   "cell_type": "markdown",
   "id": "de598e26",
   "metadata": {
    "papermill": {
     "duration": 0.03405,
     "end_time": "2023-06-14T19:26:05.730357",
     "exception": false,
     "start_time": "2023-06-14T19:26:05.696307",
     "status": "completed"
    },
    "tags": []
   },
   "source": [
    "## Fill Age with Median\n",
    "\n",
    "This model fills the missing value in Fare with the mean for the feature. This model fills the missing values in Age with the feature's median.\n",
    "\n",
    "**Unique attributes:**\n",
    "\n",
    "- Fill NaN in Fare with feature mean\n",
    "\n",
    "- Fill NaN in Age with feature median\n",
    "\n",
    "**Result of CV:** The model used to make predictions was SVM because it had the highest accuracy score\n",
    "\n",
    "**Accuracy:** The accuracy after submitting the predictions\n",
    "\n",
    "    0.77751"
   ]
  },
  {
   "cell_type": "markdown",
   "id": "aa52a5f0",
   "metadata": {
    "papermill": {
     "duration": 0.033482,
     "end_time": "2023-06-14T19:26:05.798276",
     "exception": false,
     "start_time": "2023-06-14T19:26:05.764794",
     "status": "completed"
    },
    "tags": []
   },
   "source": [
    "### Load dataframes\n",
    "\n",
    "Use the filepath and `read_csv()` to load the files for training and testing into their respective dataframes"
   ]
  },
  {
   "cell_type": "code",
   "execution_count": 39,
   "id": "b74f6629",
   "metadata": {
    "execution": {
     "iopub.execute_input": "2023-06-14T19:26:05.868942Z",
     "iopub.status.busy": "2023-06-14T19:26:05.868564Z",
     "iopub.status.idle": "2023-06-14T19:26:05.884237Z",
     "shell.execute_reply": "2023-06-14T19:26:05.883472Z"
    },
    "papermill": {
     "duration": 0.053873,
     "end_time": "2023-06-14T19:26:05.886558",
     "exception": false,
     "start_time": "2023-06-14T19:26:05.832685",
     "status": "completed"
    },
    "tags": []
   },
   "outputs": [],
   "source": [
    "df_train_medAge = pd.read_csv(train_filepath, index_col='PassengerId')\n",
    "df_test_medAge = pd.read_csv(test_filepath, index_col='PassengerId')"
   ]
  },
  {
   "cell_type": "markdown",
   "id": "c32feb03",
   "metadata": {
    "papermill": {
     "duration": 0.033617,
     "end_time": "2023-06-14T19:26:05.954383",
     "exception": false,
     "start_time": "2023-06-14T19:26:05.920766",
     "status": "completed"
    },
    "tags": []
   },
   "source": [
    "### Prepare Training\n",
    "\n",
    "Prepare the dataframes to be split into target and features and later normalized"
   ]
  },
  {
   "cell_type": "code",
   "execution_count": 40,
   "id": "284793e1",
   "metadata": {
    "execution": {
     "iopub.execute_input": "2023-06-14T19:26:06.023978Z",
     "iopub.status.busy": "2023-06-14T19:26:06.023611Z",
     "iopub.status.idle": "2023-06-14T19:26:06.039734Z",
     "shell.execute_reply": "2023-06-14T19:26:06.038825Z"
    },
    "papermill": {
     "duration": 0.053767,
     "end_time": "2023-06-14T19:26:06.042217",
     "exception": false,
     "start_time": "2023-06-14T19:26:05.988450",
     "status": "completed"
    },
    "tags": []
   },
   "outputs": [],
   "source": [
    "df_train_medAge = prepare_dataframe(df_train_medAge, drop_feature_names, fill_fare_mean, age_med_train)\n",
    "df_test_medAge = prepare_dataframe(df_test_medAge, drop_feature_names, fill_fare_mean, age_med_test)"
   ]
  },
  {
   "cell_type": "markdown",
   "id": "e12cdec5",
   "metadata": {
    "papermill": {
     "duration": 0.033787,
     "end_time": "2023-06-14T19:26:06.110215",
     "exception": false,
     "start_time": "2023-06-14T19:26:06.076428",
     "status": "completed"
    },
    "tags": []
   },
   "source": [
    "### Split Training Data\n",
    "\n",
    "Separate the training data into the features and target for cross-validation and model building"
   ]
  },
  {
   "cell_type": "code",
   "execution_count": 41,
   "id": "4d33b4ef",
   "metadata": {
    "execution": {
     "iopub.execute_input": "2023-06-14T19:26:06.179664Z",
     "iopub.status.busy": "2023-06-14T19:26:06.179262Z",
     "iopub.status.idle": "2023-06-14T19:26:06.185221Z",
     "shell.execute_reply": "2023-06-14T19:26:06.184143Z"
    },
    "papermill": {
     "duration": 0.043331,
     "end_time": "2023-06-14T19:26:06.187307",
     "exception": false,
     "start_time": "2023-06-14T19:26:06.143976",
     "status": "completed"
    },
    "tags": []
   },
   "outputs": [],
   "source": [
    "X_medAge = df_train_medAge.drop('Survived', axis=1)\n",
    "y_medAge = df_train_medAge['Survived']"
   ]
  },
  {
   "cell_type": "markdown",
   "id": "b8dd6863",
   "metadata": {
    "papermill": {
     "duration": 0.034139,
     "end_time": "2023-06-14T19:26:06.255498",
     "exception": false,
     "start_time": "2023-06-14T19:26:06.221359",
     "status": "completed"
    },
    "tags": []
   },
   "source": [
    "### Normalize data\n",
    "\n",
    "Normalize the features of the training data and the testing data"
   ]
  },
  {
   "cell_type": "code",
   "execution_count": 42,
   "id": "92306248",
   "metadata": {
    "execution": {
     "iopub.execute_input": "2023-06-14T19:26:06.326391Z",
     "iopub.status.busy": "2023-06-14T19:26:06.325249Z",
     "iopub.status.idle": "2023-06-14T19:26:06.344779Z",
     "shell.execute_reply": "2023-06-14T19:26:06.343682Z"
    },
    "papermill": {
     "duration": 0.057533,
     "end_time": "2023-06-14T19:26:06.347159",
     "exception": false,
     "start_time": "2023-06-14T19:26:06.289626",
     "status": "completed"
    },
    "tags": []
   },
   "outputs": [],
   "source": [
    "X_medAge = normalize_features(X_medAge)\n",
    "df_test_meanAge = normalize_features(df_test_medAge)"
   ]
  },
  {
   "cell_type": "markdown",
   "id": "8bb3668d",
   "metadata": {
    "papermill": {
     "duration": 0.03404,
     "end_time": "2023-06-14T19:26:06.415737",
     "exception": false,
     "start_time": "2023-06-14T19:26:06.381697",
     "status": "completed"
    },
    "tags": []
   },
   "source": [
    "### Perform cross-validation\n",
    "\n",
    "Perform cross validation to determine the best model to use for the data"
   ]
  },
  {
   "cell_type": "code",
   "execution_count": 43,
   "id": "9570d7e3",
   "metadata": {
    "execution": {
     "iopub.execute_input": "2023-06-14T19:26:06.485728Z",
     "iopub.status.busy": "2023-06-14T19:26:06.485328Z",
     "iopub.status.idle": "2023-06-14T19:26:06.896589Z",
     "shell.execute_reply": "2023-06-14T19:26:06.895417Z"
    },
    "papermill": {
     "duration": 0.448834,
     "end_time": "2023-06-14T19:26:06.898752",
     "exception": false,
     "start_time": "2023-06-14T19:26:06.449918",
     "status": "completed"
    },
    "tags": []
   },
   "outputs": [
    {
     "name": "stdout",
     "output_type": "stream",
     "text": [
      "Model\t\tCV Mean\t\tCV std\n",
      "{'SVM': (0.8249313358302122, 0.03690856840480252), 'KNN': (0.8114731585518102, 0.04093208033293136), 'LR': (0.7946192259675405, 0.02702347765082892)}\n"
     ]
    }
   ],
   "source": [
    "perform_cross_validation(X_medAge, y_medAge)"
   ]
  },
  {
   "cell_type": "markdown",
   "id": "6fc46601",
   "metadata": {
    "papermill": {
     "duration": 0.03407,
     "end_time": "2023-06-14T19:26:06.966596",
     "exception": false,
     "start_time": "2023-06-14T19:26:06.932526",
     "status": "completed"
    },
    "tags": []
   },
   "source": [
    "Since SVM had the highest accuracy, this is what will be used to build the model."
   ]
  },
  {
   "cell_type": "markdown",
   "id": "c398409d",
   "metadata": {
    "papermill": {
     "duration": 0.035055,
     "end_time": "2023-06-14T19:26:07.035491",
     "exception": false,
     "start_time": "2023-06-14T19:26:07.000436",
     "status": "completed"
    },
    "tags": []
   },
   "source": [
    "### Make predictions\n",
    "\n",
    "The model is built and fit using the SVM classifier.\n",
    "\n",
    "The model is used to make predictions of the test set.\n",
    "\n",
    "The predictions are formatted into a dataframe to prepare for exporting"
   ]
  },
  {
   "cell_type": "code",
   "execution_count": 44,
   "id": "5dbbef66",
   "metadata": {
    "execution": {
     "iopub.execute_input": "2023-06-14T19:26:07.105825Z",
     "iopub.status.busy": "2023-06-14T19:26:07.105045Z",
     "iopub.status.idle": "2023-06-14T19:26:07.152266Z",
     "shell.execute_reply": "2023-06-14T19:26:07.150842Z"
    },
    "papermill": {
     "duration": 0.085717,
     "end_time": "2023-06-14T19:26:07.155202",
     "exception": false,
     "start_time": "2023-06-14T19:26:07.069485",
     "status": "completed"
    },
    "tags": []
   },
   "outputs": [
    {
     "data": {
      "text/html": [
       "<div>\n",
       "<style scoped>\n",
       "    .dataframe tbody tr th:only-of-type {\n",
       "        vertical-align: middle;\n",
       "    }\n",
       "\n",
       "    .dataframe tbody tr th {\n",
       "        vertical-align: top;\n",
       "    }\n",
       "\n",
       "    .dataframe thead th {\n",
       "        text-align: right;\n",
       "    }\n",
       "</style>\n",
       "<table border=\"1\" class=\"dataframe\">\n",
       "  <thead>\n",
       "    <tr style=\"text-align: right;\">\n",
       "      <th></th>\n",
       "      <th>Survived</th>\n",
       "    </tr>\n",
       "    <tr>\n",
       "      <th>PassengerId</th>\n",
       "      <th></th>\n",
       "    </tr>\n",
       "  </thead>\n",
       "  <tbody>\n",
       "    <tr>\n",
       "      <th>892</th>\n",
       "      <td>0</td>\n",
       "    </tr>\n",
       "    <tr>\n",
       "      <th>893</th>\n",
       "      <td>0</td>\n",
       "    </tr>\n",
       "    <tr>\n",
       "      <th>894</th>\n",
       "      <td>0</td>\n",
       "    </tr>\n",
       "    <tr>\n",
       "      <th>895</th>\n",
       "      <td>0</td>\n",
       "    </tr>\n",
       "    <tr>\n",
       "      <th>896</th>\n",
       "      <td>0</td>\n",
       "    </tr>\n",
       "  </tbody>\n",
       "</table>\n",
       "</div>"
      ],
      "text/plain": [
       "             Survived\n",
       "PassengerId          \n",
       "892                 0\n",
       "893                 0\n",
       "894                 0\n",
       "895                 0\n",
       "896                 0"
      ]
     },
     "execution_count": 44,
     "metadata": {},
     "output_type": "execute_result"
    }
   ],
   "source": [
    "clf_medAge = SVC().fit(X_medAge, y_medAge)\n",
    "\n",
    "predictions_medAge = clf_medAge.predict(df_test_medAge)\n",
    "\n",
    "submission1_medAge = pd.DataFrame(data={'Survived':predictions_medAge}, index=df_test_medAge.index)\n",
    "\n",
    "submission1_medAge.head()"
   ]
  },
  {
   "cell_type": "markdown",
   "id": "05858449",
   "metadata": {
    "papermill": {
     "duration": 0.03398,
     "end_time": "2023-06-14T19:26:07.224351",
     "exception": false,
     "start_time": "2023-06-14T19:26:07.190371",
     "status": "completed"
    },
    "tags": []
   },
   "source": [
    "### Export\n",
    "\n",
    "Export the dataframe from above as a `.csv` file"
   ]
  },
  {
   "cell_type": "code",
   "execution_count": 45,
   "id": "8cbeaed2",
   "metadata": {
    "execution": {
     "iopub.execute_input": "2023-06-14T19:26:07.296021Z",
     "iopub.status.busy": "2023-06-14T19:26:07.295273Z",
     "iopub.status.idle": "2023-06-14T19:26:07.301833Z",
     "shell.execute_reply": "2023-06-14T19:26:07.301146Z"
    },
    "papermill": {
     "duration": 0.045661,
     "end_time": "2023-06-14T19:26:07.303957",
     "exception": false,
     "start_time": "2023-06-14T19:26:07.258296",
     "status": "completed"
    },
    "tags": []
   },
   "outputs": [],
   "source": [
    "submission1_medAge.to_csv('Titanic_Submission-Median_Age-2023_6_14.csv')"
   ]
  },
  {
   "cell_type": "markdown",
   "id": "067e87b4",
   "metadata": {
    "papermill": {
     "duration": 0.034527,
     "end_time": "2023-06-14T19:26:07.372551",
     "exception": false,
     "start_time": "2023-06-14T19:26:07.338024",
     "status": "completed"
    },
    "tags": []
   },
   "source": [
    "### Result: \n",
    "\n",
    "The submissions scored an accuracy of **0.77751** on the competition website"
   ]
  },
  {
   "cell_type": "markdown",
   "id": "3d38b10e",
   "metadata": {
    "papermill": {
     "duration": 0.033907,
     "end_time": "2023-06-14T19:26:07.440722",
     "exception": false,
     "start_time": "2023-06-14T19:26:07.406815",
     "status": "completed"
    },
    "tags": []
   },
   "source": [
    "**--------------------------------------------------------------------------------**"
   ]
  },
  {
   "cell_type": "markdown",
   "id": "097bfed7",
   "metadata": {
    "papermill": {
     "duration": 0.034337,
     "end_time": "2023-06-14T19:26:07.509358",
     "exception": false,
     "start_time": "2023-06-14T19:26:07.475021",
     "status": "completed"
    },
    "tags": []
   },
   "source": [
    "## Fill Age with Mode\n",
    "\n",
    "This model fills the missing value in Fare with the mean for the feature. This model fills the missing values in Age with the feature's mode.\n",
    "\n",
    "**Unique attributes:**\n",
    "\n",
    "- Fill NaN in Fare with feature mean\n",
    "\n",
    "- Fill NaN in Age with feature mode\n",
    "\n",
    "**Result of CV:** The model used to make predictions was SVM because it had the highest accuracy score\n",
    "\n",
    "**Accuracy:** The accuracy after submitting the predictions\n",
    "\n",
    "    0.77751"
   ]
  },
  {
   "cell_type": "markdown",
   "id": "ee14744b",
   "metadata": {
    "papermill": {
     "duration": 0.034521,
     "end_time": "2023-06-14T19:26:07.578578",
     "exception": false,
     "start_time": "2023-06-14T19:26:07.544057",
     "status": "completed"
    },
    "tags": []
   },
   "source": [
    "### Load dataframes\n",
    "\n",
    "Use the filepath and `read_csv()` to load the files for training and testing into their respective dataframes"
   ]
  },
  {
   "cell_type": "code",
   "execution_count": 46,
   "id": "093026b8",
   "metadata": {
    "execution": {
     "iopub.execute_input": "2023-06-14T19:26:07.650151Z",
     "iopub.status.busy": "2023-06-14T19:26:07.649722Z",
     "iopub.status.idle": "2023-06-14T19:26:07.665323Z",
     "shell.execute_reply": "2023-06-14T19:26:07.664450Z"
    },
    "papermill": {
     "duration": 0.054226,
     "end_time": "2023-06-14T19:26:07.667687",
     "exception": false,
     "start_time": "2023-06-14T19:26:07.613461",
     "status": "completed"
    },
    "tags": []
   },
   "outputs": [],
   "source": [
    "df_train_modeAge = pd.read_csv(train_filepath, index_col='PassengerId')\n",
    "df_test_modeAge = pd.read_csv(test_filepath, index_col='PassengerId')"
   ]
  },
  {
   "cell_type": "markdown",
   "id": "3cf13055",
   "metadata": {
    "papermill": {
     "duration": 0.034423,
     "end_time": "2023-06-14T19:26:07.737503",
     "exception": false,
     "start_time": "2023-06-14T19:26:07.703080",
     "status": "completed"
    },
    "tags": []
   },
   "source": [
    "### Prepare Training\n",
    "\n",
    "Prepare the dataframes to be split into target and features and later normalized"
   ]
  },
  {
   "cell_type": "code",
   "execution_count": 47,
   "id": "a195a728",
   "metadata": {
    "execution": {
     "iopub.execute_input": "2023-06-14T19:26:07.809673Z",
     "iopub.status.busy": "2023-06-14T19:26:07.808485Z",
     "iopub.status.idle": "2023-06-14T19:26:07.824021Z",
     "shell.execute_reply": "2023-06-14T19:26:07.823238Z"
    },
    "papermill": {
     "duration": 0.05376,
     "end_time": "2023-06-14T19:26:07.826215",
     "exception": false,
     "start_time": "2023-06-14T19:26:07.772455",
     "status": "completed"
    },
    "tags": []
   },
   "outputs": [],
   "source": [
    "df_train_modeAge = prepare_dataframe(df_train_modeAge, drop_feature_names, fill_fare_mean, age_mode_train)\n",
    "df_test_modeAge = prepare_dataframe(df_test_modeAge, drop_feature_names, fill_fare_mean, age_mode_test)"
   ]
  },
  {
   "cell_type": "markdown",
   "id": "adcf0c28",
   "metadata": {
    "papermill": {
     "duration": 0.034125,
     "end_time": "2023-06-14T19:26:07.895310",
     "exception": false,
     "start_time": "2023-06-14T19:26:07.861185",
     "status": "completed"
    },
    "tags": []
   },
   "source": [
    "### Split Training Data\n",
    "\n",
    "Separate the training data into the features and target for cross-validation and model building"
   ]
  },
  {
   "cell_type": "code",
   "execution_count": 48,
   "id": "de1a9764",
   "metadata": {
    "execution": {
     "iopub.execute_input": "2023-06-14T19:26:07.967256Z",
     "iopub.status.busy": "2023-06-14T19:26:07.966154Z",
     "iopub.status.idle": "2023-06-14T19:26:07.971753Z",
     "shell.execute_reply": "2023-06-14T19:26:07.971065Z"
    },
    "papermill": {
     "duration": 0.043644,
     "end_time": "2023-06-14T19:26:07.973815",
     "exception": false,
     "start_time": "2023-06-14T19:26:07.930171",
     "status": "completed"
    },
    "tags": []
   },
   "outputs": [],
   "source": [
    "X_modeAge = df_train_modeAge.drop('Survived', axis=1)\n",
    "y_modeAge = df_train_modeAge['Survived']"
   ]
  },
  {
   "cell_type": "markdown",
   "id": "bd906cf0",
   "metadata": {
    "papermill": {
     "duration": 0.034165,
     "end_time": "2023-06-14T19:26:08.042453",
     "exception": false,
     "start_time": "2023-06-14T19:26:08.008288",
     "status": "completed"
    },
    "tags": []
   },
   "source": [
    "### Normalize data\n",
    "\n",
    "Normalize the features of the training data and the testing data"
   ]
  },
  {
   "cell_type": "code",
   "execution_count": 49,
   "id": "33bfaf8d",
   "metadata": {
    "execution": {
     "iopub.execute_input": "2023-06-14T19:26:08.113554Z",
     "iopub.status.busy": "2023-06-14T19:26:08.112905Z",
     "iopub.status.idle": "2023-06-14T19:26:08.128703Z",
     "shell.execute_reply": "2023-06-14T19:26:08.127456Z"
    },
    "papermill": {
     "duration": 0.054429,
     "end_time": "2023-06-14T19:26:08.131164",
     "exception": false,
     "start_time": "2023-06-14T19:26:08.076735",
     "status": "completed"
    },
    "tags": []
   },
   "outputs": [],
   "source": [
    "X_modeAge = normalize_features(X_modeAge)\n",
    "df_test_modeAge = normalize_features(df_test_modeAge)"
   ]
  },
  {
   "cell_type": "markdown",
   "id": "ab3f3b04",
   "metadata": {
    "papermill": {
     "duration": 0.034223,
     "end_time": "2023-06-14T19:26:08.199640",
     "exception": false,
     "start_time": "2023-06-14T19:26:08.165417",
     "status": "completed"
    },
    "tags": []
   },
   "source": [
    "### Perform cross-validation\n",
    "\n",
    "Perform cross validation to determine the best model to use for the data"
   ]
  },
  {
   "cell_type": "code",
   "execution_count": 50,
   "id": "1777ca2a",
   "metadata": {
    "execution": {
     "iopub.execute_input": "2023-06-14T19:26:08.270003Z",
     "iopub.status.busy": "2023-06-14T19:26:08.269601Z",
     "iopub.status.idle": "2023-06-14T19:26:08.683981Z",
     "shell.execute_reply": "2023-06-14T19:26:08.682647Z"
    },
    "papermill": {
     "duration": 0.452724,
     "end_time": "2023-06-14T19:26:08.686579",
     "exception": false,
     "start_time": "2023-06-14T19:26:08.233855",
     "status": "completed"
    },
    "tags": []
   },
   "outputs": [
    {
     "name": "stdout",
     "output_type": "stream",
     "text": [
      "Model\t\tCV Mean\t\tCV std\n",
      "{'SVM': (0.8260549313358302, 0.03793120045875092), 'KNN': (0.8070037453183521, 0.03824776974876488), 'LR': (0.7923720349563046, 0.028051434354094185)}\n"
     ]
    }
   ],
   "source": [
    "perform_cross_validation(X_modeAge, y_modeAge)"
   ]
  },
  {
   "cell_type": "markdown",
   "id": "12254506",
   "metadata": {
    "papermill": {
     "duration": 0.036451,
     "end_time": "2023-06-14T19:26:08.758624",
     "exception": false,
     "start_time": "2023-06-14T19:26:08.722173",
     "status": "completed"
    },
    "tags": []
   },
   "source": [
    "Since SVM had the highest accuracy, this is what will be used to build the model."
   ]
  },
  {
   "cell_type": "markdown",
   "id": "702390e9",
   "metadata": {
    "papermill": {
     "duration": 0.033693,
     "end_time": "2023-06-14T19:26:08.826704",
     "exception": false,
     "start_time": "2023-06-14T19:26:08.793011",
     "status": "completed"
    },
    "tags": []
   },
   "source": [
    "### Make predictions\n",
    "\n",
    "The model is built and fit using the SVM classifier.\n",
    "\n",
    "The model is used to make predictions of the test set.\n",
    "\n",
    "The predictions are formatted into a dataframe to prepare for exporting"
   ]
  },
  {
   "cell_type": "code",
   "execution_count": 51,
   "id": "a744cadf",
   "metadata": {
    "execution": {
     "iopub.execute_input": "2023-06-14T19:26:08.897316Z",
     "iopub.status.busy": "2023-06-14T19:26:08.896884Z",
     "iopub.status.idle": "2023-06-14T19:26:08.942236Z",
     "shell.execute_reply": "2023-06-14T19:26:08.941088Z"
    },
    "papermill": {
     "duration": 0.083823,
     "end_time": "2023-06-14T19:26:08.944667",
     "exception": false,
     "start_time": "2023-06-14T19:26:08.860844",
     "status": "completed"
    },
    "tags": []
   },
   "outputs": [
    {
     "data": {
      "text/html": [
       "<div>\n",
       "<style scoped>\n",
       "    .dataframe tbody tr th:only-of-type {\n",
       "        vertical-align: middle;\n",
       "    }\n",
       "\n",
       "    .dataframe tbody tr th {\n",
       "        vertical-align: top;\n",
       "    }\n",
       "\n",
       "    .dataframe thead th {\n",
       "        text-align: right;\n",
       "    }\n",
       "</style>\n",
       "<table border=\"1\" class=\"dataframe\">\n",
       "  <thead>\n",
       "    <tr style=\"text-align: right;\">\n",
       "      <th></th>\n",
       "      <th>Survived</th>\n",
       "    </tr>\n",
       "    <tr>\n",
       "      <th>PassengerId</th>\n",
       "      <th></th>\n",
       "    </tr>\n",
       "  </thead>\n",
       "  <tbody>\n",
       "    <tr>\n",
       "      <th>892</th>\n",
       "      <td>0</td>\n",
       "    </tr>\n",
       "    <tr>\n",
       "      <th>893</th>\n",
       "      <td>0</td>\n",
       "    </tr>\n",
       "    <tr>\n",
       "      <th>894</th>\n",
       "      <td>0</td>\n",
       "    </tr>\n",
       "    <tr>\n",
       "      <th>895</th>\n",
       "      <td>0</td>\n",
       "    </tr>\n",
       "    <tr>\n",
       "      <th>896</th>\n",
       "      <td>0</td>\n",
       "    </tr>\n",
       "  </tbody>\n",
       "</table>\n",
       "</div>"
      ],
      "text/plain": [
       "             Survived\n",
       "PassengerId          \n",
       "892                 0\n",
       "893                 0\n",
       "894                 0\n",
       "895                 0\n",
       "896                 0"
      ]
     },
     "execution_count": 51,
     "metadata": {},
     "output_type": "execute_result"
    }
   ],
   "source": [
    "clf_modeAge = SVC().fit(X_modeAge, y_modeAge)\n",
    "\n",
    "predictions_modeAge = clf_modeAge.predict(df_test_modeAge)\n",
    "\n",
    "submission1_modeAge = pd.DataFrame(data={'Survived':predictions_medAge}, index=df_test_modeAge.index)\n",
    "\n",
    "submission1_modeAge.head()"
   ]
  },
  {
   "cell_type": "markdown",
   "id": "95ba6a84",
   "metadata": {
    "papermill": {
     "duration": 0.035102,
     "end_time": "2023-06-14T19:26:09.014853",
     "exception": false,
     "start_time": "2023-06-14T19:26:08.979751",
     "status": "completed"
    },
    "tags": []
   },
   "source": [
    "### Export\n",
    "\n",
    "Export the dataframe from above as a `.csv` file"
   ]
  },
  {
   "cell_type": "code",
   "execution_count": 52,
   "id": "a6f9a71c",
   "metadata": {
    "execution": {
     "iopub.execute_input": "2023-06-14T19:26:09.085777Z",
     "iopub.status.busy": "2023-06-14T19:26:09.085402Z",
     "iopub.status.idle": "2023-06-14T19:26:09.092344Z",
     "shell.execute_reply": "2023-06-14T19:26:09.091446Z"
    },
    "papermill": {
     "duration": 0.045079,
     "end_time": "2023-06-14T19:26:09.094605",
     "exception": false,
     "start_time": "2023-06-14T19:26:09.049526",
     "status": "completed"
    },
    "tags": []
   },
   "outputs": [],
   "source": [
    "submission1_modeAge.to_csv('Titanic_Submission-Mode_Age-2023_6_14.csv')"
   ]
  },
  {
   "cell_type": "markdown",
   "id": "02b857df",
   "metadata": {
    "papermill": {
     "duration": 0.034967,
     "end_time": "2023-06-14T19:26:09.164806",
     "exception": false,
     "start_time": "2023-06-14T19:26:09.129839",
     "status": "completed"
    },
    "tags": []
   },
   "source": [
    "### Result: \n",
    "\n",
    "The submissions scored an accuracy of **0.77751** on the competition website"
   ]
  }
 ],
 "metadata": {
  "kernelspec": {
   "display_name": "Python 3",
   "language": "python",
   "name": "python3"
  },
  "language_info": {
   "codemirror_mode": {
    "name": "ipython",
    "version": 3
   },
   "file_extension": ".py",
   "mimetype": "text/x-python",
   "name": "python",
   "nbconvert_exporter": "python",
   "pygments_lexer": "ipython3",
   "version": "3.10.10"
  },
  "papermill": {
   "default_parameters": {},
   "duration": 26.721284,
   "end_time": "2023-06-14T19:26:10.120879",
   "environment_variables": {},
   "exception": null,
   "input_path": "__notebook__.ipynb",
   "output_path": "__notebook__.ipynb",
   "parameters": {},
   "start_time": "2023-06-14T19:25:43.399595",
   "version": "2.4.0"
  }
 },
 "nbformat": 4,
 "nbformat_minor": 5
}
