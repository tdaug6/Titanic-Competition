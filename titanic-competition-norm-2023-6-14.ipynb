{
 "cells": [
  {
   "cell_type": "code",
   "execution_count": 1,
   "id": "a3d51cbb",
   "metadata": {
    "_cell_guid": "b1076dfc-b9ad-4769-8c92-a6c4dae69d19",
    "_uuid": "8f2839f25d086af736a60e9eeb907d3b93b6e0e5",
    "execution": {
     "iopub.execute_input": "2023-06-14T14:21:59.668259Z",
     "iopub.status.busy": "2023-06-14T14:21:59.667580Z",
     "iopub.status.idle": "2023-06-14T14:22:01.340068Z",
     "shell.execute_reply": "2023-06-14T14:22:01.338980Z"
    },
    "papermill": {
     "duration": 1.682948,
     "end_time": "2023-06-14T14:22:01.342928",
     "exception": false,
     "start_time": "2023-06-14T14:21:59.659980",
     "status": "completed"
    },
    "tags": []
   },
   "outputs": [],
   "source": [
    "import numpy as np\n",
    "import pandas as pd\n",
    "\n",
    "from sklearn.linear_model import LogisticRegression\n",
    "from sklearn.neighbors import KNeighborsClassifier\n",
    "from sklearn.svm import SVC\n",
    "\n",
    "from sklearn.model_selection import StratifiedKFold, cross_val_score"
   ]
  },
  {
   "cell_type": "code",
   "execution_count": 2,
   "id": "7ccdfd3a",
   "metadata": {
    "execution": {
     "iopub.execute_input": "2023-06-14T14:22:01.356267Z",
     "iopub.status.busy": "2023-06-14T14:22:01.355469Z",
     "iopub.status.idle": "2023-06-14T14:22:01.360853Z",
     "shell.execute_reply": "2023-06-14T14:22:01.359733Z"
    },
    "papermill": {
     "duration": 0.014795,
     "end_time": "2023-06-14T14:22:01.363395",
     "exception": false,
     "start_time": "2023-06-14T14:22:01.348600",
     "status": "completed"
    },
    "tags": []
   },
   "outputs": [],
   "source": [
    "train_filepath = '/kaggle/input/titanic/train.csv'\n",
    "test_filepath = '/kaggle/input/titanic/test.csv'"
   ]
  },
  {
   "cell_type": "code",
   "execution_count": 3,
   "id": "c07419cd",
   "metadata": {
    "execution": {
     "iopub.execute_input": "2023-06-14T14:22:01.376789Z",
     "iopub.status.busy": "2023-06-14T14:22:01.376346Z",
     "iopub.status.idle": "2023-06-14T14:22:01.412146Z",
     "shell.execute_reply": "2023-06-14T14:22:01.410940Z"
    },
    "papermill": {
     "duration": 0.045481,
     "end_time": "2023-06-14T14:22:01.414982",
     "exception": false,
     "start_time": "2023-06-14T14:22:01.369501",
     "status": "completed"
    },
    "tags": []
   },
   "outputs": [],
   "source": [
    "df_train = pd.read_csv(train_filepath)\n",
    "df_test = pd.read_csv(test_filepath)"
   ]
  },
  {
   "cell_type": "code",
   "execution_count": 4,
   "id": "89055390",
   "metadata": {
    "execution": {
     "iopub.execute_input": "2023-06-14T14:22:01.428180Z",
     "iopub.status.busy": "2023-06-14T14:22:01.427765Z",
     "iopub.status.idle": "2023-06-14T14:22:01.440211Z",
     "shell.execute_reply": "2023-06-14T14:22:01.439322Z"
    },
    "papermill": {
     "duration": 0.021644,
     "end_time": "2023-06-14T14:22:01.442535",
     "exception": false,
     "start_time": "2023-06-14T14:22:01.420891",
     "status": "completed"
    },
    "tags": []
   },
   "outputs": [],
   "source": [
    "fill_fare_mean = df_test['Fare'].mean()\n",
    "fill_fare_med = df_test['Fare'].median()"
   ]
  },
  {
   "cell_type": "code",
   "execution_count": 5,
   "id": "e76741f8",
   "metadata": {
    "execution": {
     "iopub.execute_input": "2023-06-14T14:22:01.458960Z",
     "iopub.status.busy": "2023-06-14T14:22:01.458208Z",
     "iopub.status.idle": "2023-06-14T14:22:01.462439Z",
     "shell.execute_reply": "2023-06-14T14:22:01.461696Z"
    },
    "papermill": {
     "duration": 0.016692,
     "end_time": "2023-06-14T14:22:01.464697",
     "exception": false,
     "start_time": "2023-06-14T14:22:01.448005",
     "status": "completed"
    },
    "tags": []
   },
   "outputs": [],
   "source": [
    "drop_feature_names = ['Name', 'Cabin', 'Ticket']"
   ]
  },
  {
   "cell_type": "code",
   "execution_count": 6,
   "id": "c01b1358",
   "metadata": {
    "execution": {
     "iopub.execute_input": "2023-06-14T14:22:01.477759Z",
     "iopub.status.busy": "2023-06-14T14:22:01.477029Z",
     "iopub.status.idle": "2023-06-14T14:22:01.481499Z",
     "shell.execute_reply": "2023-06-14T14:22:01.480688Z"
    },
    "papermill": {
     "duration": 0.013472,
     "end_time": "2023-06-14T14:22:01.483618",
     "exception": false,
     "start_time": "2023-06-14T14:22:01.470146",
     "status": "completed"
    },
    "tags": []
   },
   "outputs": [],
   "source": [
    "map_features = ['Sex', 'Embarked']\n",
    "map_dicts = [{'male':0, 'female':1}, {'Q':0, 'C':1, 'S':2}]"
   ]
  },
  {
   "cell_type": "code",
   "execution_count": 7,
   "id": "332e22a0",
   "metadata": {
    "execution": {
     "iopub.execute_input": "2023-06-14T14:22:01.496698Z",
     "iopub.status.busy": "2023-06-14T14:22:01.495932Z",
     "iopub.status.idle": "2023-06-14T14:22:01.500764Z",
     "shell.execute_reply": "2023-06-14T14:22:01.499971Z"
    },
    "papermill": {
     "duration": 0.0136,
     "end_time": "2023-06-14T14:22:01.502783",
     "exception": false,
     "start_time": "2023-06-14T14:22:01.489183",
     "status": "completed"
    },
    "tags": []
   },
   "outputs": [],
   "source": [
    "models = []\n",
    "\n",
    "models.append(('SVM', SVC()))\n",
    "models.append(('KNN', KNeighborsClassifier()))\n",
    "models.append(('LR', LogisticRegression()))"
   ]
  },
  {
   "cell_type": "code",
   "execution_count": 8,
   "id": "0ae103da",
   "metadata": {
    "execution": {
     "iopub.execute_input": "2023-06-14T14:22:01.515592Z",
     "iopub.status.busy": "2023-06-14T14:22:01.514902Z",
     "iopub.status.idle": "2023-06-14T14:22:01.519398Z",
     "shell.execute_reply": "2023-06-14T14:22:01.518643Z"
    },
    "papermill": {
     "duration": 0.013308,
     "end_time": "2023-06-14T14:22:01.521433",
     "exception": false,
     "start_time": "2023-06-14T14:22:01.508125",
     "status": "completed"
    },
    "tags": []
   },
   "outputs": [],
   "source": [
    "def drop_features(df, d_features):\n",
    "    df_dropped = df\n",
    "    \n",
    "    for feature in d_features:\n",
    "        df_dropped = df_dropped.drop(str(feature), axis=1)\n",
    "        \n",
    "    return df_dropped"
   ]
  },
  {
   "cell_type": "code",
   "execution_count": 9,
   "id": "1312363e",
   "metadata": {
    "execution": {
     "iopub.execute_input": "2023-06-14T14:22:01.533609Z",
     "iopub.status.busy": "2023-06-14T14:22:01.533226Z",
     "iopub.status.idle": "2023-06-14T14:22:01.539284Z",
     "shell.execute_reply": "2023-06-14T14:22:01.538355Z"
    },
    "papermill": {
     "duration": 0.014581,
     "end_time": "2023-06-14T14:22:01.541365",
     "exception": false,
     "start_time": "2023-06-14T14:22:01.526784",
     "status": "completed"
    },
    "tags": []
   },
   "outputs": [],
   "source": [
    "def map_cat(df, features, dictionaries):\n",
    "    '''\n",
    "    Map categorical data to be numeric\n",
    "    \n",
    "    Input:\n",
    "        - Dataframe for the mapping to take place in\n",
    "        - List of features that contain categorical data\n",
    "        - List of dictionaries to govern how to map the feature\n",
    "    \n",
    "    Output: A dataframe with the given features mapped according to the dictionaries\n",
    "        \n",
    "    '''\n",
    "    df_mapped = df\n",
    "    \n",
    "    for i in range(len(features)):\n",
    "        feature = features[i]\n",
    "        dictionary = dictionaries[i]\n",
    "        \n",
    "        df_mapped[feature] = df[feature].map(dictionary)\n",
    "        \n",
    "    return df_mapped"
   ]
  },
  {
   "cell_type": "code",
   "execution_count": 10,
   "id": "dc579865",
   "metadata": {
    "execution": {
     "iopub.execute_input": "2023-06-14T14:22:01.553865Z",
     "iopub.status.busy": "2023-06-14T14:22:01.553200Z",
     "iopub.status.idle": "2023-06-14T14:22:01.558733Z",
     "shell.execute_reply": "2023-06-14T14:22:01.557366Z"
    },
    "papermill": {
     "duration": 0.014352,
     "end_time": "2023-06-14T14:22:01.561129",
     "exception": false,
     "start_time": "2023-06-14T14:22:01.546777",
     "status": "completed"
    },
    "tags": []
   },
   "outputs": [],
   "source": [
    "def normalize(feature):\n",
    "    '''\n",
    "    This function normalizes a Series\n",
    "    \n",
    "    Input: A feature of type Series\n",
    "    \n",
    "    Output: The normalized feature of type Series\n",
    "    '''\n",
    "    return (feature - feature.mean())/feature.std()"
   ]
  },
  {
   "cell_type": "code",
   "execution_count": 11,
   "id": "b53dbd99",
   "metadata": {
    "execution": {
     "iopub.execute_input": "2023-06-14T14:22:01.573898Z",
     "iopub.status.busy": "2023-06-14T14:22:01.573258Z",
     "iopub.status.idle": "2023-06-14T14:22:01.578165Z",
     "shell.execute_reply": "2023-06-14T14:22:01.577176Z"
    },
    "papermill": {
     "duration": 0.013585,
     "end_time": "2023-06-14T14:22:01.580047",
     "exception": false,
     "start_time": "2023-06-14T14:22:01.566462",
     "status": "completed"
    },
    "tags": []
   },
   "outputs": [],
   "source": [
    "def normalize_features(df):\n",
    "    '''\n",
    "    This function normalizes all features in a dataframe\n",
    "    \n",
    "    Input: A pandas dataframe\n",
    "    \n",
    "    Output: The normalized dataframe\n",
    "    '''\n",
    "    for column in df.columns:\n",
    "        df[column] = normalize(df[column])\n",
    "    return df"
   ]
  },
  {
   "cell_type": "code",
   "execution_count": 12,
   "id": "078308f1",
   "metadata": {
    "execution": {
     "iopub.execute_input": "2023-06-14T14:22:01.592561Z",
     "iopub.status.busy": "2023-06-14T14:22:01.592003Z",
     "iopub.status.idle": "2023-06-14T14:22:01.597485Z",
     "shell.execute_reply": "2023-06-14T14:22:01.596762Z"
    },
    "papermill": {
     "duration": 0.014305,
     "end_time": "2023-06-14T14:22:01.599618",
     "exception": false,
     "start_time": "2023-06-14T14:22:01.585313",
     "status": "completed"
    },
    "tags": []
   },
   "outputs": [],
   "source": [
    "def perform_cross_validation(X_train, y_train):\n",
    "    '''\n",
    "    This function goes through the steps to perform Stratified K-fold cross validation using the list of models described above.\n",
    "    \n",
    "    Input: \n",
    "        - A dataframe containing the features use to build the model\n",
    "        - A Series of the true values associated with the feature list\n",
    "    \n",
    "    Output: Printed result for the mean and standard deviation of each model\n",
    "    '''\n",
    "    results = dict()\n",
    "\n",
    "    for name, model in models:\n",
    "        kfold = StratifiedKFold(n_splits=10)\n",
    "        cv_results = cross_val_score(model, X_train, y_train, cv=kfold, scoring='accuracy')\n",
    "        results[name] = (cv_results.mean(), cv_results.std())\n",
    "\n",
    "    print('Model\\t\\tCV Mean\\t\\tCV std')\n",
    "    print(results)"
   ]
  },
  {
   "cell_type": "code",
   "execution_count": 13,
   "id": "1141c26b",
   "metadata": {
    "execution": {
     "iopub.execute_input": "2023-06-14T14:22:01.612443Z",
     "iopub.status.busy": "2023-06-14T14:22:01.611858Z",
     "iopub.status.idle": "2023-06-14T14:22:01.616586Z",
     "shell.execute_reply": "2023-06-14T14:22:01.615781Z"
    },
    "papermill": {
     "duration": 0.013611,
     "end_time": "2023-06-14T14:22:01.618786",
     "exception": false,
     "start_time": "2023-06-14T14:22:01.605175",
     "status": "completed"
    },
    "tags": []
   },
   "outputs": [],
   "source": [
    "def prepare_dataframe(df, d_features, fill_fare):\n",
    "    df_dropped = drop_features(df, d_features)\n",
    "    df_dropped['Fare'] = df_dropped['Fare'].fillna(fill_fare)\n",
    "    df_dropped['Embarked'] = df_dropped['Embarked'].fillna('S')\n",
    "    df_mapped = map_cat(df_dropped, map_features, map_dicts)\n",
    "    return df_mapped"
   ]
  },
  {
   "cell_type": "markdown",
   "id": "2db72cd5",
   "metadata": {
    "papermill": {
     "duration": 0.005107,
     "end_time": "2023-06-14T14:22:01.629955",
     "exception": false,
     "start_time": "2023-06-14T14:22:01.624848",
     "status": "completed"
    },
    "tags": []
   },
   "source": []
  },
  {
   "cell_type": "code",
   "execution_count": 14,
   "id": "3899132b",
   "metadata": {
    "execution": {
     "iopub.execute_input": "2023-06-14T14:22:01.643105Z",
     "iopub.status.busy": "2023-06-14T14:22:01.642539Z",
     "iopub.status.idle": "2023-06-14T14:22:01.667709Z",
     "shell.execute_reply": "2023-06-14T14:22:01.666855Z"
    },
    "papermill": {
     "duration": 0.03433,
     "end_time": "2023-06-14T14:22:01.670089",
     "exception": false,
     "start_time": "2023-06-14T14:22:01.635759",
     "status": "completed"
    },
    "tags": []
   },
   "outputs": [],
   "source": [
    "df_train_noAge = pd.read_csv(train_filepath, index_col='PassengerId')\n",
    "df_test_noAge = pd.read_csv(test_filepath, index_col='PassengerId')"
   ]
  },
  {
   "cell_type": "code",
   "execution_count": 15,
   "id": "a51193d8",
   "metadata": {
    "execution": {
     "iopub.execute_input": "2023-06-14T14:22:01.682810Z",
     "iopub.status.busy": "2023-06-14T14:22:01.682400Z",
     "iopub.status.idle": "2023-06-14T14:22:01.687106Z",
     "shell.execute_reply": "2023-06-14T14:22:01.685853Z"
    },
    "papermill": {
     "duration": 0.013989,
     "end_time": "2023-06-14T14:22:01.689500",
     "exception": false,
     "start_time": "2023-06-14T14:22:01.675511",
     "status": "completed"
    },
    "tags": []
   },
   "outputs": [],
   "source": [
    "drop_feature_names_w_age = drop_feature_names + ['Age']"
   ]
  },
  {
   "cell_type": "code",
   "execution_count": 16,
   "id": "204e143a",
   "metadata": {
    "execution": {
     "iopub.execute_input": "2023-06-14T14:22:01.702100Z",
     "iopub.status.busy": "2023-06-14T14:22:01.701461Z",
     "iopub.status.idle": "2023-06-14T14:22:01.719595Z",
     "shell.execute_reply": "2023-06-14T14:22:01.718373Z"
    },
    "papermill": {
     "duration": 0.027081,
     "end_time": "2023-06-14T14:22:01.722027",
     "exception": false,
     "start_time": "2023-06-14T14:22:01.694946",
     "status": "completed"
    },
    "tags": []
   },
   "outputs": [],
   "source": [
    "df_train_noAge = prepare_dataframe(df_train_noAge, drop_feature_names_w_age, fill_fare_mean)\n",
    "df_test_noAge = prepare_dataframe(df_test_noAge, drop_feature_names_w_age, fill_fare_mean)"
   ]
  },
  {
   "cell_type": "code",
   "execution_count": 17,
   "id": "78d8f15f",
   "metadata": {
    "execution": {
     "iopub.execute_input": "2023-06-14T14:22:01.734575Z",
     "iopub.status.busy": "2023-06-14T14:22:01.734031Z",
     "iopub.status.idle": "2023-06-14T14:22:01.740316Z",
     "shell.execute_reply": "2023-06-14T14:22:01.739208Z"
    },
    "papermill": {
     "duration": 0.015303,
     "end_time": "2023-06-14T14:22:01.742743",
     "exception": false,
     "start_time": "2023-06-14T14:22:01.727440",
     "status": "completed"
    },
    "tags": []
   },
   "outputs": [],
   "source": [
    "X_noAge = df_train_noAge.drop('Survived', axis=1)\n",
    "y_noAge = df_train_noAge['Survived']"
   ]
  },
  {
   "cell_type": "code",
   "execution_count": 18,
   "id": "76c06211",
   "metadata": {
    "execution": {
     "iopub.execute_input": "2023-06-14T14:22:01.756309Z",
     "iopub.status.busy": "2023-06-14T14:22:01.755356Z",
     "iopub.status.idle": "2023-06-14T14:22:01.768692Z",
     "shell.execute_reply": "2023-06-14T14:22:01.767793Z"
    },
    "papermill": {
     "duration": 0.022848,
     "end_time": "2023-06-14T14:22:01.771230",
     "exception": false,
     "start_time": "2023-06-14T14:22:01.748382",
     "status": "completed"
    },
    "tags": []
   },
   "outputs": [],
   "source": [
    "X_noAge = normalize_features(X_noAge)\n",
    "df_test_noAge = normalize_features(df_test_noAge)"
   ]
  },
  {
   "cell_type": "code",
   "execution_count": 19,
   "id": "777b23cf",
   "metadata": {
    "execution": {
     "iopub.execute_input": "2023-06-14T14:22:01.784319Z",
     "iopub.status.busy": "2023-06-14T14:22:01.783197Z",
     "iopub.status.idle": "2023-06-14T14:22:02.182087Z",
     "shell.execute_reply": "2023-06-14T14:22:02.180979Z"
    },
    "papermill": {
     "duration": 0.407994,
     "end_time": "2023-06-14T14:22:02.184585",
     "exception": false,
     "start_time": "2023-06-14T14:22:01.776591",
     "status": "completed"
    },
    "tags": []
   },
   "outputs": [
    {
     "name": "stdout",
     "output_type": "stream",
     "text": [
      "Model\t\tCV Mean\t\tCV std\n",
      "{'SVM': (0.8058052434456927, 0.02817776516195646), 'KNN': (0.8092384519350813, 0.04749914265913915), 'LR': (0.7934706616729088, 0.024861946815253916)}\n"
     ]
    }
   ],
   "source": [
    "perform_cross_validation(X_noAge, y_noAge)"
   ]
  },
  {
   "cell_type": "code",
   "execution_count": 20,
   "id": "c7f49c31",
   "metadata": {
    "execution": {
     "iopub.execute_input": "2023-06-14T14:22:02.198134Z",
     "iopub.status.busy": "2023-06-14T14:22:02.196964Z",
     "iopub.status.idle": "2023-06-14T14:22:02.242061Z",
     "shell.execute_reply": "2023-06-14T14:22:02.240822Z"
    },
    "papermill": {
     "duration": 0.054578,
     "end_time": "2023-06-14T14:22:02.244666",
     "exception": false,
     "start_time": "2023-06-14T14:22:02.190088",
     "status": "completed"
    },
    "tags": []
   },
   "outputs": [
    {
     "data": {
      "text/html": [
       "<div>\n",
       "<style scoped>\n",
       "    .dataframe tbody tr th:only-of-type {\n",
       "        vertical-align: middle;\n",
       "    }\n",
       "\n",
       "    .dataframe tbody tr th {\n",
       "        vertical-align: top;\n",
       "    }\n",
       "\n",
       "    .dataframe thead th {\n",
       "        text-align: right;\n",
       "    }\n",
       "</style>\n",
       "<table border=\"1\" class=\"dataframe\">\n",
       "  <thead>\n",
       "    <tr style=\"text-align: right;\">\n",
       "      <th></th>\n",
       "      <th>Survived</th>\n",
       "    </tr>\n",
       "    <tr>\n",
       "      <th>PassengerId</th>\n",
       "      <th></th>\n",
       "    </tr>\n",
       "  </thead>\n",
       "  <tbody>\n",
       "    <tr>\n",
       "      <th>892</th>\n",
       "      <td>0</td>\n",
       "    </tr>\n",
       "    <tr>\n",
       "      <th>893</th>\n",
       "      <td>0</td>\n",
       "    </tr>\n",
       "    <tr>\n",
       "      <th>894</th>\n",
       "      <td>0</td>\n",
       "    </tr>\n",
       "    <tr>\n",
       "      <th>895</th>\n",
       "      <td>0</td>\n",
       "    </tr>\n",
       "    <tr>\n",
       "      <th>896</th>\n",
       "      <td>1</td>\n",
       "    </tr>\n",
       "  </tbody>\n",
       "</table>\n",
       "</div>"
      ],
      "text/plain": [
       "             Survived\n",
       "PassengerId          \n",
       "892                 0\n",
       "893                 0\n",
       "894                 0\n",
       "895                 0\n",
       "896                 1"
      ]
     },
     "execution_count": 20,
     "metadata": {},
     "output_type": "execute_result"
    }
   ],
   "source": [
    "clf_noAge = KNeighborsClassifier().fit(X_noAge,y_noAge)\n",
    "\n",
    "predictions_noAge = clf_noAge.predict(df_test_noAge)\n",
    "\n",
    "submission1_noAge = pd.DataFrame(data={'Survived':predictions_noAge}, index=df_test_noAge.index)\n",
    "\n",
    "submission1_noAge.head()"
   ]
  },
  {
   "cell_type": "code",
   "execution_count": 21,
   "id": "f2bc2fea",
   "metadata": {
    "execution": {
     "iopub.execute_input": "2023-06-14T14:22:02.257851Z",
     "iopub.status.busy": "2023-06-14T14:22:02.257187Z",
     "iopub.status.idle": "2023-06-14T14:22:02.267719Z",
     "shell.execute_reply": "2023-06-14T14:22:02.266691Z"
    },
    "papermill": {
     "duration": 0.019664,
     "end_time": "2023-06-14T14:22:02.270066",
     "exception": false,
     "start_time": "2023-06-14T14:22:02.250402",
     "status": "completed"
    },
    "tags": []
   },
   "outputs": [],
   "source": [
    "submission1_noAge.to_csv('Titanic_Submission-No_Age-Mean_Fare-2023_6_14.csv')"
   ]
  }
 ],
 "metadata": {
  "kernelspec": {
   "display_name": "Python 3",
   "language": "python",
   "name": "python3"
  },
  "language_info": {
   "codemirror_mode": {
    "name": "ipython",
    "version": 3
   },
   "file_extension": ".py",
   "mimetype": "text/x-python",
   "name": "python",
   "nbconvert_exporter": "python",
   "pygments_lexer": "ipython3",
   "version": "3.10.10"
  },
  "papermill": {
   "default_parameters": {},
   "duration": 13.781469,
   "end_time": "2023-06-14T14:22:03.197271",
   "environment_variables": {},
   "exception": null,
   "input_path": "__notebook__.ipynb",
   "output_path": "__notebook__.ipynb",
   "parameters": {},
   "start_time": "2023-06-14T14:21:49.415802",
   "version": "2.4.0"
  }
 },
 "nbformat": 4,
 "nbformat_minor": 5
}
