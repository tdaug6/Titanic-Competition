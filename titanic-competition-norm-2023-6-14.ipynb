{
 "cells": [
  {
   "cell_type": "code",
   "execution_count": 1,
   "id": "b7bedde4",
   "metadata": {
    "_cell_guid": "b1076dfc-b9ad-4769-8c92-a6c4dae69d19",
    "_uuid": "8f2839f25d086af736a60e9eeb907d3b93b6e0e5",
    "execution": {
     "iopub.execute_input": "2023-06-14T13:54:51.004689Z",
     "iopub.status.busy": "2023-06-14T13:54:51.004312Z",
     "iopub.status.idle": "2023-06-14T13:54:52.871345Z",
     "shell.execute_reply": "2023-06-14T13:54:52.870077Z"
    },
    "papermill": {
     "duration": 1.87964,
     "end_time": "2023-06-14T13:54:52.874406",
     "exception": false,
     "start_time": "2023-06-14T13:54:50.994766",
     "status": "completed"
    },
    "tags": []
   },
   "outputs": [],
   "source": [
    "import numpy as np\n",
    "import pandas as pd\n",
    "\n",
    "from sklearn.linear_model import LogisticRegression\n",
    "from sklearn.neighbors import KNeighborsClassifier\n",
    "from sklearn.svm import SVC\n",
    "\n",
    "from sklearn.model_selection import StratifiedKFold, cross_val_score"
   ]
  },
  {
   "cell_type": "code",
   "execution_count": 2,
   "id": "f5e1ace5",
   "metadata": {
    "execution": {
     "iopub.execute_input": "2023-06-14T13:54:52.892520Z",
     "iopub.status.busy": "2023-06-14T13:54:52.891407Z",
     "iopub.status.idle": "2023-06-14T13:54:52.896772Z",
     "shell.execute_reply": "2023-06-14T13:54:52.895889Z"
    },
    "papermill": {
     "duration": 0.017254,
     "end_time": "2023-06-14T13:54:52.899284",
     "exception": false,
     "start_time": "2023-06-14T13:54:52.882030",
     "status": "completed"
    },
    "tags": []
   },
   "outputs": [],
   "source": [
    "train_filepath = '/kaggle/input/titanic/train.csv'\n",
    "test_filepath = '/kaggle/input/titanic/test.csv'"
   ]
  },
  {
   "cell_type": "code",
   "execution_count": 3,
   "id": "14c1d3ac",
   "metadata": {
    "execution": {
     "iopub.execute_input": "2023-06-14T13:54:52.916395Z",
     "iopub.status.busy": "2023-06-14T13:54:52.915683Z",
     "iopub.status.idle": "2023-06-14T13:54:52.921213Z",
     "shell.execute_reply": "2023-06-14T13:54:52.920315Z"
    },
    "papermill": {
     "duration": 0.01698,
     "end_time": "2023-06-14T13:54:52.923771",
     "exception": false,
     "start_time": "2023-06-14T13:54:52.906791",
     "status": "completed"
    },
    "tags": []
   },
   "outputs": [],
   "source": [
    "drop_feature_names = ['Name', 'Cabin', 'Ticket']"
   ]
  },
  {
   "cell_type": "code",
   "execution_count": 4,
   "id": "c52976c6",
   "metadata": {
    "execution": {
     "iopub.execute_input": "2023-06-14T13:54:52.940730Z",
     "iopub.status.busy": "2023-06-14T13:54:52.939887Z",
     "iopub.status.idle": "2023-06-14T13:54:52.945640Z",
     "shell.execute_reply": "2023-06-14T13:54:52.944692Z"
    },
    "papermill": {
     "duration": 0.017764,
     "end_time": "2023-06-14T13:54:52.948868",
     "exception": false,
     "start_time": "2023-06-14T13:54:52.931104",
     "status": "completed"
    },
    "tags": []
   },
   "outputs": [],
   "source": [
    "map_features = ['Sex', 'Embarked']\n",
    "map_dicts = [{'male':0, 'female':1}, {'Q':0, 'C':1, 'S':2}]"
   ]
  },
  {
   "cell_type": "code",
   "execution_count": 5,
   "id": "c4402a9e",
   "metadata": {
    "execution": {
     "iopub.execute_input": "2023-06-14T13:54:52.968197Z",
     "iopub.status.busy": "2023-06-14T13:54:52.967412Z",
     "iopub.status.idle": "2023-06-14T13:54:52.973845Z",
     "shell.execute_reply": "2023-06-14T13:54:52.972810Z"
    },
    "papermill": {
     "duration": 0.019502,
     "end_time": "2023-06-14T13:54:52.976437",
     "exception": false,
     "start_time": "2023-06-14T13:54:52.956935",
     "status": "completed"
    },
    "tags": []
   },
   "outputs": [],
   "source": [
    "models = []\n",
    "\n",
    "models.append(('SVM', SVC()))\n",
    "models.append(('KNN', KNeighborsClassifier()))\n",
    "models.append(('LR', LogisticRegression()))"
   ]
  },
  {
   "cell_type": "code",
   "execution_count": 6,
   "id": "eea04dfe",
   "metadata": {
    "execution": {
     "iopub.execute_input": "2023-06-14T13:54:52.993264Z",
     "iopub.status.busy": "2023-06-14T13:54:52.992524Z",
     "iopub.status.idle": "2023-06-14T13:54:52.997945Z",
     "shell.execute_reply": "2023-06-14T13:54:52.996800Z"
    },
    "papermill": {
     "duration": 0.016588,
     "end_time": "2023-06-14T13:54:53.000371",
     "exception": false,
     "start_time": "2023-06-14T13:54:52.983783",
     "status": "completed"
    },
    "tags": []
   },
   "outputs": [],
   "source": [
    "def drop_features(df, d_features):\n",
    "    df_dropped = df\n",
    "    \n",
    "    for feature in d_features:\n",
    "        df_dropped = df_dropped.drop(str(feature), axis=1)\n",
    "        \n",
    "    return df_dropped"
   ]
  },
  {
   "cell_type": "code",
   "execution_count": 7,
   "id": "b416fa15",
   "metadata": {
    "execution": {
     "iopub.execute_input": "2023-06-14T13:54:53.017249Z",
     "iopub.status.busy": "2023-06-14T13:54:53.016823Z",
     "iopub.status.idle": "2023-06-14T13:54:53.024233Z",
     "shell.execute_reply": "2023-06-14T13:54:53.023014Z"
    },
    "papermill": {
     "duration": 0.019086,
     "end_time": "2023-06-14T13:54:53.026791",
     "exception": false,
     "start_time": "2023-06-14T13:54:53.007705",
     "status": "completed"
    },
    "tags": []
   },
   "outputs": [],
   "source": [
    "def map_cat(df, features, dictionaries):\n",
    "    '''\n",
    "    Map categorical data to be numeric\n",
    "    \n",
    "    Input:\n",
    "        - Dataframe for the mapping to take place in\n",
    "        - List of features that contain categorical data\n",
    "        - List of dictionaries to govern how to map the feature\n",
    "    \n",
    "    Output: A dataframe with the given features mapped according to the dictionaries\n",
    "        \n",
    "    '''\n",
    "    df_mapped = df\n",
    "    \n",
    "    for i in range(len(features)):\n",
    "        feature = features[i]\n",
    "        dictionary = dictionaries[i]\n",
    "        \n",
    "        df_mapped[feature] = df[feature].map(dictionary)\n",
    "        \n",
    "    return df_mapped"
   ]
  },
  {
   "cell_type": "code",
   "execution_count": 8,
   "id": "790aeaef",
   "metadata": {
    "execution": {
     "iopub.execute_input": "2023-06-14T13:54:53.043540Z",
     "iopub.status.busy": "2023-06-14T13:54:53.043094Z",
     "iopub.status.idle": "2023-06-14T13:54:53.047999Z",
     "shell.execute_reply": "2023-06-14T13:54:53.047177Z"
    },
    "papermill": {
     "duration": 0.016382,
     "end_time": "2023-06-14T13:54:53.050345",
     "exception": false,
     "start_time": "2023-06-14T13:54:53.033963",
     "status": "completed"
    },
    "tags": []
   },
   "outputs": [],
   "source": [
    "def normalize(feature):\n",
    "    '''\n",
    "    This function normalizes a Series\n",
    "    \n",
    "    Input: A feature of type Series\n",
    "    \n",
    "    Output: The normalized feature of type Series\n",
    "    '''\n",
    "    return (feature - feature.mean())/feature.std()"
   ]
  },
  {
   "cell_type": "code",
   "execution_count": 9,
   "id": "999f62f2",
   "metadata": {
    "execution": {
     "iopub.execute_input": "2023-06-14T13:54:53.067963Z",
     "iopub.status.busy": "2023-06-14T13:54:53.066806Z",
     "iopub.status.idle": "2023-06-14T13:54:53.072940Z",
     "shell.execute_reply": "2023-06-14T13:54:53.071807Z"
    },
    "papermill": {
     "duration": 0.017636,
     "end_time": "2023-06-14T13:54:53.075678",
     "exception": false,
     "start_time": "2023-06-14T13:54:53.058042",
     "status": "completed"
    },
    "tags": []
   },
   "outputs": [],
   "source": [
    "def normalize_features(df):\n",
    "    '''\n",
    "    This function normalizes all features in a dataframe\n",
    "    \n",
    "    Input: A pandas dataframe\n",
    "    \n",
    "    Output: The normalized dataframe\n",
    "    '''\n",
    "    for column in df.columns:\n",
    "        df[column] = normalize(df[column])\n",
    "    return df"
   ]
  },
  {
   "cell_type": "code",
   "execution_count": 10,
   "id": "692350d1",
   "metadata": {
    "execution": {
     "iopub.execute_input": "2023-06-14T13:54:53.093532Z",
     "iopub.status.busy": "2023-06-14T13:54:53.092403Z",
     "iopub.status.idle": "2023-06-14T13:54:53.100614Z",
     "shell.execute_reply": "2023-06-14T13:54:53.099378Z"
    },
    "papermill": {
     "duration": 0.019818,
     "end_time": "2023-06-14T13:54:53.102962",
     "exception": false,
     "start_time": "2023-06-14T13:54:53.083144",
     "status": "completed"
    },
    "tags": []
   },
   "outputs": [],
   "source": [
    "def perform_cross_validation(X_train, y_train):\n",
    "    '''\n",
    "    This function goes through the steps to perform Stratified K-fold cross validation using the list of models described above.\n",
    "    \n",
    "    Input: \n",
    "        - A dataframe containing the features use to build the model\n",
    "        - A Series of the true values associated with the feature list\n",
    "    \n",
    "    Output: Printed result for the mean and standard deviation of each model\n",
    "    '''\n",
    "    results = dict()\n",
    "\n",
    "    for name, model in models:\n",
    "        kfold = StratifiedKFold(n_splits=10)\n",
    "        cv_results = cross_val_score(model, X_train, y_train, cv=kfold, scoring='accuracy')\n",
    "        results[name] = (cv_results.mean(), cv_results.std())\n",
    "\n",
    "    print('Model\\t\\tCV Mean\\t\\tCV std')\n",
    "    print(results)"
   ]
  },
  {
   "cell_type": "code",
   "execution_count": 11,
   "id": "e1d08e92",
   "metadata": {
    "execution": {
     "iopub.execute_input": "2023-06-14T13:54:53.119536Z",
     "iopub.status.busy": "2023-06-14T13:54:53.118888Z",
     "iopub.status.idle": "2023-06-14T13:54:53.175342Z",
     "shell.execute_reply": "2023-06-14T13:54:53.174133Z"
    },
    "papermill": {
     "duration": 0.06805,
     "end_time": "2023-06-14T13:54:53.178367",
     "exception": false,
     "start_time": "2023-06-14T13:54:53.110317",
     "status": "completed"
    },
    "tags": []
   },
   "outputs": [],
   "source": [
    "df_train = pd.read_csv(train_filepath, index_col='PassengerId')\n",
    "df_test = pd.read_csv(test_filepath, index_col='PassengerId')"
   ]
  },
  {
   "cell_type": "code",
   "execution_count": 12,
   "id": "74eab4cf",
   "metadata": {
    "execution": {
     "iopub.execute_input": "2023-06-14T13:54:53.194719Z",
     "iopub.status.busy": "2023-06-14T13:54:53.194317Z",
     "iopub.status.idle": "2023-06-14T13:54:53.199340Z",
     "shell.execute_reply": "2023-06-14T13:54:53.198264Z"
    },
    "papermill": {
     "duration": 0.015694,
     "end_time": "2023-06-14T13:54:53.201638",
     "exception": false,
     "start_time": "2023-06-14T13:54:53.185944",
     "status": "completed"
    },
    "tags": []
   },
   "outputs": [],
   "source": [
    "drop_feature_names_w_age = drop_feature_names + ['Age']"
   ]
  },
  {
   "cell_type": "code",
   "execution_count": 13,
   "id": "73a523e7",
   "metadata": {
    "execution": {
     "iopub.execute_input": "2023-06-14T13:54:53.218787Z",
     "iopub.status.busy": "2023-06-14T13:54:53.217610Z",
     "iopub.status.idle": "2023-06-14T13:54:53.234038Z",
     "shell.execute_reply": "2023-06-14T13:54:53.232485Z"
    },
    "papermill": {
     "duration": 0.02796,
     "end_time": "2023-06-14T13:54:53.236885",
     "exception": false,
     "start_time": "2023-06-14T13:54:53.208925",
     "status": "completed"
    },
    "tags": []
   },
   "outputs": [],
   "source": [
    "df_train = drop_features(df_train, drop_feature_names_w_age)\n",
    "df_test = drop_features(df_test, drop_feature_names_w_age)"
   ]
  },
  {
   "cell_type": "code",
   "execution_count": 14,
   "id": "7cce969f",
   "metadata": {
    "execution": {
     "iopub.execute_input": "2023-06-14T13:54:53.253247Z",
     "iopub.status.busy": "2023-06-14T13:54:53.252815Z",
     "iopub.status.idle": "2023-06-14T13:54:53.262134Z",
     "shell.execute_reply": "2023-06-14T13:54:53.260560Z"
    },
    "papermill": {
     "duration": 0.020562,
     "end_time": "2023-06-14T13:54:53.264821",
     "exception": false,
     "start_time": "2023-06-14T13:54:53.244259",
     "status": "completed"
    },
    "tags": []
   },
   "outputs": [],
   "source": [
    "df_test['Fare'] = df_test['Fare'].fillna(df_test['Fare'].mean())"
   ]
  },
  {
   "cell_type": "code",
   "execution_count": 15,
   "id": "78e27a44",
   "metadata": {
    "execution": {
     "iopub.execute_input": "2023-06-14T13:54:53.281088Z",
     "iopub.status.busy": "2023-06-14T13:54:53.280677Z",
     "iopub.status.idle": "2023-06-14T13:54:53.287613Z",
     "shell.execute_reply": "2023-06-14T13:54:53.286549Z"
    },
    "papermill": {
     "duration": 0.017792,
     "end_time": "2023-06-14T13:54:53.290026",
     "exception": false,
     "start_time": "2023-06-14T13:54:53.272234",
     "status": "completed"
    },
    "tags": []
   },
   "outputs": [],
   "source": [
    "df_train['Embarked'] = df_train['Embarked'].fillna('S')"
   ]
  },
  {
   "cell_type": "code",
   "execution_count": 16,
   "id": "2814ab9d",
   "metadata": {
    "execution": {
     "iopub.execute_input": "2023-06-14T13:54:53.306457Z",
     "iopub.status.busy": "2023-06-14T13:54:53.305966Z",
     "iopub.status.idle": "2023-06-14T13:54:53.318470Z",
     "shell.execute_reply": "2023-06-14T13:54:53.317034Z"
    },
    "papermill": {
     "duration": 0.023719,
     "end_time": "2023-06-14T13:54:53.321076",
     "exception": false,
     "start_time": "2023-06-14T13:54:53.297357",
     "status": "completed"
    },
    "tags": []
   },
   "outputs": [],
   "source": [
    "df_train = map_cat(df_train, map_features, map_dicts)\n",
    "df_test = map_cat(df_test, map_features, map_dicts)"
   ]
  },
  {
   "cell_type": "code",
   "execution_count": 17,
   "id": "46399ef3",
   "metadata": {
    "execution": {
     "iopub.execute_input": "2023-06-14T13:54:53.338878Z",
     "iopub.status.busy": "2023-06-14T13:54:53.338482Z",
     "iopub.status.idle": "2023-06-14T13:54:53.345163Z",
     "shell.execute_reply": "2023-06-14T13:54:53.343906Z"
    },
    "papermill": {
     "duration": 0.018994,
     "end_time": "2023-06-14T13:54:53.347458",
     "exception": false,
     "start_time": "2023-06-14T13:54:53.328464",
     "status": "completed"
    },
    "tags": []
   },
   "outputs": [],
   "source": [
    "X = df_train.drop('Survived', axis=1)\n",
    "y = df_train['Survived']"
   ]
  },
  {
   "cell_type": "code",
   "execution_count": 18,
   "id": "4d6eb4ce",
   "metadata": {
    "execution": {
     "iopub.execute_input": "2023-06-14T13:54:53.364453Z",
     "iopub.status.busy": "2023-06-14T13:54:53.364004Z",
     "iopub.status.idle": "2023-06-14T13:54:53.383616Z",
     "shell.execute_reply": "2023-06-14T13:54:53.382387Z"
    },
    "papermill": {
     "duration": 0.031019,
     "end_time": "2023-06-14T13:54:53.386368",
     "exception": false,
     "start_time": "2023-06-14T13:54:53.355349",
     "status": "completed"
    },
    "tags": []
   },
   "outputs": [],
   "source": [
    "X = normalize_features(X)\n",
    "df_test = normalize_features(df_test)"
   ]
  },
  {
   "cell_type": "code",
   "execution_count": 19,
   "id": "92edd914",
   "metadata": {
    "execution": {
     "iopub.execute_input": "2023-06-14T13:54:53.402747Z",
     "iopub.status.busy": "2023-06-14T13:54:53.402274Z",
     "iopub.status.idle": "2023-06-14T13:54:53.849230Z",
     "shell.execute_reply": "2023-06-14T13:54:53.848012Z"
    },
    "papermill": {
     "duration": 0.459641,
     "end_time": "2023-06-14T13:54:53.853249",
     "exception": false,
     "start_time": "2023-06-14T13:54:53.393608",
     "status": "completed"
    },
    "tags": []
   },
   "outputs": [
    {
     "name": "stdout",
     "output_type": "stream",
     "text": [
      "Model\t\tCV Mean\t\tCV std\n",
      "{'SVM': (0.8058052434456927, 0.02817776516195646), 'KNN': (0.8092384519350813, 0.04749914265913915), 'LR': (0.7934706616729088, 0.024861946815253916)}\n"
     ]
    }
   ],
   "source": [
    "perform_cross_validation(X, y)"
   ]
  },
  {
   "cell_type": "code",
   "execution_count": 20,
   "id": "c87f1726",
   "metadata": {
    "execution": {
     "iopub.execute_input": "2023-06-14T13:54:53.870922Z",
     "iopub.status.busy": "2023-06-14T13:54:53.870517Z",
     "iopub.status.idle": "2023-06-14T13:54:53.921530Z",
     "shell.execute_reply": "2023-06-14T13:54:53.920370Z"
    },
    "papermill": {
     "duration": 0.062738,
     "end_time": "2023-06-14T13:54:53.924432",
     "exception": false,
     "start_time": "2023-06-14T13:54:53.861694",
     "status": "completed"
    },
    "tags": []
   },
   "outputs": [
    {
     "data": {
      "text/html": [
       "<div>\n",
       "<style scoped>\n",
       "    .dataframe tbody tr th:only-of-type {\n",
       "        vertical-align: middle;\n",
       "    }\n",
       "\n",
       "    .dataframe tbody tr th {\n",
       "        vertical-align: top;\n",
       "    }\n",
       "\n",
       "    .dataframe thead th {\n",
       "        text-align: right;\n",
       "    }\n",
       "</style>\n",
       "<table border=\"1\" class=\"dataframe\">\n",
       "  <thead>\n",
       "    <tr style=\"text-align: right;\">\n",
       "      <th></th>\n",
       "      <th>Survived</th>\n",
       "    </tr>\n",
       "    <tr>\n",
       "      <th>PassengerId</th>\n",
       "      <th></th>\n",
       "    </tr>\n",
       "  </thead>\n",
       "  <tbody>\n",
       "    <tr>\n",
       "      <th>892</th>\n",
       "      <td>0</td>\n",
       "    </tr>\n",
       "    <tr>\n",
       "      <th>893</th>\n",
       "      <td>0</td>\n",
       "    </tr>\n",
       "    <tr>\n",
       "      <th>894</th>\n",
       "      <td>0</td>\n",
       "    </tr>\n",
       "    <tr>\n",
       "      <th>895</th>\n",
       "      <td>0</td>\n",
       "    </tr>\n",
       "    <tr>\n",
       "      <th>896</th>\n",
       "      <td>1</td>\n",
       "    </tr>\n",
       "  </tbody>\n",
       "</table>\n",
       "</div>"
      ],
      "text/plain": [
       "             Survived\n",
       "PassengerId          \n",
       "892                 0\n",
       "893                 0\n",
       "894                 0\n",
       "895                 0\n",
       "896                 1"
      ]
     },
     "execution_count": 20,
     "metadata": {},
     "output_type": "execute_result"
    }
   ],
   "source": [
    "clf = KNeighborsClassifier().fit(X,y)\n",
    "\n",
    "predictions = clf.predict(df_test)\n",
    "\n",
    "submission1 = pd.DataFrame(data={'Survived':predictions}, index=df_test.index)\n",
    "\n",
    "submission1.head()"
   ]
  },
  {
   "cell_type": "code",
   "execution_count": 21,
   "id": "0d4bf270",
   "metadata": {
    "execution": {
     "iopub.execute_input": "2023-06-14T13:54:53.942003Z",
     "iopub.status.busy": "2023-06-14T13:54:53.941522Z",
     "iopub.status.idle": "2023-06-14T13:54:53.953279Z",
     "shell.execute_reply": "2023-06-14T13:54:53.952119Z"
    },
    "papermill": {
     "duration": 0.023844,
     "end_time": "2023-06-14T13:54:53.956216",
     "exception": false,
     "start_time": "2023-06-14T13:54:53.932372",
     "status": "completed"
    },
    "tags": []
   },
   "outputs": [],
   "source": [
    "submission1.to_csv('Titanic_Submission-No_Age-2023_6_14.csv')"
   ]
  }
 ],
 "metadata": {
  "kernelspec": {
   "display_name": "Python 3",
   "language": "python",
   "name": "python3"
  },
  "language_info": {
   "codemirror_mode": {
    "name": "ipython",
    "version": 3
   },
   "file_extension": ".py",
   "mimetype": "text/x-python",
   "name": "python",
   "nbconvert_exporter": "python",
   "pygments_lexer": "ipython3",
   "version": "3.10.10"
  },
  "papermill": {
   "default_parameters": {},
   "duration": 17.05772,
   "end_time": "2023-06-14T13:54:54.987451",
   "environment_variables": {},
   "exception": null,
   "input_path": "__notebook__.ipynb",
   "output_path": "__notebook__.ipynb",
   "parameters": {},
   "start_time": "2023-06-14T13:54:37.929731",
   "version": "2.4.0"
  }
 },
 "nbformat": 4,
 "nbformat_minor": 5
}
