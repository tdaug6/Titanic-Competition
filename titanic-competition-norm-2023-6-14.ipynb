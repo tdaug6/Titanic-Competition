{
 "cells": [
  {
   "cell_type": "markdown",
   "id": "95434372",
   "metadata": {
    "papermill": {
     "duration": 0.027246,
     "end_time": "2023-06-14T16:20:28.027179",
     "exception": false,
     "start_time": "2023-06-14T16:20:27.999933",
     "status": "completed"
    },
    "tags": []
   },
   "source": [
    "# Titanic Competition\n",
    "\n",
    "*Created by: Taylor Daugherty*\n",
    "\n",
    "*Created on: 5/23/2023    Last updated: 6/14/2023 - Clean up notebook*\n",
    "\n",
    "This notebook contains code to make predictions for the Titanic competition. The notebook attempts to determine the best imputation method for most accurate competition results.\n",
    "\n",
    "**Input File:** train.csv and test.csv from the titanic competition\n",
    "\n",
    "- train.csv contains a training set of data with features and true values\n",
    "\n",
    "- test.csv contains a testing set of data with only features. This is what will be used to make predictions and submit to the competition\n",
    "\n",
    "\n",
    "**Purpose of notebook:** Gain more practice with cross validation and make submissions to the spaceship titanic competition\n",
    "\n",
    "## Table of Contents\n",
    "\n",
    "1. **Universal Application**\n",
    "\n",
    "    a. Imports\n",
    "    \n",
    "    b. Lists\n",
    "    \n",
    "    b. Functions\n",
    "\n",
    "2. **Models**\n",
    "\n",
    "    a. Without Age\n",
    "    \n",
    "    b. With Age"
   ]
  },
  {
   "cell_type": "markdown",
   "id": "c07ea2cf",
   "metadata": {
    "papermill": {
     "duration": 0.023588,
     "end_time": "2023-06-14T16:20:28.074939",
     "exception": false,
     "start_time": "2023-06-14T16:20:28.051351",
     "status": "completed"
    },
    "tags": []
   },
   "source": [
    "**----------------------------------------------------------------------------------------------------------------------------------------------------------------**"
   ]
  },
  {
   "cell_type": "markdown",
   "id": "7b247485",
   "metadata": {
    "papermill": {
     "duration": 0.025696,
     "end_time": "2023-06-14T16:20:28.124283",
     "exception": false,
     "start_time": "2023-06-14T16:20:28.098587",
     "status": "completed"
    },
    "tags": []
   },
   "source": [
    "# Univeral Application\n",
    "\n",
    "In this section is all of the code that is universally applicable throughout the notebook. This includes imports, lists, and functions that make the code much more readable\n",
    "\n",
    "## Contents:\n",
    "\n",
    "1. Imports\n",
    "\n",
    "2. Lists\n",
    "\n",
    "3. Functions"
   ]
  },
  {
   "cell_type": "markdown",
   "id": "5e9442e0",
   "metadata": {
    "papermill": {
     "duration": 0.023165,
     "end_time": "2023-06-14T16:20:28.170987",
     "exception": false,
     "start_time": "2023-06-14T16:20:28.147822",
     "status": "completed"
    },
    "tags": []
   },
   "source": [
    "**--------------------------------------------------------------------------------**"
   ]
  },
  {
   "cell_type": "markdown",
   "id": "e94acea0",
   "metadata": {
    "papermill": {
     "duration": 0.025192,
     "end_time": "2023-06-14T16:20:28.220859",
     "exception": false,
     "start_time": "2023-06-14T16:20:28.195667",
     "status": "completed"
    },
    "tags": []
   },
   "source": [
    "### Packages\n",
    "\n",
    "Import the packages necessary to run the notebook\n",
    "\n",
    "1. numpy: used for linear algebra\n",
    "\n",
    "2. pandas: used for dataframe creation and manipulation\n",
    "\n",
    "5. `LogisticRegression`: a classification model using logistic regression\n",
    "\n",
    "6. `KNeighborsClassifier`: a classification model using KNN\n",
    "\n",
    "7. `SVC`: a classification model using SVM\n",
    "\n",
    "8. `KFold` and `cross_val_score`: used for cross validation"
   ]
  },
  {
   "cell_type": "code",
   "execution_count": 1,
   "id": "f72a9219",
   "metadata": {
    "_cell_guid": "b1076dfc-b9ad-4769-8c92-a6c4dae69d19",
    "_uuid": "8f2839f25d086af736a60e9eeb907d3b93b6e0e5",
    "execution": {
     "iopub.execute_input": "2023-06-14T16:20:28.271740Z",
     "iopub.status.busy": "2023-06-14T16:20:28.270597Z",
     "iopub.status.idle": "2023-06-14T16:20:30.108364Z",
     "shell.execute_reply": "2023-06-14T16:20:30.106916Z"
    },
    "papermill": {
     "duration": 1.867131,
     "end_time": "2023-06-14T16:20:30.111495",
     "exception": false,
     "start_time": "2023-06-14T16:20:28.244364",
     "status": "completed"
    },
    "tags": []
   },
   "outputs": [],
   "source": [
    "import numpy as np\n",
    "import pandas as pd\n",
    "\n",
    "from sklearn.linear_model import LogisticRegression\n",
    "from sklearn.neighbors import KNeighborsClassifier\n",
    "from sklearn.svm import SVC\n",
    "\n",
    "from sklearn.model_selection import StratifiedKFold, cross_val_score"
   ]
  },
  {
   "cell_type": "markdown",
   "id": "3434dfea",
   "metadata": {
    "papermill": {
     "duration": 0.023678,
     "end_time": "2023-06-14T16:20:30.159402",
     "exception": false,
     "start_time": "2023-06-14T16:20:30.135724",
     "status": "completed"
    },
    "tags": []
   },
   "source": [
    "### File paths\n",
    "\n",
    "These are the filepaths to the original data"
   ]
  },
  {
   "cell_type": "code",
   "execution_count": 2,
   "id": "65286738",
   "metadata": {
    "execution": {
     "iopub.execute_input": "2023-06-14T16:20:30.209090Z",
     "iopub.status.busy": "2023-06-14T16:20:30.208405Z",
     "iopub.status.idle": "2023-06-14T16:20:30.213426Z",
     "shell.execute_reply": "2023-06-14T16:20:30.212497Z"
    },
    "papermill": {
     "duration": 0.032968,
     "end_time": "2023-06-14T16:20:30.215949",
     "exception": false,
     "start_time": "2023-06-14T16:20:30.182981",
     "status": "completed"
    },
    "tags": []
   },
   "outputs": [],
   "source": [
    "train_filepath = '/kaggle/input/titanic/train.csv'\n",
    "test_filepath = '/kaggle/input/titanic/test.csv'"
   ]
  },
  {
   "cell_type": "markdown",
   "id": "132c0948",
   "metadata": {
    "papermill": {
     "duration": 0.02426,
     "end_time": "2023-06-14T16:20:30.263981",
     "exception": false,
     "start_time": "2023-06-14T16:20:30.239721",
     "status": "completed"
    },
    "tags": []
   },
   "source": [
    "### Dataframes\n",
    "\n",
    "This is an initial import of the data. There has been no special adaptations to this dataframe that may exist in later imports"
   ]
  },
  {
   "cell_type": "code",
   "execution_count": 3,
   "id": "f2f58ecd",
   "metadata": {
    "execution": {
     "iopub.execute_input": "2023-06-14T16:20:30.314180Z",
     "iopub.status.busy": "2023-06-14T16:20:30.313736Z",
     "iopub.status.idle": "2023-06-14T16:20:30.348663Z",
     "shell.execute_reply": "2023-06-14T16:20:30.347718Z"
    },
    "papermill": {
     "duration": 0.06277,
     "end_time": "2023-06-14T16:20:30.351208",
     "exception": false,
     "start_time": "2023-06-14T16:20:30.288438",
     "status": "completed"
    },
    "tags": []
   },
   "outputs": [],
   "source": [
    "df_train = pd.read_csv(train_filepath)\n",
    "df_test = pd.read_csv(test_filepath)"
   ]
  },
  {
   "cell_type": "markdown",
   "id": "26b95982",
   "metadata": {
    "papermill": {
     "duration": 0.028248,
     "end_time": "2023-06-14T16:20:30.404064",
     "exception": false,
     "start_time": "2023-06-14T16:20:30.375816",
     "status": "completed"
    },
    "tags": []
   },
   "source": [
    "**--------------------------------------------------------------------------------**"
   ]
  },
  {
   "cell_type": "markdown",
   "id": "a70e4e4a",
   "metadata": {
    "papermill": {
     "duration": 0.026489,
     "end_time": "2023-06-14T16:20:30.463702",
     "exception": false,
     "start_time": "2023-06-14T16:20:30.437213",
     "status": "completed"
    },
    "tags": []
   },
   "source": [
    "## Imputing Values\n",
    "\n",
    "This dataset contains a number of missing values. This notebook focuses on finding the best imputations for the 'Fare' and 'Age' features."
   ]
  },
  {
   "cell_type": "markdown",
   "id": "633e1169",
   "metadata": {
    "papermill": {
     "duration": 0.023428,
     "end_time": "2023-06-14T16:20:30.511553",
     "exception": false,
     "start_time": "2023-06-14T16:20:30.488125",
     "status": "completed"
    },
    "tags": []
   },
   "source": [
    "### Fare\n",
    "\n",
    "There is a single value missing in the 'Fare' column of the testing dataset. This can be imputed by using the mean or median of the feature. Both options are shown in the cell below"
   ]
  },
  {
   "cell_type": "code",
   "execution_count": 4,
   "id": "b016f02b",
   "metadata": {
    "execution": {
     "iopub.execute_input": "2023-06-14T16:20:30.565569Z",
     "iopub.status.busy": "2023-06-14T16:20:30.564741Z",
     "iopub.status.idle": "2023-06-14T16:20:30.578426Z",
     "shell.execute_reply": "2023-06-14T16:20:30.577491Z"
    },
    "papermill": {
     "duration": 0.043047,
     "end_time": "2023-06-14T16:20:30.581146",
     "exception": false,
     "start_time": "2023-06-14T16:20:30.538099",
     "status": "completed"
    },
    "tags": []
   },
   "outputs": [],
   "source": [
    "fill_fare_mean = df_test['Fare'].mean()\n",
    "fill_fare_med = df_test['Fare'].median()"
   ]
  },
  {
   "cell_type": "markdown",
   "id": "abd098ad",
   "metadata": {
    "papermill": {
     "duration": 0.023145,
     "end_time": "2023-06-14T16:20:30.627843",
     "exception": false,
     "start_time": "2023-06-14T16:20:30.604698",
     "status": "completed"
    },
    "tags": []
   },
   "source": [
    "### Age\n",
    "\n",
    "The 'Age' column is missing many data points. There are three ways to impute these missing values: mean, median, mode. These are all shown below.\n",
    "\n",
    "The mode had an issue during implementation, so the integer literal of the mode for each dataset was used instead."
   ]
  },
  {
   "cell_type": "code",
   "execution_count": 5,
   "id": "f010fcbd",
   "metadata": {
    "execution": {
     "iopub.execute_input": "2023-06-14T16:20:30.679223Z",
     "iopub.status.busy": "2023-06-14T16:20:30.678365Z",
     "iopub.status.idle": "2023-06-14T16:20:30.689158Z",
     "shell.execute_reply": "2023-06-14T16:20:30.687952Z"
    },
    "papermill": {
     "duration": 0.041258,
     "end_time": "2023-06-14T16:20:30.692503",
     "exception": false,
     "start_time": "2023-06-14T16:20:30.651245",
     "status": "completed"
    },
    "tags": []
   },
   "outputs": [],
   "source": [
    "age_mean_train = df_train['Age'].mean()\n",
    "age_med_train = df_train['Age'].median()\n",
    "age_mode_train = 24\n",
    "\n",
    "age_mean_test = df_test['Age'].mean()\n",
    "age_med_test = df_test['Age'].median()\n",
    "age_mode_test = 24"
   ]
  },
  {
   "cell_type": "markdown",
   "id": "a7caad0d",
   "metadata": {
    "papermill": {
     "duration": 0.023473,
     "end_time": "2023-06-14T16:20:30.739631",
     "exception": false,
     "start_time": "2023-06-14T16:20:30.716158",
     "status": "completed"
    },
    "tags": []
   },
   "source": [
    "**--------------------------------------------------------------------------------**"
   ]
  },
  {
   "cell_type": "markdown",
   "id": "0f2fb2d6",
   "metadata": {
    "papermill": {
     "duration": 0.026321,
     "end_time": "2023-06-14T16:20:30.789534",
     "exception": false,
     "start_time": "2023-06-14T16:20:30.763213",
     "status": "completed"
    },
    "tags": []
   },
   "source": [
    "## Lists\n",
    "\n",
    "There are many cases in this notebook that call for a list. This is so prevalent that a section is needed for it.\n",
    "\n",
    "### Contents:\n",
    "\n",
    "1. Dropping\n",
    "\n",
    "2. Mapping\n",
    "\n",
    "3. Models"
   ]
  },
  {
   "cell_type": "markdown",
   "id": "6794dd76",
   "metadata": {
    "papermill": {
     "duration": 0.032936,
     "end_time": "2023-06-14T16:20:30.853067",
     "exception": false,
     "start_time": "2023-06-14T16:20:30.820131",
     "status": "completed"
    },
    "tags": []
   },
   "source": [
    "### Dropping"
   ]
  },
  {
   "cell_type": "code",
   "execution_count": 6,
   "id": "037c9316",
   "metadata": {
    "execution": {
     "iopub.execute_input": "2023-06-14T16:20:30.904306Z",
     "iopub.status.busy": "2023-06-14T16:20:30.903792Z",
     "iopub.status.idle": "2023-06-14T16:20:30.909690Z",
     "shell.execute_reply": "2023-06-14T16:20:30.908361Z"
    },
    "papermill": {
     "duration": 0.033746,
     "end_time": "2023-06-14T16:20:30.912317",
     "exception": false,
     "start_time": "2023-06-14T16:20:30.878571",
     "status": "completed"
    },
    "tags": []
   },
   "outputs": [],
   "source": [
    "drop_feature_names = ['Name', 'Cabin', 'Ticket']"
   ]
  },
  {
   "cell_type": "markdown",
   "id": "ce87f725",
   "metadata": {
    "papermill": {
     "duration": 0.023737,
     "end_time": "2023-06-14T16:20:30.959933",
     "exception": false,
     "start_time": "2023-06-14T16:20:30.936196",
     "status": "completed"
    },
    "tags": []
   },
   "source": [
    "### Mapping\n",
    "\n",
    "There are many columns in the dataset that contain purely categorical data. Categorical data cannot be used in machine learning models, so the data must be converted to numbers\n",
    "\n",
    "These two lists are designed to identify features and common values to map the categorical data.\n",
    "\n",
    "- The first variable is a list of feature names that have categorical values and will need to be mapped\n",
    "\n",
    "- The second variable is a list of dictionaries to use in mapping. The mapping values are based on frequency in the dataset with higher numbers corresponding to higher frequency"
   ]
  },
  {
   "cell_type": "code",
   "execution_count": 7,
   "id": "c506e5c8",
   "metadata": {
    "execution": {
     "iopub.execute_input": "2023-06-14T16:20:31.010222Z",
     "iopub.status.busy": "2023-06-14T16:20:31.009690Z",
     "iopub.status.idle": "2023-06-14T16:20:31.016090Z",
     "shell.execute_reply": "2023-06-14T16:20:31.014634Z"
    },
    "papermill": {
     "duration": 0.035105,
     "end_time": "2023-06-14T16:20:31.018944",
     "exception": false,
     "start_time": "2023-06-14T16:20:30.983839",
     "status": "completed"
    },
    "tags": []
   },
   "outputs": [],
   "source": [
    "map_features = ['Sex', 'Embarked']\n",
    "map_dicts = [{'male':0, 'female':1}, {'Q':0, 'C':1, 'S':2}]"
   ]
  },
  {
   "cell_type": "markdown",
   "id": "efd80d16",
   "metadata": {
    "papermill": {
     "duration": 0.023502,
     "end_time": "2023-06-14T16:20:31.069206",
     "exception": false,
     "start_time": "2023-06-14T16:20:31.045704",
     "status": "completed"
    },
    "tags": []
   },
   "source": [
    "### Models\n",
    "\n",
    "These are the models that will be used during cross-validation. \n",
    "\n",
    "**Models:**\n",
    "\n",
    "- Logistic Regression\n",
    "\n",
    "- KNN\n",
    "\n",
    "- SVM"
   ]
  },
  {
   "cell_type": "code",
   "execution_count": 8,
   "id": "13d3977f",
   "metadata": {
    "execution": {
     "iopub.execute_input": "2023-06-14T16:20:31.119252Z",
     "iopub.status.busy": "2023-06-14T16:20:31.118720Z",
     "iopub.status.idle": "2023-06-14T16:20:31.125545Z",
     "shell.execute_reply": "2023-06-14T16:20:31.124266Z"
    },
    "papermill": {
     "duration": 0.034852,
     "end_time": "2023-06-14T16:20:31.127977",
     "exception": false,
     "start_time": "2023-06-14T16:20:31.093125",
     "status": "completed"
    },
    "tags": []
   },
   "outputs": [],
   "source": [
    "models = []\n",
    "\n",
    "models.append(('SVM', SVC()))\n",
    "models.append(('KNN', KNeighborsClassifier()))\n",
    "models.append(('LR', LogisticRegression()))"
   ]
  },
  {
   "cell_type": "markdown",
   "id": "bf07f6f6",
   "metadata": {
    "papermill": {
     "duration": 0.024263,
     "end_time": "2023-06-14T16:20:31.176062",
     "exception": false,
     "start_time": "2023-06-14T16:20:31.151799",
     "status": "completed"
    },
    "tags": []
   },
   "source": [
    "**--------------------------------------------------------------------------------**"
   ]
  },
  {
   "cell_type": "markdown",
   "id": "5ae25f60",
   "metadata": {
    "papermill": {
     "duration": 0.023382,
     "end_time": "2023-06-14T16:20:31.223290",
     "exception": false,
     "start_time": "2023-06-14T16:20:31.199908",
     "status": "completed"
    },
    "tags": []
   },
   "source": [
    "## Functions\n",
    "\n",
    "This notebook is heavily dependent on the functions that were created special for it. \n",
    "\n",
    "These functions improve both the readability of the notebook as well as the recreatability of its results. \n",
    "\n",
    "### Contents:\n",
    "\n",
    "1. Dataframe Adjustments\n",
    "\n",
    "2. Cross Validation\n",
    "\n",
    "3. Transform Dataframe"
   ]
  },
  {
   "cell_type": "markdown",
   "id": "4d92265d",
   "metadata": {
    "papermill": {
     "duration": 0.023284,
     "end_time": "2023-06-14T16:20:31.270075",
     "exception": false,
     "start_time": "2023-06-14T16:20:31.246791",
     "status": "completed"
    },
    "tags": []
   },
   "source": [
    "### Dataframe Adjustments\n",
    "\n",
    "These functions all relate to making changes to the dataframe"
   ]
  },
  {
   "cell_type": "markdown",
   "id": "b4148579",
   "metadata": {
    "papermill": {
     "duration": 0.024196,
     "end_time": "2023-06-14T16:20:31.317849",
     "exception": false,
     "start_time": "2023-06-14T16:20:31.293653",
     "status": "completed"
    },
    "tags": []
   },
   "source": [
    "#### fill_na()\n",
    "\n",
    "Fill the NaN values of the features with the fill values\n",
    "\n",
    "**Input:** A dataframe, a list of features, a list of fill values\n",
    "\n",
    "- Dataframe to fill the missing values in\n",
    "\n",
    "- A list of features to look for missing values\n",
    "\n",
    "- A list of values to fill the missing values of the feature with\n",
    "\n",
    "**Output:** A dataframe with the found missing values filled"
   ]
  },
  {
   "cell_type": "code",
   "execution_count": 9,
   "id": "bc3aafae",
   "metadata": {
    "execution": {
     "iopub.execute_input": "2023-06-14T16:20:31.368299Z",
     "iopub.status.busy": "2023-06-14T16:20:31.367445Z",
     "iopub.status.idle": "2023-06-14T16:20:31.374766Z",
     "shell.execute_reply": "2023-06-14T16:20:31.373864Z"
    },
    "papermill": {
     "duration": 0.035152,
     "end_time": "2023-06-14T16:20:31.377375",
     "exception": false,
     "start_time": "2023-06-14T16:20:31.342223",
     "status": "completed"
    },
    "tags": []
   },
   "outputs": [],
   "source": [
    "def fill_na(df, features, vals):\n",
    "    '''\n",
    "    Fill the NaN values of the features with the fill values\n",
    "    \n",
    "    Input:\n",
    "        - Dataframe to fill the missing values in\n",
    "        - A list of features to look for missing values\n",
    "        - A list of values to fill the missing values of the feature with\n",
    "    \n",
    "    Output: A dataframe with the found missing values filled\n",
    "    '''\n",
    "    df_filled = df\n",
    "    \n",
    "    for i in range(len(features)):\n",
    "        feature = features[i]\n",
    "        fill_val = vals[i]\n",
    "        \n",
    "        df_filled[feature] = df_filled[feature].fillna(fill_val)\n",
    "        \n",
    "    return df_filled"
   ]
  },
  {
   "cell_type": "markdown",
   "id": "fbdbf40b",
   "metadata": {
    "papermill": {
     "duration": 0.023785,
     "end_time": "2023-06-14T16:20:31.429321",
     "exception": false,
     "start_time": "2023-06-14T16:20:31.405536",
     "status": "completed"
    },
    "tags": []
   },
   "source": [
    "### drop_features()\n",
    "\n",
    "This drops a list of features from a dataframe. The purpose of this function is to reduce the number of lines in the program by removing all unwanted features at once.\n",
    "\n",
    "**Input:** A dataframe, a list of features\n",
    "\n",
    "- A dataframe to remove the features from\n",
    "\n",
    "- A list of features to remove from the dataframe\n",
    "\n",
    "**Output:** A dataframe without the listed features"
   ]
  },
  {
   "cell_type": "code",
   "execution_count": 10,
   "id": "c7308752",
   "metadata": {
    "execution": {
     "iopub.execute_input": "2023-06-14T16:20:31.479582Z",
     "iopub.status.busy": "2023-06-14T16:20:31.479192Z",
     "iopub.status.idle": "2023-06-14T16:20:31.485724Z",
     "shell.execute_reply": "2023-06-14T16:20:31.484468Z"
    },
    "papermill": {
     "duration": 0.036026,
     "end_time": "2023-06-14T16:20:31.488565",
     "exception": false,
     "start_time": "2023-06-14T16:20:31.452539",
     "status": "completed"
    },
    "tags": []
   },
   "outputs": [],
   "source": [
    "def drop_features(df, d_features):\n",
    "    '''\n",
    "    Drops a list of features from a dataframe\n",
    "    \n",
    "    Input:\n",
    "        - A dataframe to remove the features from\n",
    "        - A list of features to remove from the dataframe\n",
    "        \n",
    "    Output: A dataframe without the listed features\n",
    "    '''\n",
    "    df_dropped = df\n",
    "    \n",
    "    for feature in d_features:\n",
    "        df_dropped = df_dropped.drop(str(feature), axis=1)\n",
    "        \n",
    "    return df_dropped"
   ]
  },
  {
   "cell_type": "markdown",
   "id": "fdb02f54",
   "metadata": {
    "papermill": {
     "duration": 0.023354,
     "end_time": "2023-06-14T16:20:31.535418",
     "exception": false,
     "start_time": "2023-06-14T16:20:31.512064",
     "status": "completed"
    },
    "tags": []
   },
   "source": [
    "#### map_cat()\n",
    "\n",
    "Map categorical data to be numeric\n",
    "\n",
    "**Input:** A dataframe, a list of features, a list of dictionaries\n",
    "\n",
    "- Dataframe for the mapping to take place in\n",
    "\n",
    "- List of features that contain categorical data\n",
    "\n",
    "- List of dictionaries to govern how to map the feature\n",
    "\n",
    "**Output:** A dataframe with the given features mapped according to the dictionaries"
   ]
  },
  {
   "cell_type": "code",
   "execution_count": 11,
   "id": "cfc50852",
   "metadata": {
    "execution": {
     "iopub.execute_input": "2023-06-14T16:20:31.584693Z",
     "iopub.status.busy": "2023-06-14T16:20:31.584316Z",
     "iopub.status.idle": "2023-06-14T16:20:31.590906Z",
     "shell.execute_reply": "2023-06-14T16:20:31.589782Z"
    },
    "papermill": {
     "duration": 0.034505,
     "end_time": "2023-06-14T16:20:31.593372",
     "exception": false,
     "start_time": "2023-06-14T16:20:31.558867",
     "status": "completed"
    },
    "tags": []
   },
   "outputs": [],
   "source": [
    "def map_cat(df, features, dictionaries):\n",
    "    '''\n",
    "    Map categorical data to be numeric\n",
    "    \n",
    "    Input:\n",
    "        - Dataframe for the mapping to take place in\n",
    "        - List of features that contain categorical data\n",
    "        - List of dictionaries to govern how to map the feature\n",
    "    \n",
    "    Output: A dataframe with the given features mapped according to the dictionaries\n",
    "        \n",
    "    '''\n",
    "    df_mapped = df\n",
    "    \n",
    "    for i in range(len(features)):\n",
    "        feature = features[i]\n",
    "        dictionary = dictionaries[i]\n",
    "        \n",
    "        df_mapped[feature] = df[feature].map(dictionary)\n",
    "        \n",
    "    return df_mapped"
   ]
  },
  {
   "cell_type": "markdown",
   "id": "fac53e86",
   "metadata": {
    "papermill": {
     "duration": 0.02305,
     "end_time": "2023-06-14T16:20:31.639812",
     "exception": false,
     "start_time": "2023-06-14T16:20:31.616762",
     "status": "completed"
    },
    "tags": []
   },
   "source": [
    "#### normalize()\n",
    "\n",
    "Normalizes a Series\n",
    "\n",
    "**Input:** A feature of type Series\n",
    "\n",
    "**Output:** The normalized feature of type Series"
   ]
  },
  {
   "cell_type": "code",
   "execution_count": 12,
   "id": "ed6c8e5e",
   "metadata": {
    "execution": {
     "iopub.execute_input": "2023-06-14T16:20:31.688557Z",
     "iopub.status.busy": "2023-06-14T16:20:31.688159Z",
     "iopub.status.idle": "2023-06-14T16:20:31.693650Z",
     "shell.execute_reply": "2023-06-14T16:20:31.692337Z"
    },
    "papermill": {
     "duration": 0.03319,
     "end_time": "2023-06-14T16:20:31.696328",
     "exception": false,
     "start_time": "2023-06-14T16:20:31.663138",
     "status": "completed"
    },
    "tags": []
   },
   "outputs": [],
   "source": [
    "def normalize(feature):\n",
    "    '''\n",
    "    This function normalizes a Series\n",
    "    \n",
    "    Input: A feature of type Series\n",
    "    \n",
    "    Output: The normalized feature of type Series\n",
    "    '''\n",
    "    return (feature - feature.mean())/feature.std()"
   ]
  },
  {
   "cell_type": "markdown",
   "id": "3e117526",
   "metadata": {
    "papermill": {
     "duration": 0.023114,
     "end_time": "2023-06-14T16:20:31.743429",
     "exception": false,
     "start_time": "2023-06-14T16:20:31.720315",
     "status": "completed"
    },
    "tags": []
   },
   "source": [
    "#### normalize_features()\n",
    "\n",
    "Normalizes all features in a given dataframe. This will normalize ALL features, so ensure that the inputted dataframe consists only of numeric values.\n",
    "\n",
    "**Input:** A dataframe to normalize\n",
    "\n",
    "**Output:** A normalized dataframe"
   ]
  },
  {
   "cell_type": "code",
   "execution_count": 13,
   "id": "a32ef596",
   "metadata": {
    "execution": {
     "iopub.execute_input": "2023-06-14T16:20:31.792478Z",
     "iopub.status.busy": "2023-06-14T16:20:31.791992Z",
     "iopub.status.idle": "2023-06-14T16:20:31.797167Z",
     "shell.execute_reply": "2023-06-14T16:20:31.796329Z"
    },
    "papermill": {
     "duration": 0.032681,
     "end_time": "2023-06-14T16:20:31.799518",
     "exception": false,
     "start_time": "2023-06-14T16:20:31.766837",
     "status": "completed"
    },
    "tags": []
   },
   "outputs": [],
   "source": [
    "def normalize_features(df):\n",
    "    '''\n",
    "    This function normalizes all features in a dataframe\n",
    "    \n",
    "    Input: A pandas dataframe\n",
    "    \n",
    "    Output: The normalized dataframe\n",
    "    '''\n",
    "    for column in df.columns:\n",
    "        df[column] = normalize(df[column])\n",
    "    return df"
   ]
  },
  {
   "cell_type": "markdown",
   "id": "e1514e29",
   "metadata": {
    "papermill": {
     "duration": 0.024631,
     "end_time": "2023-06-14T16:20:31.849003",
     "exception": false,
     "start_time": "2023-06-14T16:20:31.824372",
     "status": "completed"
    },
    "tags": []
   },
   "source": [
    "### Cross Validation\n",
    "\n",
    "This function relates to performing cross validation on the dataset using the models listed earlier in the notebook"
   ]
  },
  {
   "cell_type": "markdown",
   "id": "e98108a6",
   "metadata": {
    "papermill": {
     "duration": 0.023778,
     "end_time": "2023-06-14T16:20:31.896520",
     "exception": false,
     "start_time": "2023-06-14T16:20:31.872742",
     "status": "completed"
    },
    "tags": []
   },
   "source": [
    "#### perform_cross_validation()\n",
    "\n",
    "This function goes through the steps to perform Stratified K-fold cross validation using the list of models described above.\n",
    "\n",
    "**Input:** A dataframe containing the features use to build the model, a Series of the true values associated with the feature list\n",
    "\n",
    "**Output:** Printed result for the mean and standard deviation of each model"
   ]
  },
  {
   "cell_type": "code",
   "execution_count": 14,
   "id": "62b54170",
   "metadata": {
    "execution": {
     "iopub.execute_input": "2023-06-14T16:20:31.948135Z",
     "iopub.status.busy": "2023-06-14T16:20:31.947664Z",
     "iopub.status.idle": "2023-06-14T16:20:31.956106Z",
     "shell.execute_reply": "2023-06-14T16:20:31.955226Z"
    },
    "papermill": {
     "duration": 0.036651,
     "end_time": "2023-06-14T16:20:31.958580",
     "exception": false,
     "start_time": "2023-06-14T16:20:31.921929",
     "status": "completed"
    },
    "tags": []
   },
   "outputs": [],
   "source": [
    "def perform_cross_validation(X_train, y_train):\n",
    "    '''\n",
    "    This function goes through the steps to perform Stratified K-fold cross validation using the list of models described above.\n",
    "    \n",
    "    Input: \n",
    "        - A dataframe containing the features use to build the model\n",
    "        - A Series of the true values associated with the feature list\n",
    "    \n",
    "    Output: Printed result for the mean and standard deviation of each model\n",
    "    '''\n",
    "    results = dict()\n",
    "\n",
    "    for name, model in models:\n",
    "        kfold = StratifiedKFold(n_splits=10)\n",
    "        cv_results = cross_val_score(model, X_train, y_train, cv=kfold, scoring='accuracy')\n",
    "        results[name] = (cv_results.mean(), cv_results.std())\n",
    "\n",
    "    print('Model\\t\\tCV Mean\\t\\tCV std')\n",
    "    print(results)"
   ]
  },
  {
   "cell_type": "markdown",
   "id": "603e83df",
   "metadata": {
    "papermill": {
     "duration": 0.024801,
     "end_time": "2023-06-14T16:20:32.007300",
     "exception": false,
     "start_time": "2023-06-14T16:20:31.982499",
     "status": "completed"
    },
    "tags": []
   },
   "source": [
    "### Transform Dataframe\n",
    "\n",
    "Apply dataframe adjustment functions in a single place to transform the dataframe in one step."
   ]
  },
  {
   "cell_type": "markdown",
   "id": "2b3b55f0",
   "metadata": {
    "papermill": {
     "duration": 0.024758,
     "end_time": "2023-06-14T16:20:32.058877",
     "exception": false,
     "start_time": "2023-06-14T16:20:32.034119",
     "status": "completed"
    },
    "tags": []
   },
   "source": [
    "#### prepare_dataframe()\n",
    "\n",
    "Prepare the dataframe for splitting into feature and target. This combines most steps from previous file versions into a single function. This is intended to improve readability and reduce the length of the code.\n",
    "\n",
    "**Input:** A dataframe, list of fill values\n",
    "\n",
    "- A dataframe to perform functions on. Works with training and testing dataframes\n",
    "\n",
    "- A list of values to fill the missing datapoints with\n",
    "\n",
    "    - This was added to give freedom for train and test dataframes as well as different imputation methods\n",
    "    \n",
    "**Output:** A dataframe ready to be normalizedPrepare the dataframe for splitting into feature and target"
   ]
  },
  {
   "cell_type": "code",
   "execution_count": 15,
   "id": "3255e99c",
   "metadata": {
    "execution": {
     "iopub.execute_input": "2023-06-14T16:20:32.108247Z",
     "iopub.status.busy": "2023-06-14T16:20:32.107530Z",
     "iopub.status.idle": "2023-06-14T16:20:32.113247Z",
     "shell.execute_reply": "2023-06-14T16:20:32.112428Z"
    },
    "papermill": {
     "duration": 0.033184,
     "end_time": "2023-06-14T16:20:32.115589",
     "exception": false,
     "start_time": "2023-06-14T16:20:32.082405",
     "status": "completed"
    },
    "tags": []
   },
   "outputs": [],
   "source": [
    "def prepare_dataframe(df, d_features, fill_fare, fill_age=-1):\n",
    "    fill_features = ['Fare', 'Embarked', 'Age']\n",
    "    fill_vals = [fill_fare, 'S', fill_age]\n",
    "    df_filled = fill_na(df, fill_features, fill_vals)\n",
    "    \n",
    "    df_dropped = drop_features(df_filled, d_features)\n",
    "    df_mapped = map_cat(df_dropped, map_features, map_dicts)\n",
    "    return df_mapped"
   ]
  },
  {
   "cell_type": "markdown",
   "id": "946321f1",
   "metadata": {
    "papermill": {
     "duration": 0.023024,
     "end_time": "2023-06-14T16:20:32.162391",
     "exception": false,
     "start_time": "2023-06-14T16:20:32.139367",
     "status": "completed"
    },
    "tags": []
   },
   "source": [
    "**----------------------------------------------------------------------------------------------------------------------------------------------------------------**"
   ]
  },
  {
   "cell_type": "markdown",
   "id": "4bff251e",
   "metadata": {
    "papermill": {
     "duration": 0.024083,
     "end_time": "2023-06-14T16:20:32.210486",
     "exception": false,
     "start_time": "2023-06-14T16:20:32.186403",
     "status": "completed"
    },
    "tags": []
   },
   "source": [
    "# ML Models\n",
    "\n",
    "This notebook investigates the accuracy of two models on the Spaceship Titanic Competition dataset.\n",
    "\n",
    "Given the larget number of missing values in the dataset, the models will differ in the method they use to impute those missing points\n",
    "\n",
    "## Contents:\n",
    "\n",
    "1. Fill with Mean\n",
    "\n",
    "2. Fill with Median\n",
    "\n",
    "## Results:\n",
    "\n",
    "The best imputation method was median with a competition accuracy score = 0.7791"
   ]
  },
  {
   "cell_type": "code",
   "execution_count": 16,
   "id": "ab875b9e",
   "metadata": {
    "execution": {
     "iopub.execute_input": "2023-06-14T16:20:32.260767Z",
     "iopub.status.busy": "2023-06-14T16:20:32.260081Z",
     "iopub.status.idle": "2023-06-14T16:20:32.288051Z",
     "shell.execute_reply": "2023-06-14T16:20:32.287130Z"
    },
    "papermill": {
     "duration": 0.056569,
     "end_time": "2023-06-14T16:20:32.290638",
     "exception": false,
     "start_time": "2023-06-14T16:20:32.234069",
     "status": "completed"
    },
    "tags": []
   },
   "outputs": [],
   "source": [
    "df_train_noAge = pd.read_csv(train_filepath, index_col='PassengerId')\n",
    "df_test_noAge = pd.read_csv(test_filepath, index_col='PassengerId')"
   ]
  },
  {
   "cell_type": "code",
   "execution_count": 17,
   "id": "830a0e2b",
   "metadata": {
    "execution": {
     "iopub.execute_input": "2023-06-14T16:20:32.341507Z",
     "iopub.status.busy": "2023-06-14T16:20:32.340756Z",
     "iopub.status.idle": "2023-06-14T16:20:32.346011Z",
     "shell.execute_reply": "2023-06-14T16:20:32.344870Z"
    },
    "papermill": {
     "duration": 0.03357,
     "end_time": "2023-06-14T16:20:32.348522",
     "exception": false,
     "start_time": "2023-06-14T16:20:32.314952",
     "status": "completed"
    },
    "tags": []
   },
   "outputs": [],
   "source": [
    "drop_feature_names_w_age = drop_feature_names + ['Age']"
   ]
  },
  {
   "cell_type": "code",
   "execution_count": 18,
   "id": "da5e56ae",
   "metadata": {
    "execution": {
     "iopub.execute_input": "2023-06-14T16:20:32.398774Z",
     "iopub.status.busy": "2023-06-14T16:20:32.398318Z",
     "iopub.status.idle": "2023-06-14T16:20:32.421277Z",
     "shell.execute_reply": "2023-06-14T16:20:32.420016Z"
    },
    "papermill": {
     "duration": 0.051135,
     "end_time": "2023-06-14T16:20:32.423905",
     "exception": false,
     "start_time": "2023-06-14T16:20:32.372770",
     "status": "completed"
    },
    "tags": []
   },
   "outputs": [],
   "source": [
    "df_train_noAge = prepare_dataframe(df_train_noAge, drop_feature_names_w_age, fill_fare_mean)\n",
    "df_test_noAge = prepare_dataframe(df_test_noAge, drop_feature_names_w_age, fill_fare_mean)"
   ]
  },
  {
   "cell_type": "code",
   "execution_count": 19,
   "id": "9f12cfe9",
   "metadata": {
    "execution": {
     "iopub.execute_input": "2023-06-14T16:20:32.473523Z",
     "iopub.status.busy": "2023-06-14T16:20:32.472373Z",
     "iopub.status.idle": "2023-06-14T16:20:32.479149Z",
     "shell.execute_reply": "2023-06-14T16:20:32.478262Z"
    },
    "papermill": {
     "duration": 0.034256,
     "end_time": "2023-06-14T16:20:32.481759",
     "exception": false,
     "start_time": "2023-06-14T16:20:32.447503",
     "status": "completed"
    },
    "tags": []
   },
   "outputs": [],
   "source": [
    "X_noAge = df_train_noAge.drop('Survived', axis=1)\n",
    "y_noAge = df_train_noAge['Survived']"
   ]
  },
  {
   "cell_type": "code",
   "execution_count": 20,
   "id": "96bf6c1f",
   "metadata": {
    "execution": {
     "iopub.execute_input": "2023-06-14T16:20:32.531231Z",
     "iopub.status.busy": "2023-06-14T16:20:32.530193Z",
     "iopub.status.idle": "2023-06-14T16:20:32.546208Z",
     "shell.execute_reply": "2023-06-14T16:20:32.545106Z"
    },
    "papermill": {
     "duration": 0.043847,
     "end_time": "2023-06-14T16:20:32.549030",
     "exception": false,
     "start_time": "2023-06-14T16:20:32.505183",
     "status": "completed"
    },
    "tags": []
   },
   "outputs": [],
   "source": [
    "X_noAge = normalize_features(X_noAge)\n",
    "df_test_noAge = normalize_features(df_test_noAge)"
   ]
  },
  {
   "cell_type": "code",
   "execution_count": 21,
   "id": "cda0118e",
   "metadata": {
    "execution": {
     "iopub.execute_input": "2023-06-14T16:20:32.599569Z",
     "iopub.status.busy": "2023-06-14T16:20:32.599162Z",
     "iopub.status.idle": "2023-06-14T16:20:33.062602Z",
     "shell.execute_reply": "2023-06-14T16:20:33.061745Z"
    },
    "papermill": {
     "duration": 0.492528,
     "end_time": "2023-06-14T16:20:33.065258",
     "exception": false,
     "start_time": "2023-06-14T16:20:32.572730",
     "status": "completed"
    },
    "tags": []
   },
   "outputs": [
    {
     "name": "stdout",
     "output_type": "stream",
     "text": [
      "Model\t\tCV Mean\t\tCV std\n",
      "{'SVM': (0.8058052434456927, 0.02817776516195646), 'KNN': (0.8092384519350813, 0.04749914265913915), 'LR': (0.7934706616729088, 0.024861946815253916)}\n"
     ]
    }
   ],
   "source": [
    "perform_cross_validation(X_noAge, y_noAge)"
   ]
  },
  {
   "cell_type": "code",
   "execution_count": 22,
   "id": "c9893028",
   "metadata": {
    "execution": {
     "iopub.execute_input": "2023-06-14T16:20:33.122800Z",
     "iopub.status.busy": "2023-06-14T16:20:33.122165Z",
     "iopub.status.idle": "2023-06-14T16:20:33.186921Z",
     "shell.execute_reply": "2023-06-14T16:20:33.185506Z"
    },
    "papermill": {
     "duration": 0.101876,
     "end_time": "2023-06-14T16:20:33.190958",
     "exception": false,
     "start_time": "2023-06-14T16:20:33.089082",
     "status": "completed"
    },
    "tags": []
   },
   "outputs": [
    {
     "data": {
      "text/html": [
       "<div>\n",
       "<style scoped>\n",
       "    .dataframe tbody tr th:only-of-type {\n",
       "        vertical-align: middle;\n",
       "    }\n",
       "\n",
       "    .dataframe tbody tr th {\n",
       "        vertical-align: top;\n",
       "    }\n",
       "\n",
       "    .dataframe thead th {\n",
       "        text-align: right;\n",
       "    }\n",
       "</style>\n",
       "<table border=\"1\" class=\"dataframe\">\n",
       "  <thead>\n",
       "    <tr style=\"text-align: right;\">\n",
       "      <th></th>\n",
       "      <th>Survived</th>\n",
       "    </tr>\n",
       "    <tr>\n",
       "      <th>PassengerId</th>\n",
       "      <th></th>\n",
       "    </tr>\n",
       "  </thead>\n",
       "  <tbody>\n",
       "    <tr>\n",
       "      <th>892</th>\n",
       "      <td>0</td>\n",
       "    </tr>\n",
       "    <tr>\n",
       "      <th>893</th>\n",
       "      <td>0</td>\n",
       "    </tr>\n",
       "    <tr>\n",
       "      <th>894</th>\n",
       "      <td>0</td>\n",
       "    </tr>\n",
       "    <tr>\n",
       "      <th>895</th>\n",
       "      <td>0</td>\n",
       "    </tr>\n",
       "    <tr>\n",
       "      <th>896</th>\n",
       "      <td>1</td>\n",
       "    </tr>\n",
       "  </tbody>\n",
       "</table>\n",
       "</div>"
      ],
      "text/plain": [
       "             Survived\n",
       "PassengerId          \n",
       "892                 0\n",
       "893                 0\n",
       "894                 0\n",
       "895                 0\n",
       "896                 1"
      ]
     },
     "execution_count": 22,
     "metadata": {},
     "output_type": "execute_result"
    }
   ],
   "source": [
    "clf_noAge = KNeighborsClassifier().fit(X_noAge,y_noAge)\n",
    "\n",
    "predictions_noAge = clf_noAge.predict(df_test_noAge)\n",
    "\n",
    "submission1_noAge = pd.DataFrame(data={'Survived':predictions_noAge}, index=df_test_noAge.index)\n",
    "\n",
    "submission1_noAge.head()"
   ]
  },
  {
   "cell_type": "code",
   "execution_count": 23,
   "id": "ed41c1b6",
   "metadata": {
    "execution": {
     "iopub.execute_input": "2023-06-14T16:20:33.246018Z",
     "iopub.status.busy": "2023-06-14T16:20:33.245254Z",
     "iopub.status.idle": "2023-06-14T16:20:33.257250Z",
     "shell.execute_reply": "2023-06-14T16:20:33.256141Z"
    },
    "papermill": {
     "duration": 0.042058,
     "end_time": "2023-06-14T16:20:33.260137",
     "exception": false,
     "start_time": "2023-06-14T16:20:33.218079",
     "status": "completed"
    },
    "tags": []
   },
   "outputs": [],
   "source": [
    "submission1_noAge.to_csv('Titanic_Submission-No_Age-Mean_Fare-2023_6_14.csv')"
   ]
  },
  {
   "cell_type": "markdown",
   "id": "d2e85230",
   "metadata": {
    "papermill": {
     "duration": 0.023567,
     "end_time": "2023-06-14T16:20:33.308032",
     "exception": false,
     "start_time": "2023-06-14T16:20:33.284465",
     "status": "completed"
    },
    "tags": []
   },
   "source": [
    "Result: 0.76794"
   ]
  },
  {
   "cell_type": "markdown",
   "id": "54fe6c0e",
   "metadata": {
    "papermill": {
     "duration": 0.023882,
     "end_time": "2023-06-14T16:20:33.358501",
     "exception": false,
     "start_time": "2023-06-14T16:20:33.334619",
     "status": "completed"
    },
    "tags": []
   },
   "source": []
  },
  {
   "cell_type": "code",
   "execution_count": 24,
   "id": "01f7c7cc",
   "metadata": {
    "execution": {
     "iopub.execute_input": "2023-06-14T16:20:33.408976Z",
     "iopub.status.busy": "2023-06-14T16:20:33.408535Z",
     "iopub.status.idle": "2023-06-14T16:20:33.427531Z",
     "shell.execute_reply": "2023-06-14T16:20:33.426030Z"
    },
    "papermill": {
     "duration": 0.047447,
     "end_time": "2023-06-14T16:20:33.430516",
     "exception": false,
     "start_time": "2023-06-14T16:20:33.383069",
     "status": "completed"
    },
    "tags": []
   },
   "outputs": [],
   "source": [
    "df_train_noAge = pd.read_csv(train_filepath, index_col='PassengerId')\n",
    "df_test_noAge = pd.read_csv(test_filepath, index_col='PassengerId')"
   ]
  },
  {
   "cell_type": "code",
   "execution_count": 25,
   "id": "336baefc",
   "metadata": {
    "execution": {
     "iopub.execute_input": "2023-06-14T16:20:33.480720Z",
     "iopub.status.busy": "2023-06-14T16:20:33.480302Z",
     "iopub.status.idle": "2023-06-14T16:20:33.485550Z",
     "shell.execute_reply": "2023-06-14T16:20:33.484369Z"
    },
    "papermill": {
     "duration": 0.033092,
     "end_time": "2023-06-14T16:20:33.488011",
     "exception": false,
     "start_time": "2023-06-14T16:20:33.454919",
     "status": "completed"
    },
    "tags": []
   },
   "outputs": [],
   "source": [
    "drop_feature_names_w_age = drop_feature_names + ['Age']"
   ]
  },
  {
   "cell_type": "code",
   "execution_count": 26,
   "id": "23ffdfe9",
   "metadata": {
    "execution": {
     "iopub.execute_input": "2023-06-14T16:20:33.538579Z",
     "iopub.status.busy": "2023-06-14T16:20:33.538177Z",
     "iopub.status.idle": "2023-06-14T16:20:33.557950Z",
     "shell.execute_reply": "2023-06-14T16:20:33.557033Z"
    },
    "papermill": {
     "duration": 0.048249,
     "end_time": "2023-06-14T16:20:33.560347",
     "exception": false,
     "start_time": "2023-06-14T16:20:33.512098",
     "status": "completed"
    },
    "tags": []
   },
   "outputs": [],
   "source": [
    "df_train_noAge = prepare_dataframe(df_train_noAge, drop_feature_names_w_age, fill_fare_med)\n",
    "df_test_noAge = prepare_dataframe(df_test_noAge, drop_feature_names_w_age, fill_fare_med)"
   ]
  },
  {
   "cell_type": "code",
   "execution_count": 27,
   "id": "2cceaea2",
   "metadata": {
    "execution": {
     "iopub.execute_input": "2023-06-14T16:20:33.609817Z",
     "iopub.status.busy": "2023-06-14T16:20:33.609412Z",
     "iopub.status.idle": "2023-06-14T16:20:33.616236Z",
     "shell.execute_reply": "2023-06-14T16:20:33.615011Z"
    },
    "papermill": {
     "duration": 0.034582,
     "end_time": "2023-06-14T16:20:33.618684",
     "exception": false,
     "start_time": "2023-06-14T16:20:33.584102",
     "status": "completed"
    },
    "tags": []
   },
   "outputs": [],
   "source": [
    "X_noAge = df_train_noAge.drop('Survived', axis=1)\n",
    "y_noAge = df_train_noAge['Survived']"
   ]
  },
  {
   "cell_type": "code",
   "execution_count": 28,
   "id": "f55a4ba5",
   "metadata": {
    "execution": {
     "iopub.execute_input": "2023-06-14T16:20:33.670133Z",
     "iopub.status.busy": "2023-06-14T16:20:33.669714Z",
     "iopub.status.idle": "2023-06-14T16:20:33.685908Z",
     "shell.execute_reply": "2023-06-14T16:20:33.685015Z"
    },
    "papermill": {
     "duration": 0.045462,
     "end_time": "2023-06-14T16:20:33.688594",
     "exception": false,
     "start_time": "2023-06-14T16:20:33.643132",
     "status": "completed"
    },
    "tags": []
   },
   "outputs": [],
   "source": [
    "X_noAge = normalize_features(X_noAge)\n",
    "df_test_noAge = normalize_features(df_test_noAge)"
   ]
  },
  {
   "cell_type": "code",
   "execution_count": 29,
   "id": "5b966f18",
   "metadata": {
    "execution": {
     "iopub.execute_input": "2023-06-14T16:20:33.738745Z",
     "iopub.status.busy": "2023-06-14T16:20:33.737978Z",
     "iopub.status.idle": "2023-06-14T16:20:34.179443Z",
     "shell.execute_reply": "2023-06-14T16:20:34.178133Z"
    },
    "papermill": {
     "duration": 0.469787,
     "end_time": "2023-06-14T16:20:34.182289",
     "exception": false,
     "start_time": "2023-06-14T16:20:33.712502",
     "status": "completed"
    },
    "tags": []
   },
   "outputs": [
    {
     "name": "stdout",
     "output_type": "stream",
     "text": [
      "Model\t\tCV Mean\t\tCV std\n",
      "{'SVM': (0.8058052434456927, 0.02817776516195646), 'KNN': (0.8092384519350813, 0.04749914265913915), 'LR': (0.7934706616729088, 0.024861946815253916)}\n"
     ]
    }
   ],
   "source": [
    "perform_cross_validation(X_noAge, y_noAge)"
   ]
  },
  {
   "cell_type": "code",
   "execution_count": 30,
   "id": "ada40309",
   "metadata": {
    "execution": {
     "iopub.execute_input": "2023-06-14T16:20:34.236689Z",
     "iopub.status.busy": "2023-06-14T16:20:34.235868Z",
     "iopub.status.idle": "2023-06-14T16:20:34.272272Z",
     "shell.execute_reply": "2023-06-14T16:20:34.271015Z"
    },
    "papermill": {
     "duration": 0.066849,
     "end_time": "2023-06-14T16:20:34.275240",
     "exception": false,
     "start_time": "2023-06-14T16:20:34.208391",
     "status": "completed"
    },
    "tags": []
   },
   "outputs": [
    {
     "data": {
      "text/html": [
       "<div>\n",
       "<style scoped>\n",
       "    .dataframe tbody tr th:only-of-type {\n",
       "        vertical-align: middle;\n",
       "    }\n",
       "\n",
       "    .dataframe tbody tr th {\n",
       "        vertical-align: top;\n",
       "    }\n",
       "\n",
       "    .dataframe thead th {\n",
       "        text-align: right;\n",
       "    }\n",
       "</style>\n",
       "<table border=\"1\" class=\"dataframe\">\n",
       "  <thead>\n",
       "    <tr style=\"text-align: right;\">\n",
       "      <th></th>\n",
       "      <th>Survived</th>\n",
       "    </tr>\n",
       "    <tr>\n",
       "      <th>PassengerId</th>\n",
       "      <th></th>\n",
       "    </tr>\n",
       "  </thead>\n",
       "  <tbody>\n",
       "    <tr>\n",
       "      <th>892</th>\n",
       "      <td>0</td>\n",
       "    </tr>\n",
       "    <tr>\n",
       "      <th>893</th>\n",
       "      <td>0</td>\n",
       "    </tr>\n",
       "    <tr>\n",
       "      <th>894</th>\n",
       "      <td>0</td>\n",
       "    </tr>\n",
       "    <tr>\n",
       "      <th>895</th>\n",
       "      <td>0</td>\n",
       "    </tr>\n",
       "    <tr>\n",
       "      <th>896</th>\n",
       "      <td>1</td>\n",
       "    </tr>\n",
       "  </tbody>\n",
       "</table>\n",
       "</div>"
      ],
      "text/plain": [
       "             Survived\n",
       "PassengerId          \n",
       "892                 0\n",
       "893                 0\n",
       "894                 0\n",
       "895                 0\n",
       "896                 1"
      ]
     },
     "execution_count": 30,
     "metadata": {},
     "output_type": "execute_result"
    }
   ],
   "source": [
    "clf_noAge = KNeighborsClassifier().fit(X_noAge,y_noAge)\n",
    "\n",
    "predictions_noAge = clf_noAge.predict(df_test_noAge)\n",
    "\n",
    "submission2_noAge = pd.DataFrame(data={'Survived':predictions_noAge}, index=df_test_noAge.index)\n",
    "\n",
    "submission2_noAge.head()"
   ]
  },
  {
   "cell_type": "code",
   "execution_count": 31,
   "id": "12cf909d",
   "metadata": {
    "execution": {
     "iopub.execute_input": "2023-06-14T16:20:34.326836Z",
     "iopub.status.busy": "2023-06-14T16:20:34.325247Z",
     "iopub.status.idle": "2023-06-14T16:20:34.333388Z",
     "shell.execute_reply": "2023-06-14T16:20:34.332411Z"
    },
    "papermill": {
     "duration": 0.03689,
     "end_time": "2023-06-14T16:20:34.336470",
     "exception": false,
     "start_time": "2023-06-14T16:20:34.299580",
     "status": "completed"
    },
    "tags": []
   },
   "outputs": [],
   "source": [
    "submission2_noAge.to_csv('Titanic_Submission-No_Age-Med_Fare-2023_6_14.csv')"
   ]
  },
  {
   "cell_type": "markdown",
   "id": "83124ea3",
   "metadata": {
    "papermill": {
     "duration": 0.024507,
     "end_time": "2023-06-14T16:20:34.385578",
     "exception": false,
     "start_time": "2023-06-14T16:20:34.361071",
     "status": "completed"
    },
    "tags": []
   },
   "source": [
    "Result: 0.76794"
   ]
  },
  {
   "cell_type": "markdown",
   "id": "0c96f884",
   "metadata": {
    "papermill": {
     "duration": 0.024862,
     "end_time": "2023-06-14T16:20:34.436023",
     "exception": false,
     "start_time": "2023-06-14T16:20:34.411161",
     "status": "completed"
    },
    "tags": []
   },
   "source": []
  },
  {
   "cell_type": "code",
   "execution_count": 32,
   "id": "54196ec9",
   "metadata": {
    "execution": {
     "iopub.execute_input": "2023-06-14T16:20:34.488324Z",
     "iopub.status.busy": "2023-06-14T16:20:34.487440Z",
     "iopub.status.idle": "2023-06-14T16:20:34.504511Z",
     "shell.execute_reply": "2023-06-14T16:20:34.503591Z"
    },
    "papermill": {
     "duration": 0.045507,
     "end_time": "2023-06-14T16:20:34.507275",
     "exception": false,
     "start_time": "2023-06-14T16:20:34.461768",
     "status": "completed"
    },
    "tags": []
   },
   "outputs": [],
   "source": [
    "df_train_meanAge = pd.read_csv(train_filepath, index_col='PassengerId')\n",
    "df_test_meanAge = pd.read_csv(test_filepath, index_col='PassengerId')"
   ]
  },
  {
   "cell_type": "code",
   "execution_count": 33,
   "id": "8c982067",
   "metadata": {
    "execution": {
     "iopub.execute_input": "2023-06-14T16:20:34.560402Z",
     "iopub.status.busy": "2023-06-14T16:20:34.559677Z",
     "iopub.status.idle": "2023-06-14T16:20:34.576643Z",
     "shell.execute_reply": "2023-06-14T16:20:34.575388Z"
    },
    "papermill": {
     "duration": 0.046536,
     "end_time": "2023-06-14T16:20:34.579606",
     "exception": false,
     "start_time": "2023-06-14T16:20:34.533070",
     "status": "completed"
    },
    "tags": []
   },
   "outputs": [],
   "source": [
    "df_train_meanAge = prepare_dataframe(df_train_meanAge, drop_feature_names, fill_fare_mean, age_mean_train)\n",
    "df_test_meanAge = prepare_dataframe(df_test_meanAge, drop_feature_names, fill_fare_mean, age_mean_test)"
   ]
  },
  {
   "cell_type": "code",
   "execution_count": 34,
   "id": "41be703c",
   "metadata": {
    "execution": {
     "iopub.execute_input": "2023-06-14T16:20:34.630245Z",
     "iopub.status.busy": "2023-06-14T16:20:34.629804Z",
     "iopub.status.idle": "2023-06-14T16:20:34.644438Z",
     "shell.execute_reply": "2023-06-14T16:20:34.643541Z"
    },
    "papermill": {
     "duration": 0.042722,
     "end_time": "2023-06-14T16:20:34.646636",
     "exception": false,
     "start_time": "2023-06-14T16:20:34.603914",
     "status": "completed"
    },
    "tags": []
   },
   "outputs": [
    {
     "data": {
      "text/html": [
       "<div>\n",
       "<style scoped>\n",
       "    .dataframe tbody tr th:only-of-type {\n",
       "        vertical-align: middle;\n",
       "    }\n",
       "\n",
       "    .dataframe tbody tr th {\n",
       "        vertical-align: top;\n",
       "    }\n",
       "\n",
       "    .dataframe thead th {\n",
       "        text-align: right;\n",
       "    }\n",
       "</style>\n",
       "<table border=\"1\" class=\"dataframe\">\n",
       "  <thead>\n",
       "    <tr style=\"text-align: right;\">\n",
       "      <th></th>\n",
       "      <th>Survived</th>\n",
       "      <th>Pclass</th>\n",
       "      <th>Sex</th>\n",
       "      <th>Age</th>\n",
       "      <th>SibSp</th>\n",
       "      <th>Parch</th>\n",
       "      <th>Fare</th>\n",
       "      <th>Embarked</th>\n",
       "    </tr>\n",
       "    <tr>\n",
       "      <th>PassengerId</th>\n",
       "      <th></th>\n",
       "      <th></th>\n",
       "      <th></th>\n",
       "      <th></th>\n",
       "      <th></th>\n",
       "      <th></th>\n",
       "      <th></th>\n",
       "      <th></th>\n",
       "    </tr>\n",
       "  </thead>\n",
       "  <tbody>\n",
       "    <tr>\n",
       "      <th>1</th>\n",
       "      <td>0</td>\n",
       "      <td>3</td>\n",
       "      <td>0</td>\n",
       "      <td>22.0</td>\n",
       "      <td>1</td>\n",
       "      <td>0</td>\n",
       "      <td>7.2500</td>\n",
       "      <td>2</td>\n",
       "    </tr>\n",
       "    <tr>\n",
       "      <th>2</th>\n",
       "      <td>1</td>\n",
       "      <td>1</td>\n",
       "      <td>1</td>\n",
       "      <td>38.0</td>\n",
       "      <td>1</td>\n",
       "      <td>0</td>\n",
       "      <td>71.2833</td>\n",
       "      <td>1</td>\n",
       "    </tr>\n",
       "    <tr>\n",
       "      <th>3</th>\n",
       "      <td>1</td>\n",
       "      <td>3</td>\n",
       "      <td>1</td>\n",
       "      <td>26.0</td>\n",
       "      <td>0</td>\n",
       "      <td>0</td>\n",
       "      <td>7.9250</td>\n",
       "      <td>2</td>\n",
       "    </tr>\n",
       "    <tr>\n",
       "      <th>4</th>\n",
       "      <td>1</td>\n",
       "      <td>1</td>\n",
       "      <td>1</td>\n",
       "      <td>35.0</td>\n",
       "      <td>1</td>\n",
       "      <td>0</td>\n",
       "      <td>53.1000</td>\n",
       "      <td>2</td>\n",
       "    </tr>\n",
       "    <tr>\n",
       "      <th>5</th>\n",
       "      <td>0</td>\n",
       "      <td>3</td>\n",
       "      <td>0</td>\n",
       "      <td>35.0</td>\n",
       "      <td>0</td>\n",
       "      <td>0</td>\n",
       "      <td>8.0500</td>\n",
       "      <td>2</td>\n",
       "    </tr>\n",
       "  </tbody>\n",
       "</table>\n",
       "</div>"
      ],
      "text/plain": [
       "             Survived  Pclass  Sex   Age  SibSp  Parch     Fare  Embarked\n",
       "PassengerId                                                              \n",
       "1                   0       3    0  22.0      1      0   7.2500         2\n",
       "2                   1       1    1  38.0      1      0  71.2833         1\n",
       "3                   1       3    1  26.0      0      0   7.9250         2\n",
       "4                   1       1    1  35.0      1      0  53.1000         2\n",
       "5                   0       3    0  35.0      0      0   8.0500         2"
      ]
     },
     "execution_count": 34,
     "metadata": {},
     "output_type": "execute_result"
    }
   ],
   "source": [
    "df_train_meanAge.head()"
   ]
  },
  {
   "cell_type": "code",
   "execution_count": 35,
   "id": "310233c8",
   "metadata": {
    "execution": {
     "iopub.execute_input": "2023-06-14T16:20:34.698076Z",
     "iopub.status.busy": "2023-06-14T16:20:34.697370Z",
     "iopub.status.idle": "2023-06-14T16:20:34.703547Z",
     "shell.execute_reply": "2023-06-14T16:20:34.702267Z"
    },
    "papermill": {
     "duration": 0.035178,
     "end_time": "2023-06-14T16:20:34.706282",
     "exception": false,
     "start_time": "2023-06-14T16:20:34.671104",
     "status": "completed"
    },
    "tags": []
   },
   "outputs": [],
   "source": [
    "X_meanAge = df_train_meanAge.drop('Survived', axis=1)\n",
    "y_meanAge = df_train_meanAge['Survived']"
   ]
  },
  {
   "cell_type": "code",
   "execution_count": 36,
   "id": "542cdbce",
   "metadata": {
    "execution": {
     "iopub.execute_input": "2023-06-14T16:20:34.758663Z",
     "iopub.status.busy": "2023-06-14T16:20:34.757913Z",
     "iopub.status.idle": "2023-06-14T16:20:34.773912Z",
     "shell.execute_reply": "2023-06-14T16:20:34.772935Z"
    },
    "papermill": {
     "duration": 0.044927,
     "end_time": "2023-06-14T16:20:34.776514",
     "exception": false,
     "start_time": "2023-06-14T16:20:34.731587",
     "status": "completed"
    },
    "tags": []
   },
   "outputs": [],
   "source": [
    "X_meanAge = normalize_features(X_meanAge)\n",
    "df_test_meanAge = normalize_features(df_test_meanAge)"
   ]
  },
  {
   "cell_type": "code",
   "execution_count": 37,
   "id": "c01f807f",
   "metadata": {
    "execution": {
     "iopub.execute_input": "2023-06-14T16:20:34.829214Z",
     "iopub.status.busy": "2023-06-14T16:20:34.828516Z",
     "iopub.status.idle": "2023-06-14T16:20:35.278591Z",
     "shell.execute_reply": "2023-06-14T16:20:35.277133Z"
    },
    "papermill": {
     "duration": 0.480408,
     "end_time": "2023-06-14T16:20:35.281522",
     "exception": false,
     "start_time": "2023-06-14T16:20:34.801114",
     "status": "completed"
    },
    "tags": []
   },
   "outputs": [
    {
     "name": "stdout",
     "output_type": "stream",
     "text": [
      "Model\t\tCV Mean\t\tCV std\n",
      "{'SVM': (0.8249313358302122, 0.03690856840480252), 'KNN': (0.809250936329588, 0.044119166613680365), 'LR': (0.7946192259675404, 0.02242820343899094)}\n"
     ]
    }
   ],
   "source": [
    "perform_cross_validation(X_meanAge, y_meanAge)"
   ]
  },
  {
   "cell_type": "code",
   "execution_count": 38,
   "id": "c943f052",
   "metadata": {
    "execution": {
     "iopub.execute_input": "2023-06-14T16:20:35.333851Z",
     "iopub.status.busy": "2023-06-14T16:20:35.333458Z",
     "iopub.status.idle": "2023-06-14T16:20:35.380168Z",
     "shell.execute_reply": "2023-06-14T16:20:35.378915Z"
    },
    "papermill": {
     "duration": 0.076529,
     "end_time": "2023-06-14T16:20:35.382833",
     "exception": false,
     "start_time": "2023-06-14T16:20:35.306304",
     "status": "completed"
    },
    "tags": []
   },
   "outputs": [
    {
     "data": {
      "text/html": [
       "<div>\n",
       "<style scoped>\n",
       "    .dataframe tbody tr th:only-of-type {\n",
       "        vertical-align: middle;\n",
       "    }\n",
       "\n",
       "    .dataframe tbody tr th {\n",
       "        vertical-align: top;\n",
       "    }\n",
       "\n",
       "    .dataframe thead th {\n",
       "        text-align: right;\n",
       "    }\n",
       "</style>\n",
       "<table border=\"1\" class=\"dataframe\">\n",
       "  <thead>\n",
       "    <tr style=\"text-align: right;\">\n",
       "      <th></th>\n",
       "      <th>Survived</th>\n",
       "    </tr>\n",
       "    <tr>\n",
       "      <th>PassengerId</th>\n",
       "      <th></th>\n",
       "    </tr>\n",
       "  </thead>\n",
       "  <tbody>\n",
       "    <tr>\n",
       "      <th>892</th>\n",
       "      <td>0</td>\n",
       "    </tr>\n",
       "    <tr>\n",
       "      <th>893</th>\n",
       "      <td>0</td>\n",
       "    </tr>\n",
       "    <tr>\n",
       "      <th>894</th>\n",
       "      <td>0</td>\n",
       "    </tr>\n",
       "    <tr>\n",
       "      <th>895</th>\n",
       "      <td>0</td>\n",
       "    </tr>\n",
       "    <tr>\n",
       "      <th>896</th>\n",
       "      <td>0</td>\n",
       "    </tr>\n",
       "  </tbody>\n",
       "</table>\n",
       "</div>"
      ],
      "text/plain": [
       "             Survived\n",
       "PassengerId          \n",
       "892                 0\n",
       "893                 0\n",
       "894                 0\n",
       "895                 0\n",
       "896                 0"
      ]
     },
     "execution_count": 38,
     "metadata": {},
     "output_type": "execute_result"
    }
   ],
   "source": [
    "clf_meanAge = SVC().fit(X_meanAge, y_meanAge)\n",
    "\n",
    "predictions_meanAge = clf_meanAge.predict(df_test_meanAge)\n",
    "\n",
    "submission1_meanAge = pd.DataFrame(data={'Survived':predictions_meanAge}, index=df_test_meanAge.index)\n",
    "\n",
    "submission1_meanAge.head()"
   ]
  },
  {
   "cell_type": "code",
   "execution_count": 39,
   "id": "4fe09975",
   "metadata": {
    "execution": {
     "iopub.execute_input": "2023-06-14T16:20:35.434427Z",
     "iopub.status.busy": "2023-06-14T16:20:35.433960Z",
     "iopub.status.idle": "2023-06-14T16:20:35.442223Z",
     "shell.execute_reply": "2023-06-14T16:20:35.440927Z"
    },
    "papermill": {
     "duration": 0.037479,
     "end_time": "2023-06-14T16:20:35.445062",
     "exception": false,
     "start_time": "2023-06-14T16:20:35.407583",
     "status": "completed"
    },
    "tags": []
   },
   "outputs": [],
   "source": [
    "submission1_meanAge.to_csv('Titanic_Submission-Mean_Age-2023_6_14.csv')"
   ]
  },
  {
   "cell_type": "markdown",
   "id": "0d52de9b",
   "metadata": {
    "papermill": {
     "duration": 0.024349,
     "end_time": "2023-06-14T16:20:35.494030",
     "exception": false,
     "start_time": "2023-06-14T16:20:35.469681",
     "status": "completed"
    },
    "tags": []
   },
   "source": [
    "0.7791"
   ]
  },
  {
   "cell_type": "markdown",
   "id": "590eeb5e",
   "metadata": {
    "papermill": {
     "duration": 0.024726,
     "end_time": "2023-06-14T16:20:35.543330",
     "exception": false,
     "start_time": "2023-06-14T16:20:35.518604",
     "status": "completed"
    },
    "tags": []
   },
   "source": []
  },
  {
   "cell_type": "code",
   "execution_count": 40,
   "id": "49d33d1c",
   "metadata": {
    "execution": {
     "iopub.execute_input": "2023-06-14T16:20:35.596031Z",
     "iopub.status.busy": "2023-06-14T16:20:35.595598Z",
     "iopub.status.idle": "2023-06-14T16:20:35.612008Z",
     "shell.execute_reply": "2023-06-14T16:20:35.611128Z"
    },
    "papermill": {
     "duration": 0.046637,
     "end_time": "2023-06-14T16:20:35.614720",
     "exception": false,
     "start_time": "2023-06-14T16:20:35.568083",
     "status": "completed"
    },
    "tags": []
   },
   "outputs": [],
   "source": [
    "df_train_medAge = pd.read_csv(train_filepath, index_col='PassengerId')\n",
    "df_test_medAge = pd.read_csv(test_filepath, index_col='PassengerId')"
   ]
  },
  {
   "cell_type": "code",
   "execution_count": 41,
   "id": "e7db0526",
   "metadata": {
    "execution": {
     "iopub.execute_input": "2023-06-14T16:20:35.667300Z",
     "iopub.status.busy": "2023-06-14T16:20:35.666366Z",
     "iopub.status.idle": "2023-06-14T16:20:35.683678Z",
     "shell.execute_reply": "2023-06-14T16:20:35.682460Z"
    },
    "papermill": {
     "duration": 0.046401,
     "end_time": "2023-06-14T16:20:35.686637",
     "exception": false,
     "start_time": "2023-06-14T16:20:35.640236",
     "status": "completed"
    },
    "tags": []
   },
   "outputs": [],
   "source": [
    "df_train_medAge = prepare_dataframe(df_train_medAge, drop_feature_names, fill_fare_mean, age_med_train)\n",
    "df_test_medAge = prepare_dataframe(df_test_medAge, drop_feature_names, fill_fare_mean, age_med_test)"
   ]
  },
  {
   "cell_type": "code",
   "execution_count": 42,
   "id": "7fbec03d",
   "metadata": {
    "execution": {
     "iopub.execute_input": "2023-06-14T16:20:35.738548Z",
     "iopub.status.busy": "2023-06-14T16:20:35.738117Z",
     "iopub.status.idle": "2023-06-14T16:20:35.744640Z",
     "shell.execute_reply": "2023-06-14T16:20:35.743432Z"
    },
    "papermill": {
     "duration": 0.035056,
     "end_time": "2023-06-14T16:20:35.747081",
     "exception": false,
     "start_time": "2023-06-14T16:20:35.712025",
     "status": "completed"
    },
    "tags": []
   },
   "outputs": [],
   "source": [
    "X_medAge = df_train_medAge.drop('Survived', axis=1)\n",
    "y_medAge = df_train_medAge['Survived']"
   ]
  },
  {
   "cell_type": "code",
   "execution_count": 43,
   "id": "a998c008",
   "metadata": {
    "execution": {
     "iopub.execute_input": "2023-06-14T16:20:35.799100Z",
     "iopub.status.busy": "2023-06-14T16:20:35.798060Z",
     "iopub.status.idle": "2023-06-14T16:20:35.814611Z",
     "shell.execute_reply": "2023-06-14T16:20:35.813791Z"
    },
    "papermill": {
     "duration": 0.045395,
     "end_time": "2023-06-14T16:20:35.817338",
     "exception": false,
     "start_time": "2023-06-14T16:20:35.771943",
     "status": "completed"
    },
    "tags": []
   },
   "outputs": [],
   "source": [
    "X_medAge = normalize_features(X_medAge)\n",
    "df_test_meanAge = normalize_features(df_test_medAge)"
   ]
  },
  {
   "cell_type": "code",
   "execution_count": 44,
   "id": "67309fd6",
   "metadata": {
    "execution": {
     "iopub.execute_input": "2023-06-14T16:20:35.869519Z",
     "iopub.status.busy": "2023-06-14T16:20:35.869091Z",
     "iopub.status.idle": "2023-06-14T16:20:36.320649Z",
     "shell.execute_reply": "2023-06-14T16:20:36.318898Z"
    },
    "papermill": {
     "duration": 0.480963,
     "end_time": "2023-06-14T16:20:36.323781",
     "exception": false,
     "start_time": "2023-06-14T16:20:35.842818",
     "status": "completed"
    },
    "tags": []
   },
   "outputs": [
    {
     "name": "stdout",
     "output_type": "stream",
     "text": [
      "Model\t\tCV Mean\t\tCV std\n",
      "{'SVM': (0.8249313358302122, 0.03690856840480252), 'KNN': (0.8114731585518102, 0.04093208033293136), 'LR': (0.7946192259675405, 0.02702347765082892)}\n"
     ]
    }
   ],
   "source": [
    "perform_cross_validation(X_medAge, y_medAge)"
   ]
  },
  {
   "cell_type": "code",
   "execution_count": 45,
   "id": "10c86ee1",
   "metadata": {
    "execution": {
     "iopub.execute_input": "2023-06-14T16:20:36.377935Z",
     "iopub.status.busy": "2023-06-14T16:20:36.376799Z",
     "iopub.status.idle": "2023-06-14T16:20:36.422174Z",
     "shell.execute_reply": "2023-06-14T16:20:36.420948Z"
    },
    "papermill": {
     "duration": 0.074622,
     "end_time": "2023-06-14T16:20:36.424923",
     "exception": false,
     "start_time": "2023-06-14T16:20:36.350301",
     "status": "completed"
    },
    "tags": []
   },
   "outputs": [
    {
     "data": {
      "text/html": [
       "<div>\n",
       "<style scoped>\n",
       "    .dataframe tbody tr th:only-of-type {\n",
       "        vertical-align: middle;\n",
       "    }\n",
       "\n",
       "    .dataframe tbody tr th {\n",
       "        vertical-align: top;\n",
       "    }\n",
       "\n",
       "    .dataframe thead th {\n",
       "        text-align: right;\n",
       "    }\n",
       "</style>\n",
       "<table border=\"1\" class=\"dataframe\">\n",
       "  <thead>\n",
       "    <tr style=\"text-align: right;\">\n",
       "      <th></th>\n",
       "      <th>Survived</th>\n",
       "    </tr>\n",
       "    <tr>\n",
       "      <th>PassengerId</th>\n",
       "      <th></th>\n",
       "    </tr>\n",
       "  </thead>\n",
       "  <tbody>\n",
       "    <tr>\n",
       "      <th>892</th>\n",
       "      <td>0</td>\n",
       "    </tr>\n",
       "    <tr>\n",
       "      <th>893</th>\n",
       "      <td>0</td>\n",
       "    </tr>\n",
       "    <tr>\n",
       "      <th>894</th>\n",
       "      <td>0</td>\n",
       "    </tr>\n",
       "    <tr>\n",
       "      <th>895</th>\n",
       "      <td>0</td>\n",
       "    </tr>\n",
       "    <tr>\n",
       "      <th>896</th>\n",
       "      <td>0</td>\n",
       "    </tr>\n",
       "  </tbody>\n",
       "</table>\n",
       "</div>"
      ],
      "text/plain": [
       "             Survived\n",
       "PassengerId          \n",
       "892                 0\n",
       "893                 0\n",
       "894                 0\n",
       "895                 0\n",
       "896                 0"
      ]
     },
     "execution_count": 45,
     "metadata": {},
     "output_type": "execute_result"
    }
   ],
   "source": [
    "clf_medAge = SVC().fit(X_medAge, y_medAge)\n",
    "\n",
    "predictions_medAge = clf_medAge.predict(df_test_medAge)\n",
    "\n",
    "submission1_medAge = pd.DataFrame(data={'Survived':predictions_medAge}, index=df_test_medAge.index)\n",
    "\n",
    "submission1_medAge.head()"
   ]
  },
  {
   "cell_type": "code",
   "execution_count": 46,
   "id": "92e4d05d",
   "metadata": {
    "execution": {
     "iopub.execute_input": "2023-06-14T16:20:36.477885Z",
     "iopub.status.busy": "2023-06-14T16:20:36.477472Z",
     "iopub.status.idle": "2023-06-14T16:20:36.485391Z",
     "shell.execute_reply": "2023-06-14T16:20:36.483961Z"
    },
    "papermill": {
     "duration": 0.038294,
     "end_time": "2023-06-14T16:20:36.488377",
     "exception": false,
     "start_time": "2023-06-14T16:20:36.450083",
     "status": "completed"
    },
    "tags": []
   },
   "outputs": [],
   "source": [
    "submission1_medAge.to_csv('Titanic_Submission-Median_Age-2023_6_14.csv')"
   ]
  },
  {
   "cell_type": "markdown",
   "id": "9b46125d",
   "metadata": {
    "papermill": {
     "duration": 0.024921,
     "end_time": "2023-06-14T16:20:36.539395",
     "exception": false,
     "start_time": "2023-06-14T16:20:36.514474",
     "status": "completed"
    },
    "tags": []
   },
   "source": [
    "Result: 0.77751"
   ]
  },
  {
   "cell_type": "markdown",
   "id": "a143a381",
   "metadata": {
    "papermill": {
     "duration": 0.024796,
     "end_time": "2023-06-14T16:20:36.589391",
     "exception": false,
     "start_time": "2023-06-14T16:20:36.564595",
     "status": "completed"
    },
    "tags": []
   },
   "source": []
  },
  {
   "cell_type": "code",
   "execution_count": 47,
   "id": "d5c1616b",
   "metadata": {
    "execution": {
     "iopub.execute_input": "2023-06-14T16:20:36.642137Z",
     "iopub.status.busy": "2023-06-14T16:20:36.641690Z",
     "iopub.status.idle": "2023-06-14T16:20:36.657521Z",
     "shell.execute_reply": "2023-06-14T16:20:36.656512Z"
    },
    "papermill": {
     "duration": 0.045115,
     "end_time": "2023-06-14T16:20:36.660122",
     "exception": false,
     "start_time": "2023-06-14T16:20:36.615007",
     "status": "completed"
    },
    "tags": []
   },
   "outputs": [],
   "source": [
    "df_train_modeAge = pd.read_csv(train_filepath, index_col='PassengerId')\n",
    "df_test_modeAge = pd.read_csv(test_filepath, index_col='PassengerId')"
   ]
  },
  {
   "cell_type": "code",
   "execution_count": 48,
   "id": "d458194d",
   "metadata": {
    "execution": {
     "iopub.execute_input": "2023-06-14T16:20:36.713440Z",
     "iopub.status.busy": "2023-06-14T16:20:36.712613Z",
     "iopub.status.idle": "2023-06-14T16:20:36.729566Z",
     "shell.execute_reply": "2023-06-14T16:20:36.728578Z"
    },
    "papermill": {
     "duration": 0.045974,
     "end_time": "2023-06-14T16:20:36.732287",
     "exception": false,
     "start_time": "2023-06-14T16:20:36.686313",
     "status": "completed"
    },
    "tags": []
   },
   "outputs": [],
   "source": [
    "df_train_modeAge = prepare_dataframe(df_train_modeAge, drop_feature_names, fill_fare_mean, 24)\n",
    "df_test_modeAge = prepare_dataframe(df_test_modeAge, drop_feature_names, fill_fare_mean, 24)"
   ]
  },
  {
   "cell_type": "code",
   "execution_count": 49,
   "id": "721aeb89",
   "metadata": {
    "execution": {
     "iopub.execute_input": "2023-06-14T16:20:36.785231Z",
     "iopub.status.busy": "2023-06-14T16:20:36.784610Z",
     "iopub.status.idle": "2023-06-14T16:20:36.790063Z",
     "shell.execute_reply": "2023-06-14T16:20:36.789217Z"
    },
    "papermill": {
     "duration": 0.03459,
     "end_time": "2023-06-14T16:20:36.792398",
     "exception": false,
     "start_time": "2023-06-14T16:20:36.757808",
     "status": "completed"
    },
    "tags": []
   },
   "outputs": [],
   "source": [
    "X_modeAge = df_train_modeAge.drop('Survived', axis=1)\n",
    "y_modeAge = df_train_modeAge['Survived']"
   ]
  },
  {
   "cell_type": "code",
   "execution_count": 50,
   "id": "61a9e2b5",
   "metadata": {
    "execution": {
     "iopub.execute_input": "2023-06-14T16:20:36.844212Z",
     "iopub.status.busy": "2023-06-14T16:20:36.843750Z",
     "iopub.status.idle": "2023-06-14T16:20:36.860316Z",
     "shell.execute_reply": "2023-06-14T16:20:36.859423Z"
    },
    "papermill": {
     "duration": 0.045649,
     "end_time": "2023-06-14T16:20:36.862901",
     "exception": false,
     "start_time": "2023-06-14T16:20:36.817252",
     "status": "completed"
    },
    "tags": []
   },
   "outputs": [],
   "source": [
    "X_modeAge = normalize_features(X_modeAge)\n",
    "df_test_modeAge = normalize_features(df_test_modeAge)"
   ]
  },
  {
   "cell_type": "code",
   "execution_count": 51,
   "id": "6ec5f4e0",
   "metadata": {
    "execution": {
     "iopub.execute_input": "2023-06-14T16:20:36.916804Z",
     "iopub.status.busy": "2023-06-14T16:20:36.915653Z",
     "iopub.status.idle": "2023-06-14T16:20:37.382189Z",
     "shell.execute_reply": "2023-06-14T16:20:37.380842Z"
    },
    "papermill": {
     "duration": 0.49598,
     "end_time": "2023-06-14T16:20:37.384988",
     "exception": false,
     "start_time": "2023-06-14T16:20:36.889008",
     "status": "completed"
    },
    "tags": []
   },
   "outputs": [
    {
     "name": "stdout",
     "output_type": "stream",
     "text": [
      "Model\t\tCV Mean\t\tCV std\n",
      "{'SVM': (0.8260549313358302, 0.03793120045875092), 'KNN': (0.8070037453183521, 0.03824776974876488), 'LR': (0.7923720349563046, 0.028051434354094185)}\n"
     ]
    }
   ],
   "source": [
    "perform_cross_validation(X_modeAge, y_modeAge)"
   ]
  },
  {
   "cell_type": "code",
   "execution_count": 52,
   "id": "b7ea374d",
   "metadata": {
    "execution": {
     "iopub.execute_input": "2023-06-14T16:20:37.438007Z",
     "iopub.status.busy": "2023-06-14T16:20:37.437611Z",
     "iopub.status.idle": "2023-06-14T16:20:37.483943Z",
     "shell.execute_reply": "2023-06-14T16:20:37.482838Z"
    },
    "papermill": {
     "duration": 0.076107,
     "end_time": "2023-06-14T16:20:37.486533",
     "exception": false,
     "start_time": "2023-06-14T16:20:37.410426",
     "status": "completed"
    },
    "tags": []
   },
   "outputs": [
    {
     "data": {
      "text/html": [
       "<div>\n",
       "<style scoped>\n",
       "    .dataframe tbody tr th:only-of-type {\n",
       "        vertical-align: middle;\n",
       "    }\n",
       "\n",
       "    .dataframe tbody tr th {\n",
       "        vertical-align: top;\n",
       "    }\n",
       "\n",
       "    .dataframe thead th {\n",
       "        text-align: right;\n",
       "    }\n",
       "</style>\n",
       "<table border=\"1\" class=\"dataframe\">\n",
       "  <thead>\n",
       "    <tr style=\"text-align: right;\">\n",
       "      <th></th>\n",
       "      <th>Survived</th>\n",
       "    </tr>\n",
       "    <tr>\n",
       "      <th>PassengerId</th>\n",
       "      <th></th>\n",
       "    </tr>\n",
       "  </thead>\n",
       "  <tbody>\n",
       "    <tr>\n",
       "      <th>892</th>\n",
       "      <td>0</td>\n",
       "    </tr>\n",
       "    <tr>\n",
       "      <th>893</th>\n",
       "      <td>0</td>\n",
       "    </tr>\n",
       "    <tr>\n",
       "      <th>894</th>\n",
       "      <td>0</td>\n",
       "    </tr>\n",
       "    <tr>\n",
       "      <th>895</th>\n",
       "      <td>0</td>\n",
       "    </tr>\n",
       "    <tr>\n",
       "      <th>896</th>\n",
       "      <td>0</td>\n",
       "    </tr>\n",
       "  </tbody>\n",
       "</table>\n",
       "</div>"
      ],
      "text/plain": [
       "             Survived\n",
       "PassengerId          \n",
       "892                 0\n",
       "893                 0\n",
       "894                 0\n",
       "895                 0\n",
       "896                 0"
      ]
     },
     "execution_count": 52,
     "metadata": {},
     "output_type": "execute_result"
    }
   ],
   "source": [
    "clf_modeAge = SVC().fit(X_modeAge, y_modeAge)\n",
    "\n",
    "predictions_modeAge = clf_modeAge.predict(df_test_modeAge)\n",
    "\n",
    "submission1_modeAge = pd.DataFrame(data={'Survived':predictions_medAge}, index=df_test_modeAge.index)\n",
    "\n",
    "submission1_modeAge.head()"
   ]
  },
  {
   "cell_type": "code",
   "execution_count": 53,
   "id": "8b1dd8df",
   "metadata": {
    "execution": {
     "iopub.execute_input": "2023-06-14T16:20:37.539959Z",
     "iopub.status.busy": "2023-06-14T16:20:37.539533Z",
     "iopub.status.idle": "2023-06-14T16:20:37.548763Z",
     "shell.execute_reply": "2023-06-14T16:20:37.547484Z"
    },
    "papermill": {
     "duration": 0.039545,
     "end_time": "2023-06-14T16:20:37.551546",
     "exception": false,
     "start_time": "2023-06-14T16:20:37.512001",
     "status": "completed"
    },
    "tags": []
   },
   "outputs": [],
   "source": [
    "submission1_modeAge.to_csv('Titanic_Submission-Mode_Age-2023_6_14.csv')"
   ]
  },
  {
   "cell_type": "markdown",
   "id": "73c7c80b",
   "metadata": {
    "papermill": {
     "duration": 0.025986,
     "end_time": "2023-06-14T16:20:37.603603",
     "exception": false,
     "start_time": "2023-06-14T16:20:37.577617",
     "status": "completed"
    },
    "tags": []
   },
   "source": [
    "Result: 0.77751"
   ]
  }
 ],
 "metadata": {
  "kernelspec": {
   "display_name": "Python 3",
   "language": "python",
   "name": "python3"
  },
  "language_info": {
   "codemirror_mode": {
    "name": "ipython",
    "version": 3
   },
   "file_extension": ".py",
   "mimetype": "text/x-python",
   "name": "python",
   "nbconvert_exporter": "python",
   "pygments_lexer": "ipython3",
   "version": "3.10.10"
  },
  "papermill": {
   "default_parameters": {},
   "duration": 24.2261,
   "end_time": "2023-06-14T16:20:38.654258",
   "environment_variables": {},
   "exception": null,
   "input_path": "__notebook__.ipynb",
   "output_path": "__notebook__.ipynb",
   "parameters": {},
   "start_time": "2023-06-14T16:20:14.428158",
   "version": "2.4.0"
  }
 },
 "nbformat": 4,
 "nbformat_minor": 5
}
