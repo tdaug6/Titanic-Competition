{
 "cells": [
  {
   "cell_type": "code",
   "execution_count": 1,
   "id": "7bc931b7",
   "metadata": {
    "_cell_guid": "b1076dfc-b9ad-4769-8c92-a6c4dae69d19",
    "_uuid": "8f2839f25d086af736a60e9eeb907d3b93b6e0e5",
    "execution": {
     "iopub.execute_input": "2023-06-14T14:27:59.501892Z",
     "iopub.status.busy": "2023-06-14T14:27:59.501152Z",
     "iopub.status.idle": "2023-06-14T14:28:01.194959Z",
     "shell.execute_reply": "2023-06-14T14:28:01.193623Z"
    },
    "papermill": {
     "duration": 1.708901,
     "end_time": "2023-06-14T14:28:01.197896",
     "exception": false,
     "start_time": "2023-06-14T14:27:59.488995",
     "status": "completed"
    },
    "tags": []
   },
   "outputs": [],
   "source": [
    "import numpy as np\n",
    "import pandas as pd\n",
    "\n",
    "from sklearn.linear_model import LogisticRegression\n",
    "from sklearn.neighbors import KNeighborsClassifier\n",
    "from sklearn.svm import SVC\n",
    "\n",
    "from sklearn.model_selection import StratifiedKFold, cross_val_score"
   ]
  },
  {
   "cell_type": "code",
   "execution_count": 2,
   "id": "4793963d",
   "metadata": {
    "execution": {
     "iopub.execute_input": "2023-06-14T14:28:01.220939Z",
     "iopub.status.busy": "2023-06-14T14:28:01.220538Z",
     "iopub.status.idle": "2023-06-14T14:28:01.225548Z",
     "shell.execute_reply": "2023-06-14T14:28:01.224389Z"
    },
    "papermill": {
     "duration": 0.0197,
     "end_time": "2023-06-14T14:28:01.227833",
     "exception": false,
     "start_time": "2023-06-14T14:28:01.208133",
     "status": "completed"
    },
    "tags": []
   },
   "outputs": [],
   "source": [
    "train_filepath = '/kaggle/input/titanic/train.csv'\n",
    "test_filepath = '/kaggle/input/titanic/test.csv'"
   ]
  },
  {
   "cell_type": "code",
   "execution_count": 3,
   "id": "2e83c70b",
   "metadata": {
    "execution": {
     "iopub.execute_input": "2023-06-14T14:28:01.249853Z",
     "iopub.status.busy": "2023-06-14T14:28:01.249467Z",
     "iopub.status.idle": "2023-06-14T14:28:01.286280Z",
     "shell.execute_reply": "2023-06-14T14:28:01.285076Z"
    },
    "papermill": {
     "duration": 0.051069,
     "end_time": "2023-06-14T14:28:01.289109",
     "exception": false,
     "start_time": "2023-06-14T14:28:01.238040",
     "status": "completed"
    },
    "tags": []
   },
   "outputs": [],
   "source": [
    "df_train = pd.read_csv(train_filepath)\n",
    "df_test = pd.read_csv(test_filepath)"
   ]
  },
  {
   "cell_type": "code",
   "execution_count": 4,
   "id": "52b0811c",
   "metadata": {
    "execution": {
     "iopub.execute_input": "2023-06-14T14:28:01.313641Z",
     "iopub.status.busy": "2023-06-14T14:28:01.313205Z",
     "iopub.status.idle": "2023-06-14T14:28:01.326469Z",
     "shell.execute_reply": "2023-06-14T14:28:01.325423Z"
    },
    "papermill": {
     "duration": 0.027721,
     "end_time": "2023-06-14T14:28:01.328837",
     "exception": false,
     "start_time": "2023-06-14T14:28:01.301116",
     "status": "completed"
    },
    "tags": []
   },
   "outputs": [],
   "source": [
    "fill_fare_mean = df_test['Fare'].mean()\n",
    "fill_fare_med = df_test['Fare'].median()"
   ]
  },
  {
   "cell_type": "code",
   "execution_count": 5,
   "id": "0743977f",
   "metadata": {
    "execution": {
     "iopub.execute_input": "2023-06-14T14:28:01.352095Z",
     "iopub.status.busy": "2023-06-14T14:28:01.351725Z",
     "iopub.status.idle": "2023-06-14T14:28:01.356369Z",
     "shell.execute_reply": "2023-06-14T14:28:01.355186Z"
    },
    "papermill": {
     "duration": 0.01932,
     "end_time": "2023-06-14T14:28:01.358694",
     "exception": false,
     "start_time": "2023-06-14T14:28:01.339374",
     "status": "completed"
    },
    "tags": []
   },
   "outputs": [],
   "source": [
    "drop_feature_names = ['Name', 'Cabin', 'Ticket']"
   ]
  },
  {
   "cell_type": "code",
   "execution_count": 6,
   "id": "0e2b5501",
   "metadata": {
    "execution": {
     "iopub.execute_input": "2023-06-14T14:28:01.380847Z",
     "iopub.status.busy": "2023-06-14T14:28:01.380153Z",
     "iopub.status.idle": "2023-06-14T14:28:01.385622Z",
     "shell.execute_reply": "2023-06-14T14:28:01.384695Z"
    },
    "papermill": {
     "duration": 0.019404,
     "end_time": "2023-06-14T14:28:01.388017",
     "exception": false,
     "start_time": "2023-06-14T14:28:01.368613",
     "status": "completed"
    },
    "tags": []
   },
   "outputs": [],
   "source": [
    "map_features = ['Sex', 'Embarked']\n",
    "map_dicts = [{'male':0, 'female':1}, {'Q':0, 'C':1, 'S':2}]"
   ]
  },
  {
   "cell_type": "code",
   "execution_count": 7,
   "id": "0501ec7d",
   "metadata": {
    "execution": {
     "iopub.execute_input": "2023-06-14T14:28:01.410927Z",
     "iopub.status.busy": "2023-06-14T14:28:01.410260Z",
     "iopub.status.idle": "2023-06-14T14:28:01.416126Z",
     "shell.execute_reply": "2023-06-14T14:28:01.415204Z"
    },
    "papermill": {
     "duration": 0.020584,
     "end_time": "2023-06-14T14:28:01.418748",
     "exception": false,
     "start_time": "2023-06-14T14:28:01.398164",
     "status": "completed"
    },
    "tags": []
   },
   "outputs": [],
   "source": [
    "models = []\n",
    "\n",
    "models.append(('SVM', SVC()))\n",
    "models.append(('KNN', KNeighborsClassifier()))\n",
    "models.append(('LR', LogisticRegression()))"
   ]
  },
  {
   "cell_type": "code",
   "execution_count": 8,
   "id": "812e1c8d",
   "metadata": {
    "execution": {
     "iopub.execute_input": "2023-06-14T14:28:01.440939Z",
     "iopub.status.busy": "2023-06-14T14:28:01.440311Z",
     "iopub.status.idle": "2023-06-14T14:28:01.446682Z",
     "shell.execute_reply": "2023-06-14T14:28:01.445663Z"
    },
    "papermill": {
     "duration": 0.020334,
     "end_time": "2023-06-14T14:28:01.449192",
     "exception": false,
     "start_time": "2023-06-14T14:28:01.428858",
     "status": "completed"
    },
    "tags": []
   },
   "outputs": [],
   "source": [
    "def drop_features(df, d_features):\n",
    "    df_dropped = df\n",
    "    \n",
    "    for feature in d_features:\n",
    "        df_dropped = df_dropped.drop(str(feature), axis=1)\n",
    "        \n",
    "    return df_dropped"
   ]
  },
  {
   "cell_type": "code",
   "execution_count": 9,
   "id": "01eb581b",
   "metadata": {
    "execution": {
     "iopub.execute_input": "2023-06-14T14:28:01.471328Z",
     "iopub.status.busy": "2023-06-14T14:28:01.470912Z",
     "iopub.status.idle": "2023-06-14T14:28:01.477900Z",
     "shell.execute_reply": "2023-06-14T14:28:01.476608Z"
    },
    "papermill": {
     "duration": 0.02108,
     "end_time": "2023-06-14T14:28:01.480385",
     "exception": false,
     "start_time": "2023-06-14T14:28:01.459305",
     "status": "completed"
    },
    "tags": []
   },
   "outputs": [],
   "source": [
    "def map_cat(df, features, dictionaries):\n",
    "    '''\n",
    "    Map categorical data to be numeric\n",
    "    \n",
    "    Input:\n",
    "        - Dataframe for the mapping to take place in\n",
    "        - List of features that contain categorical data\n",
    "        - List of dictionaries to govern how to map the feature\n",
    "    \n",
    "    Output: A dataframe with the given features mapped according to the dictionaries\n",
    "        \n",
    "    '''\n",
    "    df_mapped = df\n",
    "    \n",
    "    for i in range(len(features)):\n",
    "        feature = features[i]\n",
    "        dictionary = dictionaries[i]\n",
    "        \n",
    "        df_mapped[feature] = df[feature].map(dictionary)\n",
    "        \n",
    "    return df_mapped"
   ]
  },
  {
   "cell_type": "code",
   "execution_count": 10,
   "id": "770d3dae",
   "metadata": {
    "execution": {
     "iopub.execute_input": "2023-06-14T14:28:01.502060Z",
     "iopub.status.busy": "2023-06-14T14:28:01.501656Z",
     "iopub.status.idle": "2023-06-14T14:28:01.507399Z",
     "shell.execute_reply": "2023-06-14T14:28:01.506142Z"
    },
    "papermill": {
     "duration": 0.019581,
     "end_time": "2023-06-14T14:28:01.509923",
     "exception": false,
     "start_time": "2023-06-14T14:28:01.490342",
     "status": "completed"
    },
    "tags": []
   },
   "outputs": [],
   "source": [
    "def normalize(feature):\n",
    "    '''\n",
    "    This function normalizes a Series\n",
    "    \n",
    "    Input: A feature of type Series\n",
    "    \n",
    "    Output: The normalized feature of type Series\n",
    "    '''\n",
    "    return (feature - feature.mean())/feature.std()"
   ]
  },
  {
   "cell_type": "code",
   "execution_count": 11,
   "id": "7c9aa672",
   "metadata": {
    "execution": {
     "iopub.execute_input": "2023-06-14T14:28:01.531421Z",
     "iopub.status.busy": "2023-06-14T14:28:01.531033Z",
     "iopub.status.idle": "2023-06-14T14:28:01.537008Z",
     "shell.execute_reply": "2023-06-14T14:28:01.535800Z"
    },
    "papermill": {
     "duration": 0.019186,
     "end_time": "2023-06-14T14:28:01.539166",
     "exception": false,
     "start_time": "2023-06-14T14:28:01.519980",
     "status": "completed"
    },
    "tags": []
   },
   "outputs": [],
   "source": [
    "def normalize_features(df):\n",
    "    '''\n",
    "    This function normalizes all features in a dataframe\n",
    "    \n",
    "    Input: A pandas dataframe\n",
    "    \n",
    "    Output: The normalized dataframe\n",
    "    '''\n",
    "    for column in df.columns:\n",
    "        df[column] = normalize(df[column])\n",
    "    return df"
   ]
  },
  {
   "cell_type": "code",
   "execution_count": 12,
   "id": "079a51ca",
   "metadata": {
    "execution": {
     "iopub.execute_input": "2023-06-14T14:28:01.562083Z",
     "iopub.status.busy": "2023-06-14T14:28:01.560921Z",
     "iopub.status.idle": "2023-06-14T14:28:01.567967Z",
     "shell.execute_reply": "2023-06-14T14:28:01.567143Z"
    },
    "papermill": {
     "duration": 0.02135,
     "end_time": "2023-06-14T14:28:01.570422",
     "exception": false,
     "start_time": "2023-06-14T14:28:01.549072",
     "status": "completed"
    },
    "tags": []
   },
   "outputs": [],
   "source": [
    "def perform_cross_validation(X_train, y_train):\n",
    "    '''\n",
    "    This function goes through the steps to perform Stratified K-fold cross validation using the list of models described above.\n",
    "    \n",
    "    Input: \n",
    "        - A dataframe containing the features use to build the model\n",
    "        - A Series of the true values associated with the feature list\n",
    "    \n",
    "    Output: Printed result for the mean and standard deviation of each model\n",
    "    '''\n",
    "    results = dict()\n",
    "\n",
    "    for name, model in models:\n",
    "        kfold = StratifiedKFold(n_splits=10)\n",
    "        cv_results = cross_val_score(model, X_train, y_train, cv=kfold, scoring='accuracy')\n",
    "        results[name] = (cv_results.mean(), cv_results.std())\n",
    "\n",
    "    print('Model\\t\\tCV Mean\\t\\tCV std')\n",
    "    print(results)"
   ]
  },
  {
   "cell_type": "code",
   "execution_count": 13,
   "id": "b8e561bc",
   "metadata": {
    "execution": {
     "iopub.execute_input": "2023-06-14T14:28:01.591876Z",
     "iopub.status.busy": "2023-06-14T14:28:01.591452Z",
     "iopub.status.idle": "2023-06-14T14:28:01.598012Z",
     "shell.execute_reply": "2023-06-14T14:28:01.596781Z"
    },
    "papermill": {
     "duration": 0.020144,
     "end_time": "2023-06-14T14:28:01.600514",
     "exception": false,
     "start_time": "2023-06-14T14:28:01.580370",
     "status": "completed"
    },
    "tags": []
   },
   "outputs": [],
   "source": [
    "def prepare_dataframe(df, d_features, fill_fare):\n",
    "    df_dropped = drop_features(df, d_features)\n",
    "    df_dropped['Fare'] = df_dropped['Fare'].fillna(fill_fare)\n",
    "    df_dropped['Embarked'] = df_dropped['Embarked'].fillna('S')\n",
    "    df_mapped = map_cat(df_dropped, map_features, map_dicts)\n",
    "    return df_mapped"
   ]
  },
  {
   "cell_type": "markdown",
   "id": "5a3d1cca",
   "metadata": {
    "papermill": {
     "duration": 0.009908,
     "end_time": "2023-06-14T14:28:01.620509",
     "exception": false,
     "start_time": "2023-06-14T14:28:01.610601",
     "status": "completed"
    },
    "tags": []
   },
   "source": []
  },
  {
   "cell_type": "code",
   "execution_count": 14,
   "id": "7f7991fc",
   "metadata": {
    "execution": {
     "iopub.execute_input": "2023-06-14T14:28:01.642814Z",
     "iopub.status.busy": "2023-06-14T14:28:01.642088Z",
     "iopub.status.idle": "2023-06-14T14:28:01.670264Z",
     "shell.execute_reply": "2023-06-14T14:28:01.668802Z"
    },
    "papermill": {
     "duration": 0.042964,
     "end_time": "2023-06-14T14:28:01.673303",
     "exception": false,
     "start_time": "2023-06-14T14:28:01.630339",
     "status": "completed"
    },
    "tags": []
   },
   "outputs": [],
   "source": [
    "df_train_noAge = pd.read_csv(train_filepath, index_col='PassengerId')\n",
    "df_test_noAge = pd.read_csv(test_filepath, index_col='PassengerId')"
   ]
  },
  {
   "cell_type": "code",
   "execution_count": 15,
   "id": "4c2ddf57",
   "metadata": {
    "execution": {
     "iopub.execute_input": "2023-06-14T14:28:01.697009Z",
     "iopub.status.busy": "2023-06-14T14:28:01.694762Z",
     "iopub.status.idle": "2023-06-14T14:28:01.700953Z",
     "shell.execute_reply": "2023-06-14T14:28:01.700094Z"
    },
    "papermill": {
     "duration": 0.019697,
     "end_time": "2023-06-14T14:28:01.703108",
     "exception": false,
     "start_time": "2023-06-14T14:28:01.683411",
     "status": "completed"
    },
    "tags": []
   },
   "outputs": [],
   "source": [
    "drop_feature_names_w_age = drop_feature_names + ['Age']"
   ]
  },
  {
   "cell_type": "code",
   "execution_count": 16,
   "id": "13fa853c",
   "metadata": {
    "execution": {
     "iopub.execute_input": "2023-06-14T14:28:01.725439Z",
     "iopub.status.busy": "2023-06-14T14:28:01.724360Z",
     "iopub.status.idle": "2023-06-14T14:28:01.743601Z",
     "shell.execute_reply": "2023-06-14T14:28:01.742476Z"
    },
    "papermill": {
     "duration": 0.033241,
     "end_time": "2023-06-14T14:28:01.746403",
     "exception": false,
     "start_time": "2023-06-14T14:28:01.713162",
     "status": "completed"
    },
    "tags": []
   },
   "outputs": [],
   "source": [
    "df_train_noAge = prepare_dataframe(df_train_noAge, drop_feature_names_w_age, fill_fare_mean)\n",
    "df_test_noAge = prepare_dataframe(df_test_noAge, drop_feature_names_w_age, fill_fare_mean)"
   ]
  },
  {
   "cell_type": "code",
   "execution_count": 17,
   "id": "bb58da89",
   "metadata": {
    "execution": {
     "iopub.execute_input": "2023-06-14T14:28:01.768212Z",
     "iopub.status.busy": "2023-06-14T14:28:01.767830Z",
     "iopub.status.idle": "2023-06-14T14:28:01.774515Z",
     "shell.execute_reply": "2023-06-14T14:28:01.773263Z"
    },
    "papermill": {
     "duration": 0.020499,
     "end_time": "2023-06-14T14:28:01.776808",
     "exception": false,
     "start_time": "2023-06-14T14:28:01.756309",
     "status": "completed"
    },
    "tags": []
   },
   "outputs": [],
   "source": [
    "X_noAge = df_train_noAge.drop('Survived', axis=1)\n",
    "y_noAge = df_train_noAge['Survived']"
   ]
  },
  {
   "cell_type": "code",
   "execution_count": 18,
   "id": "78ea1d04",
   "metadata": {
    "execution": {
     "iopub.execute_input": "2023-06-14T14:28:01.798992Z",
     "iopub.status.busy": "2023-06-14T14:28:01.798297Z",
     "iopub.status.idle": "2023-06-14T14:28:01.814159Z",
     "shell.execute_reply": "2023-06-14T14:28:01.812977Z"
    },
    "papermill": {
     "duration": 0.03011,
     "end_time": "2023-06-14T14:28:01.816836",
     "exception": false,
     "start_time": "2023-06-14T14:28:01.786726",
     "status": "completed"
    },
    "tags": []
   },
   "outputs": [],
   "source": [
    "X_noAge = normalize_features(X_noAge)\n",
    "df_test_noAge = normalize_features(df_test_noAge)"
   ]
  },
  {
   "cell_type": "code",
   "execution_count": 19,
   "id": "a30b5dbf",
   "metadata": {
    "execution": {
     "iopub.execute_input": "2023-06-14T14:28:01.838167Z",
     "iopub.status.busy": "2023-06-14T14:28:01.837735Z",
     "iopub.status.idle": "2023-06-14T14:28:02.318029Z",
     "shell.execute_reply": "2023-06-14T14:28:02.316718Z"
    },
    "papermill": {
     "duration": 0.493898,
     "end_time": "2023-06-14T14:28:02.320624",
     "exception": false,
     "start_time": "2023-06-14T14:28:01.826726",
     "status": "completed"
    },
    "tags": []
   },
   "outputs": [
    {
     "name": "stdout",
     "output_type": "stream",
     "text": [
      "Model\t\tCV Mean\t\tCV std\n",
      "{'SVM': (0.8058052434456927, 0.02817776516195646), 'KNN': (0.8092384519350813, 0.04749914265913915), 'LR': (0.7934706616729088, 0.024861946815253916)}\n"
     ]
    }
   ],
   "source": [
    "perform_cross_validation(X_noAge, y_noAge)"
   ]
  },
  {
   "cell_type": "code",
   "execution_count": 20,
   "id": "c48b1506",
   "metadata": {
    "execution": {
     "iopub.execute_input": "2023-06-14T14:28:02.342890Z",
     "iopub.status.busy": "2023-06-14T14:28:02.342491Z",
     "iopub.status.idle": "2023-06-14T14:28:02.391097Z",
     "shell.execute_reply": "2023-06-14T14:28:02.390004Z"
    },
    "papermill": {
     "duration": 0.062882,
     "end_time": "2023-06-14T14:28:02.393828",
     "exception": false,
     "start_time": "2023-06-14T14:28:02.330946",
     "status": "completed"
    },
    "tags": []
   },
   "outputs": [
    {
     "data": {
      "text/html": [
       "<div>\n",
       "<style scoped>\n",
       "    .dataframe tbody tr th:only-of-type {\n",
       "        vertical-align: middle;\n",
       "    }\n",
       "\n",
       "    .dataframe tbody tr th {\n",
       "        vertical-align: top;\n",
       "    }\n",
       "\n",
       "    .dataframe thead th {\n",
       "        text-align: right;\n",
       "    }\n",
       "</style>\n",
       "<table border=\"1\" class=\"dataframe\">\n",
       "  <thead>\n",
       "    <tr style=\"text-align: right;\">\n",
       "      <th></th>\n",
       "      <th>Survived</th>\n",
       "    </tr>\n",
       "    <tr>\n",
       "      <th>PassengerId</th>\n",
       "      <th></th>\n",
       "    </tr>\n",
       "  </thead>\n",
       "  <tbody>\n",
       "    <tr>\n",
       "      <th>892</th>\n",
       "      <td>0</td>\n",
       "    </tr>\n",
       "    <tr>\n",
       "      <th>893</th>\n",
       "      <td>0</td>\n",
       "    </tr>\n",
       "    <tr>\n",
       "      <th>894</th>\n",
       "      <td>0</td>\n",
       "    </tr>\n",
       "    <tr>\n",
       "      <th>895</th>\n",
       "      <td>0</td>\n",
       "    </tr>\n",
       "    <tr>\n",
       "      <th>896</th>\n",
       "      <td>1</td>\n",
       "    </tr>\n",
       "  </tbody>\n",
       "</table>\n",
       "</div>"
      ],
      "text/plain": [
       "             Survived\n",
       "PassengerId          \n",
       "892                 0\n",
       "893                 0\n",
       "894                 0\n",
       "895                 0\n",
       "896                 1"
      ]
     },
     "execution_count": 20,
     "metadata": {},
     "output_type": "execute_result"
    }
   ],
   "source": [
    "clf_noAge = KNeighborsClassifier().fit(X_noAge,y_noAge)\n",
    "\n",
    "predictions_noAge = clf_noAge.predict(df_test_noAge)\n",
    "\n",
    "submission1_noAge = pd.DataFrame(data={'Survived':predictions_noAge}, index=df_test_noAge.index)\n",
    "\n",
    "submission1_noAge.head()"
   ]
  },
  {
   "cell_type": "code",
   "execution_count": 21,
   "id": "b06d6777",
   "metadata": {
    "execution": {
     "iopub.execute_input": "2023-06-14T14:28:02.416466Z",
     "iopub.status.busy": "2023-06-14T14:28:02.415902Z",
     "iopub.status.idle": "2023-06-14T14:28:02.428771Z",
     "shell.execute_reply": "2023-06-14T14:28:02.427550Z"
    },
    "papermill": {
     "duration": 0.027298,
     "end_time": "2023-06-14T14:28:02.431631",
     "exception": false,
     "start_time": "2023-06-14T14:28:02.404333",
     "status": "completed"
    },
    "tags": []
   },
   "outputs": [],
   "source": [
    "submission1_noAge.to_csv('Titanic_Submission-No_Age-Mean_Fare-2023_6_14.csv')"
   ]
  },
  {
   "cell_type": "markdown",
   "id": "85478faf",
   "metadata": {
    "papermill": {
     "duration": 0.010049,
     "end_time": "2023-06-14T14:28:02.452683",
     "exception": false,
     "start_time": "2023-06-14T14:28:02.442634",
     "status": "completed"
    },
    "tags": []
   },
   "source": []
  },
  {
   "cell_type": "code",
   "execution_count": 22,
   "id": "46dce786",
   "metadata": {
    "execution": {
     "iopub.execute_input": "2023-06-14T14:28:02.475328Z",
     "iopub.status.busy": "2023-06-14T14:28:02.474893Z",
     "iopub.status.idle": "2023-06-14T14:28:02.492193Z",
     "shell.execute_reply": "2023-06-14T14:28:02.491193Z"
    },
    "papermill": {
     "duration": 0.03178,
     "end_time": "2023-06-14T14:28:02.494861",
     "exception": false,
     "start_time": "2023-06-14T14:28:02.463081",
     "status": "completed"
    },
    "tags": []
   },
   "outputs": [],
   "source": [
    "df_train_noAge = pd.read_csv(train_filepath, index_col='PassengerId')\n",
    "df_test_noAge = pd.read_csv(test_filepath, index_col='PassengerId')"
   ]
  },
  {
   "cell_type": "code",
   "execution_count": 23,
   "id": "323f6cac",
   "metadata": {
    "execution": {
     "iopub.execute_input": "2023-06-14T14:28:02.517352Z",
     "iopub.status.busy": "2023-06-14T14:28:02.516909Z",
     "iopub.status.idle": "2023-06-14T14:28:02.522481Z",
     "shell.execute_reply": "2023-06-14T14:28:02.521203Z"
    },
    "papermill": {
     "duration": 0.0194,
     "end_time": "2023-06-14T14:28:02.524695",
     "exception": false,
     "start_time": "2023-06-14T14:28:02.505295",
     "status": "completed"
    },
    "tags": []
   },
   "outputs": [],
   "source": [
    "drop_feature_names_w_age = drop_feature_names + ['Age']"
   ]
  },
  {
   "cell_type": "code",
   "execution_count": 24,
   "id": "83918535",
   "metadata": {
    "execution": {
     "iopub.execute_input": "2023-06-14T14:28:02.547433Z",
     "iopub.status.busy": "2023-06-14T14:28:02.546966Z",
     "iopub.status.idle": "2023-06-14T14:28:02.566705Z",
     "shell.execute_reply": "2023-06-14T14:28:02.565482Z"
    },
    "papermill": {
     "duration": 0.033581,
     "end_time": "2023-06-14T14:28:02.568859",
     "exception": false,
     "start_time": "2023-06-14T14:28:02.535278",
     "status": "completed"
    },
    "tags": []
   },
   "outputs": [],
   "source": [
    "df_train_noAge = prepare_dataframe(df_train_noAge, drop_feature_names_w_age, fill_fare_med)\n",
    "df_test_noAge = prepare_dataframe(df_test_noAge, drop_feature_names_w_age, fill_fare_med)"
   ]
  },
  {
   "cell_type": "code",
   "execution_count": 25,
   "id": "61faaa8d",
   "metadata": {
    "execution": {
     "iopub.execute_input": "2023-06-14T14:28:02.591327Z",
     "iopub.status.busy": "2023-06-14T14:28:02.590886Z",
     "iopub.status.idle": "2023-06-14T14:28:02.597931Z",
     "shell.execute_reply": "2023-06-14T14:28:02.596779Z"
    },
    "papermill": {
     "duration": 0.021251,
     "end_time": "2023-06-14T14:28:02.600434",
     "exception": false,
     "start_time": "2023-06-14T14:28:02.579183",
     "status": "completed"
    },
    "tags": []
   },
   "outputs": [],
   "source": [
    "X_noAge = df_train_noAge.drop('Survived', axis=1)\n",
    "y_noAge = df_train_noAge['Survived']"
   ]
  },
  {
   "cell_type": "code",
   "execution_count": 26,
   "id": "9021f23d",
   "metadata": {
    "execution": {
     "iopub.execute_input": "2023-06-14T14:28:02.623483Z",
     "iopub.status.busy": "2023-06-14T14:28:02.623036Z",
     "iopub.status.idle": "2023-06-14T14:28:02.640633Z",
     "shell.execute_reply": "2023-06-14T14:28:02.639419Z"
    },
    "papermill": {
     "duration": 0.032377,
     "end_time": "2023-06-14T14:28:02.643424",
     "exception": false,
     "start_time": "2023-06-14T14:28:02.611047",
     "status": "completed"
    },
    "tags": []
   },
   "outputs": [],
   "source": [
    "X_noAge = normalize_features(X_noAge)\n",
    "df_test_noAge = normalize_features(df_test_noAge)"
   ]
  },
  {
   "cell_type": "code",
   "execution_count": 27,
   "id": "0693f0f1",
   "metadata": {
    "execution": {
     "iopub.execute_input": "2023-06-14T14:28:02.665922Z",
     "iopub.status.busy": "2023-06-14T14:28:02.665546Z",
     "iopub.status.idle": "2023-06-14T14:28:03.119732Z",
     "shell.execute_reply": "2023-06-14T14:28:03.118408Z"
    },
    "papermill": {
     "duration": 0.468476,
     "end_time": "2023-06-14T14:28:03.122391",
     "exception": false,
     "start_time": "2023-06-14T14:28:02.653915",
     "status": "completed"
    },
    "tags": []
   },
   "outputs": [
    {
     "name": "stdout",
     "output_type": "stream",
     "text": [
      "Model\t\tCV Mean\t\tCV std\n",
      "{'SVM': (0.8058052434456927, 0.02817776516195646), 'KNN': (0.8092384519350813, 0.04749914265913915), 'LR': (0.7934706616729088, 0.024861946815253916)}\n"
     ]
    }
   ],
   "source": [
    "perform_cross_validation(X_noAge, y_noAge)"
   ]
  },
  {
   "cell_type": "code",
   "execution_count": 28,
   "id": "5bfd5dc3",
   "metadata": {
    "execution": {
     "iopub.execute_input": "2023-06-14T14:28:03.144767Z",
     "iopub.status.busy": "2023-06-14T14:28:03.144378Z",
     "iopub.status.idle": "2023-06-14T14:28:03.181483Z",
     "shell.execute_reply": "2023-06-14T14:28:03.180396Z"
    },
    "papermill": {
     "duration": 0.051218,
     "end_time": "2023-06-14T14:28:03.183934",
     "exception": false,
     "start_time": "2023-06-14T14:28:03.132716",
     "status": "completed"
    },
    "tags": []
   },
   "outputs": [
    {
     "data": {
      "text/html": [
       "<div>\n",
       "<style scoped>\n",
       "    .dataframe tbody tr th:only-of-type {\n",
       "        vertical-align: middle;\n",
       "    }\n",
       "\n",
       "    .dataframe tbody tr th {\n",
       "        vertical-align: top;\n",
       "    }\n",
       "\n",
       "    .dataframe thead th {\n",
       "        text-align: right;\n",
       "    }\n",
       "</style>\n",
       "<table border=\"1\" class=\"dataframe\">\n",
       "  <thead>\n",
       "    <tr style=\"text-align: right;\">\n",
       "      <th></th>\n",
       "      <th>Survived</th>\n",
       "    </tr>\n",
       "    <tr>\n",
       "      <th>PassengerId</th>\n",
       "      <th></th>\n",
       "    </tr>\n",
       "  </thead>\n",
       "  <tbody>\n",
       "    <tr>\n",
       "      <th>892</th>\n",
       "      <td>0</td>\n",
       "    </tr>\n",
       "    <tr>\n",
       "      <th>893</th>\n",
       "      <td>0</td>\n",
       "    </tr>\n",
       "    <tr>\n",
       "      <th>894</th>\n",
       "      <td>0</td>\n",
       "    </tr>\n",
       "    <tr>\n",
       "      <th>895</th>\n",
       "      <td>0</td>\n",
       "    </tr>\n",
       "    <tr>\n",
       "      <th>896</th>\n",
       "      <td>1</td>\n",
       "    </tr>\n",
       "  </tbody>\n",
       "</table>\n",
       "</div>"
      ],
      "text/plain": [
       "             Survived\n",
       "PassengerId          \n",
       "892                 0\n",
       "893                 0\n",
       "894                 0\n",
       "895                 0\n",
       "896                 1"
      ]
     },
     "execution_count": 28,
     "metadata": {},
     "output_type": "execute_result"
    }
   ],
   "source": [
    "clf_noAge = KNeighborsClassifier().fit(X_noAge,y_noAge)\n",
    "\n",
    "predictions_noAge = clf_noAge.predict(df_test_noAge)\n",
    "\n",
    "submission1_noAge = pd.DataFrame(data={'Survived':predictions_noAge}, index=df_test_noAge.index)\n",
    "\n",
    "submission1_noAge.head()"
   ]
  },
  {
   "cell_type": "code",
   "execution_count": 29,
   "id": "6223cb05",
   "metadata": {
    "execution": {
     "iopub.execute_input": "2023-06-14T14:28:03.207153Z",
     "iopub.status.busy": "2023-06-14T14:28:03.206077Z",
     "iopub.status.idle": "2023-06-14T14:28:03.214390Z",
     "shell.execute_reply": "2023-06-14T14:28:03.213280Z"
    },
    "papermill": {
     "duration": 0.022582,
     "end_time": "2023-06-14T14:28:03.216979",
     "exception": false,
     "start_time": "2023-06-14T14:28:03.194397",
     "status": "completed"
    },
    "tags": []
   },
   "outputs": [],
   "source": [
    "submission1_noAge.to_csv('Titanic_Submission-No_Age-Med_Fare-2023_6_14.csv')"
   ]
  },
  {
   "cell_type": "markdown",
   "id": "3623e1a9",
   "metadata": {
    "papermill": {
     "duration": 0.010269,
     "end_time": "2023-06-14T14:28:03.237927",
     "exception": false,
     "start_time": "2023-06-14T14:28:03.227658",
     "status": "completed"
    },
    "tags": []
   },
   "source": []
  }
 ],
 "metadata": {
  "kernelspec": {
   "display_name": "Python 3",
   "language": "python",
   "name": "python3"
  },
  "language_info": {
   "codemirror_mode": {
    "name": "ipython",
    "version": 3
   },
   "file_extension": ".py",
   "mimetype": "text/x-python",
   "name": "python",
   "nbconvert_exporter": "python",
   "pygments_lexer": "ipython3",
   "version": "3.10.10"
  },
  "papermill": {
   "default_parameters": {},
   "duration": 17.345229,
   "end_time": "2023-06-14T14:28:04.270861",
   "environment_variables": {},
   "exception": null,
   "input_path": "__notebook__.ipynb",
   "output_path": "__notebook__.ipynb",
   "parameters": {},
   "start_time": "2023-06-14T14:27:46.925632",
   "version": "2.4.0"
  }
 },
 "nbformat": 4,
 "nbformat_minor": 5
}
