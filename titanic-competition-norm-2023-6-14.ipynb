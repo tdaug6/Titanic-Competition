{
 "cells": [
  {
   "cell_type": "code",
   "execution_count": 1,
   "id": "d1fc1468",
   "metadata": {
    "_cell_guid": "b1076dfc-b9ad-4769-8c92-a6c4dae69d19",
    "_uuid": "8f2839f25d086af736a60e9eeb907d3b93b6e0e5",
    "execution": {
     "iopub.execute_input": "2023-06-14T13:22:15.942145Z",
     "iopub.status.busy": "2023-06-14T13:22:15.941783Z",
     "iopub.status.idle": "2023-06-14T13:22:17.417701Z",
     "shell.execute_reply": "2023-06-14T13:22:17.416750Z"
    },
    "papermill": {
     "duration": 1.485545,
     "end_time": "2023-06-14T13:22:17.420189",
     "exception": false,
     "start_time": "2023-06-14T13:22:15.934644",
     "status": "completed"
    },
    "tags": []
   },
   "outputs": [],
   "source": [
    "import numpy as np\n",
    "import pandas as pd\n",
    "\n",
    "from sklearn.linear_model import LogisticRegression\n",
    "from sklearn.neighbors import KNeighborsClassifier\n",
    "from sklearn.svm import SVC\n",
    "\n",
    "from sklearn.model_selection import StratifiedKFold, cross_val_score"
   ]
  },
  {
   "cell_type": "code",
   "execution_count": 2,
   "id": "ea8eedfa",
   "metadata": {
    "execution": {
     "iopub.execute_input": "2023-06-14T13:22:17.432540Z",
     "iopub.status.busy": "2023-06-14T13:22:17.432157Z",
     "iopub.status.idle": "2023-06-14T13:22:17.437540Z",
     "shell.execute_reply": "2023-06-14T13:22:17.436503Z"
    },
    "papermill": {
     "duration": 0.01411,
     "end_time": "2023-06-14T13:22:17.439838",
     "exception": false,
     "start_time": "2023-06-14T13:22:17.425728",
     "status": "completed"
    },
    "tags": []
   },
   "outputs": [],
   "source": [
    "train_filepath = '/kaggle/input/titanic/train.csv'\n",
    "test_filepath = '/kaggle/input/titanic/test.csv'"
   ]
  },
  {
   "cell_type": "code",
   "execution_count": 3,
   "id": "ebecc513",
   "metadata": {
    "execution": {
     "iopub.execute_input": "2023-06-14T13:22:17.451792Z",
     "iopub.status.busy": "2023-06-14T13:22:17.451395Z",
     "iopub.status.idle": "2023-06-14T13:22:17.455992Z",
     "shell.execute_reply": "2023-06-14T13:22:17.454961Z"
    },
    "papermill": {
     "duration": 0.013227,
     "end_time": "2023-06-14T13:22:17.458283",
     "exception": false,
     "start_time": "2023-06-14T13:22:17.445056",
     "status": "completed"
    },
    "tags": []
   },
   "outputs": [],
   "source": [
    "drop_feature_names = ['Name', 'Cabin', 'Ticket']"
   ]
  },
  {
   "cell_type": "code",
   "execution_count": 4,
   "id": "8307ad6b",
   "metadata": {
    "execution": {
     "iopub.execute_input": "2023-06-14T13:22:17.470841Z",
     "iopub.status.busy": "2023-06-14T13:22:17.470480Z",
     "iopub.status.idle": "2023-06-14T13:22:17.474876Z",
     "shell.execute_reply": "2023-06-14T13:22:17.473959Z"
    },
    "papermill": {
     "duration": 0.012793,
     "end_time": "2023-06-14T13:22:17.476639",
     "exception": false,
     "start_time": "2023-06-14T13:22:17.463846",
     "status": "completed"
    },
    "tags": []
   },
   "outputs": [],
   "source": [
    "map_features = ['Sex', 'Embarked']\n",
    "map_dicts = [{'male':0, 'female':1}, {'Q':0, 'C':1, 'S':2}]"
   ]
  },
  {
   "cell_type": "code",
   "execution_count": 5,
   "id": "e22e2757",
   "metadata": {
    "execution": {
     "iopub.execute_input": "2023-06-14T13:22:17.488690Z",
     "iopub.status.busy": "2023-06-14T13:22:17.487989Z",
     "iopub.status.idle": "2023-06-14T13:22:17.492350Z",
     "shell.execute_reply": "2023-06-14T13:22:17.491686Z"
    },
    "papermill": {
     "duration": 0.012494,
     "end_time": "2023-06-14T13:22:17.494156",
     "exception": false,
     "start_time": "2023-06-14T13:22:17.481662",
     "status": "completed"
    },
    "tags": []
   },
   "outputs": [],
   "source": [
    "models = []\n",
    "\n",
    "models.append(('SVM', SVC()))\n",
    "models.append(('KNN', KNeighborsClassifier()))\n",
    "models.append(('LR', LogisticRegression()))"
   ]
  },
  {
   "cell_type": "code",
   "execution_count": 6,
   "id": "505679a8",
   "metadata": {
    "execution": {
     "iopub.execute_input": "2023-06-14T13:22:17.506262Z",
     "iopub.status.busy": "2023-06-14T13:22:17.505354Z",
     "iopub.status.idle": "2023-06-14T13:22:17.510713Z",
     "shell.execute_reply": "2023-06-14T13:22:17.509626Z"
    },
    "papermill": {
     "duration": 0.013514,
     "end_time": "2023-06-14T13:22:17.512644",
     "exception": false,
     "start_time": "2023-06-14T13:22:17.499130",
     "status": "completed"
    },
    "tags": []
   },
   "outputs": [],
   "source": [
    "def drop_features(df, d_features):\n",
    "    df_dropped = df\n",
    "    \n",
    "    for feature in d_features:\n",
    "        df_dropped = df.drop(feature, axis=1)\n",
    "        \n",
    "    return df_dropped"
   ]
  },
  {
   "cell_type": "code",
   "execution_count": 7,
   "id": "698a860a",
   "metadata": {
    "execution": {
     "iopub.execute_input": "2023-06-14T13:22:17.526268Z",
     "iopub.status.busy": "2023-06-14T13:22:17.525588Z",
     "iopub.status.idle": "2023-06-14T13:22:17.531243Z",
     "shell.execute_reply": "2023-06-14T13:22:17.530452Z"
    },
    "papermill": {
     "duration": 0.014071,
     "end_time": "2023-06-14T13:22:17.533183",
     "exception": false,
     "start_time": "2023-06-14T13:22:17.519112",
     "status": "completed"
    },
    "tags": []
   },
   "outputs": [],
   "source": [
    "def map_cat(df, features, dictionaries):\n",
    "    '''\n",
    "    Map categorical data to be numeric\n",
    "    \n",
    "    Input:\n",
    "        - Dataframe for the mapping to take place in\n",
    "        - List of features that contain categorical data\n",
    "        - List of dictionaries to govern how to map the feature\n",
    "    \n",
    "    Output: A dataframe with the given features mapped according to the dictionaries\n",
    "        \n",
    "    '''\n",
    "    df_mapped = df\n",
    "    \n",
    "    for i in range(len(features)):\n",
    "        feature = features[i]\n",
    "        dictionary = dictionaries[i]\n",
    "        \n",
    "        df_mapped[feature] = df[feature].map(dictionary)\n",
    "        \n",
    "    return df_mapped"
   ]
  },
  {
   "cell_type": "code",
   "execution_count": 8,
   "id": "fcf47ef8",
   "metadata": {
    "execution": {
     "iopub.execute_input": "2023-06-14T13:22:17.545115Z",
     "iopub.status.busy": "2023-06-14T13:22:17.544476Z",
     "iopub.status.idle": "2023-06-14T13:22:17.548798Z",
     "shell.execute_reply": "2023-06-14T13:22:17.547931Z"
    },
    "papermill": {
     "duration": 0.012597,
     "end_time": "2023-06-14T13:22:17.550810",
     "exception": false,
     "start_time": "2023-06-14T13:22:17.538213",
     "status": "completed"
    },
    "tags": []
   },
   "outputs": [],
   "source": [
    "def normalize(feature):\n",
    "    '''\n",
    "    This function normalizes a Series\n",
    "    \n",
    "    Input: A feature of type Series\n",
    "    \n",
    "    Output: The normalized feature of type Series\n",
    "    '''\n",
    "    return (feature - feature.mean())/feature.std()"
   ]
  },
  {
   "cell_type": "code",
   "execution_count": 9,
   "id": "3ee4a4ba",
   "metadata": {
    "execution": {
     "iopub.execute_input": "2023-06-14T13:22:17.562227Z",
     "iopub.status.busy": "2023-06-14T13:22:17.561864Z",
     "iopub.status.idle": "2023-06-14T13:22:17.566835Z",
     "shell.execute_reply": "2023-06-14T13:22:17.565832Z"
    },
    "papermill": {
     "duration": 0.012985,
     "end_time": "2023-06-14T13:22:17.568846",
     "exception": false,
     "start_time": "2023-06-14T13:22:17.555861",
     "status": "completed"
    },
    "tags": []
   },
   "outputs": [],
   "source": [
    "def normalize_features(df):\n",
    "    '''\n",
    "    This function normalizes all features in a dataframe\n",
    "    \n",
    "    Input: A pandas dataframe\n",
    "    \n",
    "    Output: The normalized dataframe\n",
    "    '''\n",
    "    for column in df.columns:\n",
    "        df[column] = normalize(df[column])\n",
    "    return df"
   ]
  },
  {
   "cell_type": "code",
   "execution_count": 10,
   "id": "e2046379",
   "metadata": {
    "execution": {
     "iopub.execute_input": "2023-06-14T13:22:17.581364Z",
     "iopub.status.busy": "2023-06-14T13:22:17.580300Z",
     "iopub.status.idle": "2023-06-14T13:22:17.586957Z",
     "shell.execute_reply": "2023-06-14T13:22:17.585930Z"
    },
    "papermill": {
     "duration": 0.015296,
     "end_time": "2023-06-14T13:22:17.589202",
     "exception": false,
     "start_time": "2023-06-14T13:22:17.573906",
     "status": "completed"
    },
    "tags": []
   },
   "outputs": [],
   "source": [
    "def perform_cross_validation(X_train, y_train):\n",
    "    '''\n",
    "    This function goes through the steps to perform Stratified K-fold cross validation using the list of models described above.\n",
    "    \n",
    "    Input: \n",
    "        - A dataframe containing the features use to build the model\n",
    "        - A Series of the true values associated with the feature list\n",
    "    \n",
    "    Output: Printed result for the mean and standard deviation of each model\n",
    "    '''\n",
    "    results = dict()\n",
    "\n",
    "    for name, model in models:\n",
    "        kfold = StratifiedKFold(n_splits=10)\n",
    "        cv_results = cross_val_score(model, X_train, y_train, cv=kfold, scoring='accuracy')\n",
    "        results[name] = (cv_results.mean(), cv_results.std())\n",
    "\n",
    "    print('Model\\t\\tCV Mean\\t\\tCV std')\n",
    "    print(results)"
   ]
  },
  {
   "cell_type": "code",
   "execution_count": 11,
   "id": "3fb7d033",
   "metadata": {
    "execution": {
     "iopub.execute_input": "2023-06-14T13:22:17.601363Z",
     "iopub.status.busy": "2023-06-14T13:22:17.600492Z",
     "iopub.status.idle": "2023-06-14T13:22:17.641426Z",
     "shell.execute_reply": "2023-06-14T13:22:17.640337Z"
    },
    "papermill": {
     "duration": 0.049547,
     "end_time": "2023-06-14T13:22:17.643909",
     "exception": false,
     "start_time": "2023-06-14T13:22:17.594362",
     "status": "completed"
    },
    "tags": []
   },
   "outputs": [],
   "source": [
    "df_train = pd.read_csv(train_filepath, index_col='PassengerId')\n",
    "df_test = pd.read_csv(test_filepath, index_col='PassengerId')"
   ]
  },
  {
   "cell_type": "code",
   "execution_count": 12,
   "id": "f521a791",
   "metadata": {
    "execution": {
     "iopub.execute_input": "2023-06-14T13:22:17.655759Z",
     "iopub.status.busy": "2023-06-14T13:22:17.655400Z",
     "iopub.status.idle": "2023-06-14T13:22:17.664300Z",
     "shell.execute_reply": "2023-06-14T13:22:17.663321Z"
    },
    "papermill": {
     "duration": 0.017112,
     "end_time": "2023-06-14T13:22:17.666247",
     "exception": false,
     "start_time": "2023-06-14T13:22:17.649135",
     "status": "completed"
    },
    "tags": []
   },
   "outputs": [],
   "source": [
    "df_train = df_train.drop('Age', axis=1)\n",
    "df_test = df_test.drop('Age', axis=1)"
   ]
  },
  {
   "cell_type": "code",
   "execution_count": 13,
   "id": "42332542",
   "metadata": {
    "execution": {
     "iopub.execute_input": "2023-06-14T13:22:17.677791Z",
     "iopub.status.busy": "2023-06-14T13:22:17.677418Z",
     "iopub.status.idle": "2023-06-14T13:22:17.688695Z",
     "shell.execute_reply": "2023-06-14T13:22:17.687894Z"
    },
    "papermill": {
     "duration": 0.01918,
     "end_time": "2023-06-14T13:22:17.690589",
     "exception": false,
     "start_time": "2023-06-14T13:22:17.671409",
     "status": "completed"
    },
    "tags": []
   },
   "outputs": [],
   "source": [
    "df_train = df_train.drop('Name', axis=1)\n",
    "df_test = df_test.drop('Name', axis=1)\n",
    "\n",
    "df_train = df_train.drop('Cabin', axis=1)\n",
    "df_test = df_test.drop('Cabin', axis=1)\n",
    "\n",
    "df_train = df_train.drop('Ticket', axis=1)\n",
    "df_test = df_test.drop('Ticket', axis=1)"
   ]
  },
  {
   "cell_type": "code",
   "execution_count": 14,
   "id": "1fdeb569",
   "metadata": {
    "execution": {
     "iopub.execute_input": "2023-06-14T13:22:17.702123Z",
     "iopub.status.busy": "2023-06-14T13:22:17.701541Z",
     "iopub.status.idle": "2023-06-14T13:22:17.708102Z",
     "shell.execute_reply": "2023-06-14T13:22:17.707323Z"
    },
    "papermill": {
     "duration": 0.014521,
     "end_time": "2023-06-14T13:22:17.710064",
     "exception": false,
     "start_time": "2023-06-14T13:22:17.695543",
     "status": "completed"
    },
    "tags": []
   },
   "outputs": [],
   "source": [
    "df_test['Fare'] = df_test['Fare'].fillna(df_test['Fare'].mean())"
   ]
  },
  {
   "cell_type": "code",
   "execution_count": 15,
   "id": "e203ccbe",
   "metadata": {
    "execution": {
     "iopub.execute_input": "2023-06-14T13:22:17.722045Z",
     "iopub.status.busy": "2023-06-14T13:22:17.721444Z",
     "iopub.status.idle": "2023-06-14T13:22:17.726323Z",
     "shell.execute_reply": "2023-06-14T13:22:17.725599Z"
    },
    "papermill": {
     "duration": 0.013155,
     "end_time": "2023-06-14T13:22:17.728227",
     "exception": false,
     "start_time": "2023-06-14T13:22:17.715072",
     "status": "completed"
    },
    "tags": []
   },
   "outputs": [],
   "source": [
    "df_train['Embarked'] = df_train['Embarked'].fillna('S')"
   ]
  },
  {
   "cell_type": "code",
   "execution_count": 16,
   "id": "9fea6711",
   "metadata": {
    "execution": {
     "iopub.execute_input": "2023-06-14T13:22:17.740278Z",
     "iopub.status.busy": "2023-06-14T13:22:17.739679Z",
     "iopub.status.idle": "2023-06-14T13:22:17.747490Z",
     "shell.execute_reply": "2023-06-14T13:22:17.746694Z"
    },
    "papermill": {
     "duration": 0.01641,
     "end_time": "2023-06-14T13:22:17.749732",
     "exception": false,
     "start_time": "2023-06-14T13:22:17.733322",
     "status": "completed"
    },
    "tags": []
   },
   "outputs": [],
   "source": [
    "df_train = map_cat(df_train, map_features, map_dicts)\n",
    "df_test = map_cat(df_test, map_features, map_dicts)"
   ]
  },
  {
   "cell_type": "code",
   "execution_count": 17,
   "id": "8dc34cc9",
   "metadata": {
    "execution": {
     "iopub.execute_input": "2023-06-14T13:22:17.761601Z",
     "iopub.status.busy": "2023-06-14T13:22:17.761012Z",
     "iopub.status.idle": "2023-06-14T13:22:17.766745Z",
     "shell.execute_reply": "2023-06-14T13:22:17.765735Z"
    },
    "papermill": {
     "duration": 0.014232,
     "end_time": "2023-06-14T13:22:17.768939",
     "exception": false,
     "start_time": "2023-06-14T13:22:17.754707",
     "status": "completed"
    },
    "tags": []
   },
   "outputs": [],
   "source": [
    "X = df_train.drop('Survived', axis=1)\n",
    "y = df_train['Survived']"
   ]
  },
  {
   "cell_type": "code",
   "execution_count": 18,
   "id": "a2a3e235",
   "metadata": {
    "execution": {
     "iopub.execute_input": "2023-06-14T13:22:17.780637Z",
     "iopub.status.busy": "2023-06-14T13:22:17.780012Z",
     "iopub.status.idle": "2023-06-14T13:22:17.790429Z",
     "shell.execute_reply": "2023-06-14T13:22:17.789703Z"
    },
    "papermill": {
     "duration": 0.018306,
     "end_time": "2023-06-14T13:22:17.792322",
     "exception": false,
     "start_time": "2023-06-14T13:22:17.774016",
     "status": "completed"
    },
    "tags": []
   },
   "outputs": [],
   "source": [
    "X = normalize_features(X)"
   ]
  },
  {
   "cell_type": "code",
   "execution_count": 19,
   "id": "1a02282c",
   "metadata": {
    "execution": {
     "iopub.execute_input": "2023-06-14T13:22:17.804074Z",
     "iopub.status.busy": "2023-06-14T13:22:17.803519Z",
     "iopub.status.idle": "2023-06-14T13:22:18.192236Z",
     "shell.execute_reply": "2023-06-14T13:22:18.191058Z"
    },
    "papermill": {
     "duration": 0.398339,
     "end_time": "2023-06-14T13:22:18.195749",
     "exception": false,
     "start_time": "2023-06-14T13:22:17.797410",
     "status": "completed"
    },
    "tags": []
   },
   "outputs": [
    {
     "name": "stdout",
     "output_type": "stream",
     "text": [
      "Model\t\tCV Mean\t\tCV std\n",
      "{'SVM': (0.8058052434456927, 0.02817776516195646), 'KNN': (0.8092384519350813, 0.04749914265913915), 'LR': (0.7934706616729088, 0.024861946815253916)}\n"
     ]
    }
   ],
   "source": [
    "perform_cross_validation(X, y)"
   ]
  },
  {
   "cell_type": "code",
   "execution_count": 20,
   "id": "b336c35e",
   "metadata": {
    "execution": {
     "iopub.execute_input": "2023-06-14T13:22:18.208259Z",
     "iopub.status.busy": "2023-06-14T13:22:18.207264Z",
     "iopub.status.idle": "2023-06-14T13:22:18.236589Z",
     "shell.execute_reply": "2023-06-14T13:22:18.235448Z"
    },
    "papermill": {
     "duration": 0.037957,
     "end_time": "2023-06-14T13:22:18.238818",
     "exception": false,
     "start_time": "2023-06-14T13:22:18.200861",
     "status": "completed"
    },
    "tags": []
   },
   "outputs": [
    {
     "data": {
      "text/html": [
       "<div>\n",
       "<style scoped>\n",
       "    .dataframe tbody tr th:only-of-type {\n",
       "        vertical-align: middle;\n",
       "    }\n",
       "\n",
       "    .dataframe tbody tr th {\n",
       "        vertical-align: top;\n",
       "    }\n",
       "\n",
       "    .dataframe thead th {\n",
       "        text-align: right;\n",
       "    }\n",
       "</style>\n",
       "<table border=\"1\" class=\"dataframe\">\n",
       "  <thead>\n",
       "    <tr style=\"text-align: right;\">\n",
       "      <th></th>\n",
       "      <th>Survived</th>\n",
       "    </tr>\n",
       "    <tr>\n",
       "      <th>PassengerId</th>\n",
       "      <th></th>\n",
       "    </tr>\n",
       "  </thead>\n",
       "  <tbody>\n",
       "    <tr>\n",
       "      <th>892</th>\n",
       "      <td>0</td>\n",
       "    </tr>\n",
       "    <tr>\n",
       "      <th>893</th>\n",
       "      <td>0</td>\n",
       "    </tr>\n",
       "    <tr>\n",
       "      <th>894</th>\n",
       "      <td>0</td>\n",
       "    </tr>\n",
       "    <tr>\n",
       "      <th>895</th>\n",
       "      <td>0</td>\n",
       "    </tr>\n",
       "    <tr>\n",
       "      <th>896</th>\n",
       "      <td>0</td>\n",
       "    </tr>\n",
       "  </tbody>\n",
       "</table>\n",
       "</div>"
      ],
      "text/plain": [
       "             Survived\n",
       "PassengerId          \n",
       "892                 0\n",
       "893                 0\n",
       "894                 0\n",
       "895                 0\n",
       "896                 0"
      ]
     },
     "execution_count": 20,
     "metadata": {},
     "output_type": "execute_result"
    }
   ],
   "source": [
    "clf = LogisticRegression().fit(X,y)\n",
    "\n",
    "predictions = clf.predict(df_test)\n",
    "\n",
    "submission1 = pd.DataFrame(data={'Survived':predictions}, index=df_test.index)\n",
    "\n",
    "submission1.head()"
   ]
  },
  {
   "cell_type": "code",
   "execution_count": 21,
   "id": "195710de",
   "metadata": {
    "execution": {
     "iopub.execute_input": "2023-06-14T13:22:18.251713Z",
     "iopub.status.busy": "2023-06-14T13:22:18.250915Z",
     "iopub.status.idle": "2023-06-14T13:22:18.261528Z",
     "shell.execute_reply": "2023-06-14T13:22:18.260708Z"
    },
    "papermill": {
     "duration": 0.019794,
     "end_time": "2023-06-14T13:22:18.263890",
     "exception": false,
     "start_time": "2023-06-14T13:22:18.244096",
     "status": "completed"
    },
    "tags": []
   },
   "outputs": [],
   "source": [
    "submission1.to_csv('CV_submission.csv')"
   ]
  }
 ],
 "metadata": {
  "kernelspec": {
   "display_name": "Python 3",
   "language": "python",
   "name": "python3"
  },
  "language_info": {
   "codemirror_mode": {
    "name": "ipython",
    "version": 3
   },
   "file_extension": ".py",
   "mimetype": "text/x-python",
   "name": "python",
   "nbconvert_exporter": "python",
   "pygments_lexer": "ipython3",
   "version": "3.10.10"
  },
  "papermill": {
   "default_parameters": {},
   "duration": 12.918071,
   "end_time": "2023-06-14T13:22:19.191126",
   "environment_variables": {},
   "exception": null,
   "input_path": "__notebook__.ipynb",
   "output_path": "__notebook__.ipynb",
   "parameters": {},
   "start_time": "2023-06-14T13:22:06.273055",
   "version": "2.4.0"
  }
 },
 "nbformat": 4,
 "nbformat_minor": 5
}
